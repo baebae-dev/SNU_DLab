{
 "cells": [
  {
   "cell_type": "code",
   "execution_count": 1,
   "metadata": {},
   "outputs": [],
   "source": [
    "import pandas as pd"
   ]
  },
  {
   "cell_type": "code",
   "execution_count": 3,
   "metadata": {},
   "outputs": [
    {
     "output_type": "execute_result",
     "data": {
      "text/plain": "   0        1                       2  \\\n0  1   U87243  11/10/2019 11:30:54 AM   \n1  2  U598644   11/12/2019 1:45:29 PM   \n2  3  U532401  11/13/2019 11:23:03 AM   \n3  4  U593596  11/12/2019 12:24:09 PM   \n4  5  U239687   11/14/2019 8:03:01 PM   \n\n                                                   3  \\\n0  N8668 N39081 N65259 N79529 N73408 N43615 N2937...   \n1  N56056 N8726 N70353 N67998 N83823 N111108 N107...   \n2  N128643 N87446 N122948 N9375 N82348 N129412 N5...   \n3  N31043 N39592 N4104 N8223 N114581 N92747 N1207...   \n4  N65250 N122359 N71723 N53796 N41663 N41484 N11...   \n\n                                                   4  \n0  N78206-0 N26368-0 N7578-0 N58592-0 N19858-0 N5...  \n1  N47996-0 N82719-0 N117066-0 N8491-0 N123784-0 ...  \n2              N103852-0 N53474-0 N127836-0 N47925-1  \n3  N38902-0 N76434-0 N71593-0 N100073-0 N108736-0...  \n4  N76209-0 N48841-0 N67937-0 N62235-0 N6307-0 N3...  ",
      "text/html": "<div>\n<style scoped>\n    .dataframe tbody tr th:only-of-type {\n        vertical-align: middle;\n    }\n\n    .dataframe tbody tr th {\n        vertical-align: top;\n    }\n\n    .dataframe thead th {\n        text-align: right;\n    }\n</style>\n<table border=\"1\" class=\"dataframe\">\n  <thead>\n    <tr style=\"text-align: right;\">\n      <th></th>\n      <th>0</th>\n      <th>1</th>\n      <th>2</th>\n      <th>3</th>\n      <th>4</th>\n    </tr>\n  </thead>\n  <tbody>\n    <tr>\n      <th>0</th>\n      <td>1</td>\n      <td>U87243</td>\n      <td>11/10/2019 11:30:54 AM</td>\n      <td>N8668 N39081 N65259 N79529 N73408 N43615 N2937...</td>\n      <td>N78206-0 N26368-0 N7578-0 N58592-0 N19858-0 N5...</td>\n    </tr>\n    <tr>\n      <th>1</th>\n      <td>2</td>\n      <td>U598644</td>\n      <td>11/12/2019 1:45:29 PM</td>\n      <td>N56056 N8726 N70353 N67998 N83823 N111108 N107...</td>\n      <td>N47996-0 N82719-0 N117066-0 N8491-0 N123784-0 ...</td>\n    </tr>\n    <tr>\n      <th>2</th>\n      <td>3</td>\n      <td>U532401</td>\n      <td>11/13/2019 11:23:03 AM</td>\n      <td>N128643 N87446 N122948 N9375 N82348 N129412 N5...</td>\n      <td>N103852-0 N53474-0 N127836-0 N47925-1</td>\n    </tr>\n    <tr>\n      <th>3</th>\n      <td>4</td>\n      <td>U593596</td>\n      <td>11/12/2019 12:24:09 PM</td>\n      <td>N31043 N39592 N4104 N8223 N114581 N92747 N1207...</td>\n      <td>N38902-0 N76434-0 N71593-0 N100073-0 N108736-0...</td>\n    </tr>\n    <tr>\n      <th>4</th>\n      <td>5</td>\n      <td>U239687</td>\n      <td>11/14/2019 8:03:01 PM</td>\n      <td>N65250 N122359 N71723 N53796 N41663 N41484 N11...</td>\n      <td>N76209-0 N48841-0 N67937-0 N62235-0 N6307-0 N3...</td>\n    </tr>\n  </tbody>\n</table>\n</div>"
     },
     "metadata": {},
     "execution_count": 3
    }
   ],
   "source": [
    "behaviors_tr = pd.read_csv('/Users/baeyuna/Documents/SNU_DLab/TANR/data/train/behaviors.tsv', delimiter='\\t', header=None)\n",
    "behaviors_tr.head()"
   ]
  },
  {
   "cell_type": "code",
   "execution_count": 13,
   "metadata": {},
   "outputs": [],
   "source": [
    "def imp_len(x):\n",
    "    return len(x.split(' '))"
   ]
  },
  {
   "cell_type": "code",
   "execution_count": 15,
   "metadata": {},
   "outputs": [
    {
     "output_type": "execute_result",
     "data": {
      "text/plain": "   0        1                       2  \\\n0  1   U87243  11/10/2019 11:30:54 AM   \n1  2  U598644   11/12/2019 1:45:29 PM   \n2  3  U532401  11/13/2019 11:23:03 AM   \n3  4  U593596  11/12/2019 12:24:09 PM   \n4  5  U239687   11/14/2019 8:03:01 PM   \n\n                                                   3  \\\n0  N8668 N39081 N65259 N79529 N73408 N43615 N2937...   \n1  N56056 N8726 N70353 N67998 N83823 N111108 N107...   \n2  N128643 N87446 N122948 N9375 N82348 N129412 N5...   \n3  N31043 N39592 N4104 N8223 N114581 N92747 N1207...   \n4  N65250 N122359 N71723 N53796 N41663 N41484 N11...   \n\n                                                   4  impression_len  \n0  N78206-0 N26368-0 N7578-0 N58592-0 N19858-0 N5...              16  \n1  N47996-0 N82719-0 N117066-0 N8491-0 N123784-0 ...              24  \n2              N103852-0 N53474-0 N127836-0 N47925-1              16  \n3  N38902-0 N76434-0 N71593-0 N100073-0 N108736-0...              13  \n4  N76209-0 N48841-0 N67937-0 N62235-0 N6307-0 N3...             339  ",
      "text/html": "<div>\n<style scoped>\n    .dataframe tbody tr th:only-of-type {\n        vertical-align: middle;\n    }\n\n    .dataframe tbody tr th {\n        vertical-align: top;\n    }\n\n    .dataframe thead th {\n        text-align: right;\n    }\n</style>\n<table border=\"1\" class=\"dataframe\">\n  <thead>\n    <tr style=\"text-align: right;\">\n      <th></th>\n      <th>0</th>\n      <th>1</th>\n      <th>2</th>\n      <th>3</th>\n      <th>4</th>\n      <th>impression_len</th>\n    </tr>\n  </thead>\n  <tbody>\n    <tr>\n      <th>0</th>\n      <td>1</td>\n      <td>U87243</td>\n      <td>11/10/2019 11:30:54 AM</td>\n      <td>N8668 N39081 N65259 N79529 N73408 N43615 N2937...</td>\n      <td>N78206-0 N26368-0 N7578-0 N58592-0 N19858-0 N5...</td>\n      <td>16</td>\n    </tr>\n    <tr>\n      <th>1</th>\n      <td>2</td>\n      <td>U598644</td>\n      <td>11/12/2019 1:45:29 PM</td>\n      <td>N56056 N8726 N70353 N67998 N83823 N111108 N107...</td>\n      <td>N47996-0 N82719-0 N117066-0 N8491-0 N123784-0 ...</td>\n      <td>24</td>\n    </tr>\n    <tr>\n      <th>2</th>\n      <td>3</td>\n      <td>U532401</td>\n      <td>11/13/2019 11:23:03 AM</td>\n      <td>N128643 N87446 N122948 N9375 N82348 N129412 N5...</td>\n      <td>N103852-0 N53474-0 N127836-0 N47925-1</td>\n      <td>16</td>\n    </tr>\n    <tr>\n      <th>3</th>\n      <td>4</td>\n      <td>U593596</td>\n      <td>11/12/2019 12:24:09 PM</td>\n      <td>N31043 N39592 N4104 N8223 N114581 N92747 N1207...</td>\n      <td>N38902-0 N76434-0 N71593-0 N100073-0 N108736-0...</td>\n      <td>13</td>\n    </tr>\n    <tr>\n      <th>4</th>\n      <td>5</td>\n      <td>U239687</td>\n      <td>11/14/2019 8:03:01 PM</td>\n      <td>N65250 N122359 N71723 N53796 N41663 N41484 N11...</td>\n      <td>N76209-0 N48841-0 N67937-0 N62235-0 N6307-0 N3...</td>\n      <td>339</td>\n    </tr>\n  </tbody>\n</table>\n</div>"
     },
     "metadata": {},
     "execution_count": 15
    }
   ],
   "source": [
    "behaviors_tr['impression_len'] = behaviors_tr.iloc[:,3].apply(lambda x: imp_len(str(x)))\n",
    "behaviors_tr.head()"
   ]
  },
  {
   "cell_type": "code",
   "execution_count": 16,
   "metadata": {},
   "outputs": [
    {
     "output_type": "execute_result",
     "data": {
      "text/plain": "                  0  impression_len\ncount  1.393399e+06    1.393399e+06\nmean   6.967000e+05    3.301592e+01\nstd    4.022398e+05    4.091478e+01\nmin    1.000000e+00    1.000000e+00\n25%    3.483505e+05    8.000000e+00\n50%    6.967000e+05    1.900000e+01\n75%    1.045050e+06    4.200000e+01\nmax    1.393399e+06    8.010000e+02",
      "text/html": "<div>\n<style scoped>\n    .dataframe tbody tr th:only-of-type {\n        vertical-align: middle;\n    }\n\n    .dataframe tbody tr th {\n        vertical-align: top;\n    }\n\n    .dataframe thead th {\n        text-align: right;\n    }\n</style>\n<table border=\"1\" class=\"dataframe\">\n  <thead>\n    <tr style=\"text-align: right;\">\n      <th></th>\n      <th>0</th>\n      <th>impression_len</th>\n    </tr>\n  </thead>\n  <tbody>\n    <tr>\n      <th>count</th>\n      <td>1.393399e+06</td>\n      <td>1.393399e+06</td>\n    </tr>\n    <tr>\n      <th>mean</th>\n      <td>6.967000e+05</td>\n      <td>3.301592e+01</td>\n    </tr>\n    <tr>\n      <th>std</th>\n      <td>4.022398e+05</td>\n      <td>4.091478e+01</td>\n    </tr>\n    <tr>\n      <th>min</th>\n      <td>1.000000e+00</td>\n      <td>1.000000e+00</td>\n    </tr>\n    <tr>\n      <th>25%</th>\n      <td>3.483505e+05</td>\n      <td>8.000000e+00</td>\n    </tr>\n    <tr>\n      <th>50%</th>\n      <td>6.967000e+05</td>\n      <td>1.900000e+01</td>\n    </tr>\n    <tr>\n      <th>75%</th>\n      <td>1.045050e+06</td>\n      <td>4.200000e+01</td>\n    </tr>\n    <tr>\n      <th>max</th>\n      <td>1.393399e+06</td>\n      <td>8.010000e+02</td>\n    </tr>\n  </tbody>\n</table>\n</div>"
     },
     "metadata": {},
     "execution_count": 16
    }
   ],
   "source": [
    "behaviors_tr.describe()"
   ]
  },
  {
   "cell_type": "code",
   "execution_count": 17,
   "metadata": {},
   "outputs": [
    {
     "output_type": "execute_result",
     "data": {
      "text/plain": "   0        1                       2  \\\n0  1   U64099  11/19/2019 11:37:45 AM   \n1  2  U231077   11/19/2019 5:28:08 AM   \n2  3  U606012   11/19/2019 4:46:23 AM   \n3  4  U320649   11/21/2019 6:03:51 AM   \n4  5  U357840  11/22/2019 10:36:19 AM   \n\n                                                   3  \\\n0  N121133 N104200 N43255 N55860 N128965 N38014 N...   \n1  N45124 N84730 N45128 N104312 N70022 N99111 N26...   \n2  N59893 N84662 N90686 N33265 N127225 N120859 N6...   \n3  N110863 N7889 N86335 N85056 N115743 N63372 N19...   \n4  N98596 N85005 N15713 N67779 N47961 N55571 N666...   \n\n                                                   4  \n0  N101071 N15647 N83400 N124838 N57092 N64623 N6...  \n1  N14657 N51253 N49521 N126571 N74286 N101071 N1...  \n2  N74286 N9250 N26898 N123737 N98301 N80580 N456...  \n3  N119559 N37657 N108085 N91287 N39136 N130190 N...  \n4  N60658 N43496 N65220 N9125 N63136 N83728 N3208...  ",
      "text/html": "<div>\n<style scoped>\n    .dataframe tbody tr th:only-of-type {\n        vertical-align: middle;\n    }\n\n    .dataframe tbody tr th {\n        vertical-align: top;\n    }\n\n    .dataframe thead th {\n        text-align: right;\n    }\n</style>\n<table border=\"1\" class=\"dataframe\">\n  <thead>\n    <tr style=\"text-align: right;\">\n      <th></th>\n      <th>0</th>\n      <th>1</th>\n      <th>2</th>\n      <th>3</th>\n      <th>4</th>\n    </tr>\n  </thead>\n  <tbody>\n    <tr>\n      <th>0</th>\n      <td>1</td>\n      <td>U64099</td>\n      <td>11/19/2019 11:37:45 AM</td>\n      <td>N121133 N104200 N43255 N55860 N128965 N38014 N...</td>\n      <td>N101071 N15647 N83400 N124838 N57092 N64623 N6...</td>\n    </tr>\n    <tr>\n      <th>1</th>\n      <td>2</td>\n      <td>U231077</td>\n      <td>11/19/2019 5:28:08 AM</td>\n      <td>N45124 N84730 N45128 N104312 N70022 N99111 N26...</td>\n      <td>N14657 N51253 N49521 N126571 N74286 N101071 N1...</td>\n    </tr>\n    <tr>\n      <th>2</th>\n      <td>3</td>\n      <td>U606012</td>\n      <td>11/19/2019 4:46:23 AM</td>\n      <td>N59893 N84662 N90686 N33265 N127225 N120859 N6...</td>\n      <td>N74286 N9250 N26898 N123737 N98301 N80580 N456...</td>\n    </tr>\n    <tr>\n      <th>3</th>\n      <td>4</td>\n      <td>U320649</td>\n      <td>11/21/2019 6:03:51 AM</td>\n      <td>N110863 N7889 N86335 N85056 N115743 N63372 N19...</td>\n      <td>N119559 N37657 N108085 N91287 N39136 N130190 N...</td>\n    </tr>\n    <tr>\n      <th>4</th>\n      <td>5</td>\n      <td>U357840</td>\n      <td>11/22/2019 10:36:19 AM</td>\n      <td>N98596 N85005 N15713 N67779 N47961 N55571 N666...</td>\n      <td>N60658 N43496 N65220 N9125 N63136 N83728 N3208...</td>\n    </tr>\n  </tbody>\n</table>\n</div>"
     },
     "metadata": {},
     "execution_count": 17
    }
   ],
   "source": [
    "behaviors_te = pd.read_csv('/Users/baeyuna/Documents/SNU_DLab/TANR/data/test/behaviors.tsv', delimiter='\\t', header=None)\n",
    "behaviors_te.head()"
   ]
  },
  {
   "cell_type": "code",
   "execution_count": 18,
   "metadata": {},
   "outputs": [
    {
     "output_type": "execute_result",
     "data": {
      "text/plain": "   0        1                       2  \\\n0  1   U64099  11/19/2019 11:37:45 AM   \n1  2  U231077   11/19/2019 5:28:08 AM   \n2  3  U606012   11/19/2019 4:46:23 AM   \n3  4  U320649   11/21/2019 6:03:51 AM   \n4  5  U357840  11/22/2019 10:36:19 AM   \n\n                                                   3  \\\n0  N121133 N104200 N43255 N55860 N128965 N38014 N...   \n1  N45124 N84730 N45128 N104312 N70022 N99111 N26...   \n2  N59893 N84662 N90686 N33265 N127225 N120859 N6...   \n3  N110863 N7889 N86335 N85056 N115743 N63372 N19...   \n4  N98596 N85005 N15713 N67779 N47961 N55571 N666...   \n\n                                                   4  impression_len  \n0  N101071 N15647 N83400 N124838 N57092 N64623 N6...              38  \n1  N14657 N51253 N49521 N126571 N74286 N101071 N1...              14  \n2  N74286 N9250 N26898 N123737 N98301 N80580 N456...              23  \n3  N119559 N37657 N108085 N91287 N39136 N130190 N...              26  \n4  N60658 N43496 N65220 N9125 N63136 N83728 N3208...              55  ",
      "text/html": "<div>\n<style scoped>\n    .dataframe tbody tr th:only-of-type {\n        vertical-align: middle;\n    }\n\n    .dataframe tbody tr th {\n        vertical-align: top;\n    }\n\n    .dataframe thead th {\n        text-align: right;\n    }\n</style>\n<table border=\"1\" class=\"dataframe\">\n  <thead>\n    <tr style=\"text-align: right;\">\n      <th></th>\n      <th>0</th>\n      <th>1</th>\n      <th>2</th>\n      <th>3</th>\n      <th>4</th>\n      <th>impression_len</th>\n    </tr>\n  </thead>\n  <tbody>\n    <tr>\n      <th>0</th>\n      <td>1</td>\n      <td>U64099</td>\n      <td>11/19/2019 11:37:45 AM</td>\n      <td>N121133 N104200 N43255 N55860 N128965 N38014 N...</td>\n      <td>N101071 N15647 N83400 N124838 N57092 N64623 N6...</td>\n      <td>38</td>\n    </tr>\n    <tr>\n      <th>1</th>\n      <td>2</td>\n      <td>U231077</td>\n      <td>11/19/2019 5:28:08 AM</td>\n      <td>N45124 N84730 N45128 N104312 N70022 N99111 N26...</td>\n      <td>N14657 N51253 N49521 N126571 N74286 N101071 N1...</td>\n      <td>14</td>\n    </tr>\n    <tr>\n      <th>2</th>\n      <td>3</td>\n      <td>U606012</td>\n      <td>11/19/2019 4:46:23 AM</td>\n      <td>N59893 N84662 N90686 N33265 N127225 N120859 N6...</td>\n      <td>N74286 N9250 N26898 N123737 N98301 N80580 N456...</td>\n      <td>23</td>\n    </tr>\n    <tr>\n      <th>3</th>\n      <td>4</td>\n      <td>U320649</td>\n      <td>11/21/2019 6:03:51 AM</td>\n      <td>N110863 N7889 N86335 N85056 N115743 N63372 N19...</td>\n      <td>N119559 N37657 N108085 N91287 N39136 N130190 N...</td>\n      <td>26</td>\n    </tr>\n    <tr>\n      <th>4</th>\n      <td>5</td>\n      <td>U357840</td>\n      <td>11/22/2019 10:36:19 AM</td>\n      <td>N98596 N85005 N15713 N67779 N47961 N55571 N666...</td>\n      <td>N60658 N43496 N65220 N9125 N63136 N83728 N3208...</td>\n      <td>55</td>\n    </tr>\n  </tbody>\n</table>\n</div>"
     },
     "metadata": {},
     "execution_count": 18
    }
   ],
   "source": [
    "behaviors_te['impression_len'] = behaviors_te.iloc[:,3].apply(lambda x: imp_len(str(x)))\n",
    "behaviors_te.head()"
   ]
  },
  {
   "cell_type": "code",
   "execution_count": 19,
   "metadata": {},
   "outputs": [
    {
     "output_type": "execute_result",
     "data": {
      "text/plain": "                  0  impression_len\ncount  2.370727e+06    2.370727e+06\nmean   1.185364e+06    4.161154e+01\nstd    6.843701e+05    5.032022e+01\nmin    1.000000e+00    1.000000e+00\n25%    5.926825e+05    1.000000e+01\n50%    1.185364e+06    2.500000e+01\n75%    1.778046e+06    5.400000e+01\nmax    2.370727e+06    1.021000e+03",
      "text/html": "<div>\n<style scoped>\n    .dataframe tbody tr th:only-of-type {\n        vertical-align: middle;\n    }\n\n    .dataframe tbody tr th {\n        vertical-align: top;\n    }\n\n    .dataframe thead th {\n        text-align: right;\n    }\n</style>\n<table border=\"1\" class=\"dataframe\">\n  <thead>\n    <tr style=\"text-align: right;\">\n      <th></th>\n      <th>0</th>\n      <th>impression_len</th>\n    </tr>\n  </thead>\n  <tbody>\n    <tr>\n      <th>count</th>\n      <td>2.370727e+06</td>\n      <td>2.370727e+06</td>\n    </tr>\n    <tr>\n      <th>mean</th>\n      <td>1.185364e+06</td>\n      <td>4.161154e+01</td>\n    </tr>\n    <tr>\n      <th>std</th>\n      <td>6.843701e+05</td>\n      <td>5.032022e+01</td>\n    </tr>\n    <tr>\n      <th>min</th>\n      <td>1.000000e+00</td>\n      <td>1.000000e+00</td>\n    </tr>\n    <tr>\n      <th>25%</th>\n      <td>5.926825e+05</td>\n      <td>1.000000e+01</td>\n    </tr>\n    <tr>\n      <th>50%</th>\n      <td>1.185364e+06</td>\n      <td>2.500000e+01</td>\n    </tr>\n    <tr>\n      <th>75%</th>\n      <td>1.778046e+06</td>\n      <td>5.400000e+01</td>\n    </tr>\n    <tr>\n      <th>max</th>\n      <td>2.370727e+06</td>\n      <td>1.021000e+03</td>\n    </tr>\n  </tbody>\n</table>\n</div>"
     },
     "metadata": {},
     "execution_count": 19
    }
   ],
   "source": [
    "behaviors_te.describe()"
   ]
  },
  {
   "cell_type": "code",
   "execution_count": null,
   "metadata": {},
   "outputs": [],
   "source": []
  }
 ],
 "metadata": {
  "language_info": {
   "codemirror_mode": {
    "name": "ipython",
    "version": 3
   },
   "file_extension": ".py",
   "mimetype": "text/x-python",
   "name": "python",
   "nbconvert_exporter": "python",
   "pygments_lexer": "ipython3",
   "version": "3.7.6-final"
  },
  "orig_nbformat": 2,
  "kernelspec": {
   "name": "python3",
   "display_name": "Python 3"
  }
 },
 "nbformat": 4,
 "nbformat_minor": 2
}