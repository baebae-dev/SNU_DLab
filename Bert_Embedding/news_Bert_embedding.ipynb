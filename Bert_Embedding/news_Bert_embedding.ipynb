{
 "cells": [
  {
   "cell_type": "markdown",
   "metadata": {},
   "source": [
    "기존 임베딩 vs BERT 임베딩  \n",
    "  \n",
    "- 기존 임베딩은 문맥에 상관없이 같은 단어면 항상 같은 임베딩   \n",
    "  \n",
    "- BERT 임베딩은 문맥에 따라 달라짐 (동음이의어뿐만 아니라, 문맥 달라지면 같은 의미의 단어도 임베딩 달라짐)  "
   ]
  },
  {
   "cell_type": "markdown",
   "metadata": {},
   "source": [
    "1. Loading Pre-Trained BERT\n",
    "\n",
    "설치 : pip install transformers"
   ]
  },
  {
   "cell_type": "code",
   "execution_count": null,
   "metadata": {},
   "outputs": [],
   "source": [
    "# ! pip install transformers"
   ]
  },
  {
   "cell_type": "code",
   "execution_count": 2,
   "metadata": {
    "tags": []
   },
   "outputs": [
    {
     "output_type": "stream",
     "name": "stderr",
     "text": "Downloading: 100%|██████████| 232k/232k [00:00<00:00, 383kB/s]\n"
    }
   ],
   "source": [
    "# import pytorch, the pretrained BERT model, and a BERT tokenizer.\n",
    "import torch\n",
    "from transformers import BertTokenizer, BertModel\n",
    "\n",
    "# OPTIONAL: if you want to have more information on what's happening, activate the logger as follows\n",
    "import logging\n",
    "#logging.basicConfig(level=logging.INFO)\n",
    "\n",
    "import matplotlib.pyplot as plt\n",
    "# % matplotlib inline\n",
    "\n",
    "# Load pre-trained model tokenizer (vocabulary)\n",
    "tokenizer = BertTokenizer.from_pretrained('bert-large-uncased')\n"
   ]
  },
  {
   "cell_type": "markdown",
   "metadata": {},
   "source": [
    "# 2. Input Formatting  \n",
    "1. A special token, [SEP], to mark the end of a sentence, or the separation between two sentences\n",
    "2. A special token, [CLS], at the beginning of our text. This token is used for classification tasks, but BERT expects it no matter what your application is.\n",
    "3. Tokens that conform with the fixed vocabulary used in BERT\n",
    "4. The Token IDs for the tokens, from BERT’s tokenizer   \n",
    "5.Mask IDs to indicate which elements in the sequence are tokens and which are padding   \n",
    "elements  \n",
    "6. Segment IDs used to distinguish different sentences  \n",
    "7. Positional Embeddings used to show token position within the sequence  \n"
   ]
  },
  {
   "cell_type": "code",
   "execution_count": 9,
   "metadata": {},
   "outputs": [],
   "source": [
    "import pandas as pd\n",
    "import ast"
   ]
  },
  {
   "cell_type": "code",
   "execution_count": 5,
   "metadata": {},
   "outputs": [
    {
     "output_type": "execute_result",
     "data": {
      "text/plain": "                                             url     nids  \\\n0  https://assets.msn.com/labs/mind/AABmf2I.html  AABmf2I   \n1  https://assets.msn.com/labs/mind/AAISxPN.html  AAISxPN   \n2  https://assets.msn.com/labs/mind/AAEKnO1.html  AAEKnO1   \n3  https://assets.msn.com/labs/mind/AADlomf.html  AADlomf   \n4  https://assets.msn.com/labs/mind/AAGBR44.html  AAGBR44   \n\n                                               Title                  Date  \\\n0    Walmart Slashes Prices on Last-Generation iPads  2019-10-28T17:38:04Z   \n1  Dispose of unwanted prescription drugs on Satu...  2019-10-25T17:31:42Z   \n2  Check Houston traffic map for current road con...  2019-11-26T12:55:03Z   \n3  How to record your screen on Windows, macOS, i...  2019-11-06T16:06:25Z   \n4  This Guy Altered His Diet and Training to Drop...  2019-08-31T11:37:11Z   \n\n                                             Content  \\\n0  ['This year, Walmartâ\\x80\\x99s not waiting unt...   \n1  ['CINCINNATI (FOX19) - If you have expired, un...   \n2  [\"Get real-time traffic data from Houston's ro...   \n3  [\"There are lots of reasons to record your scr...   \n4  ['Brandon Reid always felt like â\\x80\\x9cthe f...   \n\n                                               Image  \n0  https://img-s-msn-com.akamaized.net/tenant/amp...  \n1  https://img-s-msn-com.akamaized.net/tenant/amp...  \n2  https://img-s-msn-com.akamaized.net/tenant/amp...  \n3  https://img-s-msn-com.akamaized.net/tenant/amp...  \n4  https://img-s-msn-com.akamaized.net/tenant/amp...  ",
      "text/html": "<div>\n<style scoped>\n    .dataframe tbody tr th:only-of-type {\n        vertical-align: middle;\n    }\n\n    .dataframe tbody tr th {\n        vertical-align: top;\n    }\n\n    .dataframe thead th {\n        text-align: right;\n    }\n</style>\n<table border=\"1\" class=\"dataframe\">\n  <thead>\n    <tr style=\"text-align: right;\">\n      <th></th>\n      <th>url</th>\n      <th>nids</th>\n      <th>Title</th>\n      <th>Date</th>\n      <th>Content</th>\n      <th>Image</th>\n    </tr>\n  </thead>\n  <tbody>\n    <tr>\n      <th>0</th>\n      <td>https://assets.msn.com/labs/mind/AABmf2I.html</td>\n      <td>AABmf2I</td>\n      <td>Walmart Slashes Prices on Last-Generation iPads</td>\n      <td>2019-10-28T17:38:04Z</td>\n      <td>['This year, Walmartâ\\x80\\x99s not waiting unt...</td>\n      <td>https://img-s-msn-com.akamaized.net/tenant/amp...</td>\n    </tr>\n    <tr>\n      <th>1</th>\n      <td>https://assets.msn.com/labs/mind/AAISxPN.html</td>\n      <td>AAISxPN</td>\n      <td>Dispose of unwanted prescription drugs on Satu...</td>\n      <td>2019-10-25T17:31:42Z</td>\n      <td>['CINCINNATI (FOX19) - If you have expired, un...</td>\n      <td>https://img-s-msn-com.akamaized.net/tenant/amp...</td>\n    </tr>\n    <tr>\n      <th>2</th>\n      <td>https://assets.msn.com/labs/mind/AAEKnO1.html</td>\n      <td>AAEKnO1</td>\n      <td>Check Houston traffic map for current road con...</td>\n      <td>2019-11-26T12:55:03Z</td>\n      <td>[\"Get real-time traffic data from Houston's ro...</td>\n      <td>https://img-s-msn-com.akamaized.net/tenant/amp...</td>\n    </tr>\n    <tr>\n      <th>3</th>\n      <td>https://assets.msn.com/labs/mind/AADlomf.html</td>\n      <td>AADlomf</td>\n      <td>How to record your screen on Windows, macOS, i...</td>\n      <td>2019-11-06T16:06:25Z</td>\n      <td>[\"There are lots of reasons to record your scr...</td>\n      <td>https://img-s-msn-com.akamaized.net/tenant/amp...</td>\n    </tr>\n    <tr>\n      <th>4</th>\n      <td>https://assets.msn.com/labs/mind/AAGBR44.html</td>\n      <td>AAGBR44</td>\n      <td>This Guy Altered His Diet and Training to Drop...</td>\n      <td>2019-08-31T11:37:11Z</td>\n      <td>['Brandon Reid always felt like â\\x80\\x9cthe f...</td>\n      <td>https://img-s-msn-com.akamaized.net/tenant/amp...</td>\n    </tr>\n  </tbody>\n</table>\n</div>"
     },
     "metadata": {},
     "execution_count": 5
    }
   ],
   "source": [
    "news = pd.read_csv('/Users/baeyuna/Documents/SNU_DLab/Data/msn_train_all.csv')\n",
    "news.head()"
   ]
  },
  {
   "cell_type": "code",
   "execution_count": 74,
   "metadata": {},
   "outputs": [],
   "source": [
    "def content(x):\n",
    "    try:\n",
    "        return ' '.join(ast.literal_eval(x)) \n",
    "    except:\n",
    "        return None"
   ]
  },
  {
   "cell_type": "code",
   "execution_count": 75,
   "metadata": {},
   "outputs": [
    {
     "output_type": "execute_result",
     "data": {
      "text/plain": "'This year, Walmartâ\\x80\\x99s not waiting until Black Friday to offer steep deals on tech. Right now, you can save big on last-generation iPads since Apple just released new models for 2019. Whether youâ\\x80\\x99re looking to upgrade your device or get a holiday gift for someone else, there are a variety of standard iPads, iPad Airs, and iPad Pros to consider. The main difference between sixth- and seventh-generation iPads is the new iPad OS software, but not too much has changed in terms of overall design and power. The 2018 iPads all feature the powerful A10 Fusion chip, iOS 11, 1.2MP front and 8MP rear cameras, Touch ID, and 10-hour battery life.Sixth-generation iPads used to cost up to and over $500, but now you can score one for as low as $300. The 9.7-inch Wi-Fi model with 128GB is now at $300, while the version with cellular capabilities is just $430. The iPad mini with a screen size of just 7.9 inches still costs over $500, but you get top features like the A12 chip, Retina display, all-day battery, and 256GB of storage. This year, Walmartâ\\x80\\x99s not waiting until Black Friday to offer steep deals on tech. Right now, you can save big on last-generation iPads since Apple just released new models for 2019. Whether youâ\\x80\\x99re looking to upgrade your device or get a holiday gift for someone else, there are a variety of standard iPads, iPad Airs, and iPad Pros to consider.  The main difference between sixth- and seventh-generation iPads is the new iPad OS software, but not too much has changed in terms of overall design and power. The 2018 iPads all feature the powerful A10 Fusion chip, iOS 11, 1.2MP front and 8MP rear cameras, Touch ID, and 10-hour battery life. Sixth-generation iPads used to cost up to and over $500, but now you can score one for as low as $300. The 9.7-inch Wi-Fi model with 128GB is now at $300, while the version with cellular capabilities is just $430. The iPad mini with a screen size of just 7.9 inches still costs over $500, but you get top features like the A12 chip, Retina display, all-day battery, and 256GB of storage. In addition to regular and mini iPads, Walmart has deals on the 10.5-inch iPad Air with Wi-Fi or Wi-Fi + Cellular at 64 or 256GB. These models feature A12 Bionic chips, iOS 12, retina displays with True Tone, and up to 10 hours of battery life. They weigh only about a pound, making them the perfect travel companion if you plan to use your device while on the go more often than not. In addition to regular and mini iPads, Walmart has deals on the 10.5-inch iPad Air with Wi-Fi or Wi-Fi + Cellular at 64 or 256GB. These models feature A12 Bionic chips, iOS 12, retina displays with True Tone, and up to 10 hours of battery life. They weigh only about a pound, making them the perfect travel companion if you plan to use your device while on the go more often than not. If youâ\\x80\\x99re looking for a powerful tablet to replace your laptop, go with the iPad Pro, which Walmart now offers for hundreds off. Whether you get the 10.5, 11, or 12.9-inch size, the Pro will still weigh less than two pounds with enough battery life to get you through a full dayâ\\x80\\x99s work.  If youâ\\x80\\x99re looking for a powerful tablet to replace your laptop, go with the iPad Pro, which Walmart now offers for hundreds off. Whether you get the 10.5, 11, or 12.9-inch size, the Pro will still weigh less than two pounds with enough battery life to get you through a full dayâ\\x80\\x99s work.  If youâ\\x80\\x99re really yearning to try Appleâ\\x80\\x99s new iPad OS, there are even already slight discounts on the seventh iteration on Amazon right now, including $30 off the 10.2-inch Wi-Fi iPad with 128 GB in silver and space gray. Plus, donâ\\x80\\x99t forget to explore Walmartâ\\x80\\x99s deals on accessories like the second-generation Apple Pencil and smart keyboard covers to go with your new buy. If youâ\\x80\\x99re really yearning to try Appleâ\\x80\\x99s new iPad OS, there are even already slight discounts on the seventh iteration on Amazon right now, including $30 off the 10.2-inch Wi-Fi iPad with 128 GB in silver and space gray. Plus, donâ\\x80\\x99t forget to explore Walmartâ\\x80\\x99s deals on accessories like the second-generation Apple Pencil and smart keyboard covers to go with your new buy.'"
     },
     "metadata": {},
     "execution_count": 75
    }
   ],
   "source": [
    "news_contents = news.loc[:,'Content'].apply(lambda x: content(x))\n",
    "news_contents[0] "
   ]
  },
  {
   "cell_type": "code",
   "execution_count": 88,
   "metadata": {},
   "outputs": [
    {
     "output_type": "execute_result",
     "data": {
      "text/plain": "50243     The royals are free to shop wherever they choo...\n50244     When you first start dieting and exercising, t...\n50245      ZOLOTE, Ukraine â Lt. Ivan Molchanets peeke...\n50246     Walking into the Bradley Center, I could feel ...\n50247      [Video by Health.com] As you get older, littl...\n                                ...                        \n101516    MALIBU, CA â November 8, 2019, marked the on...\n101517    Eyewitness News is learning what caused the de...\n101518    Sometimes, what happens on the sidelines can b...\n101519    The Seattle Sounders just won MLS Cup for the ...\n101520    \\n As fall temperatures cool down in much of t...\nName: Content, Length: 51278, dtype: object"
     },
     "metadata": {},
     "execution_count": 88
    }
   ],
   "source": [
    "news.loc[50243:,'Content']"
   ]
  },
  {
   "cell_type": "code",
   "execution_count": 89,
   "metadata": {},
   "outputs": [
    {
     "output_type": "execute_result",
     "data": {
      "text/plain": "'The royals are free to shop wherever they choose, but they tend to keep it in the familyâ\\x80\\x94the royal warrant family, that is. The precious few brands with royal warrants are permitted display the Royal Arms in their marketing materials. The royals usually refuse to promote commercial goods, but the warrants are a rare and prominent exception. They\\'re an obvious boon to any branding efforts, but getting your hands on one is no easy task.  First, a company must provide goods or services to the royal family (or more specifically, to Queen Elizabeth, Prince Philip, and Prince Charles, the three royals able to award warrants) for five years. Then, as Nigel Fulton, owner of royal warrantee Fulton Umbrellas, told Town & Country earlier this year, \"you have to wait until youâ\\x80\\x99re invited to apply, so itâ\\x80\\x99s not automatic at all.\" To apply, companies need to submit a laundry list of disclosures, which ensure that the business meets various standards. \"The finances, your supply base, where all of the components come from, your policies on human resources, your supply policies, your health and safety policies, your environmental policies,\" Fulton recalled. Only after that thorough vetting process can a brand be awarded a royal warrantâ\\x80\\x94and even then, the warrants have to be renewed every five years. Still, a select 14 companies have managed to acquire not just one, but all three, granted by the Queen, Prince Philip, and Prince Charles. A few of them, unfortunately, are hard to patronize from abroad (even if Blossom & Browne\\'s Sycamore really does provide the best dry-cleaning around). But here, we\\'ve gathered a full 10 of the royal family\\'s favorite brands that you can try out yourself. Suppliers of Stationery, Leather Goods, and Office Equipment Shop Now Smythson started working with royalty all the way back in the 1890s, when Queen Victoria commissioned the company to create stationery for each of the monarch\\'s residences. These days, the brand continues to provide Her Majesty\\'s stationery, while Prince Philip relies on their leather goods. For his part, Prince Charles sources both stationery and office equipment from Smythson. Manufacturers of Waterproof and Protective Clothing Shop Now Family-owned brand Barbour has been around since 1894, but was awarded its first royal warrant in 1974, by Prince Philip. The Queen must\\'ve been jealous of her husband\\'s outwear, as by 1982, she\\'d awarded the brand a royal warrant of her own. Prince Charles was the last to jump on the bandwagon, in 1987. Suppliers of Objets d\\'Art Shop Now Halcyon Days prides itself on its British craftsmanship, and its dedication to making enamel products by hand. The company holds all three royal warrants, supplying each holder with objets d\\'art. Outfitters Shop Now According to the Royal Warrant Holders\\' Association website, this luxury brand was the first to invent self-supporting trousers, back in the 1930s. Now, self-supporting pants are (thankfully) commonplaceâ\\x80\\x94but Daks remains a British heritage brand, which supplies clothing to the Queen, as well as Princes Charles and Philip. Robe Makers and Tailors Shop Now Ever wonder what brand was behind Queen Elizabeth\\'s sumptuous coronation robe, or Prince Philip\\'s investiture attire? That would be Ede & Ravenscroft, the British sovereigns\\' go-to robe makers since 1689. To this day, the brand supplies robes to all three royal warrant holders, and provides additional tailoring services for the Queen. (They do also, on occasion, make clothing that can be worn by mere mortals, like the legal shirt pictured here.) Tailors and Outfitters Shop Now Gieves & Hawkes has its roots in two separate companies: one supplying the British Royal Navy, and the other supplying the British Army (that one, Hawkes, got its first royal warrant in 1799). Now united, Gieves & Hawkes sells all manner of men\\'s suits, blazers, and the like, as well as military garb. The brand serves as the Queen\\'s livery and military tailors, while Princes Charles and Philip don its civilian clothing as well. Booksellers Shop Now As the oldest bookstore in London, Hatchards claims that Queen Charlotte (wife of King George III) was among the shop\\'s first customers. Nowadays, Hatchards offers rare first editions and signed books alongside more standard literary offerings, and counts the Queen, Prince Charles, and Prince Philip as customers. Gun and Cartridge Makers Shop Now Queen Victoria\\'s son (the future King Edward VII) granted James Purdey his first royal warrant in 1868. A decade later, Queen Victoria followed with her own royal warrant; since then, every British monarch has awarded a warrant to the brand. In addition to the shooting supplies that the royals count on Purdey for, the company also produces leather goods and clothing. Tailors and Kiltmakers Shop Now King George V granted Kinloch Anderson its first royal warrant, and since then, the brand has been the royals\\' go-to purveyors of kilts, tartans, and more. Manufacturers of Motor Vehicles Aston Martin and Bentley also hold royal warrants, but Jaguar Land Rover is the only automotive company to boast all three. (Here, Prince Philip is pictured exploring a brand-new Jaguar during a 1957 visit t0 the Motor Industry Research Association.)'"
     },
     "metadata": {},
     "execution_count": 89
    }
   ],
   "source": [
    "news.loc[50243:,'Content'].iloc[0]"
   ]
  },
  {
   "cell_type": "code",
   "execution_count": null,
   "metadata": {},
   "outputs": [],
   "source": []
  },
  {
   "cell_type": "code",
   "execution_count": 50,
   "metadata": {},
   "outputs": [],
   "source": [
    "def special_token(content):\n",
    "    new_lst = []\n",
    "    for x in content.split('.')[:-1]: \n",
    "        new_lst.append(x + \" [SEP]\")\n",
    "\n",
    "    return \"[CLS] \" + ' '.join(new_lst)"
   ]
  },
  {
   "cell_type": "code",
   "execution_count": 51,
   "metadata": {},
   "outputs": [
    {
     "output_type": "execute_result",
     "data": {
      "text/plain": "'[CLS] This year, Walmartâ\\x80\\x99s not waiting until Black Friday to offer steep deals on tech [SEP]  Right now, you can save big on last-generation iPads since Apple just released new models for 2019 [SEP]  Whether youâ\\x80\\x99re looking to upgrade your device or get a holiday gift for someone else, there are a variety of standard iPads, iPad Airs, and iPad Pros to consider [SEP]  The main difference between sixth- and seventh-generation iPads is the new iPad OS software, but not too much has changed in terms of overall design and power [SEP]  The 2018 iPads all feature the powerful A10 Fusion chip, iOS 11, 1 [SEP] 2MP front and 8MP rear cameras, Touch ID, and 10-hour battery life [SEP] Sixth-generation iPads used to cost up to and over $500, but now you can score one for as low as $300 [SEP]  The 9 [SEP] 7-inch Wi-Fi model with 128GB is now at $300, while the version with cellular capabilities is just $430 [SEP]  The iPad mini with a screen size of just 7 [SEP] 9 inches still costs over $500, but you get top features like the A12 chip, Retina display, all-day battery, and 256GB of storage [SEP]  This year, Walmartâ\\x80\\x99s not waiting until Black Friday to offer steep deals on tech [SEP]  Right now, you can save big on last-generation iPads since Apple just released new models for 2019 [SEP]  Whether youâ\\x80\\x99re looking to upgrade your device or get a holiday gift for someone else, there are a variety of standard iPads, iPad Airs, and iPad Pros to consider [SEP]   The main difference between sixth- and seventh-generation iPads is the new iPad OS software, but not too much has changed in terms of overall design and power [SEP]  The 2018 iPads all feature the powerful A10 Fusion chip, iOS 11, 1 [SEP] 2MP front and 8MP rear cameras, Touch ID, and 10-hour battery life [SEP]  Sixth-generation iPads used to cost up to and over $500, but now you can score one for as low as $300 [SEP]  The 9 [SEP] 7-inch Wi-Fi model with 128GB is now at $300, while the version with cellular capabilities is just $430 [SEP]  The iPad mini with a screen size of just 7 [SEP] 9 inches still costs over $500, but you get top features like the A12 chip, Retina display, all-day battery, and 256GB of storage [SEP]  In addition to regular and mini iPads, Walmart has deals on the 10 [SEP] 5-inch iPad Air with Wi-Fi or Wi-Fi + Cellular at 64 or 256GB [SEP]  These models feature A12 Bionic chips, iOS 12, retina displays with True Tone, and up to 10 hours of battery life [SEP]  They weigh only about a pound, making them the perfect travel companion if you plan to use your device while on the go more often than not [SEP]  In addition to regular and mini iPads, Walmart has deals on the 10 [SEP] 5-inch iPad Air with Wi-Fi or Wi-Fi + Cellular at 64 or 256GB [SEP]  These models feature A12 Bionic chips, iOS 12, retina displays with True Tone, and up to 10 hours of battery life [SEP]  They weigh only about a pound, making them the perfect travel companion if you plan to use your device while on the go more often than not [SEP]  If youâ\\x80\\x99re looking for a powerful tablet to replace your laptop, go with the iPad Pro, which Walmart now offers for hundreds off [SEP]  Whether you get the 10 [SEP] 5, 11, or 12 [SEP] 9-inch size, the Pro will still weigh less than two pounds with enough battery life to get you through a full dayâ\\x80\\x99s work [SEP]   If youâ\\x80\\x99re looking for a powerful tablet to replace your laptop, go with the iPad Pro, which Walmart now offers for hundreds off [SEP]  Whether you get the 10 [SEP] 5, 11, or 12 [SEP] 9-inch size, the Pro will still weigh less than two pounds with enough battery life to get you through a full dayâ\\x80\\x99s work [SEP]   If youâ\\x80\\x99re really yearning to try Appleâ\\x80\\x99s new iPad OS, there are even already slight discounts on the seventh iteration on Amazon right now, including $30 off the 10 [SEP] 2-inch Wi-Fi iPad with 128 GB in silver and space gray [SEP]  Plus, donâ\\x80\\x99t forget to explore Walmartâ\\x80\\x99s deals on accessories like the second-generation Apple Pencil and smart keyboard covers to go with your new buy [SEP]  If youâ\\x80\\x99re really yearning to try Appleâ\\x80\\x99s new iPad OS, there are even already slight discounts on the seventh iteration on Amazon right now, including $30 off the 10 [SEP] 2-inch Wi-Fi iPad with 128 GB in silver and space gray [SEP]  Plus, donâ\\x80\\x99t forget to explore Walmartâ\\x80\\x99s deals on accessories like the second-generation Apple Pencil and smart keyboard covers to go with your new buy [SEP]'"
     },
     "metadata": {},
     "execution_count": 51
    }
   ],
   "source": [
    "marked_text = news_contents.apply(lambda x: special_token(x))\n",
    "marked_text[0]"
   ]
  },
  {
   "cell_type": "code",
   "execution_count": 42,
   "metadata": {},
   "outputs": [
    {
     "output_type": "error",
     "ename": "KeyboardInterrupt",
     "evalue": "",
     "traceback": [
      "\u001b[0;31m---------------------------------------------------------------------------\u001b[0m",
      "\u001b[0;31mKeyboardInterrupt\u001b[0m                         Traceback (most recent call last)",
      "\u001b[0;32m<ipython-input-42-7b781970c43b>\u001b[0m in \u001b[0;36m<module>\u001b[0;34m\u001b[0m\n\u001b[1;32m      1\u001b[0m \u001b[0mtokenized_texts\u001b[0m \u001b[0;34m=\u001b[0m \u001b[0;34m[\u001b[0m\u001b[0;34m]\u001b[0m\u001b[0;34m\u001b[0m\u001b[0;34m\u001b[0m\u001b[0m\n\u001b[1;32m      2\u001b[0m \u001b[0;32mfor\u001b[0m \u001b[0mtext\u001b[0m \u001b[0;32min\u001b[0m \u001b[0mmarked_text\u001b[0m\u001b[0;34m:\u001b[0m\u001b[0;34m\u001b[0m\u001b[0;34m\u001b[0m\u001b[0m\n\u001b[0;32m----> 3\u001b[0;31m     \u001b[0mtokenized_texts\u001b[0m\u001b[0;34m.\u001b[0m\u001b[0mappend\u001b[0m\u001b[0;34m(\u001b[0m\u001b[0mtokenizer\u001b[0m\u001b[0;34m.\u001b[0m\u001b[0mtokenize\u001b[0m\u001b[0;34m(\u001b[0m\u001b[0mtext\u001b[0m\u001b[0;34m)\u001b[0m\u001b[0;34m)\u001b[0m\u001b[0;34m\u001b[0m\u001b[0;34m\u001b[0m\u001b[0m\n\u001b[0m\u001b[1;32m      4\u001b[0m \u001b[0;34m\u001b[0m\u001b[0m\n\u001b[1;32m      5\u001b[0m \u001b[0mprint\u001b[0m\u001b[0;34m(\u001b[0m\u001b[0mtokenized_texts\u001b[0m\u001b[0;34m[\u001b[0m\u001b[0;36m0\u001b[0m\u001b[0;34m]\u001b[0m\u001b[0;34m)\u001b[0m\u001b[0;34m\u001b[0m\u001b[0;34m\u001b[0m\u001b[0m\n",
      "\u001b[0;32m~/opt/anaconda3/lib/python3.7/site-packages/transformers/tokenization_utils.py\u001b[0m in \u001b[0;36mtokenize\u001b[0;34m(self, text, **kwargs)\u001b[0m\n\u001b[1;32m    280\u001b[0m             \u001b[0mescaped_special_toks\u001b[0m \u001b[0;34m=\u001b[0m \u001b[0;34m[\u001b[0m\u001b[0mre\u001b[0m\u001b[0;34m.\u001b[0m\u001b[0mescape\u001b[0m\u001b[0;34m(\u001b[0m\u001b[0ms_tok\u001b[0m\u001b[0;34m)\u001b[0m \u001b[0;32mfor\u001b[0m \u001b[0ms_tok\u001b[0m \u001b[0;32min\u001b[0m \u001b[0mself\u001b[0m\u001b[0;34m.\u001b[0m\u001b[0mall_special_tokens\u001b[0m\u001b[0;34m]\u001b[0m\u001b[0;34m\u001b[0m\u001b[0;34m\u001b[0m\u001b[0m\n\u001b[1;32m    281\u001b[0m             \u001b[0mpattern\u001b[0m \u001b[0;34m=\u001b[0m \u001b[0;34mr\"(\"\u001b[0m \u001b[0;34m+\u001b[0m \u001b[0;34mr\"|\"\u001b[0m\u001b[0;34m.\u001b[0m\u001b[0mjoin\u001b[0m\u001b[0;34m(\u001b[0m\u001b[0mescaped_special_toks\u001b[0m\u001b[0;34m)\u001b[0m \u001b[0;34m+\u001b[0m \u001b[0;34mr\")|\"\u001b[0m \u001b[0;34m+\u001b[0m \u001b[0;34mr\"(.+?)\"\u001b[0m\u001b[0;34m\u001b[0m\u001b[0;34m\u001b[0m\u001b[0m\n\u001b[0;32m--> 282\u001b[0;31m             \u001b[0mtext\u001b[0m \u001b[0;34m=\u001b[0m \u001b[0mre\u001b[0m\u001b[0;34m.\u001b[0m\u001b[0msub\u001b[0m\u001b[0;34m(\u001b[0m\u001b[0mpattern\u001b[0m\u001b[0;34m,\u001b[0m \u001b[0;32mlambda\u001b[0m \u001b[0mm\u001b[0m\u001b[0;34m:\u001b[0m \u001b[0mm\u001b[0m\u001b[0;34m.\u001b[0m\u001b[0mgroups\u001b[0m\u001b[0;34m(\u001b[0m\u001b[0;34m)\u001b[0m\u001b[0;34m[\u001b[0m\u001b[0;36m0\u001b[0m\u001b[0;34m]\u001b[0m \u001b[0;32mor\u001b[0m \u001b[0mm\u001b[0m\u001b[0;34m.\u001b[0m\u001b[0mgroups\u001b[0m\u001b[0;34m(\u001b[0m\u001b[0;34m)\u001b[0m\u001b[0;34m[\u001b[0m\u001b[0;36m1\u001b[0m\u001b[0;34m]\u001b[0m\u001b[0;34m.\u001b[0m\u001b[0mlower\u001b[0m\u001b[0;34m(\u001b[0m\u001b[0;34m)\u001b[0m\u001b[0;34m,\u001b[0m \u001b[0mtext\u001b[0m\u001b[0;34m)\u001b[0m\u001b[0;34m\u001b[0m\u001b[0;34m\u001b[0m\u001b[0m\n\u001b[0m\u001b[1;32m    283\u001b[0m \u001b[0;34m\u001b[0m\u001b[0m\n\u001b[1;32m    284\u001b[0m         \u001b[0;32mdef\u001b[0m \u001b[0msplit_on_token\u001b[0m\u001b[0;34m(\u001b[0m\u001b[0mtok\u001b[0m\u001b[0;34m,\u001b[0m \u001b[0mtext\u001b[0m\u001b[0;34m)\u001b[0m\u001b[0;34m:\u001b[0m\u001b[0;34m\u001b[0m\u001b[0;34m\u001b[0m\u001b[0m\n",
      "\u001b[0;32m~/opt/anaconda3/lib/python3.7/re.py\u001b[0m in \u001b[0;36msub\u001b[0;34m(pattern, repl, string, count, flags)\u001b[0m\n\u001b[1;32m    190\u001b[0m     \u001b[0ma\u001b[0m \u001b[0mcallable\u001b[0m\u001b[0;34m,\u001b[0m \u001b[0mit\u001b[0m\u001b[0;31m'\u001b[0m\u001b[0ms\u001b[0m \u001b[0mpassed\u001b[0m \u001b[0mthe\u001b[0m \u001b[0mMatch\u001b[0m \u001b[0mobject\u001b[0m \u001b[0;32mand\u001b[0m \u001b[0mmust\u001b[0m \u001b[0;32mreturn\u001b[0m\u001b[0;34m\u001b[0m\u001b[0;34m\u001b[0m\u001b[0m\n\u001b[1;32m    191\u001b[0m     a replacement string to be used.\"\"\"\n\u001b[0;32m--> 192\u001b[0;31m     \u001b[0;32mreturn\u001b[0m \u001b[0m_compile\u001b[0m\u001b[0;34m(\u001b[0m\u001b[0mpattern\u001b[0m\u001b[0;34m,\u001b[0m \u001b[0mflags\u001b[0m\u001b[0;34m)\u001b[0m\u001b[0;34m.\u001b[0m\u001b[0msub\u001b[0m\u001b[0;34m(\u001b[0m\u001b[0mrepl\u001b[0m\u001b[0;34m,\u001b[0m \u001b[0mstring\u001b[0m\u001b[0;34m,\u001b[0m \u001b[0mcount\u001b[0m\u001b[0;34m)\u001b[0m\u001b[0;34m\u001b[0m\u001b[0;34m\u001b[0m\u001b[0m\n\u001b[0m\u001b[1;32m    193\u001b[0m \u001b[0;34m\u001b[0m\u001b[0m\n\u001b[1;32m    194\u001b[0m \u001b[0;32mdef\u001b[0m \u001b[0msubn\u001b[0m\u001b[0;34m(\u001b[0m\u001b[0mpattern\u001b[0m\u001b[0;34m,\u001b[0m \u001b[0mrepl\u001b[0m\u001b[0;34m,\u001b[0m \u001b[0mstring\u001b[0m\u001b[0;34m,\u001b[0m \u001b[0mcount\u001b[0m\u001b[0;34m=\u001b[0m\u001b[0;36m0\u001b[0m\u001b[0;34m,\u001b[0m \u001b[0mflags\u001b[0m\u001b[0;34m=\u001b[0m\u001b[0;36m0\u001b[0m\u001b[0;34m)\u001b[0m\u001b[0;34m:\u001b[0m\u001b[0;34m\u001b[0m\u001b[0;34m\u001b[0m\u001b[0m\n",
      "\u001b[0;32m~/opt/anaconda3/lib/python3.7/site-packages/transformers/tokenization_utils.py\u001b[0m in \u001b[0;36m<lambda>\u001b[0;34m(m)\u001b[0m\n\u001b[1;32m    280\u001b[0m             \u001b[0mescaped_special_toks\u001b[0m \u001b[0;34m=\u001b[0m \u001b[0;34m[\u001b[0m\u001b[0mre\u001b[0m\u001b[0;34m.\u001b[0m\u001b[0mescape\u001b[0m\u001b[0;34m(\u001b[0m\u001b[0ms_tok\u001b[0m\u001b[0;34m)\u001b[0m \u001b[0;32mfor\u001b[0m \u001b[0ms_tok\u001b[0m \u001b[0;32min\u001b[0m \u001b[0mself\u001b[0m\u001b[0;34m.\u001b[0m\u001b[0mall_special_tokens\u001b[0m\u001b[0;34m]\u001b[0m\u001b[0;34m\u001b[0m\u001b[0;34m\u001b[0m\u001b[0m\n\u001b[1;32m    281\u001b[0m             \u001b[0mpattern\u001b[0m \u001b[0;34m=\u001b[0m \u001b[0;34mr\"(\"\u001b[0m \u001b[0;34m+\u001b[0m \u001b[0;34mr\"|\"\u001b[0m\u001b[0;34m.\u001b[0m\u001b[0mjoin\u001b[0m\u001b[0;34m(\u001b[0m\u001b[0mescaped_special_toks\u001b[0m\u001b[0;34m)\u001b[0m \u001b[0;34m+\u001b[0m \u001b[0;34mr\")|\"\u001b[0m \u001b[0;34m+\u001b[0m \u001b[0;34mr\"(.+?)\"\u001b[0m\u001b[0;34m\u001b[0m\u001b[0;34m\u001b[0m\u001b[0m\n\u001b[0;32m--> 282\u001b[0;31m             \u001b[0mtext\u001b[0m \u001b[0;34m=\u001b[0m \u001b[0mre\u001b[0m\u001b[0;34m.\u001b[0m\u001b[0msub\u001b[0m\u001b[0;34m(\u001b[0m\u001b[0mpattern\u001b[0m\u001b[0;34m,\u001b[0m \u001b[0;32mlambda\u001b[0m \u001b[0mm\u001b[0m\u001b[0;34m:\u001b[0m \u001b[0mm\u001b[0m\u001b[0;34m.\u001b[0m\u001b[0mgroups\u001b[0m\u001b[0;34m(\u001b[0m\u001b[0;34m)\u001b[0m\u001b[0;34m[\u001b[0m\u001b[0;36m0\u001b[0m\u001b[0;34m]\u001b[0m \u001b[0;32mor\u001b[0m \u001b[0mm\u001b[0m\u001b[0;34m.\u001b[0m\u001b[0mgroups\u001b[0m\u001b[0;34m(\u001b[0m\u001b[0;34m)\u001b[0m\u001b[0;34m[\u001b[0m\u001b[0;36m1\u001b[0m\u001b[0;34m]\u001b[0m\u001b[0;34m.\u001b[0m\u001b[0mlower\u001b[0m\u001b[0;34m(\u001b[0m\u001b[0;34m)\u001b[0m\u001b[0;34m,\u001b[0m \u001b[0mtext\u001b[0m\u001b[0;34m)\u001b[0m\u001b[0;34m\u001b[0m\u001b[0;34m\u001b[0m\u001b[0m\n\u001b[0m\u001b[1;32m    283\u001b[0m \u001b[0;34m\u001b[0m\u001b[0m\n\u001b[1;32m    284\u001b[0m         \u001b[0;32mdef\u001b[0m \u001b[0msplit_on_token\u001b[0m\u001b[0;34m(\u001b[0m\u001b[0mtok\u001b[0m\u001b[0;34m,\u001b[0m \u001b[0mtext\u001b[0m\u001b[0;34m)\u001b[0m\u001b[0;34m:\u001b[0m\u001b[0;34m\u001b[0m\u001b[0;34m\u001b[0m\u001b[0m\n",
      "\u001b[0;31mKeyboardInterrupt\u001b[0m: "
     ]
    }
   ],
   "source": [
    "# Tokenize our sentence with the BERT tokenizer.\n",
    "tokenized_texts = []\n",
    "for text in marked_text:\n",
    "    tokenized_texts.append(tokenizer.tokenize(text))\n",
    "\n",
    "# Print out the tokens.\n",
    "print(tokenized_texts[0])"
   ]
  },
  {
   "cell_type": "code",
   "execution_count": null,
   "metadata": {},
   "outputs": [],
   "source": [
    "list(tokenizer.vocab.keys())[5000:5020]"
   ]
  },
  {
   "cell_type": "code",
   "execution_count": null,
   "metadata": {},
   "outputs": [],
   "source": [
    "# Map the token strings to their vocabulary indeces.\n",
    "indexed_tokens = []\n",
    "for tokenized_text in tokenized_texts:\n",
    "    indexed_token = tokenizer.convert_tokens_to_ids(tokenized_text)\n",
    "    indexed_tokens.append(indexed_token)\n",
    "\n",
    "print(indexed_tokens[0])    "
   ]
  },
  {
   "cell_type": "code",
   "execution_count": null,
   "metadata": {},
   "outputs": [],
   "source": [
    "# Display the words with their indeces.\n",
    "for tup in zip(tokenized_texts[0], indexed_tokens[0]):\n",
    "    print('{:<12} {:>6,}'.format(tup[0], tup[1]))"
   ]
  },
  {
   "cell_type": "markdown",
   "metadata": {},
   "source": [
    "# 3. Segment ID  \n",
    "BERT is trained on and expects sentence pairs, using 1s and 0s to distinguish between the two sentences.   \n",
    "  \n",
    "If you want to process two sentences, assign each word in the first sentence plus the ‘[SEP]’ token a 0, and all tokens of the second sentence a 1."
   ]
  },
  {
   "cell_type": "code",
   "execution_count": null,
   "metadata": {},
   "outputs": [],
   "source": [
    "def segid(text):\n",
    "    [0] * len(text[0]) "
   ]
  },
  {
   "cell_type": "code",
   "execution_count": null,
   "metadata": {},
   "outputs": [],
   "source": [
    "for tokenized_text in tokenized_texts:\n",
    "    [0] * len(tokenized_text[0])\n"
   ]
  },
  {
   "cell_type": "code",
   "execution_count": null,
   "metadata": {},
   "outputs": [],
   "source": [
    "# Mark each of the 22 tokens as belonging to sentence \"1\".\n",
    "segments_ids = [1] * len(tokenized_text)\n",
    "\n",
    "print (segments_ids)"
   ]
  },
  {
   "cell_type": "code",
   "execution_count": null,
   "metadata": {},
   "outputs": [],
   "source": []
  },
  {
   "cell_type": "code",
   "execution_count": 52,
   "metadata": {
    "tags": []
   },
   "outputs": [
    {
     "output_type": "stream",
     "name": "stdout",
     "text": "Collecting sentence-transformers\n  Downloading sentence-transformers-0.3.2.tar.gz (65 kB)\n\u001b[K     |████████████████████████████████| 65 kB 764 kB/s \n\u001b[?25hRequirement already satisfied, skipping upgrade: transformers>=3.0.2 in /Users/baeyuna/opt/anaconda3/lib/python3.7/site-packages (from sentence-transformers) (3.0.2)\nRequirement already satisfied, skipping upgrade: tqdm in /Users/baeyuna/opt/anaconda3/lib/python3.7/site-packages (from sentence-transformers) (4.42.1)\nRequirement already satisfied, skipping upgrade: torch>=1.2.0 in /Users/baeyuna/opt/anaconda3/lib/python3.7/site-packages (from sentence-transformers) (1.5.1)\nRequirement already satisfied, skipping upgrade: numpy in /Users/baeyuna/opt/anaconda3/lib/python3.7/site-packages (from sentence-transformers) (1.19.0)\nRequirement already satisfied, skipping upgrade: scikit-learn in /Users/baeyuna/opt/anaconda3/lib/python3.7/site-packages (from sentence-transformers) (0.22.1)\nRequirement already satisfied, skipping upgrade: scipy in /Users/baeyuna/opt/anaconda3/lib/python3.7/site-packages (from sentence-transformers) (1.4.1)\nRequirement already satisfied, skipping upgrade: nltk in /Users/baeyuna/opt/anaconda3/lib/python3.7/site-packages (from sentence-transformers) (3.4.5)\nRequirement already satisfied, skipping upgrade: sentencepiece!=0.1.92 in /Users/baeyuna/opt/anaconda3/lib/python3.7/site-packages (from transformers>=3.0.2->sentence-transformers) (0.1.91)\nRequirement already satisfied, skipping upgrade: requests in /Users/baeyuna/opt/anaconda3/lib/python3.7/site-packages (from transformers>=3.0.2->sentence-transformers) (2.22.0)\nRequirement already satisfied, skipping upgrade: regex!=2019.12.17 in /Users/baeyuna/opt/anaconda3/lib/python3.7/site-packages (from transformers>=3.0.2->sentence-transformers) (2020.7.14)\nRequirement already satisfied, skipping upgrade: tokenizers==0.8.1.rc1 in /Users/baeyuna/opt/anaconda3/lib/python3.7/site-packages (from transformers>=3.0.2->sentence-transformers) (0.8.1rc1)\nRequirement already satisfied, skipping upgrade: packaging in /Users/baeyuna/opt/anaconda3/lib/python3.7/site-packages (from transformers>=3.0.2->sentence-transformers) (20.1)\nRequirement already satisfied, skipping upgrade: sacremoses in /Users/baeyuna/opt/anaconda3/lib/python3.7/site-packages (from transformers>=3.0.2->sentence-transformers) (0.0.43)\nRequirement already satisfied, skipping upgrade: filelock in /Users/baeyuna/opt/anaconda3/lib/python3.7/site-packages (from transformers>=3.0.2->sentence-transformers) (3.0.12)\nRequirement already satisfied, skipping upgrade: future in /Users/baeyuna/opt/anaconda3/lib/python3.7/site-packages (from torch>=1.2.0->sentence-transformers) (0.18.2)\nRequirement already satisfied, skipping upgrade: joblib>=0.11 in /Users/baeyuna/opt/anaconda3/lib/python3.7/site-packages (from scikit-learn->sentence-transformers) (0.14.1)\nRequirement already satisfied, skipping upgrade: six in /Users/baeyuna/opt/anaconda3/lib/python3.7/site-packages (from nltk->sentence-transformers) (1.14.0)\nRequirement already satisfied, skipping upgrade: urllib3!=1.25.0,!=1.25.1,<1.26,>=1.21.1 in /Users/baeyuna/opt/anaconda3/lib/python3.7/site-packages (from requests->transformers>=3.0.2->sentence-transformers) (1.25.8)\nRequirement already satisfied, skipping upgrade: idna<2.9,>=2.5 in /Users/baeyuna/opt/anaconda3/lib/python3.7/site-packages (from requests->transformers>=3.0.2->sentence-transformers) (2.8)\nRequirement already satisfied, skipping upgrade: certifi>=2017.4.17 in /Users/baeyuna/opt/anaconda3/lib/python3.7/site-packages (from requests->transformers>=3.0.2->sentence-transformers) (2020.6.20)\nRequirement already satisfied, skipping upgrade: chardet<3.1.0,>=3.0.2 in /Users/baeyuna/opt/anaconda3/lib/python3.7/site-packages (from requests->transformers>=3.0.2->sentence-transformers) (3.0.4)\nRequirement already satisfied, skipping upgrade: pyparsing>=2.0.2 in /Users/baeyuna/opt/anaconda3/lib/python3.7/site-packages (from packaging->transformers>=3.0.2->sentence-transformers) (2.4.6)\nRequirement already satisfied, skipping upgrade: click in /Users/baeyuna/opt/anaconda3/lib/python3.7/site-packages (from sacremoses->transformers>=3.0.2->sentence-transformers) (7.0)\nBuilding wheels for collected packages: sentence-transformers\n  Building wheel for sentence-transformers (setup.py) ... \u001b[?25ldone\n\u001b[?25h  Created wheel for sentence-transformers: filename=sentence_transformers-0.3.2-py3-none-any.whl size=93964 sha256=796b84a9cbb6a16f0bc6db3deb34b613b195c5a049a7c4459834c37aebb1c8f6\n  Stored in directory: /Users/baeyuna/Library/Caches/pip/wheels/8d/0f/5e/f156d6e1e5d0e9871a99c2c6ef3e07ce3e26511f71aa998bb6\nSuccessfully built sentence-transformers\nInstalling collected packages: sentence-transformers\nSuccessfully installed sentence-transformers-0.3.2\n"
    }
   ],
   "source": [
    "! pip install -U sentence-transformers"
   ]
  },
  {
   "cell_type": "code",
   "execution_count": 53,
   "metadata": {
    "tags": []
   },
   "outputs": [
    {
     "output_type": "stream",
     "name": "stderr",
     "text": "100%|██████████| 405M/405M [02:16<00:00, 2.97MB/s]\n"
    }
   ],
   "source": [
    "from sentence_transformers import SentenceTransformer\n",
    "model = SentenceTransformer('bert-base-nli-mean-tokens')"
   ]
  },
  {
   "cell_type": "code",
   "execution_count": 54,
   "metadata": {},
   "outputs": [
    {
     "output_type": "execute_result",
     "data": {
      "text/plain": "'This year, Walmartâ\\x80\\x99s not waiting until Black Friday to offer steep deals on tech. Right now, you can save big on last-generation iPads since Apple just released new models for 2019. Whether youâ\\x80\\x99re looking to upgrade your device or get a holiday gift for someone else, there are a variety of standard iPads, iPad Airs, and iPad Pros to consider. The main difference between sixth- and seventh-generation iPads is the new iPad OS software, but not too much has changed in terms of overall design and power. The 2018 iPads all feature the powerful A10 Fusion chip, iOS 11, 1.2MP front and 8MP rear cameras, Touch ID, and 10-hour battery life.Sixth-generation iPads used to cost up to and over $500, but now you can score one for as low as $300. The 9.7-inch Wi-Fi model with 128GB is now at $300, while the version with cellular capabilities is just $430. The iPad mini with a screen size of just 7.9 inches still costs over $500, but you get top features like the A12 chip, Retina display, all-day battery, and 256GB of storage. This year, Walmartâ\\x80\\x99s not waiting until Black Friday to offer steep deals on tech. Right now, you can save big on last-generation iPads since Apple just released new models for 2019. Whether youâ\\x80\\x99re looking to upgrade your device or get a holiday gift for someone else, there are a variety of standard iPads, iPad Airs, and iPad Pros to consider.  The main difference between sixth- and seventh-generation iPads is the new iPad OS software, but not too much has changed in terms of overall design and power. The 2018 iPads all feature the powerful A10 Fusion chip, iOS 11, 1.2MP front and 8MP rear cameras, Touch ID, and 10-hour battery life. Sixth-generation iPads used to cost up to and over $500, but now you can score one for as low as $300. The 9.7-inch Wi-Fi model with 128GB is now at $300, while the version with cellular capabilities is just $430. The iPad mini with a screen size of just 7.9 inches still costs over $500, but you get top features like the A12 chip, Retina display, all-day battery, and 256GB of storage. In addition to regular and mini iPads, Walmart has deals on the 10.5-inch iPad Air with Wi-Fi or Wi-Fi + Cellular at 64 or 256GB. These models feature A12 Bionic chips, iOS 12, retina displays with True Tone, and up to 10 hours of battery life. They weigh only about a pound, making them the perfect travel companion if you plan to use your device while on the go more often than not. In addition to regular and mini iPads, Walmart has deals on the 10.5-inch iPad Air with Wi-Fi or Wi-Fi + Cellular at 64 or 256GB. These models feature A12 Bionic chips, iOS 12, retina displays with True Tone, and up to 10 hours of battery life. They weigh only about a pound, making them the perfect travel companion if you plan to use your device while on the go more often than not. If youâ\\x80\\x99re looking for a powerful tablet to replace your laptop, go with the iPad Pro, which Walmart now offers for hundreds off. Whether you get the 10.5, 11, or 12.9-inch size, the Pro will still weigh less than two pounds with enough battery life to get you through a full dayâ\\x80\\x99s work.  If youâ\\x80\\x99re looking for a powerful tablet to replace your laptop, go with the iPad Pro, which Walmart now offers for hundreds off. Whether you get the 10.5, 11, or 12.9-inch size, the Pro will still weigh less than two pounds with enough battery life to get you through a full dayâ\\x80\\x99s work.  If youâ\\x80\\x99re really yearning to try Appleâ\\x80\\x99s new iPad OS, there are even already slight discounts on the seventh iteration on Amazon right now, including $30 off the 10.2-inch Wi-Fi iPad with 128 GB in silver and space gray. Plus, donâ\\x80\\x99t forget to explore Walmartâ\\x80\\x99s deals on accessories like the second-generation Apple Pencil and smart keyboard covers to go with your new buy. If youâ\\x80\\x99re really yearning to try Appleâ\\x80\\x99s new iPad OS, there are even already slight discounts on the seventh iteration on Amazon right now, including $30 off the 10.2-inch Wi-Fi iPad with 128 GB in silver and space gray. Plus, donâ\\x80\\x99t forget to explore Walmartâ\\x80\\x99s deals on accessories like the second-generation Apple Pencil and smart keyboard covers to go with your new buy.'"
     },
     "metadata": {},
     "execution_count": 54
    }
   ],
   "source": [
    "news_contents[0]"
   ]
  },
  {
   "cell_type": "code",
   "execution_count": 62,
   "metadata": {},
   "outputs": [
    {
     "output_type": "execute_result",
     "data": {
      "text/plain": "'This year, Walmartâ\\x80\\x99s not waiting until Black Friday to offer steep deals on tech. Right now, you can save big on last-generation iPads since Apple just released new models for 2019. Whether youâ\\x80\\x99re looking to upgrade your device or get a holiday gift for someone else, there are a variety of standard iPads, iPad Airs, and iPad Pros to consider. The main difference between sixth- and seventh-generation iPads is the new iPad OS software, but not too much has changed in terms of overall design and power. The 2018 iPads all feature the powerful A10 Fusion chip, iOS 11, 1.2MP front and 8MP rear cameras, Touch ID, and 10-hour battery life.Sixth-generation iPads used to cost up to and over $500, but now you can score one for as low as $300. The 9.7-inch Wi-Fi model with 128GB is now at $300, while the version with cellular capabilities is just $430. The iPad mini with a screen size of just 7.9 inches still costs over $500, but you get top features like the A12 chip, Retina display, all-day battery, and 256GB of storage. This year, Walmartâ\\x80\\x99s not waiting until Black Friday to offer steep deals on tech. Right now, you can save big on last-generation iPads since Apple just released new models for 2019. Whether youâ\\x80\\x99re looking to upgrade your device or get a holiday gift for someone else, there are a variety of standard iPads, iPad Airs, and iPad Pros to consider.  The main difference between sixth- and seventh-generation iPads is the new iPad OS software, but not too much has changed in terms of overall design and power. The 2018 iPads all feature the powerful A10 Fusion chip, iOS 11, 1.2MP front and 8MP rear cameras, Touch ID, and 10-hour battery life. Sixth-generation iPads used to cost up to and over $500, but now you can score one for as low as $300. The 9.7-inch Wi-Fi model with 128GB is now at $300, while the version with cellular capabilities is just $430. The iPad mini with a screen size of just 7.9 inches still costs over $500, but you get top features like the A12 chip, Retina display, all-day battery, and 256GB of storage. In addition to regular and mini iPads, Walmart has deals on the 10.5-inch iPad Air with Wi-Fi or Wi-Fi + Cellular at 64 or 256GB. These models feature A12 Bionic chips, iOS 12, retina displays with True Tone, and up to 10 hours of battery life. They weigh only about a pound, making them the perfect travel companion if you plan to use your device while on the go more often than not. In addition to regular and mini iPads, Walmart has deals on the 10.5-inch iPad Air with Wi-Fi or Wi-Fi + Cellular at 64 or 256GB. These models feature A12 Bionic chips, iOS 12, retina displays with True Tone, and up to 10 hours of battery life. They weigh only about a pound, making them the perfect travel companion if you plan to use your device while on the go more often than not. If youâ\\x80\\x99re looking for a powerful tablet to replace your laptop, go with the iPad Pro, which Walmart now offers for hundreds off. Whether you get the 10.5, 11, or 12.9-inch size, the Pro will still weigh less than two pounds with enough battery life to get you through a full dayâ\\x80\\x99s work.  If youâ\\x80\\x99re looking for a powerful tablet to replace your laptop, go with the iPad Pro, which Walmart now offers for hundreds off. Whether you get the 10.5, 11, or 12.9-inch size, the Pro will still weigh less than two pounds with enough battery life to get you through a full dayâ\\x80\\x99s work.  If youâ\\x80\\x99re really yearning to try Appleâ\\x80\\x99s new iPad OS, there are even already slight discounts on the seventh iteration on Amazon right now, including $30 off the 10.2-inch Wi-Fi iPad with 128 GB in silver and space gray. Plus, donâ\\x80\\x99t forget to explore Walmartâ\\x80\\x99s deals on accessories like the second-generation Apple Pencil and smart keyboard covers to go with your new buy. If youâ\\x80\\x99re really yearning to try Appleâ\\x80\\x99s new iPad OS, there are even already slight discounts on the seventh iteration on Amazon right now, including $30 off the 10.2-inch Wi-Fi iPad with 128 GB in silver and space gray. Plus, donâ\\x80\\x99t forget to explore Walmartâ\\x80\\x99s deals on accessories like the second-generation Apple Pencil and smart keyboard covers to go with your new buy.'"
     },
     "metadata": {},
     "execution_count": 62
    }
   ],
   "source": [
    "news_contents[2]"
   ]
  },
  {
   "cell_type": "code",
   "execution_count": 55,
   "metadata": {},
   "outputs": [],
   "source": [
    "sentence_embeddings = model.encode(news_contents[0])"
   ]
  },
  {
   "cell_type": "code",
   "execution_count": 57,
   "metadata": {
    "tags": []
   },
   "outputs": [
    {
     "output_type": "stream",
     "name": "stdout",
     "text": "Sentence: T\nEmbedding: [-4.25543487e-01  7.60001302e-01  9.18531656e-01 -2.95201480e-01\n  5.87620556e-01 -8.64016652e-01  5.59141576e-01  3.80701602e-01\n  3.97778451e-01 -6.16761982e-01  3.48098993e-01  5.42076945e-01\n  3.77421051e-01 -1.62790880e-01 -7.97211528e-01  4.97375309e-01\n  3.04683357e-01  2.90414721e-01 -1.31681543e-02 -1.72260597e-01\n -2.21253678e-01 -6.86304927e-01  5.34278274e-01  2.51835823e-01\n  1.01992214e+00  2.51798868e-01 -1.26365617e-01  1.37554824e-01\n -3.21952701e-01  5.16393840e-01 -5.18519759e-01  6.90127730e-01\n -5.36325455e-01 -6.29978180e-01  1.13740213e-01  1.08845699e+00\n -2.36613840e-01  3.33904296e-01  1.79698452e-01  1.80658951e-01\n  4.84353453e-02 -9.61049914e-01 -2.02181622e-01 -3.47175151e-01\n -1.16442001e+00 -2.41194367e-02 -1.49435312e-01  3.38092744e-01\n  5.86021602e-01 -6.75692320e-01  9.13677573e-01  5.71824551e-01\n  4.18858081e-01 -4.24213916e-01 -5.86561680e-01  8.15579474e-01\n  3.44417900e-01 -8.98973227e-01 -5.23578942e-01 -6.00768387e-01\n -5.20685017e-01  4.59556580e-01 -6.09506130e-01 -4.38414782e-01\n  1.08318478e-01 -6.69749379e-01  2.58791983e-01  5.81306934e-01\n -8.79324555e-01 -9.52477157e-01 -3.30517590e-01 -1.16358995e+00\n -7.00969517e-01 -6.53977811e-01  1.94175377e-01  4.72208075e-02\n -2.45181054e-01  2.01471955e-01  1.39846933e+00  3.11667979e-01\n  4.08376694e-01 -1.79863632e-01  1.95594519e-01  2.07544029e-01\n  1.59460172e-01  6.43848121e-01  3.08242172e-01 -1.02376306e+00\n -4.00240004e-01  1.41850010e-01  6.64413989e-01 -3.29371333e-01\n  1.32160819e+00  1.08288974e-01 -6.58247650e-01 -4.23892587e-01\n -8.09795782e-02 -1.89107776e-01 -8.54289711e-01  7.26966500e-01\n  3.52831036e-01  4.57634151e-01 -5.92926860e-01  8.24759245e-01\n -2.87560463e-01  5.53761959e-01  3.12929928e-01 -4.94581968e-01\n -5.37321091e-01 -2.45177886e-03  1.32117712e+00 -5.23975372e-01\n -4.75924686e-02  9.63132083e-01 -8.91406298e-01 -6.23549879e-01\n -7.74316430e-01  3.56712967e-01  5.82896061e-02  4.28052694e-01\n  8.63736570e-01 -4.37477499e-01 -1.04036964e-01 -7.16086477e-02\n  5.43251932e-01  5.39894402e-01 -2.52641052e-01  8.66926014e-01\n -7.85793900e-01 -3.14137228e-02  5.22977829e-01  5.97360075e-01\n  4.29956257e-01 -5.71805596e-01 -8.79292190e-02  5.89223802e-01\n  2.35253543e-01 -8.45712349e-02  4.14992243e-01 -4.66246128e-01\n -1.88763991e-01 -4.69628364e-01  8.75726402e-01 -9.15217459e-01\n -5.43889962e-02 -4.94765520e-01  3.58265132e-01 -8.30292165e-01\n  2.48762831e-01 -3.56198430e-01  4.90912676e-01 -5.87132692e-01\n -1.03830564e+00 -1.00990590e-02 -4.60316241e-02  1.36138603e-01\n -8.98262799e-01 -3.09205741e-01 -4.44370002e-01  2.76466817e-01\n -5.56534529e-01  5.50741851e-01  6.79486334e-01  5.17105699e-01\n  3.75492454e-01  5.17375842e-02  1.70761418e+00  2.56500959e-01\n  3.07447851e-01 -3.89404535e-01  2.08888441e-01  1.03643084e+00\n  2.04365182e+00  1.34049863e-01  8.52496028e-01 -1.78581759e-01\n  8.42712045e-01  3.27148110e-01 -6.53240561e-01  6.34698346e-02\n -3.34141195e-01  6.67226374e-01 -1.00887723e-01  8.99221778e-01\n  2.99881727e-01 -4.62345123e-01  7.20473647e-01 -1.93504289e-01\n  9.45775136e-02 -3.76101762e-01 -3.22967917e-01  6.59069598e-01\n  2.22963184e-01 -1.75399616e-01 -8.37495863e-01  1.00077331e-01\n -3.73617798e-01  9.50465441e-01 -5.86955786e-01  6.61692679e-01\n -8.00054669e-02  3.05601746e-01 -6.01152666e-02 -4.91224676e-01\n -9.96583581e-01  4.56551641e-01  6.86183929e-01  2.21374020e-01\n -1.02833855e+00 -2.25046054e-01 -2.41466120e-01  3.63376915e-01\n  7.74190724e-01  3.96974415e-01  1.03491068e-01  2.84712613e-01\n -5.64759746e-02 -4.89223361e-01  6.67028308e-01  5.96706606e-02\n -1.35210201e-01  7.18082011e-01 -4.09648776e-01  5.64129889e-01\n -2.30834678e-01 -7.24414513e-02 -1.18764788e-01 -1.13455045e+00\n  2.41302088e-01  6.01901889e-01  3.66274476e-01  1.35066316e-01\n -7.44213939e-01 -1.29266651e-02  2.84042746e-01 -3.30905944e-01\n -1.70286953e+00  3.74553472e-01  1.14688766e+00 -5.34661412e-01\n -7.73651898e-01  2.16950364e-02  1.17445931e-01 -1.58537790e-01\n  9.60819200e-02 -2.41471604e-01  3.56923670e-01 -6.20839298e-01\n -6.49499178e-01 -6.69763029e-01 -1.33566856e+00  1.95651203e-01\n  6.71298623e-01 -3.49022776e-01  7.47888237e-02 -2.26617739e-01\n -7.10729420e-01  7.77184486e-01 -6.40001655e-01  2.35687271e-01\n  3.38204652e-01  6.05869703e-02  2.71302223e-01  4.10655767e-01\n -4.86579180e-01 -9.09849942e-01  4.14997041e-02  5.20738602e-01\n -5.78133106e-01  4.00491923e-01 -6.56833291e-01 -4.54952925e-01\n -1.33838221e-01  8.22437465e-01 -3.98991257e-01 -1.51118770e-01\n -4.88927066e-01  3.10369432e-01 -1.88420728e-01 -1.28472090e-01\n  2.01745018e-01  1.09617388e+00 -6.21888302e-02  1.12397969e-01\n -3.90916079e-01  4.73186880e-01 -1.56562358e-01 -4.74825084e-01\n  2.26498872e-01  1.78130120e-01  1.34452629e+00 -4.80906278e-01\n -5.85670888e-01 -5.35663784e-01  5.08426428e-01 -3.06744546e-01\n  1.10466027e+00 -7.57800460e-01  7.80436635e-01 -4.68789749e-02\n -8.54640082e-02 -4.52627212e-01 -6.03169084e-01  5.79498589e-01\n -6.04861140e-01  5.90094477e-02  1.10206760e-01 -7.72935867e-01\n -3.39990139e-01 -5.56292355e-01 -5.16087830e-01 -5.72875381e-01\n -1.99658409e-01  1.26410317e+00  3.81558418e-01  1.83379769e-01\n -3.97327319e-02  2.64213562e-01  5.84404059e-02 -9.13709521e-01\n -1.80046022e-01  3.83359551e-01  7.69044235e-02  7.39415169e-01\n  1.28220165e+00 -5.39288111e-02  3.98096442e-01 -8.76558572e-02\n -6.81687176e-01 -4.18166667e-01  9.83918846e-01  6.00164607e-02\n  2.18680725e-01  9.51031744e-01  1.57685757e-01 -3.81962061e-02\n -1.30933213e+00  6.39148474e-01 -4.28206652e-01  2.73711890e-01\n  1.10596108e+00 -8.27621698e-01  3.89935941e-01  1.81534648e-01\n -8.43207017e-02 -2.04210863e-01  8.16554844e-01  9.67112422e-01\n -5.19732237e-01  4.56609875e-01  4.95143175e-01  1.75380155e-01\n  1.51484323e+00  4.04764898e-02  2.62365609e-01  4.30100799e-01\n -7.71243811e-01  3.12832326e-01 -7.40505993e-01 -9.79898050e-02\n -2.88367808e-01  2.79668629e-01  4.84451093e-02 -1.66633964e-01\n  2.25440994e-01  5.96583784e-01 -2.26159811e-01 -8.32717359e-01\n -7.08402842e-02 -2.35361367e-01  1.08111851e-01  4.72920805e-01\n -2.26776242e-01 -2.65226722e-01 -1.88868389e-01 -5.04084587e-01\n -2.08020642e-01  3.46065670e-01 -1.94151610e-01 -3.80846918e-01\n -1.19105738e-03 -4.96504396e-01 -1.05390921e-01 -2.26809785e-01\n -7.00034797e-01  9.39388514e-01 -2.01228976e-01  3.38702947e-01\n  2.71463156e-01  2.25999668e-01 -1.16201930e-01  7.04777241e-01\n -2.91817822e-02 -8.11336279e-01  3.77503097e-01 -1.41779974e-01\n  2.00645670e-01  2.56473720e-01  9.08883512e-02  1.51835069e-01\n -1.65162876e-01 -3.01291764e-01  1.10262036e+00 -7.92834759e-01\n  2.92835712e-01 -8.09293315e-02  7.82630384e-01 -9.98498917e-01\n  1.28661364e-01 -4.91033979e-02 -6.86187968e-02 -9.71842945e-01\n  1.20848700e-01  6.35932863e-01 -5.38972139e-01  5.64780235e-01\n -9.10972804e-02 -5.50250590e-01 -1.30649805e+00 -4.10180956e-01\n -2.38874823e-01 -7.62189478e-02  5.94240963e-01 -5.34657300e-01\n  3.13290149e-01  1.15919791e-01 -7.21699893e-01 -5.78067243e-01\n -7.37414479e-01 -4.77331370e-01 -2.65058339e-01 -4.39013869e-01\n -7.96766102e-01  2.05836430e-01 -1.42877162e-01 -2.95661837e-01\n  1.23104855e-01 -7.39176989e-01  4.61443722e-01 -4.09616292e-01\n -4.61484581e-01 -1.11515060e-01  4.46875602e-01 -8.18143845e-01\n -4.14659142e-01  1.94793165e-01 -3.87672454e-01  5.10178685e-01\n  6.14539564e-01  3.46882194e-02  7.32795894e-01 -1.06363821e+00\n  4.66931373e-01 -1.18711740e-01  4.54459727e-01 -3.65012944e-01\n -1.04793298e+00  3.77365738e-01 -1.25949275e+00 -4.00626034e-01\n  3.99584919e-01  1.56412274e-02  4.60990041e-01  6.14052236e-01\n  7.39982605e-01 -2.02946275e-01 -1.29113659e-01 -1.03306735e+00\n  3.72929782e-01 -1.60022661e-01  3.94098312e-01  2.67248929e-01\n  7.47157693e-01  1.10336757e+00  3.52547653e-02 -8.20231557e-01\n -8.18689644e-01  4.60063279e-01  5.49008429e-01 -1.24482363e-01\n -1.22685421e+00 -6.93759501e-01  3.88978124e-01  3.75295997e-01\n  3.09917033e-01 -6.56082988e-01 -2.69876122e-01 -9.22898054e-02\n -5.52928984e-01 -9.43014622e-01 -7.95339763e-01 -5.00425458e-01\n  1.62331477e-01 -6.70694470e-01  5.01616001e-01 -7.85049200e-01\n -5.64363241e-01 -3.19728315e-01  8.14237952e-01 -1.23210363e-01\n  6.61505461e-01 -2.61826366e-01  4.97242212e-01 -2.15090901e-01\n  8.79249632e-01  8.07428733e-02 -6.67440891e-01 -7.63459444e-01\n  2.07390800e-01 -1.04776785e-01  1.35124624e-02  5.83016396e-01\n  8.72217834e-01 -1.04040436e-01  1.05825610e-01  6.25455558e-01\n -1.02982059e-01  7.66045928e-01 -1.87536731e-01 -8.71552825e-01\n  6.89225376e-01 -3.57242897e-02  9.97877836e-01 -4.82527196e-01\n -7.82041550e-01  4.00244743e-01  2.64972568e-01 -5.07957816e-01\n -3.68728578e-01 -3.07722509e-01 -1.06492877e-01 -3.90469223e-01\n  1.69916585e-01 -1.49148077e-01 -4.30978723e-02  5.67874432e-01\n -5.59220016e-01 -1.02177548e+00 -1.22716710e-01 -3.54350120e-01\n -9.91861597e-02  7.07105637e-01  4.06358451e-01  2.10047513e-01\n -9.87866104e-01 -5.24208605e-01 -2.01412141e-01  7.78591707e-02\n -1.42552543e+00 -5.15069142e-02 -8.12802136e-01 -6.01276934e-01\n  2.68316418e-02  7.13037789e-01 -9.91635144e-01  1.78121775e-01\n -6.76801741e-01  1.56392679e-01 -5.13733387e-01  2.47325018e-01\n  7.10288823e-01  9.55297112e-01 -7.06402898e-01 -4.14494604e-01\n -5.22064626e-01  1.56195730e-01 -2.26247817e-01 -6.13640845e-01\n -9.76201057e-01 -4.74890262e-01  3.33891124e-01 -5.38604073e-02\n -1.81267381e-01 -3.62777919e-01 -6.81638300e-01 -5.63845217e-01\n  2.61688560e-01 -2.95516908e-01  2.46619970e-01  2.84382463e-01\n -3.35768387e-02  6.61933497e-02 -6.32252634e-01  2.06360430e-01\n  2.23002911e-01 -8.48193541e-02 -2.62886107e-01  8.45430195e-01\n -4.51351106e-01 -7.19519973e-01 -3.07944238e-01  4.00172859e-01\n  2.89218813e-01 -1.06326208e-01 -3.93279374e-01 -1.49601743e-01\n  6.04414344e-01  5.37235260e-01  3.82010013e-01  3.63438487e-01\n  3.02257806e-01 -6.78882003e-01 -5.02695143e-01  7.02362042e-03\n -2.69220918e-01 -1.60517871e-01  4.56696510e-01 -9.06032771e-02\n  2.21122354e-02  3.37719589e-01  2.48262197e-01  2.20229059e-01\n -8.86991844e-02  7.47402072e-01 -3.65963168e-02 -1.15193762e-01\n  3.17596704e-01 -5.25495410e-01 -3.74695629e-01  2.24745229e-01\n  6.02736115e-01  1.26626146e+00 -4.93108965e-02 -2.76018381e-01\n  1.17985749e+00 -6.97112441e-01 -2.63088763e-01 -1.73198357e-02\n -6.72755361e-01 -6.86074421e-02  1.11066559e-02 -4.62552398e-01\n -7.85232484e-01  4.19237763e-01  1.39312148e-01  2.29290113e-01\n -2.17866138e-01  6.41886830e-01  3.09042037e-01  1.10296690e+00\n -1.39374718e-01  1.59248161e+00 -1.24756837e+00 -3.16264451e-01\n -2.06084445e-01 -3.52565020e-01 -1.69499874e-01  5.18989980e-01\n  3.59337300e-01  7.91091979e-01  5.68370342e-01  1.37546480e+00\n  2.37024218e-01 -4.55777168e-01 -4.35253024e-01 -5.32115221e-01\n  5.08462310e-01 -2.12287322e-01 -8.11885446e-02  5.64501047e-01\n -1.70933492e-02  2.87144154e-01 -8.08842704e-02 -1.80494010e-01\n  1.28008103e+00  5.41867971e-01  3.26264709e-01 -1.99276600e-02\n -3.07531059e-01  3.43770355e-01  3.12815547e-01 -9.25026834e-02\n  1.09257400e-01 -7.16505885e-01  4.53158498e-01  5.70055008e-01\n -6.41852260e-01  5.10925174e-01  4.97213826e-02 -4.04185921e-01\n  3.48244995e-01 -5.87722540e-01 -2.33382702e-01 -4.26697522e-01\n  3.49126220e-01  5.07951200e-01 -4.03851628e-01  9.85348150e-02\n  1.19381487e-01  1.52856335e-01 -3.33391279e-02  8.22692156e-01\n -5.06390810e-01 -1.37933239e-01 -2.91058391e-01 -3.65151584e-01\n -1.76834762e-01  2.82593846e-01  6.10232353e-01  7.02186584e-01\n -9.05360341e-01  6.44066334e-01 -1.02782655e+00 -1.04835129e+00\n  4.95953202e-01  6.48492992e-01 -8.87491763e-01 -4.26018715e-01\n  8.11349303e-02 -6.29935622e-01 -3.71665359e-01  1.46792293e+00\n  2.05731273e-01  5.12441695e-01  4.10982221e-02  5.09284914e-01\n -2.97518343e-01 -2.09964365e-01 -5.51083922e-01  3.89004797e-01\n -2.23524705e-01 -5.08062467e-02 -4.31098580e-01 -1.30277908e+00\n  4.46870290e-02 -1.21548742e-01  1.84199810e-01  3.20618182e-01\n  8.42146724e-02 -4.72341925e-01 -3.93728688e-02 -1.06013989e+00\n  3.91034633e-01  2.81308740e-01 -2.56520271e-01  6.84191048e-01\n  2.50207722e-01 -7.41171658e-01 -5.58685780e-01 -7.24922478e-01\n  4.73637581e-01  3.44741978e-02 -6.11791432e-01 -5.18139601e-01\n  2.76532263e-01  2.40035355e-01 -5.63965976e-01  1.95354939e-01\n -2.59247899e-01  3.32245290e-01  5.73658347e-01 -1.18522394e+00\n -9.20069590e-02  8.09138000e-01 -3.07874143e-01  1.80713192e-01\n  5.80456778e-02 -1.70672730e-01 -5.41300535e-01 -8.66689801e-01\n -1.01295292e+00 -7.33060539e-01 -1.35935113e-01 -9.94062364e-01\n -3.97049278e-01  2.34816343e-01  3.23970541e-02 -8.96917507e-02]\n\n"
    }
   ],
   "source": [
    "for sentence, embedding in zip(news_contents[0], sentence_embeddings):\n",
    "    print(\"Sentence:\", sentence)\n",
    "    print(\"Embedding:\", embedding)\n",
    "    print(\"\")"
   ]
  },
  {
   "cell_type": "code",
   "execution_count": 59,
   "metadata": {},
   "outputs": [
    {
     "output_type": "error",
     "ename": "ValueError",
     "evalue": "n_samples=1 should be >= n_clusters=5",
     "traceback": [
      "\u001b[0;31m---------------------------------------------------------------------------\u001b[0m",
      "\u001b[0;31mValueError\u001b[0m                                Traceback (most recent call last)",
      "\u001b[0;32m<ipython-input-59-ee2b7752c5e5>\u001b[0m in \u001b[0;36m<module>\u001b[0;34m\u001b[0m\n\u001b[1;32m      3\u001b[0m \u001b[0mnum_clusters\u001b[0m \u001b[0;34m=\u001b[0m \u001b[0;36m5\u001b[0m\u001b[0;34m\u001b[0m\u001b[0;34m\u001b[0m\u001b[0m\n\u001b[1;32m      4\u001b[0m \u001b[0mclustering_model\u001b[0m \u001b[0;34m=\u001b[0m \u001b[0mKMeans\u001b[0m\u001b[0;34m(\u001b[0m\u001b[0mn_clusters\u001b[0m\u001b[0;34m=\u001b[0m\u001b[0mnum_clusters\u001b[0m\u001b[0;34m)\u001b[0m\u001b[0;34m\u001b[0m\u001b[0;34m\u001b[0m\u001b[0m\n\u001b[0;32m----> 5\u001b[0;31m \u001b[0mclustering_model\u001b[0m\u001b[0;34m.\u001b[0m\u001b[0mfit\u001b[0m\u001b[0;34m(\u001b[0m\u001b[0msentence_embeddings\u001b[0m\u001b[0;34m)\u001b[0m\u001b[0;34m\u001b[0m\u001b[0;34m\u001b[0m\u001b[0m\n\u001b[0m\u001b[1;32m      6\u001b[0m \u001b[0mcluster_assignment\u001b[0m \u001b[0;34m=\u001b[0m \u001b[0mclustering_model\u001b[0m\u001b[0;34m.\u001b[0m\u001b[0mlabels_\u001b[0m\u001b[0;34m\u001b[0m\u001b[0;34m\u001b[0m\u001b[0m\n",
      "\u001b[0;32m~/opt/anaconda3/lib/python3.7/site-packages/sklearn/cluster/_kmeans.py\u001b[0m in \u001b[0;36mfit\u001b[0;34m(self, X, y, sample_weight)\u001b[0m\n\u001b[1;32m    861\u001b[0m         \u001b[0;32mif\u001b[0m \u001b[0m_num_samples\u001b[0m\u001b[0;34m(\u001b[0m\u001b[0mX\u001b[0m\u001b[0;34m)\u001b[0m \u001b[0;34m<\u001b[0m \u001b[0mself\u001b[0m\u001b[0;34m.\u001b[0m\u001b[0mn_clusters\u001b[0m\u001b[0;34m:\u001b[0m\u001b[0;34m\u001b[0m\u001b[0;34m\u001b[0m\u001b[0m\n\u001b[1;32m    862\u001b[0m             raise ValueError(\"n_samples=%d should be >= n_clusters=%d\" % (\n\u001b[0;32m--> 863\u001b[0;31m                 _num_samples(X), self.n_clusters))\n\u001b[0m\u001b[1;32m    864\u001b[0m \u001b[0;34m\u001b[0m\u001b[0m\n\u001b[1;32m    865\u001b[0m         \u001b[0mtol\u001b[0m \u001b[0;34m=\u001b[0m \u001b[0m_tolerance\u001b[0m\u001b[0;34m(\u001b[0m\u001b[0mX\u001b[0m\u001b[0;34m,\u001b[0m \u001b[0mself\u001b[0m\u001b[0;34m.\u001b[0m\u001b[0mtol\u001b[0m\u001b[0;34m)\u001b[0m\u001b[0;34m\u001b[0m\u001b[0;34m\u001b[0m\u001b[0m\n",
      "\u001b[0;31mValueError\u001b[0m: n_samples=1 should be >= n_clusters=5"
     ]
    }
   ],
   "source": [
    "from sklearn.cluster import KMeans\n",
    "\n",
    "num_clusters = 5\n",
    "clustering_model = KMeans(n_clusters=num_clusters)\n",
    "clustering_model.fit(sentence_embeddings)\n",
    "cluster_assignment = clustering_model.labels_"
   ]
  },
  {
   "cell_type": "code",
   "execution_count": null,
   "metadata": {},
   "outputs": [],
   "source": []
  }
 ],
 "metadata": {
  "language_info": {
   "codemirror_mode": {
    "name": "ipython",
    "version": 3
   },
   "file_extension": ".py",
   "mimetype": "text/x-python",
   "name": "python",
   "nbconvert_exporter": "python",
   "pygments_lexer": "ipython3",
   "version": 3
  },
  "orig_nbformat": 2,
  "kernelspec": {
   "name": "python_defaultSpec_1596589635836",
   "display_name": "Python 3.7.6 64-bit ('base': conda)"
  }
 },
 "nbformat": 4,
 "nbformat_minor": 2
}