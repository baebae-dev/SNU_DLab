{
 "cells": [
  {
   "cell_type": "code",
   "execution_count": 1,
   "metadata": {},
   "outputs": [],
   "source": [
    "import pandas as pd  \n",
    "from tqdm import tqdm\n",
    "import numpy as np\n",
    "\n",
    "import bs4\n",
    "from selenium.webdriver.chrome.options import Options\n",
    "from selenium import webdriver\n",
    "import pandas as pd \n",
    "from tqdm import tqdm\n",
    "from random import *\n",
    "import time \n",
    "import pandas as pd \n",
    "import requests\n",
    "\n",
    "from bs4 import BeautifulSoup\n",
    "import json\n",
    "import re\n",
    "import sys"
   ]
  },
  {
   "cell_type": "markdown",
   "metadata": {},
   "source": [
    "## Import DATA"
   ]
  },
  {
   "cell_type": "code",
   "execution_count": 2,
   "metadata": {},
   "outputs": [],
   "source": [
    "demo_dev = pd.read_csv('/Users/baeyuna/Documents/SNU_DLab/Data/MINDdemo_dev/news.tsv', delimiter='\\t', header=None)\n",
    "demo_tr = pd.read_csv('/Users/baeyuna/Documents/SNU_DLab/Data/MINDdemo_train/news.tsv', delimiter='\\t', header=None)\n",
    "large_dev = pd.read_csv('/Users/baeyuna/Documents/SNU_DLab/Data/MINDlarge_dev/news.tsv', delimiter='\\t', header=None)\n",
    "large_tr = pd.read_csv('/Users/baeyuna/Documents/SNU_DLab/Data/MINDlarge_train/news.tsv', delimiter='\\t', header=None)"
   ]
  },
  {
   "cell_type": "code",
   "execution_count": 213,
   "metadata": {},
   "outputs": [
    {
     "name": "stdout",
     "output_type": "stream",
     "text": [
      "demo_dev 데이터: (18723, 8)\n",
      "demo_tr 데이터: (26740, 8)\n"
     ]
    }
   ],
   "source": [
    "print('demo_dev 데이터:', demo_dev.shape)\n",
    "print('demo_tr 데이터:', demo_tr.shape)"
   ]
  },
  {
   "cell_type": "markdown",
   "metadata": {},
   "source": [
    "## Util Functions"
   ]
  },
  {
   "cell_type": "code",
   "execution_count": 161,
   "metadata": {},
   "outputs": [],
   "source": [
    "def nurak_data(df, nid_lst):\n",
    "    dt = df.loc[df[0].isin(nid_lst)]\n",
    "    dt_urls = dt[5].tolist()\n",
    "    return dt_urls, dt"
   ]
  },
  {
   "cell_type": "code",
   "execution_count": 162,
   "metadata": {},
   "outputs": [],
   "source": [
    "def date_crawler(nurak_url_lst):\n",
    "    # Don't open browser \n",
    "    options = Options()\n",
    "    options.add_argument(\"--headless\")\n",
    "\n",
    "    unparseable_urls = [] \n",
    "    dates_lst = []\n",
    "    urls_lst = []\n",
    "\n",
    "    # 링크 전처리 \n",
    "    urls = []\n",
    "    for url in nurak_url_lst:\n",
    "        stripped_url = url.replace('\"', '').strip()\n",
    "        urls.append(stripped_url)\n",
    "\n",
    "    # 크롤링 \n",
    "    print('crawling date start.')\n",
    "    start_time = int(time.time())\n",
    "\n",
    "    # start web browser \n",
    "    chrome_browser = webdriver.Chrome(executable_path='/Users/baeyuna/Documents/chromedriver', options=options)\n",
    "    with chrome_browser as browser:\n",
    "        print(\"bottleneck .... Program will open chrome ... takes ages ...\")\n",
    "        for url in tqdm(urls):\n",
    "            try:\n",
    "                chrome_browser.get(url)\n",
    "                try:\n",
    "                    date_element = chrome_browser.find_elements_by_tag_name('time')[0]\n",
    "                    date = date_element.get_attribute('datetime')\n",
    "                    dates_lst.append(date)\n",
    "                    print(f\"Yeee!!! date: {date}\") \n",
    "\n",
    "                    urls_lst.append(url)\n",
    "                except:\n",
    "                    print('noooooo!!! parsing {}'.format(url))\n",
    "                    dates_lst.append(None)\n",
    "                    urls_lst.append(url)\n",
    "                    unparseable_urls.append(url)\n",
    "            except:\n",
    "                print('noooooo!!! parsing {}'.format(url))\n",
    "                dates_lst.append(None)\n",
    "                urls_lst.append(url)\n",
    "                unparseable_urls.append(url)\n",
    "        # close web browser to close session and avoid socket errors\n",
    "        browser.quit()\n",
    "\n",
    "    print('-------Seconds: %s--------' % (time.time() - start_time))\n",
    "    df = pd.DataFrame({'date':dates_lst, 'url': urls_lst})\n",
    "    print(df.shape)\n",
    "    return df"
   ]
  },
  {
   "cell_type": "code",
   "execution_count": 163,
   "metadata": {},
   "outputs": [],
   "source": [
    "def crawler(nurak_url_list):\n",
    "    # 추가 수집 데이터 \n",
    "    titles = []   \n",
    "    contents = []\n",
    "    images = [] \n",
    "\n",
    "    print('crawling start.')\n",
    "    start_time = int(time.time())\n",
    "\n",
    "    # 링크 전처리 \n",
    "    urls = []\n",
    "    for url in nurak_url_list:\n",
    "        stripped_url = url.replace('\"', '').strip()\n",
    "        urls.append(stripped_url)\n",
    "\n",
    "    url_except =[]\n",
    "    num = 0\n",
    "    for url in tqdm(urls):\n",
    "        num += 1\n",
    "        try:\n",
    "            req = requests.get(url)\n",
    "            html = req.text\n",
    "            soup = BeautifulSoup(html, 'html.parser')\n",
    "\n",
    "            # title\n",
    "            if soup.find('h1').text.strip() is not None:\n",
    "                title = soup.find('h1').text.strip()\n",
    "                titles.append(title)\n",
    "            elif soup.find('header').text.strip() is not None:\n",
    "                title = soup.find('header').text.strip()\n",
    "                titles.append(title)\n",
    "            else:\n",
    "                titles.append(None)\n",
    "            print('title :{}'.format(title))\n",
    "\n",
    "            # content\n",
    "            if soup.find_all('p') is not None:\n",
    "                content = []\n",
    "                for el in soup.find_all('p'):\n",
    "                    content.append(el.get_text()) \n",
    "                contents.append(' '.join(content))\n",
    "            elif soup.find('h2').text.strip() is not None:\n",
    "                content = soup.find('h2').text.strip()\n",
    "                contents.append(content)\n",
    "            else:\n",
    "                contents.append(url)\n",
    "\n",
    "            # image\n",
    "            try:\n",
    "                image = soup.find('img').get('src')\n",
    "                images.append(image)\n",
    "            except:\n",
    "                images.append(None)\n",
    "\n",
    "\n",
    "        except:\n",
    "            print('nooooooo!!!! parsing url: {}'.format(url))\n",
    "            url_except.append(url)\n",
    "\n",
    "        # 길이 맞추기 \n",
    "        if len(titles) != num:\n",
    "            titles.append(None)\n",
    "        if len(contents) != num:\n",
    "            contents.append(None)\n",
    "        if len(images) != num:\n",
    "            images.append(None)\n",
    "            \n",
    "    print('-------Seconds: %s--------' % (time.time() - start_time))\n",
    "    print(len(dt_urls))\n",
    "    print(len(titles))\n",
    "    print(len(contents))\n",
    "    print(len(images))\n",
    "\n",
    "    df2 = pd.DataFrame({'url' : dt_urls,\n",
    "                    'Title':titles,\n",
    "                    'Content': contents,\n",
    "                    'Image': images})\n",
    "\n",
    "    # 주소 이전시 \n",
    "    for i in range(len(df2)):\n",
    "        if df2.loc[i, 'Title'] == 'Whoops!':\n",
    "            df2.loc[i, 'Title'] = np.nan \n",
    "            df2.loc[i, 'Content'] = np.nan \n",
    "            df2.loc[i, 'Image'] = np.nan \n",
    "\n",
    "    print(df2.shape)\n",
    "    return df2"
   ]
  },
  {
   "cell_type": "code",
   "execution_count": 176,
   "metadata": {},
   "outputs": [],
   "source": [
    "def after_processing(df_date, df2, dt):\n",
    "    \n",
    "    # 날짜, 제목, 내용, 이미지 합치기 \n",
    "    demo_tr_cr = pd.merge(df_date, df2, on='url')\n",
    "    print('누락 데이터 수집한 shape')\n",
    "    print(demo_tr_cr.shape)\n",
    "    \n",
    "    # 칼럼 명 맞추고 \n",
    "    demo_tr_cr = demo_tr_cr.rename(columns={'url':5})\n",
    "    \n",
    "    dt = pd.merge(demo_tr_cr, dt, on=5)\n",
    "    print('누락 데이터 수집한 후 칼럼 증가!! shape')\n",
    "    print(dt.shape)\n",
    "    \n",
    "\n",
    "    return dt"
   ]
  },
  {
   "cell_type": "code",
   "execution_count": 165,
   "metadata": {},
   "outputs": [],
   "source": [
    "def check_nurak_num(data, integrated_df_path):\n",
    "    print('원래 데이터 demo_tr:', data.shape)\n",
    "\n",
    "    integrated_df = pd.read_csv('{}.csv'.format(integrated_df_path))\n",
    "    print('수집된 데이터 붙인 demo_tr:', integrated_df.shape)\n",
    "\n",
    "    print('-'*40)\n",
    "    print('누락 데이터 수:', data.shape[0] - integrated_df.shape[0])\n",
    "    return "
   ]
  },
  {
   "cell_type": "code",
   "execution_count": 166,
   "metadata": {},
   "outputs": [],
   "source": [
    "def final(data, dt, integrated_df_path):\n",
    "    print('원래 데이터 demo_tr:', data.shape)\n",
    "\n",
    "    integrated_df = pd.read_csv('{}.csv'.format(integrated_df_path))\n",
    "    dt = dt.rename(columns={5:'5'})\n",
    "    dt = dt.rename(columns={0:'0'})\n",
    "    dt = dt.rename(columns={1:'1'})\n",
    "    dt = dt.rename(columns={2:'2'})\n",
    "    dt = dt.rename(columns={3:'3'})\n",
    "    dt = dt.rename(columns={4:'4'})\n",
    "    dt = dt.rename(columns={6:'6'})\n",
    "    dt = dt.rename(columns={7:'7'})\n",
    "    dt = dt.rename(columns={'date':'Date'})\n",
    "    dt = dt[integrated_df.columns.tolist()]\n",
    "    \n",
    "    df = pd.concat([dt, integrated_df])\n",
    "    print('추가 수집 완료 최종본:', df.shape)\n",
    "    return df"
   ]
  },
  {
   "cell_type": "code",
   "execution_count": 167,
   "metadata": {},
   "outputs": [],
   "source": [
    "def save_df(dt, save_path):\n",
    "    dt.to_csv('{}/integrated_news.csv'.format(save_path), index=False)\n",
    "    print('save {}/integrated_news.csv'.format(save_path))\n",
    "    return "
   ]
  },
  {
   "cell_type": "code",
   "execution_count": 168,
   "metadata": {
    "tags": []
   },
   "outputs": [],
   "source": [
    "def crawling_ratio(dt, column_name):\n",
    "    print('전체 {} 행 수:'.format(column_name) , dt[column_name].shape[0])\n",
    "    print('nan인 {} 행 수:'.format(column_name), dt.loc[dt[column_name].isnull()].shape[0])\n",
    "    print('-'*30)\n",
    "\n",
    "    print('{} 크롤링 가능 비율:'.format(column_name), 100 - (dt.loc[dt[column_name].isnull()].shape[0] / dt[column_name].shape[0])*100)"
   ]
  },
  {
   "cell_type": "markdown",
   "metadata": {},
   "source": [
    "# 실행"
   ]
  },
  {
   "cell_type": "markdown",
   "metadata": {},
   "source": [
    "## 1. demo_tr"
   ]
  },
  {
   "cell_type": "code",
   "execution_count": 177,
   "metadata": {
    "tags": []
   },
   "outputs": [
    {
     "name": "stdout",
     "output_type": "stream",
     "text": [
      "----누락 url list-----\n",
      "[\"https://www.msn.com/en-us/news/newspolitics/we'd-arrest-trump-for-fifth-ave-shooting,-nyc-mayor-says/ar-AAJin8v?ocid=chopendata\", \"https://www.msn.com/en-us/tv/tv-celebrity/sharon-osbourne-admits-she-'can-hardly-feel'-her-mouth-after-new-facelift/ar-AAJe15t?ocid=chopendata\"]\n",
      "\n",
      "----누락 원본 데이터-----\n"
     ]
    },
    {
     "data": {
      "text/html": [
       "<div>\n",
       "<style scoped>\n",
       "    .dataframe tbody tr th:only-of-type {\n",
       "        vertical-align: middle;\n",
       "    }\n",
       "\n",
       "    .dataframe tbody tr th {\n",
       "        vertical-align: top;\n",
       "    }\n",
       "\n",
       "    .dataframe thead th {\n",
       "        text-align: right;\n",
       "    }\n",
       "</style>\n",
       "<table border=\"1\" class=\"dataframe\">\n",
       "  <thead>\n",
       "    <tr style=\"text-align: right;\">\n",
       "      <th></th>\n",
       "      <th>0</th>\n",
       "      <th>1</th>\n",
       "      <th>2</th>\n",
       "      <th>3</th>\n",
       "      <th>4</th>\n",
       "      <th>5</th>\n",
       "      <th>6</th>\n",
       "      <th>7</th>\n",
       "    </tr>\n",
       "  </thead>\n",
       "  <tbody>\n",
       "    <tr>\n",
       "      <th>8751</th>\n",
       "      <td>N22921</td>\n",
       "      <td>news</td>\n",
       "      <td>newspolitics</td>\n",
       "      <td>We'd Arrest Trump For Fifth Ave Shooting, NYC ...</td>\n",
       "      <td>NYPD cops would put President Donald Trump in ...</td>\n",
       "      <td>https://www.msn.com/en-us/news/newspolitics/we...</td>\n",
       "      <td>[{\"Label\": \"Fifth Avenue\", \"Type\": \"S\", \"Wikid...</td>\n",
       "      <td>[{\"Label\": \"Fifth Avenue\", \"Type\": \"S\", \"Wikid...</td>\n",
       "    </tr>\n",
       "    <tr>\n",
       "      <th>12489</th>\n",
       "      <td>N3052</td>\n",
       "      <td>tv</td>\n",
       "      <td>tv-celebrity</td>\n",
       "      <td>Sharon Osbourne Admits She 'Can Hardly Feel' H...</td>\n",
       "      <td>Sharon Osbourne Admits She 'Can Hardly Feel' M...</td>\n",
       "      <td>https://www.msn.com/en-us/tv/tv-celebrity/shar...</td>\n",
       "      <td>[{\"Label\": \"Sharon Osbourne\", \"Type\": \"P\", \"Wi...</td>\n",
       "      <td>[{\"Label\": \"Sharon Osbourne\", \"Type\": \"P\", \"Wi...</td>\n",
       "    </tr>\n",
       "  </tbody>\n",
       "</table>\n",
       "</div>"
      ],
      "text/plain": [
       "            0     1             2  \\\n",
       "8751   N22921  news  newspolitics   \n",
       "12489   N3052    tv  tv-celebrity   \n",
       "\n",
       "                                                       3  \\\n",
       "8751   We'd Arrest Trump For Fifth Ave Shooting, NYC ...   \n",
       "12489  Sharon Osbourne Admits She 'Can Hardly Feel' H...   \n",
       "\n",
       "                                                       4  \\\n",
       "8751   NYPD cops would put President Donald Trump in ...   \n",
       "12489  Sharon Osbourne Admits She 'Can Hardly Feel' M...   \n",
       "\n",
       "                                                       5  \\\n",
       "8751   https://www.msn.com/en-us/news/newspolitics/we...   \n",
       "12489  https://www.msn.com/en-us/tv/tv-celebrity/shar...   \n",
       "\n",
       "                                                       6  \\\n",
       "8751   [{\"Label\": \"Fifth Avenue\", \"Type\": \"S\", \"Wikid...   \n",
       "12489  [{\"Label\": \"Sharon Osbourne\", \"Type\": \"P\", \"Wi...   \n",
       "\n",
       "                                                       7  \n",
       "8751   [{\"Label\": \"Fifth Avenue\", \"Type\": \"S\", \"Wikid...  \n",
       "12489  [{\"Label\": \"Sharon Osbourne\", \"Type\": \"P\", \"Wi...  "
      ]
     },
     "execution_count": 177,
     "metadata": {},
     "output_type": "execute_result"
    }
   ],
   "source": [
    "dt_urls, dt = nurak_data(demo_tr, ['N22921', 'N3052'])\n",
    "\n",
    "print('----누락 url list-----')\n",
    "print(dt_urls)\n",
    "\n",
    "print()\n",
    "print('----누락 원본 데이터-----')\n",
    "dt "
   ]
  },
  {
   "cell_type": "markdown",
   "metadata": {},
   "source": [
    " 날짜 수집 "
   ]
  },
  {
   "cell_type": "code",
   "execution_count": 171,
   "metadata": {
    "tags": []
   },
   "outputs": [
    {
     "name": "stdout",
     "output_type": "stream",
     "text": [
      "crawling date start.\n"
     ]
    },
    {
     "name": "stderr",
     "output_type": "stream",
     "text": [
      "\r",
      "  0%|          | 0/2 [00:00<?, ?it/s]"
     ]
    },
    {
     "name": "stdout",
     "output_type": "stream",
     "text": [
      "bottleneck .... Program will open chrome ... takes ages ...\n"
     ]
    },
    {
     "name": "stderr",
     "output_type": "stream",
     "text": [
      "\r",
      " 50%|█████     | 1/2 [00:01<00:01,  1.87s/it]"
     ]
    },
    {
     "name": "stdout",
     "output_type": "stream",
     "text": [
      "Yeee!!! date: 2019-10-24T18:20:00.000Z\n"
     ]
    },
    {
     "name": "stderr",
     "output_type": "stream",
     "text": [
      "100%|██████████| 2/2 [00:03<00:00,  1.77s/it]"
     ]
    },
    {
     "name": "stdout",
     "output_type": "stream",
     "text": [
      "Yeee!!! date: 2019-10-23T13:01:53.000Z\n",
      "-------Seconds: 6.142351865768433--------\n",
      "(2, 2)\n"
     ]
    },
    {
     "name": "stderr",
     "output_type": "stream",
     "text": [
      "\n"
     ]
    },
    {
     "data": {
      "text/html": [
       "<div>\n",
       "<style scoped>\n",
       "    .dataframe tbody tr th:only-of-type {\n",
       "        vertical-align: middle;\n",
       "    }\n",
       "\n",
       "    .dataframe tbody tr th {\n",
       "        vertical-align: top;\n",
       "    }\n",
       "\n",
       "    .dataframe thead th {\n",
       "        text-align: right;\n",
       "    }\n",
       "</style>\n",
       "<table border=\"1\" class=\"dataframe\">\n",
       "  <thead>\n",
       "    <tr style=\"text-align: right;\">\n",
       "      <th></th>\n",
       "      <th>date</th>\n",
       "      <th>url</th>\n",
       "    </tr>\n",
       "  </thead>\n",
       "  <tbody>\n",
       "    <tr>\n",
       "      <th>0</th>\n",
       "      <td>2019-10-24T18:20:00.000Z</td>\n",
       "      <td>https://www.msn.com/en-us/news/newspolitics/we...</td>\n",
       "    </tr>\n",
       "    <tr>\n",
       "      <th>1</th>\n",
       "      <td>2019-10-23T13:01:53.000Z</td>\n",
       "      <td>https://www.msn.com/en-us/tv/tv-celebrity/shar...</td>\n",
       "    </tr>\n",
       "  </tbody>\n",
       "</table>\n",
       "</div>"
      ],
      "text/plain": [
       "                       date                                                url\n",
       "0  2019-10-24T18:20:00.000Z  https://www.msn.com/en-us/news/newspolitics/we...\n",
       "1  2019-10-23T13:01:53.000Z  https://www.msn.com/en-us/tv/tv-celebrity/shar..."
      ]
     },
     "execution_count": 171,
     "metadata": {},
     "output_type": "execute_result"
    }
   ],
   "source": [
    "df_date = date_crawler(dt_urls)\n",
    "df_date"
   ]
  },
  {
   "cell_type": "markdown",
   "metadata": {},
   "source": [
    "이미지, 제목, 컨텐츠"
   ]
  },
  {
   "cell_type": "code",
   "execution_count": 172,
   "metadata": {
    "tags": []
   },
   "outputs": [
    {
     "name": "stderr",
     "output_type": "stream",
     "text": [
      "\r",
      "  0%|          | 0/2 [00:00<?, ?it/s]"
     ]
    },
    {
     "name": "stdout",
     "output_type": "stream",
     "text": [
      "crawling start.\n"
     ]
    },
    {
     "name": "stderr",
     "output_type": "stream",
     "text": [
      "\r",
      " 50%|█████     | 1/2 [00:00<00:00,  2.30it/s]"
     ]
    },
    {
     "name": "stdout",
     "output_type": "stream",
     "text": [
      "title :We'd Arrest Trump For Fifth Ave Shooting, NYC Mayor Says\n"
     ]
    },
    {
     "name": "stderr",
     "output_type": "stream",
     "text": [
      "100%|██████████| 2/2 [00:00<00:00,  2.33it/s]"
     ]
    },
    {
     "name": "stdout",
     "output_type": "stream",
     "text": [
      "title :Sharon Osbourne Admits She 'Can Hardly Feel' Her Mouth After New Facelift\n",
      "-------Seconds: 1.0142531394958496--------\n",
      "2\n",
      "2\n",
      "2\n",
      "2\n",
      "(2, 4)\n"
     ]
    },
    {
     "name": "stderr",
     "output_type": "stream",
     "text": [
      "\n"
     ]
    },
    {
     "data": {
      "text/html": [
       "<div>\n",
       "<style scoped>\n",
       "    .dataframe tbody tr th:only-of-type {\n",
       "        vertical-align: middle;\n",
       "    }\n",
       "\n",
       "    .dataframe tbody tr th {\n",
       "        vertical-align: top;\n",
       "    }\n",
       "\n",
       "    .dataframe thead th {\n",
       "        text-align: right;\n",
       "    }\n",
       "</style>\n",
       "<table border=\"1\" class=\"dataframe\">\n",
       "  <thead>\n",
       "    <tr style=\"text-align: right;\">\n",
       "      <th></th>\n",
       "      <th>url</th>\n",
       "      <th>Title</th>\n",
       "      <th>Content</th>\n",
       "      <th>Image</th>\n",
       "    </tr>\n",
       "  </thead>\n",
       "  <tbody>\n",
       "    <tr>\n",
       "      <th>0</th>\n",
       "      <td>https://www.msn.com/en-us/news/newspolitics/we...</td>\n",
       "      <td>We'd Arrest Trump For Fifth Ave Shooting, NYC ...</td>\n",
       "      <td>NEW YORK — He might give up his freedom even i...</td>\n",
       "      <td>//static-entertainment-eas-s-msn-com.akamaized...</td>\n",
       "    </tr>\n",
       "    <tr>\n",
       "      <th>1</th>\n",
       "      <td>https://www.msn.com/en-us/tv/tv-celebrity/shar...</td>\n",
       "      <td>Sharon Osbourne Admits She 'Can Hardly Feel' H...</td>\n",
       "      <td>Sharon Osbourne isn’t afraid to speak candidly...</td>\n",
       "      <td>//static-entertainment-eas-s-msn-com.akamaized...</td>\n",
       "    </tr>\n",
       "  </tbody>\n",
       "</table>\n",
       "</div>"
      ],
      "text/plain": [
       "                                                 url  \\\n",
       "0  https://www.msn.com/en-us/news/newspolitics/we...   \n",
       "1  https://www.msn.com/en-us/tv/tv-celebrity/shar...   \n",
       "\n",
       "                                               Title  \\\n",
       "0  We'd Arrest Trump For Fifth Ave Shooting, NYC ...   \n",
       "1  Sharon Osbourne Admits She 'Can Hardly Feel' H...   \n",
       "\n",
       "                                             Content  \\\n",
       "0  NEW YORK — He might give up his freedom even i...   \n",
       "1  Sharon Osbourne isn’t afraid to speak candidly...   \n",
       "\n",
       "                                               Image  \n",
       "0  //static-entertainment-eas-s-msn-com.akamaized...  \n",
       "1  //static-entertainment-eas-s-msn-com.akamaized...  "
      ]
     },
     "execution_count": 172,
     "metadata": {},
     "output_type": "execute_result"
    }
   ],
   "source": [
    "df2 = crawler(dt_urls)\n",
    "df2"
   ]
  },
  {
   "cell_type": "code",
   "execution_count": 178,
   "metadata": {
    "tags": []
   },
   "outputs": [
    {
     "name": "stdout",
     "output_type": "stream",
     "text": [
      "누락 데이터 수집한 shape\n",
      "(2, 5)\n",
      "누락 데이터 수집한 후 칼럼 증가!! shape\n",
      "(2, 12)\n"
     ]
    },
    {
     "data": {
      "text/html": [
       "<div>\n",
       "<style scoped>\n",
       "    .dataframe tbody tr th:only-of-type {\n",
       "        vertical-align: middle;\n",
       "    }\n",
       "\n",
       "    .dataframe tbody tr th {\n",
       "        vertical-align: top;\n",
       "    }\n",
       "\n",
       "    .dataframe thead th {\n",
       "        text-align: right;\n",
       "    }\n",
       "</style>\n",
       "<table border=\"1\" class=\"dataframe\">\n",
       "  <thead>\n",
       "    <tr style=\"text-align: right;\">\n",
       "      <th></th>\n",
       "      <th>date</th>\n",
       "      <th>5</th>\n",
       "      <th>Title</th>\n",
       "      <th>Content</th>\n",
       "      <th>Image</th>\n",
       "      <th>0</th>\n",
       "      <th>1</th>\n",
       "      <th>2</th>\n",
       "      <th>3</th>\n",
       "      <th>4</th>\n",
       "      <th>6</th>\n",
       "      <th>7</th>\n",
       "    </tr>\n",
       "  </thead>\n",
       "  <tbody>\n",
       "    <tr>\n",
       "      <th>0</th>\n",
       "      <td>2019-10-24T18:20:00.000Z</td>\n",
       "      <td>https://www.msn.com/en-us/news/newspolitics/we...</td>\n",
       "      <td>We'd Arrest Trump For Fifth Ave Shooting, NYC ...</td>\n",
       "      <td>NEW YORK — He might give up his freedom even i...</td>\n",
       "      <td>//static-entertainment-eas-s-msn-com.akamaized...</td>\n",
       "      <td>N22921</td>\n",
       "      <td>news</td>\n",
       "      <td>newspolitics</td>\n",
       "      <td>We'd Arrest Trump For Fifth Ave Shooting, NYC ...</td>\n",
       "      <td>NYPD cops would put President Donald Trump in ...</td>\n",
       "      <td>[{\"Label\": \"Fifth Avenue\", \"Type\": \"S\", \"Wikid...</td>\n",
       "      <td>[{\"Label\": \"Fifth Avenue\", \"Type\": \"S\", \"Wikid...</td>\n",
       "    </tr>\n",
       "    <tr>\n",
       "      <th>1</th>\n",
       "      <td>2019-10-23T13:01:53.000Z</td>\n",
       "      <td>https://www.msn.com/en-us/tv/tv-celebrity/shar...</td>\n",
       "      <td>Sharon Osbourne Admits She 'Can Hardly Feel' H...</td>\n",
       "      <td>Sharon Osbourne isn’t afraid to speak candidly...</td>\n",
       "      <td>//static-entertainment-eas-s-msn-com.akamaized...</td>\n",
       "      <td>N3052</td>\n",
       "      <td>tv</td>\n",
       "      <td>tv-celebrity</td>\n",
       "      <td>Sharon Osbourne Admits She 'Can Hardly Feel' H...</td>\n",
       "      <td>Sharon Osbourne Admits She 'Can Hardly Feel' M...</td>\n",
       "      <td>[{\"Label\": \"Sharon Osbourne\", \"Type\": \"P\", \"Wi...</td>\n",
       "      <td>[{\"Label\": \"Sharon Osbourne\", \"Type\": \"P\", \"Wi...</td>\n",
       "    </tr>\n",
       "  </tbody>\n",
       "</table>\n",
       "</div>"
      ],
      "text/plain": [
       "                       date  \\\n",
       "0  2019-10-24T18:20:00.000Z   \n",
       "1  2019-10-23T13:01:53.000Z   \n",
       "\n",
       "                                                   5  \\\n",
       "0  https://www.msn.com/en-us/news/newspolitics/we...   \n",
       "1  https://www.msn.com/en-us/tv/tv-celebrity/shar...   \n",
       "\n",
       "                                               Title  \\\n",
       "0  We'd Arrest Trump For Fifth Ave Shooting, NYC ...   \n",
       "1  Sharon Osbourne Admits She 'Can Hardly Feel' H...   \n",
       "\n",
       "                                             Content  \\\n",
       "0  NEW YORK — He might give up his freedom even i...   \n",
       "1  Sharon Osbourne isn’t afraid to speak candidly...   \n",
       "\n",
       "                                               Image       0     1  \\\n",
       "0  //static-entertainment-eas-s-msn-com.akamaized...  N22921  news   \n",
       "1  //static-entertainment-eas-s-msn-com.akamaized...   N3052    tv   \n",
       "\n",
       "              2                                                  3  \\\n",
       "0  newspolitics  We'd Arrest Trump For Fifth Ave Shooting, NYC ...   \n",
       "1  tv-celebrity  Sharon Osbourne Admits She 'Can Hardly Feel' H...   \n",
       "\n",
       "                                                   4  \\\n",
       "0  NYPD cops would put President Donald Trump in ...   \n",
       "1  Sharon Osbourne Admits She 'Can Hardly Feel' M...   \n",
       "\n",
       "                                                   6  \\\n",
       "0  [{\"Label\": \"Fifth Avenue\", \"Type\": \"S\", \"Wikid...   \n",
       "1  [{\"Label\": \"Sharon Osbourne\", \"Type\": \"P\", \"Wi...   \n",
       "\n",
       "                                                   7  \n",
       "0  [{\"Label\": \"Fifth Avenue\", \"Type\": \"S\", \"Wikid...  \n",
       "1  [{\"Label\": \"Sharon Osbourne\", \"Type\": \"P\", \"Wi...  "
      ]
     },
     "execution_count": 178,
     "metadata": {},
     "output_type": "execute_result"
    }
   ],
   "source": [
    "dt = after_processing(df_date, df2, dt)\n",
    "dt"
   ]
  },
  {
   "cell_type": "code",
   "execution_count": 179,
   "metadata": {
    "tags": []
   },
   "outputs": [
    {
     "name": "stdout",
     "output_type": "stream",
     "text": [
      "원래 데이터 demo_tr: (26740, 8)\n",
      "수집된 데이터 붙인 demo_tr: (26738, 12)\n",
      "----------------------------------------\n",
      "누락 데이터 수: 2\n"
     ]
    }
   ],
   "source": [
    "check_nurak_num(demo_tr, '/Users/baeyuna/Documents/SNU_DLab/Data/demo_tr/integrated_news')"
   ]
  },
  {
   "cell_type": "code",
   "execution_count": 180,
   "metadata": {
    "tags": []
   },
   "outputs": [
    {
     "name": "stdout",
     "output_type": "stream",
     "text": [
      "원래 데이터 demo_tr: (26740, 8)\n",
      "추가 수집 완료 최종본: (26740, 12)\n"
     ]
    },
    {
     "data": {
      "text/html": [
       "<div>\n",
       "<style scoped>\n",
       "    .dataframe tbody tr th:only-of-type {\n",
       "        vertical-align: middle;\n",
       "    }\n",
       "\n",
       "    .dataframe tbody tr th {\n",
       "        vertical-align: top;\n",
       "    }\n",
       "\n",
       "    .dataframe thead th {\n",
       "        text-align: right;\n",
       "    }\n",
       "</style>\n",
       "<table border=\"1\" class=\"dataframe\">\n",
       "  <thead>\n",
       "    <tr style=\"text-align: right;\">\n",
       "      <th></th>\n",
       "      <th>5</th>\n",
       "      <th>Title</th>\n",
       "      <th>Date</th>\n",
       "      <th>Image</th>\n",
       "      <th>Content</th>\n",
       "      <th>0</th>\n",
       "      <th>1</th>\n",
       "      <th>2</th>\n",
       "      <th>3</th>\n",
       "      <th>4</th>\n",
       "      <th>6</th>\n",
       "      <th>7</th>\n",
       "    </tr>\n",
       "  </thead>\n",
       "  <tbody>\n",
       "    <tr>\n",
       "      <th>0</th>\n",
       "      <td>https://www.msn.com/en-us/news/newspolitics/we...</td>\n",
       "      <td>We'd Arrest Trump For Fifth Ave Shooting, NYC ...</td>\n",
       "      <td>2019-10-24T18:20:00.000Z</td>\n",
       "      <td>//static-entertainment-eas-s-msn-com.akamaized...</td>\n",
       "      <td>NEW YORK — He might give up his freedom even i...</td>\n",
       "      <td>N22921</td>\n",
       "      <td>news</td>\n",
       "      <td>newspolitics</td>\n",
       "      <td>We'd Arrest Trump For Fifth Ave Shooting, NYC ...</td>\n",
       "      <td>NYPD cops would put President Donald Trump in ...</td>\n",
       "      <td>[{\"Label\": \"Fifth Avenue\", \"Type\": \"S\", \"Wikid...</td>\n",
       "      <td>[{\"Label\": \"Fifth Avenue\", \"Type\": \"S\", \"Wikid...</td>\n",
       "    </tr>\n",
       "    <tr>\n",
       "      <th>1</th>\n",
       "      <td>https://www.msn.com/en-us/tv/tv-celebrity/shar...</td>\n",
       "      <td>Sharon Osbourne Admits She 'Can Hardly Feel' H...</td>\n",
       "      <td>2019-10-23T13:01:53.000Z</td>\n",
       "      <td>//static-entertainment-eas-s-msn-com.akamaized...</td>\n",
       "      <td>Sharon Osbourne isn’t afraid to speak candidly...</td>\n",
       "      <td>N3052</td>\n",
       "      <td>tv</td>\n",
       "      <td>tv-celebrity</td>\n",
       "      <td>Sharon Osbourne Admits She 'Can Hardly Feel' H...</td>\n",
       "      <td>Sharon Osbourne Admits She 'Can Hardly Feel' M...</td>\n",
       "      <td>[{\"Label\": \"Sharon Osbourne\", \"Type\": \"P\", \"Wi...</td>\n",
       "      <td>[{\"Label\": \"Sharon Osbourne\", \"Type\": \"P\", \"Wi...</td>\n",
       "    </tr>\n",
       "    <tr>\n",
       "      <th>0</th>\n",
       "      <td>https://www.msn.com/en-us/news/world/the-cost-...</td>\n",
       "      <td>NaN</td>\n",
       "      <td>NaN</td>\n",
       "      <td>NaN</td>\n",
       "      <td>NaN</td>\n",
       "      <td>N10399</td>\n",
       "      <td>news</td>\n",
       "      <td>newsworld</td>\n",
       "      <td>The Cost of Trump's Aid Freeze in the Trenches...</td>\n",
       "      <td>Lt. Ivan Molchanets peeked over a parapet of s...</td>\n",
       "      <td>[]</td>\n",
       "      <td>[{\"Label\": \"Ukraine\", \"Type\": \"G\", \"WikidataId...</td>\n",
       "    </tr>\n",
       "    <tr>\n",
       "      <th>1</th>\n",
       "      <td>https://www.msn.com/en-us/health/nutrition/50-...</td>\n",
       "      <td>NaN</td>\n",
       "      <td>NaN</td>\n",
       "      <td>NaN</td>\n",
       "      <td>NaN</td>\n",
       "      <td>N9552</td>\n",
       "      <td>health</td>\n",
       "      <td>nutrition</td>\n",
       "      <td>50 Foods You Should Never Eat, According to He...</td>\n",
       "      <td>This is so depressing.</td>\n",
       "      <td>[]</td>\n",
       "      <td>[]</td>\n",
       "    </tr>\n",
       "    <tr>\n",
       "      <th>2</th>\n",
       "      <td>https://www.msn.com/en-us/health/weightloss/th...</td>\n",
       "      <td>NaN</td>\n",
       "      <td>NaN</td>\n",
       "      <td>NaN</td>\n",
       "      <td>NaN</td>\n",
       "      <td>N25099</td>\n",
       "      <td>health</td>\n",
       "      <td>weightloss</td>\n",
       "      <td>These Simple Diet Changes Helped This Guy Lose...</td>\n",
       "      <td>The part of me that knew I had to make changes...</td>\n",
       "      <td>[]</td>\n",
       "      <td>[]</td>\n",
       "    </tr>\n",
       "  </tbody>\n",
       "</table>\n",
       "</div>"
      ],
      "text/plain": [
       "                                                   5  \\\n",
       "0  https://www.msn.com/en-us/news/newspolitics/we...   \n",
       "1  https://www.msn.com/en-us/tv/tv-celebrity/shar...   \n",
       "0  https://www.msn.com/en-us/news/world/the-cost-...   \n",
       "1  https://www.msn.com/en-us/health/nutrition/50-...   \n",
       "2  https://www.msn.com/en-us/health/weightloss/th...   \n",
       "\n",
       "                                               Title  \\\n",
       "0  We'd Arrest Trump For Fifth Ave Shooting, NYC ...   \n",
       "1  Sharon Osbourne Admits She 'Can Hardly Feel' H...   \n",
       "0                                                NaN   \n",
       "1                                                NaN   \n",
       "2                                                NaN   \n",
       "\n",
       "                       Date  \\\n",
       "0  2019-10-24T18:20:00.000Z   \n",
       "1  2019-10-23T13:01:53.000Z   \n",
       "0                       NaN   \n",
       "1                       NaN   \n",
       "2                       NaN   \n",
       "\n",
       "                                               Image  \\\n",
       "0  //static-entertainment-eas-s-msn-com.akamaized...   \n",
       "1  //static-entertainment-eas-s-msn-com.akamaized...   \n",
       "0                                                NaN   \n",
       "1                                                NaN   \n",
       "2                                                NaN   \n",
       "\n",
       "                                             Content       0       1  \\\n",
       "0  NEW YORK — He might give up his freedom even i...  N22921    news   \n",
       "1  Sharon Osbourne isn’t afraid to speak candidly...   N3052      tv   \n",
       "0                                                NaN  N10399    news   \n",
       "1                                                NaN   N9552  health   \n",
       "2                                                NaN  N25099  health   \n",
       "\n",
       "              2                                                  3  \\\n",
       "0  newspolitics  We'd Arrest Trump For Fifth Ave Shooting, NYC ...   \n",
       "1  tv-celebrity  Sharon Osbourne Admits She 'Can Hardly Feel' H...   \n",
       "0     newsworld  The Cost of Trump's Aid Freeze in the Trenches...   \n",
       "1     nutrition  50 Foods You Should Never Eat, According to He...   \n",
       "2    weightloss  These Simple Diet Changes Helped This Guy Lose...   \n",
       "\n",
       "                                                   4  \\\n",
       "0  NYPD cops would put President Donald Trump in ...   \n",
       "1  Sharon Osbourne Admits She 'Can Hardly Feel' M...   \n",
       "0  Lt. Ivan Molchanets peeked over a parapet of s...   \n",
       "1                             This is so depressing.   \n",
       "2  The part of me that knew I had to make changes...   \n",
       "\n",
       "                                                   6  \\\n",
       "0  [{\"Label\": \"Fifth Avenue\", \"Type\": \"S\", \"Wikid...   \n",
       "1  [{\"Label\": \"Sharon Osbourne\", \"Type\": \"P\", \"Wi...   \n",
       "0                                                 []   \n",
       "1                                                 []   \n",
       "2                                                 []   \n",
       "\n",
       "                                                   7  \n",
       "0  [{\"Label\": \"Fifth Avenue\", \"Type\": \"S\", \"Wikid...  \n",
       "1  [{\"Label\": \"Sharon Osbourne\", \"Type\": \"P\", \"Wi...  \n",
       "0  [{\"Label\": \"Ukraine\", \"Type\": \"G\", \"WikidataId...  \n",
       "1                                                 []  \n",
       "2                                                 []  "
      ]
     },
     "execution_count": 180,
     "metadata": {},
     "output_type": "execute_result"
    }
   ],
   "source": [
    "dt = final(demo_tr ,dt, '/Users/baeyuna/Documents/SNU_DLab/Data/demo_tr/integrated_news')\n",
    "dt.head()"
   ]
  },
  {
   "cell_type": "code",
   "execution_count": 29,
   "metadata": {
    "tags": []
   },
   "outputs": [
    {
     "name": "stdout",
     "output_type": "stream",
     "text": [
      "save /Users/baeyuna/Documents/SNU_DLab/Data/MINDdemo_train integrated_news\n"
     ]
    }
   ],
   "source": [
    "# save_df(dt, '/Users/baeyuna/Documents/SNU_DLab/Data/MINDdemo_train')"
   ]
  },
  {
   "cell_type": "code",
   "execution_count": 181,
   "metadata": {
    "tags": []
   },
   "outputs": [
    {
     "name": "stdout",
     "output_type": "stream",
     "text": [
      "전체 Title 행 수: 26740\n",
      "nan인 Title 행 수: 1090\n",
      "------------------------------\n",
      "Title 크롤링 가능 비율: 95.92370979805534\n",
      "전체 Date 행 수: 26740\n",
      "nan인 Date 행 수: 1666\n",
      "------------------------------\n",
      "Date 크롤링 가능 비율: 93.7696335078534\n",
      "전체 Image 행 수: 26740\n",
      "nan인 Image 행 수: 5183\n",
      "------------------------------\n",
      "Image 크롤링 가능 비율: 80.6170531039641\n",
      "전체 Content 행 수: 26740\n",
      "nan인 Content 행 수: 3719\n",
      "------------------------------\n",
      "Content 크롤링 가능 비율: 86.09199700822738\n"
     ]
    }
   ],
   "source": [
    "crawling_ratio(dt, 'Title')\n",
    "crawling_ratio(dt, 'Date')\n",
    "crawling_ratio(dt, 'Image')\n",
    "crawling_ratio(dt, 'Content')"
   ]
  },
  {
   "cell_type": "markdown",
   "metadata": {},
   "source": [
    "## 2. demo_dev"
   ]
  },
  {
   "cell_type": "code",
   "execution_count": 182,
   "metadata": {
    "tags": []
   },
   "outputs": [
    {
     "name": "stdout",
     "output_type": "stream",
     "text": [
      "----누락 url list-----\n",
      "[\"https://www.msn.com/en-us/sports/football_nfl/marcus-peters'-fit-with-ravens-looks-to-be-better-than-his-stint-with-rams/ar-AAIUGeH?ocid=chopendata\", 'https://www.msn.com/en-us/news/newsus/the-fundamentalist-religious-community-that-lives-in-the-throes-of-a-drug-war/vi-AAJXUWc?ocid=chopendata', \"https://www.msn.com/en-us/news/newscrime/missing-college-student's-parents-meet-with-mother-of-natalee-holloway/ar-AAJYeVW?ocid=chopendata\"]\n",
      "\n",
      "----누락 원본 데이터-----\n"
     ]
    },
    {
     "data": {
      "text/html": [
       "<div>\n",
       "<style scoped>\n",
       "    .dataframe tbody tr th:only-of-type {\n",
       "        vertical-align: middle;\n",
       "    }\n",
       "\n",
       "    .dataframe tbody tr th {\n",
       "        vertical-align: top;\n",
       "    }\n",
       "\n",
       "    .dataframe thead th {\n",
       "        text-align: right;\n",
       "    }\n",
       "</style>\n",
       "<table border=\"1\" class=\"dataframe\">\n",
       "  <thead>\n",
       "    <tr style=\"text-align: right;\">\n",
       "      <th></th>\n",
       "      <th>0</th>\n",
       "      <th>1</th>\n",
       "      <th>2</th>\n",
       "      <th>3</th>\n",
       "      <th>4</th>\n",
       "      <th>5</th>\n",
       "      <th>6</th>\n",
       "      <th>7</th>\n",
       "    </tr>\n",
       "  </thead>\n",
       "  <tbody>\n",
       "    <tr>\n",
       "      <th>4802</th>\n",
       "      <td>N9896</td>\n",
       "      <td>sports</td>\n",
       "      <td>football_nfl</td>\n",
       "      <td>Marcus Peters' fit with Ravens looks to be bet...</td>\n",
       "      <td>NaN</td>\n",
       "      <td>https://www.msn.com/en-us/sports/football_nfl/...</td>\n",
       "      <td>[{\"Label\": \"Los Angeles Rams\", \"Type\": \"O\", \"W...</td>\n",
       "      <td>[]</td>\n",
       "    </tr>\n",
       "    <tr>\n",
       "      <th>6611</th>\n",
       "      <td>N23203</td>\n",
       "      <td>news</td>\n",
       "      <td>newsus</td>\n",
       "      <td>The fundamentalist religious community that li...</td>\n",
       "      <td>The three mothers and six children killed in a...</td>\n",
       "      <td>https://www.msn.com/en-us/news/newsus/the-fund...</td>\n",
       "      <td>[]</td>\n",
       "      <td>[{\"Label\": \"Mexican Drug War\", \"Type\": \"E\", \"W...</td>\n",
       "    </tr>\n",
       "    <tr>\n",
       "      <th>10368</th>\n",
       "      <td>N4199</td>\n",
       "      <td>news</td>\n",
       "      <td>newscrime</td>\n",
       "      <td>Missing college student's parents meet with mo...</td>\n",
       "      <td>Investigators did not call the man a suspect, ...</td>\n",
       "      <td>https://www.msn.com/en-us/news/newscrime/missi...</td>\n",
       "      <td>[{\"Label\": \"Disappearance of Natalee Holloway\"...</td>\n",
       "      <td>[]</td>\n",
       "    </tr>\n",
       "  </tbody>\n",
       "</table>\n",
       "</div>"
      ],
      "text/plain": [
       "            0       1             2  \\\n",
       "4802    N9896  sports  football_nfl   \n",
       "6611   N23203    news        newsus   \n",
       "10368   N4199    news     newscrime   \n",
       "\n",
       "                                                       3  \\\n",
       "4802   Marcus Peters' fit with Ravens looks to be bet...   \n",
       "6611   The fundamentalist religious community that li...   \n",
       "10368  Missing college student's parents meet with mo...   \n",
       "\n",
       "                                                       4  \\\n",
       "4802                                                 NaN   \n",
       "6611   The three mothers and six children killed in a...   \n",
       "10368  Investigators did not call the man a suspect, ...   \n",
       "\n",
       "                                                       5  \\\n",
       "4802   https://www.msn.com/en-us/sports/football_nfl/...   \n",
       "6611   https://www.msn.com/en-us/news/newsus/the-fund...   \n",
       "10368  https://www.msn.com/en-us/news/newscrime/missi...   \n",
       "\n",
       "                                                       6  \\\n",
       "4802   [{\"Label\": \"Los Angeles Rams\", \"Type\": \"O\", \"W...   \n",
       "6611                                                  []   \n",
       "10368  [{\"Label\": \"Disappearance of Natalee Holloway\"...   \n",
       "\n",
       "                                                       7  \n",
       "4802                                                  []  \n",
       "6611   [{\"Label\": \"Mexican Drug War\", \"Type\": \"E\", \"W...  \n",
       "10368                                                 []  "
      ]
     },
     "execution_count": 182,
     "metadata": {},
     "output_type": "execute_result"
    }
   ],
   "source": [
    "dt_urls, dt = nurak_data(demo_dev, ['N9896', 'N23203', 'N4199'])\n",
    "\n",
    "print('----누락 url list-----')\n",
    "print(dt_urls)\n",
    "\n",
    "print()\n",
    "print('----누락 원본 데이터-----')\n",
    "dt "
   ]
  },
  {
   "cell_type": "code",
   "execution_count": 183,
   "metadata": {
    "scrolled": true,
    "tags": []
   },
   "outputs": [
    {
     "name": "stdout",
     "output_type": "stream",
     "text": [
      "crawling date start.\n"
     ]
    },
    {
     "name": "stderr",
     "output_type": "stream",
     "text": [
      "\r",
      "  0%|          | 0/3 [00:00<?, ?it/s]"
     ]
    },
    {
     "name": "stdout",
     "output_type": "stream",
     "text": [
      "bottleneck .... Program will open chrome ... takes ages ...\n"
     ]
    },
    {
     "name": "stderr",
     "output_type": "stream",
     "text": [
      "\r",
      " 33%|███▎      | 1/3 [00:01<00:03,  1.69s/it]"
     ]
    },
    {
     "name": "stdout",
     "output_type": "stream",
     "text": [
      "Yeee!!! date: 2019-10-17T03:22:27.000Z\n"
     ]
    },
    {
     "name": "stderr",
     "output_type": "stream",
     "text": [
      "\r",
      " 67%|██████▋   | 2/3 [00:02<00:01,  1.48s/it]"
     ]
    },
    {
     "name": "stdout",
     "output_type": "stream",
     "text": [
      "noooooo!!! parsing https://www.msn.com/en-us/news/newsus/the-fundamentalist-religious-community-that-lives-in-the-throes-of-a-drug-war/vi-AAJXUWc?ocid=chopendata\n"
     ]
    },
    {
     "name": "stderr",
     "output_type": "stream",
     "text": [
      "100%|██████████| 3/3 [00:03<00:00,  1.25s/it]"
     ]
    },
    {
     "name": "stdout",
     "output_type": "stream",
     "text": [
      "Yeee!!! date: 2019-11-07T06:49:00.000Z\n",
      "-------Seconds: 6.236371040344238--------\n",
      "(3, 2)\n"
     ]
    },
    {
     "name": "stderr",
     "output_type": "stream",
     "text": [
      "\n"
     ]
    },
    {
     "data": {
      "text/html": [
       "<div>\n",
       "<style scoped>\n",
       "    .dataframe tbody tr th:only-of-type {\n",
       "        vertical-align: middle;\n",
       "    }\n",
       "\n",
       "    .dataframe tbody tr th {\n",
       "        vertical-align: top;\n",
       "    }\n",
       "\n",
       "    .dataframe thead th {\n",
       "        text-align: right;\n",
       "    }\n",
       "</style>\n",
       "<table border=\"1\" class=\"dataframe\">\n",
       "  <thead>\n",
       "    <tr style=\"text-align: right;\">\n",
       "      <th></th>\n",
       "      <th>date</th>\n",
       "      <th>url</th>\n",
       "    </tr>\n",
       "  </thead>\n",
       "  <tbody>\n",
       "    <tr>\n",
       "      <th>0</th>\n",
       "      <td>2019-10-17T03:22:27.000Z</td>\n",
       "      <td>https://www.msn.com/en-us/sports/football_nfl/...</td>\n",
       "    </tr>\n",
       "    <tr>\n",
       "      <th>1</th>\n",
       "      <td>None</td>\n",
       "      <td>https://www.msn.com/en-us/news/newsus/the-fund...</td>\n",
       "    </tr>\n",
       "    <tr>\n",
       "      <th>2</th>\n",
       "      <td>2019-11-07T06:49:00.000Z</td>\n",
       "      <td>https://www.msn.com/en-us/news/newscrime/missi...</td>\n",
       "    </tr>\n",
       "  </tbody>\n",
       "</table>\n",
       "</div>"
      ],
      "text/plain": [
       "                       date                                                url\n",
       "0  2019-10-17T03:22:27.000Z  https://www.msn.com/en-us/sports/football_nfl/...\n",
       "1                      None  https://www.msn.com/en-us/news/newsus/the-fund...\n",
       "2  2019-11-07T06:49:00.000Z  https://www.msn.com/en-us/news/newscrime/missi..."
      ]
     },
     "execution_count": 183,
     "metadata": {},
     "output_type": "execute_result"
    }
   ],
   "source": [
    "df_date = date_crawler(dt_urls)\n",
    "df_date"
   ]
  },
  {
   "cell_type": "code",
   "execution_count": 184,
   "metadata": {
    "tags": []
   },
   "outputs": [
    {
     "name": "stderr",
     "output_type": "stream",
     "text": [
      "\r",
      "  0%|          | 0/3 [00:00<?, ?it/s]"
     ]
    },
    {
     "name": "stdout",
     "output_type": "stream",
     "text": [
      "crawling start.\n"
     ]
    },
    {
     "name": "stderr",
     "output_type": "stream",
     "text": [
      " 67%|██████▋   | 2/3 [00:00<00:00,  4.66it/s]"
     ]
    },
    {
     "name": "stdout",
     "output_type": "stream",
     "text": [
      "title :Marcus Peters' fit with Ravens looks to be better than his stint with Rams\n",
      "nooooooo!!!! parsing url: https://www.msn.com/en-us/news/newsus/the-fundamentalist-religious-community-that-lives-in-the-throes-of-a-drug-war/vi-AAJXUWc?ocid=chopendata\n"
     ]
    },
    {
     "name": "stderr",
     "output_type": "stream",
     "text": [
      "100%|██████████| 3/3 [00:00<00:00,  4.45it/s]"
     ]
    },
    {
     "name": "stdout",
     "output_type": "stream",
     "text": [
      "title :Missing college student's parents meet with mother of Natalee Holloway\n",
      "-------Seconds: 0.9260411262512207--------\n",
      "3\n",
      "3\n",
      "3\n",
      "3\n",
      "(3, 4)\n"
     ]
    },
    {
     "name": "stderr",
     "output_type": "stream",
     "text": [
      "\n"
     ]
    },
    {
     "data": {
      "text/html": [
       "<div>\n",
       "<style scoped>\n",
       "    .dataframe tbody tr th:only-of-type {\n",
       "        vertical-align: middle;\n",
       "    }\n",
       "\n",
       "    .dataframe tbody tr th {\n",
       "        vertical-align: top;\n",
       "    }\n",
       "\n",
       "    .dataframe thead th {\n",
       "        text-align: right;\n",
       "    }\n",
       "</style>\n",
       "<table border=\"1\" class=\"dataframe\">\n",
       "  <thead>\n",
       "    <tr style=\"text-align: right;\">\n",
       "      <th></th>\n",
       "      <th>url</th>\n",
       "      <th>Title</th>\n",
       "      <th>Content</th>\n",
       "      <th>Image</th>\n",
       "    </tr>\n",
       "  </thead>\n",
       "  <tbody>\n",
       "    <tr>\n",
       "      <th>0</th>\n",
       "      <td>https://www.msn.com/en-us/sports/football_nfl/...</td>\n",
       "      <td>Marcus Peters' fit with Ravens looks to be bet...</td>\n",
       "      <td>To understand why the Baltimore Ravens made th...</td>\n",
       "      <td>//static-entertainment-eas-s-msn-com.akamaized...</td>\n",
       "    </tr>\n",
       "    <tr>\n",
       "      <th>1</th>\n",
       "      <td>https://www.msn.com/en-us/news/newsus/the-fund...</td>\n",
       "      <td>None</td>\n",
       "      <td>None</td>\n",
       "      <td>None</td>\n",
       "    </tr>\n",
       "    <tr>\n",
       "      <th>2</th>\n",
       "      <td>https://www.msn.com/en-us/news/newscrime/missi...</td>\n",
       "      <td>Missing college student's parents meet with mo...</td>\n",
       "      <td>\\n\\n\\n\\n \\n\\n&lt; PREVIOUS SLIDE\\n\\nSLIDE 1 of 3\\...</td>\n",
       "      <td>//static-entertainment-eas-s-msn-com.akamaized...</td>\n",
       "    </tr>\n",
       "  </tbody>\n",
       "</table>\n",
       "</div>"
      ],
      "text/plain": [
       "                                                 url  \\\n",
       "0  https://www.msn.com/en-us/sports/football_nfl/...   \n",
       "1  https://www.msn.com/en-us/news/newsus/the-fund...   \n",
       "2  https://www.msn.com/en-us/news/newscrime/missi...   \n",
       "\n",
       "                                               Title  \\\n",
       "0  Marcus Peters' fit with Ravens looks to be bet...   \n",
       "1                                               None   \n",
       "2  Missing college student's parents meet with mo...   \n",
       "\n",
       "                                             Content  \\\n",
       "0  To understand why the Baltimore Ravens made th...   \n",
       "1                                               None   \n",
       "2  \\n\\n\\n\\n \\n\\n< PREVIOUS SLIDE\\n\\nSLIDE 1 of 3\\...   \n",
       "\n",
       "                                               Image  \n",
       "0  //static-entertainment-eas-s-msn-com.akamaized...  \n",
       "1                                               None  \n",
       "2  //static-entertainment-eas-s-msn-com.akamaized...  "
      ]
     },
     "execution_count": 184,
     "metadata": {},
     "output_type": "execute_result"
    }
   ],
   "source": [
    "df2 = crawler(dt_urls)\n",
    "df2"
   ]
  },
  {
   "cell_type": "code",
   "execution_count": 186,
   "metadata": {
    "tags": []
   },
   "outputs": [
    {
     "name": "stdout",
     "output_type": "stream",
     "text": [
      "누락 데이터 수집한 shape\n",
      "(3, 5)\n",
      "누락 데이터 수집한 후 칼럼 증가!! shape\n",
      "(3, 12)\n"
     ]
    },
    {
     "data": {
      "text/html": [
       "<div>\n",
       "<style scoped>\n",
       "    .dataframe tbody tr th:only-of-type {\n",
       "        vertical-align: middle;\n",
       "    }\n",
       "\n",
       "    .dataframe tbody tr th {\n",
       "        vertical-align: top;\n",
       "    }\n",
       "\n",
       "    .dataframe thead th {\n",
       "        text-align: right;\n",
       "    }\n",
       "</style>\n",
       "<table border=\"1\" class=\"dataframe\">\n",
       "  <thead>\n",
       "    <tr style=\"text-align: right;\">\n",
       "      <th></th>\n",
       "      <th>date</th>\n",
       "      <th>5</th>\n",
       "      <th>Title</th>\n",
       "      <th>Content</th>\n",
       "      <th>Image</th>\n",
       "      <th>0</th>\n",
       "      <th>1</th>\n",
       "      <th>2</th>\n",
       "      <th>3</th>\n",
       "      <th>4</th>\n",
       "      <th>6</th>\n",
       "      <th>7</th>\n",
       "    </tr>\n",
       "  </thead>\n",
       "  <tbody>\n",
       "    <tr>\n",
       "      <th>0</th>\n",
       "      <td>2019-10-17T03:22:27.000Z</td>\n",
       "      <td>https://www.msn.com/en-us/sports/football_nfl/...</td>\n",
       "      <td>Marcus Peters' fit with Ravens looks to be bet...</td>\n",
       "      <td>To understand why the Baltimore Ravens made th...</td>\n",
       "      <td>//static-entertainment-eas-s-msn-com.akamaized...</td>\n",
       "      <td>N9896</td>\n",
       "      <td>sports</td>\n",
       "      <td>football_nfl</td>\n",
       "      <td>Marcus Peters' fit with Ravens looks to be bet...</td>\n",
       "      <td>NaN</td>\n",
       "      <td>[{\"Label\": \"Los Angeles Rams\", \"Type\": \"O\", \"W...</td>\n",
       "      <td>[]</td>\n",
       "    </tr>\n",
       "    <tr>\n",
       "      <th>1</th>\n",
       "      <td>None</td>\n",
       "      <td>https://www.msn.com/en-us/news/newsus/the-fund...</td>\n",
       "      <td>None</td>\n",
       "      <td>None</td>\n",
       "      <td>None</td>\n",
       "      <td>N23203</td>\n",
       "      <td>news</td>\n",
       "      <td>newsus</td>\n",
       "      <td>The fundamentalist religious community that li...</td>\n",
       "      <td>The three mothers and six children killed in a...</td>\n",
       "      <td>[]</td>\n",
       "      <td>[{\"Label\": \"Mexican Drug War\", \"Type\": \"E\", \"W...</td>\n",
       "    </tr>\n",
       "    <tr>\n",
       "      <th>2</th>\n",
       "      <td>2019-11-07T06:49:00.000Z</td>\n",
       "      <td>https://www.msn.com/en-us/news/newscrime/missi...</td>\n",
       "      <td>Missing college student's parents meet with mo...</td>\n",
       "      <td>\\n\\n\\n\\n \\n\\n&lt; PREVIOUS SLIDE\\n\\nSLIDE 1 of 3\\...</td>\n",
       "      <td>//static-entertainment-eas-s-msn-com.akamaized...</td>\n",
       "      <td>N4199</td>\n",
       "      <td>news</td>\n",
       "      <td>newscrime</td>\n",
       "      <td>Missing college student's parents meet with mo...</td>\n",
       "      <td>Investigators did not call the man a suspect, ...</td>\n",
       "      <td>[{\"Label\": \"Disappearance of Natalee Holloway\"...</td>\n",
       "      <td>[]</td>\n",
       "    </tr>\n",
       "  </tbody>\n",
       "</table>\n",
       "</div>"
      ],
      "text/plain": [
       "                       date  \\\n",
       "0  2019-10-17T03:22:27.000Z   \n",
       "1                      None   \n",
       "2  2019-11-07T06:49:00.000Z   \n",
       "\n",
       "                                                   5  \\\n",
       "0  https://www.msn.com/en-us/sports/football_nfl/...   \n",
       "1  https://www.msn.com/en-us/news/newsus/the-fund...   \n",
       "2  https://www.msn.com/en-us/news/newscrime/missi...   \n",
       "\n",
       "                                               Title  \\\n",
       "0  Marcus Peters' fit with Ravens looks to be bet...   \n",
       "1                                               None   \n",
       "2  Missing college student's parents meet with mo...   \n",
       "\n",
       "                                             Content  \\\n",
       "0  To understand why the Baltimore Ravens made th...   \n",
       "1                                               None   \n",
       "2  \\n\\n\\n\\n \\n\\n< PREVIOUS SLIDE\\n\\nSLIDE 1 of 3\\...   \n",
       "\n",
       "                                               Image       0       1  \\\n",
       "0  //static-entertainment-eas-s-msn-com.akamaized...   N9896  sports   \n",
       "1                                               None  N23203    news   \n",
       "2  //static-entertainment-eas-s-msn-com.akamaized...   N4199    news   \n",
       "\n",
       "              2                                                  3  \\\n",
       "0  football_nfl  Marcus Peters' fit with Ravens looks to be bet...   \n",
       "1        newsus  The fundamentalist religious community that li...   \n",
       "2     newscrime  Missing college student's parents meet with mo...   \n",
       "\n",
       "                                                   4  \\\n",
       "0                                                NaN   \n",
       "1  The three mothers and six children killed in a...   \n",
       "2  Investigators did not call the man a suspect, ...   \n",
       "\n",
       "                                                   6  \\\n",
       "0  [{\"Label\": \"Los Angeles Rams\", \"Type\": \"O\", \"W...   \n",
       "1                                                 []   \n",
       "2  [{\"Label\": \"Disappearance of Natalee Holloway\"...   \n",
       "\n",
       "                                                   7  \n",
       "0                                                 []  \n",
       "1  [{\"Label\": \"Mexican Drug War\", \"Type\": \"E\", \"W...  \n",
       "2                                                 []  "
      ]
     },
     "execution_count": 186,
     "metadata": {},
     "output_type": "execute_result"
    }
   ],
   "source": [
    "dt = after_processing(df_date, df2, dt)\n",
    "dt"
   ]
  },
  {
   "cell_type": "code",
   "execution_count": 188,
   "metadata": {
    "tags": []
   },
   "outputs": [
    {
     "name": "stdout",
     "output_type": "stream",
     "text": [
      "원래 데이터 demo_tr: (18723, 8)\n",
      "수집된 데이터 붙인 demo_tr: (18720, 12)\n",
      "----------------------------------------\n",
      "누락 데이터 수: 3\n"
     ]
    }
   ],
   "source": [
    "check_nurak_num(demo_dev, '/Users/baeyuna/Documents/SNU_DLab/Data/demo_dev/integrated_news')"
   ]
  },
  {
   "cell_type": "code",
   "execution_count": 189,
   "metadata": {
    "tags": []
   },
   "outputs": [
    {
     "name": "stdout",
     "output_type": "stream",
     "text": [
      "원래 데이터 demo_tr: (18723, 8)\n",
      "추가 수집 완료 최종본: (18723, 12)\n"
     ]
    },
    {
     "data": {
      "text/html": [
       "<div>\n",
       "<style scoped>\n",
       "    .dataframe tbody tr th:only-of-type {\n",
       "        vertical-align: middle;\n",
       "    }\n",
       "\n",
       "    .dataframe tbody tr th {\n",
       "        vertical-align: top;\n",
       "    }\n",
       "\n",
       "    .dataframe thead th {\n",
       "        text-align: right;\n",
       "    }\n",
       "</style>\n",
       "<table border=\"1\" class=\"dataframe\">\n",
       "  <thead>\n",
       "    <tr style=\"text-align: right;\">\n",
       "      <th></th>\n",
       "      <th>5</th>\n",
       "      <th>Title</th>\n",
       "      <th>Date</th>\n",
       "      <th>Image</th>\n",
       "      <th>Content</th>\n",
       "      <th>0</th>\n",
       "      <th>1</th>\n",
       "      <th>2</th>\n",
       "      <th>3</th>\n",
       "      <th>4</th>\n",
       "      <th>6</th>\n",
       "      <th>7</th>\n",
       "    </tr>\n",
       "  </thead>\n",
       "  <tbody>\n",
       "    <tr>\n",
       "      <th>0</th>\n",
       "      <td>https://www.msn.com/en-us/sports/football_nfl/...</td>\n",
       "      <td>Marcus Peters' fit with Ravens looks to be bet...</td>\n",
       "      <td>2019-10-17T03:22:27.000Z</td>\n",
       "      <td>//static-entertainment-eas-s-msn-com.akamaized...</td>\n",
       "      <td>To understand why the Baltimore Ravens made th...</td>\n",
       "      <td>N9896</td>\n",
       "      <td>sports</td>\n",
       "      <td>football_nfl</td>\n",
       "      <td>Marcus Peters' fit with Ravens looks to be bet...</td>\n",
       "      <td>NaN</td>\n",
       "      <td>[{\"Label\": \"Los Angeles Rams\", \"Type\": \"O\", \"W...</td>\n",
       "      <td>[]</td>\n",
       "    </tr>\n",
       "    <tr>\n",
       "      <th>1</th>\n",
       "      <td>https://www.msn.com/en-us/news/newsus/the-fund...</td>\n",
       "      <td>None</td>\n",
       "      <td>None</td>\n",
       "      <td>None</td>\n",
       "      <td>None</td>\n",
       "      <td>N23203</td>\n",
       "      <td>news</td>\n",
       "      <td>newsus</td>\n",
       "      <td>The fundamentalist religious community that li...</td>\n",
       "      <td>The three mothers and six children killed in a...</td>\n",
       "      <td>[]</td>\n",
       "      <td>[{\"Label\": \"Mexican Drug War\", \"Type\": \"E\", \"W...</td>\n",
       "    </tr>\n",
       "    <tr>\n",
       "      <th>2</th>\n",
       "      <td>https://www.msn.com/en-us/news/newscrime/missi...</td>\n",
       "      <td>Missing college student's parents meet with mo...</td>\n",
       "      <td>2019-11-07T06:49:00.000Z</td>\n",
       "      <td>//static-entertainment-eas-s-msn-com.akamaized...</td>\n",
       "      <td>\\n\\n\\n\\n \\n\\n&lt; PREVIOUS SLIDE\\n\\nSLIDE 1 of 3\\...</td>\n",
       "      <td>N4199</td>\n",
       "      <td>news</td>\n",
       "      <td>newscrime</td>\n",
       "      <td>Missing college student's parents meet with mo...</td>\n",
       "      <td>Investigators did not call the man a suspect, ...</td>\n",
       "      <td>[{\"Label\": \"Disappearance of Natalee Holloway\"...</td>\n",
       "      <td>[]</td>\n",
       "    </tr>\n",
       "    <tr>\n",
       "      <th>0</th>\n",
       "      <td>https://www.msn.com/en-us/news/world/the-cost-...</td>\n",
       "      <td>NaN</td>\n",
       "      <td>NaN</td>\n",
       "      <td>NaN</td>\n",
       "      <td>NaN</td>\n",
       "      <td>N10399</td>\n",
       "      <td>news</td>\n",
       "      <td>newsworld</td>\n",
       "      <td>The Cost of Trump's Aid Freeze in the Trenches...</td>\n",
       "      <td>Lt. Ivan Molchanets peeked over a parapet of s...</td>\n",
       "      <td>[]</td>\n",
       "      <td>[{\"Label\": \"Ukraine\", \"Type\": \"G\", \"WikidataId...</td>\n",
       "    </tr>\n",
       "    <tr>\n",
       "      <th>1</th>\n",
       "      <td>https://www.msn.com/en-us/health/nutrition/50-...</td>\n",
       "      <td>NaN</td>\n",
       "      <td>NaN</td>\n",
       "      <td>NaN</td>\n",
       "      <td>NaN</td>\n",
       "      <td>N9552</td>\n",
       "      <td>health</td>\n",
       "      <td>nutrition</td>\n",
       "      <td>50 Foods You Should Never Eat, According to He...</td>\n",
       "      <td>This is so depressing.</td>\n",
       "      <td>[]</td>\n",
       "      <td>[]</td>\n",
       "    </tr>\n",
       "  </tbody>\n",
       "</table>\n",
       "</div>"
      ],
      "text/plain": [
       "                                                   5  \\\n",
       "0  https://www.msn.com/en-us/sports/football_nfl/...   \n",
       "1  https://www.msn.com/en-us/news/newsus/the-fund...   \n",
       "2  https://www.msn.com/en-us/news/newscrime/missi...   \n",
       "0  https://www.msn.com/en-us/news/world/the-cost-...   \n",
       "1  https://www.msn.com/en-us/health/nutrition/50-...   \n",
       "\n",
       "                                               Title  \\\n",
       "0  Marcus Peters' fit with Ravens looks to be bet...   \n",
       "1                                               None   \n",
       "2  Missing college student's parents meet with mo...   \n",
       "0                                                NaN   \n",
       "1                                                NaN   \n",
       "\n",
       "                       Date  \\\n",
       "0  2019-10-17T03:22:27.000Z   \n",
       "1                      None   \n",
       "2  2019-11-07T06:49:00.000Z   \n",
       "0                       NaN   \n",
       "1                       NaN   \n",
       "\n",
       "                                               Image  \\\n",
       "0  //static-entertainment-eas-s-msn-com.akamaized...   \n",
       "1                                               None   \n",
       "2  //static-entertainment-eas-s-msn-com.akamaized...   \n",
       "0                                                NaN   \n",
       "1                                                NaN   \n",
       "\n",
       "                                             Content       0       1  \\\n",
       "0  To understand why the Baltimore Ravens made th...   N9896  sports   \n",
       "1                                               None  N23203    news   \n",
       "2  \\n\\n\\n\\n \\n\\n< PREVIOUS SLIDE\\n\\nSLIDE 1 of 3\\...   N4199    news   \n",
       "0                                                NaN  N10399    news   \n",
       "1                                                NaN   N9552  health   \n",
       "\n",
       "              2                                                  3  \\\n",
       "0  football_nfl  Marcus Peters' fit with Ravens looks to be bet...   \n",
       "1        newsus  The fundamentalist religious community that li...   \n",
       "2     newscrime  Missing college student's parents meet with mo...   \n",
       "0     newsworld  The Cost of Trump's Aid Freeze in the Trenches...   \n",
       "1     nutrition  50 Foods You Should Never Eat, According to He...   \n",
       "\n",
       "                                                   4  \\\n",
       "0                                                NaN   \n",
       "1  The three mothers and six children killed in a...   \n",
       "2  Investigators did not call the man a suspect, ...   \n",
       "0  Lt. Ivan Molchanets peeked over a parapet of s...   \n",
       "1                             This is so depressing.   \n",
       "\n",
       "                                                   6  \\\n",
       "0  [{\"Label\": \"Los Angeles Rams\", \"Type\": \"O\", \"W...   \n",
       "1                                                 []   \n",
       "2  [{\"Label\": \"Disappearance of Natalee Holloway\"...   \n",
       "0                                                 []   \n",
       "1                                                 []   \n",
       "\n",
       "                                                   7  \n",
       "0                                                 []  \n",
       "1  [{\"Label\": \"Mexican Drug War\", \"Type\": \"E\", \"W...  \n",
       "2                                                 []  \n",
       "0  [{\"Label\": \"Ukraine\", \"Type\": \"G\", \"WikidataId...  \n",
       "1                                                 []  "
      ]
     },
     "execution_count": 189,
     "metadata": {},
     "output_type": "execute_result"
    }
   ],
   "source": [
    "dt = final(demo_dev, dt, '/Users/baeyuna/Documents/SNU_DLab/Data/demo_dev/integrated_news')\n",
    "dt.head() "
   ]
  },
  {
   "cell_type": "code",
   "execution_count": 70,
   "metadata": {
    "tags": []
   },
   "outputs": [
    {
     "name": "stdout",
     "output_type": "stream",
     "text": [
      "save /Users/baeyuna/Documents/SNU_DLab/Data/MINDdemo_dev/integrated_news.csv\n"
     ]
    }
   ],
   "source": [
    "# save_df(dt, '/Users/baeyuna/Documents/SNU_DLab/Data/MINDdemo_dev')"
   ]
  },
  {
   "cell_type": "code",
   "execution_count": 190,
   "metadata": {
    "tags": []
   },
   "outputs": [
    {
     "name": "stdout",
     "output_type": "stream",
     "text": [
      "전체 Title 행 수: 18723\n",
      "nan인 Title 행 수: 1618\n",
      "------------------------------\n",
      "Title 크롤링 가능 비율: 91.35822250707686\n",
      "전체 Date 행 수: 18723\n",
      "nan인 Date 행 수: 1731\n",
      "------------------------------\n",
      "Date 크롤링 가능 비율: 90.75468674891845\n",
      "전체 Image 행 수: 18723\n",
      "nan인 Image 행 수: 3593\n",
      "------------------------------\n",
      "Image 크롤링 가능 비율: 80.8096993003258\n",
      "전체 Content 행 수: 18723\n",
      "nan인 Content 행 수: 3175\n",
      "------------------------------\n",
      "Content 크롤링 가능 비율: 83.04224750307108\n"
     ]
    }
   ],
   "source": [
    "crawling_ratio(dt, 'Title')\n",
    "crawling_ratio(dt, 'Date')\n",
    "crawling_ratio(dt, 'Image')\n",
    "crawling_ratio(dt, 'Content')"
   ]
  },
  {
   "cell_type": "markdown",
   "metadata": {},
   "source": [
    "## 3. large_tr  \n",
    "\n",
    "* url 형식이 이상함"
   ]
  },
  {
   "cell_type": "code",
   "execution_count": 191,
   "metadata": {
    "tags": []
   },
   "outputs": [
    {
     "name": "stdout",
     "output_type": "stream",
     "text": [
      "----누락 url list-----\n",
      "['[]', '[]', '[{\"Label\": \"Freddie Kitchens\", \"Type\": \"P\", \"WikidataId\": \"Q5496752\", \"Confidence\": 1.0, \"OccurrenceOffsets\": [90], \"SurfaceForms\": [\"Freddie Kitchens\"]}, {\"Label\": \"Baker Mayfield\", \"Type\": \"P\", \"WikidataId\": \"Q14950655\", \"Confidence\": 1.0, \"OccurrenceOffsets\": [115], \"SurfaceForms\": [\"Mayfield\"]}]', '[{\"Label\": \"Forest Park\\\\u2013DeBaliviere station\", \"Type\": \"F\", \"WikidataId\": \"Q5469071\", \"Confidence\": 1.0, \"OccurrenceOffsets\": [36], \"SurfaceForms\": [\"Forest Park Debaliviere\"]}]', '[{\"Label\": \"Animal control service\", \"Type\": \"U\", \"WikidataId\": \"Q3289646\", \"Confidence\": 1.0, \"OccurrenceOffsets\": [51], \"SurfaceForms\": [\"animal control\"]}]', '[{\"Label\": \"Sean Hannity\", \"Type\": \"P\", \"WikidataId\": \"Q557730\", \"Confidence\": 1.0, \"OccurrenceOffsets\": [211], \"SurfaceForms\": [\"Sean Hannity\"]}, {\"Label\": \"Max Boot\", \"Type\": \"P\", \"WikidataId\": \"Q3890747\", \"Confidence\": 1.0, \"OccurrenceOffsets\": [324], \"SurfaceForms\": [\"Max Boot\"]}]']\n",
      "\n",
      "----누락 원본 데이터-----\n"
     ]
    },
    {
     "data": {
      "text/html": [
       "<div>\n",
       "<style scoped>\n",
       "    .dataframe tbody tr th:only-of-type {\n",
       "        vertical-align: middle;\n",
       "    }\n",
       "\n",
       "    .dataframe tbody tr th {\n",
       "        vertical-align: top;\n",
       "    }\n",
       "\n",
       "    .dataframe thead th {\n",
       "        text-align: right;\n",
       "    }\n",
       "</style>\n",
       "<table border=\"1\" class=\"dataframe\">\n",
       "  <thead>\n",
       "    <tr style=\"text-align: right;\">\n",
       "      <th></th>\n",
       "      <th>0</th>\n",
       "      <th>1</th>\n",
       "      <th>2</th>\n",
       "      <th>3</th>\n",
       "      <th>4</th>\n",
       "      <th>5</th>\n",
       "      <th>6</th>\n",
       "      <th>7</th>\n",
       "    </tr>\n",
       "  </thead>\n",
       "  <tbody>\n",
       "    <tr>\n",
       "      <th>4664</th>\n",
       "      <td>N110434</td>\n",
       "      <td>lifestyle</td>\n",
       "      <td>lifestylefamilyandrelationships</td>\n",
       "      <td>The 50 Most Common Last Names in America</td>\n",
       "      <td>What's in a name?\\thttps://assets.msn.com/labs...</td>\n",
       "      <td>[]</td>\n",
       "      <td>NaN</td>\n",
       "      <td>NaN</td>\n",
       "    </tr>\n",
       "    <tr>\n",
       "      <th>38162</th>\n",
       "      <td>N74207</td>\n",
       "      <td>finance</td>\n",
       "      <td>finance-video</td>\n",
       "      <td>The Price You Pay: The spiraling cost of colle...</td>\n",
       "      <td>https://assets.msn.com/labs/mind/AAIKUGl.html</td>\n",
       "      <td>[]</td>\n",
       "      <td>[]</td>\n",
       "      <td>NaN</td>\n",
       "    </tr>\n",
       "    <tr>\n",
       "      <th>46236</th>\n",
       "      <td>N113363</td>\n",
       "      <td>sports</td>\n",
       "      <td>football_nfl</td>\n",
       "      <td>Baker Mayfield injury update: 'No doubt' Brown...</td>\n",
       "      <td>He'll be in better shape physically and he'll ...</td>\n",
       "      <td>[{\"Label\": \"Freddie Kitchens\", \"Type\": \"P\", \"W...</td>\n",
       "      <td>NaN</td>\n",
       "      <td>NaN</td>\n",
       "    </tr>\n",
       "    <tr>\n",
       "      <th>48766</th>\n",
       "      <td>N118418</td>\n",
       "      <td>news</td>\n",
       "      <td>newsus</td>\n",
       "      <td>The security has been stepped up': Forest Park...</td>\n",
       "      <td>https://assets.msn.com/labs/mind/AAJncPt.html</td>\n",
       "      <td>[{\"Label\": \"Forest Park\\u2013DeBaliviere stati...</td>\n",
       "      <td>[{\"Label\": \"St. Louis\", \"Type\": \"G\", \"Wikidata...</td>\n",
       "      <td>NaN</td>\n",
       "    </tr>\n",
       "    <tr>\n",
       "      <th>63749</th>\n",
       "      <td>N102010</td>\n",
       "      <td>news</td>\n",
       "      <td>newsus</td>\n",
       "      <td>[We] walk dogs and pick up poo for free | Why ...</td>\n",
       "      <td>https://assets.msn.com/labs/mind/AAJUQ4w.html</td>\n",
       "      <td>[{\"Label\": \"Animal control service\", \"Type\": \"...</td>\n",
       "      <td>[{\"Label\": \"Animal control service\", \"Type\": \"...</td>\n",
       "      <td>NaN</td>\n",
       "    </tr>\n",
       "    <tr>\n",
       "      <th>100955</th>\n",
       "      <td>N45635</td>\n",
       "      <td>video</td>\n",
       "      <td>news</td>\n",
       "      <td>Transcripts highlight Sean Hannity's political...</td>\n",
       "      <td>We're seeing really disturbing things coming o...</td>\n",
       "      <td>[{\"Label\": \"Sean Hannity\", \"Type\": \"P\", \"Wikid...</td>\n",
       "      <td>NaN</td>\n",
       "      <td>NaN</td>\n",
       "    </tr>\n",
       "  </tbody>\n",
       "</table>\n",
       "</div>"
      ],
      "text/plain": [
       "              0          1                                2  \\\n",
       "4664    N110434  lifestyle  lifestylefamilyandrelationships   \n",
       "38162    N74207    finance                    finance-video   \n",
       "46236   N113363     sports                     football_nfl   \n",
       "48766   N118418       news                           newsus   \n",
       "63749   N102010       news                           newsus   \n",
       "100955   N45635      video                             news   \n",
       "\n",
       "                                                        3  \\\n",
       "4664             The 50 Most Common Last Names in America   \n",
       "38162   The Price You Pay: The spiraling cost of colle...   \n",
       "46236   Baker Mayfield injury update: 'No doubt' Brown...   \n",
       "48766   The security has been stepped up': Forest Park...   \n",
       "63749   [We] walk dogs and pick up poo for free | Why ...   \n",
       "100955  Transcripts highlight Sean Hannity's political...   \n",
       "\n",
       "                                                        4  \\\n",
       "4664    What's in a name?\\thttps://assets.msn.com/labs...   \n",
       "38162       https://assets.msn.com/labs/mind/AAIKUGl.html   \n",
       "46236   He'll be in better shape physically and he'll ...   \n",
       "48766       https://assets.msn.com/labs/mind/AAJncPt.html   \n",
       "63749       https://assets.msn.com/labs/mind/AAJUQ4w.html   \n",
       "100955  We're seeing really disturbing things coming o...   \n",
       "\n",
       "                                                        5  \\\n",
       "4664                                                   []   \n",
       "38162                                                  []   \n",
       "46236   [{\"Label\": \"Freddie Kitchens\", \"Type\": \"P\", \"W...   \n",
       "48766   [{\"Label\": \"Forest Park\\u2013DeBaliviere stati...   \n",
       "63749   [{\"Label\": \"Animal control service\", \"Type\": \"...   \n",
       "100955  [{\"Label\": \"Sean Hannity\", \"Type\": \"P\", \"Wikid...   \n",
       "\n",
       "                                                        6    7  \n",
       "4664                                                  NaN  NaN  \n",
       "38162                                                  []  NaN  \n",
       "46236                                                 NaN  NaN  \n",
       "48766   [{\"Label\": \"St. Louis\", \"Type\": \"G\", \"Wikidata...  NaN  \n",
       "63749   [{\"Label\": \"Animal control service\", \"Type\": \"...  NaN  \n",
       "100955                                                NaN  NaN  "
      ]
     },
     "execution_count": 191,
     "metadata": {},
     "output_type": "execute_result"
    }
   ],
   "source": [
    "dt_urls, dt = nurak_data(large_tr, ['N110434', 'N74207', 'N113363', 'N118418', 'N102010', 'N45635'])\n",
    "\n",
    "print('----누락 url list-----')\n",
    "print(dt_urls)\n",
    "\n",
    "print()\n",
    "print('----누락 원본 데이터-----')\n",
    "dt "
   ]
  },
  {
   "cell_type": "code",
   "execution_count": 192,
   "metadata": {
    "tags": []
   },
   "outputs": [
    {
     "name": "stdout",
     "output_type": "stream",
     "text": [
      "crawling date start.\n"
     ]
    },
    {
     "name": "stderr",
     "output_type": "stream",
     "text": [
      "100%|██████████| 6/6 [00:00<00:00, 213.86it/s]"
     ]
    },
    {
     "name": "stdout",
     "output_type": "stream",
     "text": [
      "bottleneck .... Program will open chrome ... takes ages ...\n",
      "noooooo!!! parsing []\n",
      "noooooo!!! parsing []\n",
      "noooooo!!! parsing [{Label: Freddie Kitchens, Type: P, WikidataId: Q5496752, Confidence: 1.0, OccurrenceOffsets: [90], SurfaceForms: [Freddie Kitchens]}, {Label: Baker Mayfield, Type: P, WikidataId: Q14950655, Confidence: 1.0, OccurrenceOffsets: [115], SurfaceForms: [Mayfield]}]\n",
      "noooooo!!! parsing [{Label: Forest Park\\u2013DeBaliviere station, Type: F, WikidataId: Q5469071, Confidence: 1.0, OccurrenceOffsets: [36], SurfaceForms: [Forest Park Debaliviere]}]\n",
      "noooooo!!! parsing [{Label: Animal control service, Type: U, WikidataId: Q3289646, Confidence: 1.0, OccurrenceOffsets: [51], SurfaceForms: [animal control]}]\n",
      "noooooo!!! parsing [{Label: Sean Hannity, Type: P, WikidataId: Q557730, Confidence: 1.0, OccurrenceOffsets: [211], SurfaceForms: [Sean Hannity]}, {Label: Max Boot, Type: P, WikidataId: Q3890747, Confidence: 1.0, OccurrenceOffsets: [324], SurfaceForms: [Max Boot]}]\n",
      "-------Seconds: 2.50864315032959--------\n",
      "(6, 2)\n"
     ]
    },
    {
     "name": "stderr",
     "output_type": "stream",
     "text": [
      "\n"
     ]
    },
    {
     "data": {
      "text/html": [
       "<div>\n",
       "<style scoped>\n",
       "    .dataframe tbody tr th:only-of-type {\n",
       "        vertical-align: middle;\n",
       "    }\n",
       "\n",
       "    .dataframe tbody tr th {\n",
       "        vertical-align: top;\n",
       "    }\n",
       "\n",
       "    .dataframe thead th {\n",
       "        text-align: right;\n",
       "    }\n",
       "</style>\n",
       "<table border=\"1\" class=\"dataframe\">\n",
       "  <thead>\n",
       "    <tr style=\"text-align: right;\">\n",
       "      <th></th>\n",
       "      <th>date</th>\n",
       "      <th>url</th>\n",
       "    </tr>\n",
       "  </thead>\n",
       "  <tbody>\n",
       "    <tr>\n",
       "      <th>0</th>\n",
       "      <td>None</td>\n",
       "      <td>[]</td>\n",
       "    </tr>\n",
       "    <tr>\n",
       "      <th>1</th>\n",
       "      <td>None</td>\n",
       "      <td>[]</td>\n",
       "    </tr>\n",
       "    <tr>\n",
       "      <th>2</th>\n",
       "      <td>None</td>\n",
       "      <td>[{Label: Freddie Kitchens, Type: P, WikidataId...</td>\n",
       "    </tr>\n",
       "    <tr>\n",
       "      <th>3</th>\n",
       "      <td>None</td>\n",
       "      <td>[{Label: Forest Park\\u2013DeBaliviere station,...</td>\n",
       "    </tr>\n",
       "    <tr>\n",
       "      <th>4</th>\n",
       "      <td>None</td>\n",
       "      <td>[{Label: Animal control service, Type: U, Wiki...</td>\n",
       "    </tr>\n",
       "    <tr>\n",
       "      <th>5</th>\n",
       "      <td>None</td>\n",
       "      <td>[{Label: Sean Hannity, Type: P, WikidataId: Q5...</td>\n",
       "    </tr>\n",
       "  </tbody>\n",
       "</table>\n",
       "</div>"
      ],
      "text/plain": [
       "   date                                                url\n",
       "0  None                                                 []\n",
       "1  None                                                 []\n",
       "2  None  [{Label: Freddie Kitchens, Type: P, WikidataId...\n",
       "3  None  [{Label: Forest Park\\u2013DeBaliviere station,...\n",
       "4  None  [{Label: Animal control service, Type: U, Wiki...\n",
       "5  None  [{Label: Sean Hannity, Type: P, WikidataId: Q5..."
      ]
     },
     "execution_count": 192,
     "metadata": {},
     "output_type": "execute_result"
    }
   ],
   "source": [
    "df_date = date_crawler(dt_urls)\n",
    "df_date"
   ]
  },
  {
   "cell_type": "code",
   "execution_count": 193,
   "metadata": {},
   "outputs": [
    {
     "data": {
      "text/html": [
       "<div>\n",
       "<style scoped>\n",
       "    .dataframe tbody tr th:only-of-type {\n",
       "        vertical-align: middle;\n",
       "    }\n",
       "\n",
       "    .dataframe tbody tr th {\n",
       "        vertical-align: top;\n",
       "    }\n",
       "\n",
       "    .dataframe thead th {\n",
       "        text-align: right;\n",
       "    }\n",
       "</style>\n",
       "<table border=\"1\" class=\"dataframe\">\n",
       "  <thead>\n",
       "    <tr style=\"text-align: right;\">\n",
       "      <th></th>\n",
       "      <th>date</th>\n",
       "      <th>0</th>\n",
       "    </tr>\n",
       "  </thead>\n",
       "  <tbody>\n",
       "    <tr>\n",
       "      <th>0</th>\n",
       "      <td>None</td>\n",
       "      <td>N110434</td>\n",
       "    </tr>\n",
       "    <tr>\n",
       "      <th>1</th>\n",
       "      <td>None</td>\n",
       "      <td>N74207</td>\n",
       "    </tr>\n",
       "    <tr>\n",
       "      <th>2</th>\n",
       "      <td>None</td>\n",
       "      <td>N113363</td>\n",
       "    </tr>\n",
       "    <tr>\n",
       "      <th>3</th>\n",
       "      <td>None</td>\n",
       "      <td>N118418</td>\n",
       "    </tr>\n",
       "    <tr>\n",
       "      <th>4</th>\n",
       "      <td>None</td>\n",
       "      <td>N102010</td>\n",
       "    </tr>\n",
       "    <tr>\n",
       "      <th>5</th>\n",
       "      <td>None</td>\n",
       "      <td>N45635</td>\n",
       "    </tr>\n",
       "  </tbody>\n",
       "</table>\n",
       "</div>"
      ],
      "text/plain": [
       "   date        0\n",
       "0  None  N110434\n",
       "1  None   N74207\n",
       "2  None  N113363\n",
       "3  None  N118418\n",
       "4  None  N102010\n",
       "5  None   N45635"
      ]
     },
     "execution_count": 193,
     "metadata": {},
     "output_type": "execute_result"
    }
   ],
   "source": [
    "# 차후 df 결합을 위해 추가 \n",
    "df_date['0'] = ['N110434', 'N74207', 'N113363', 'N118418', 'N102010', 'N45635']\n",
    "df_date = df_date.drop(columns='url')\n",
    "df_date"
   ]
  },
  {
   "cell_type": "code",
   "execution_count": 194,
   "metadata": {
    "tags": []
   },
   "outputs": [
    {
     "name": "stderr",
     "output_type": "stream",
     "text": [
      "100%|██████████| 6/6 [00:00<00:00, 887.43it/s]"
     ]
    },
    {
     "name": "stdout",
     "output_type": "stream",
     "text": [
      "crawling start.\n",
      "nooooooo!!!! parsing url: []\n",
      "nooooooo!!!! parsing url: []\n",
      "nooooooo!!!! parsing url: [{Label: Freddie Kitchens, Type: P, WikidataId: Q5496752, Confidence: 1.0, OccurrenceOffsets: [90], SurfaceForms: [Freddie Kitchens]}, {Label: Baker Mayfield, Type: P, WikidataId: Q14950655, Confidence: 1.0, OccurrenceOffsets: [115], SurfaceForms: [Mayfield]}]\n",
      "nooooooo!!!! parsing url: [{Label: Forest Park\\u2013DeBaliviere station, Type: F, WikidataId: Q5469071, Confidence: 1.0, OccurrenceOffsets: [36], SurfaceForms: [Forest Park Debaliviere]}]\n",
      "nooooooo!!!! parsing url: [{Label: Animal control service, Type: U, WikidataId: Q3289646, Confidence: 1.0, OccurrenceOffsets: [51], SurfaceForms: [animal control]}]\n",
      "nooooooo!!!! parsing url: [{Label: Sean Hannity, Type: P, WikidataId: Q557730, Confidence: 1.0, OccurrenceOffsets: [211], SurfaceForms: [Sean Hannity]}, {Label: Max Boot, Type: P, WikidataId: Q3890747, Confidence: 1.0, OccurrenceOffsets: [324], SurfaceForms: [Max Boot]}]\n",
      "-------Seconds: 0.6495139598846436--------\n",
      "6\n",
      "6\n",
      "6\n",
      "6\n",
      "(6, 4)\n"
     ]
    },
    {
     "name": "stderr",
     "output_type": "stream",
     "text": [
      "\n"
     ]
    },
    {
     "data": {
      "text/html": [
       "<div>\n",
       "<style scoped>\n",
       "    .dataframe tbody tr th:only-of-type {\n",
       "        vertical-align: middle;\n",
       "    }\n",
       "\n",
       "    .dataframe tbody tr th {\n",
       "        vertical-align: top;\n",
       "    }\n",
       "\n",
       "    .dataframe thead th {\n",
       "        text-align: right;\n",
       "    }\n",
       "</style>\n",
       "<table border=\"1\" class=\"dataframe\">\n",
       "  <thead>\n",
       "    <tr style=\"text-align: right;\">\n",
       "      <th></th>\n",
       "      <th>url</th>\n",
       "      <th>Title</th>\n",
       "      <th>Content</th>\n",
       "      <th>Image</th>\n",
       "    </tr>\n",
       "  </thead>\n",
       "  <tbody>\n",
       "    <tr>\n",
       "      <th>0</th>\n",
       "      <td>[]</td>\n",
       "      <td>None</td>\n",
       "      <td>None</td>\n",
       "      <td>None</td>\n",
       "    </tr>\n",
       "    <tr>\n",
       "      <th>1</th>\n",
       "      <td>[]</td>\n",
       "      <td>None</td>\n",
       "      <td>None</td>\n",
       "      <td>None</td>\n",
       "    </tr>\n",
       "    <tr>\n",
       "      <th>2</th>\n",
       "      <td>[{\"Label\": \"Freddie Kitchens\", \"Type\": \"P\", \"W...</td>\n",
       "      <td>None</td>\n",
       "      <td>None</td>\n",
       "      <td>None</td>\n",
       "    </tr>\n",
       "    <tr>\n",
       "      <th>3</th>\n",
       "      <td>[{\"Label\": \"Forest Park\\u2013DeBaliviere stati...</td>\n",
       "      <td>None</td>\n",
       "      <td>None</td>\n",
       "      <td>None</td>\n",
       "    </tr>\n",
       "    <tr>\n",
       "      <th>4</th>\n",
       "      <td>[{\"Label\": \"Animal control service\", \"Type\": \"...</td>\n",
       "      <td>None</td>\n",
       "      <td>None</td>\n",
       "      <td>None</td>\n",
       "    </tr>\n",
       "    <tr>\n",
       "      <th>5</th>\n",
       "      <td>[{\"Label\": \"Sean Hannity\", \"Type\": \"P\", \"Wikid...</td>\n",
       "      <td>None</td>\n",
       "      <td>None</td>\n",
       "      <td>None</td>\n",
       "    </tr>\n",
       "  </tbody>\n",
       "</table>\n",
       "</div>"
      ],
      "text/plain": [
       "                                                 url Title Content Image\n",
       "0                                                 []  None    None  None\n",
       "1                                                 []  None    None  None\n",
       "2  [{\"Label\": \"Freddie Kitchens\", \"Type\": \"P\", \"W...  None    None  None\n",
       "3  [{\"Label\": \"Forest Park\\u2013DeBaliviere stati...  None    None  None\n",
       "4  [{\"Label\": \"Animal control service\", \"Type\": \"...  None    None  None\n",
       "5  [{\"Label\": \"Sean Hannity\", \"Type\": \"P\", \"Wikid...  None    None  None"
      ]
     },
     "execution_count": 194,
     "metadata": {},
     "output_type": "execute_result"
    }
   ],
   "source": [
    "df2 = crawler(dt_urls)\n",
    "df2"
   ]
  },
  {
   "cell_type": "code",
   "execution_count": 195,
   "metadata": {},
   "outputs": [
    {
     "data": {
      "text/html": [
       "<div>\n",
       "<style scoped>\n",
       "    .dataframe tbody tr th:only-of-type {\n",
       "        vertical-align: middle;\n",
       "    }\n",
       "\n",
       "    .dataframe tbody tr th {\n",
       "        vertical-align: top;\n",
       "    }\n",
       "\n",
       "    .dataframe thead th {\n",
       "        text-align: right;\n",
       "    }\n",
       "</style>\n",
       "<table border=\"1\" class=\"dataframe\">\n",
       "  <thead>\n",
       "    <tr style=\"text-align: right;\">\n",
       "      <th></th>\n",
       "      <th>Title</th>\n",
       "      <th>Content</th>\n",
       "      <th>Image</th>\n",
       "      <th>0</th>\n",
       "    </tr>\n",
       "  </thead>\n",
       "  <tbody>\n",
       "    <tr>\n",
       "      <th>0</th>\n",
       "      <td>None</td>\n",
       "      <td>None</td>\n",
       "      <td>None</td>\n",
       "      <td>N110434</td>\n",
       "    </tr>\n",
       "    <tr>\n",
       "      <th>1</th>\n",
       "      <td>None</td>\n",
       "      <td>None</td>\n",
       "      <td>None</td>\n",
       "      <td>N74207</td>\n",
       "    </tr>\n",
       "    <tr>\n",
       "      <th>2</th>\n",
       "      <td>None</td>\n",
       "      <td>None</td>\n",
       "      <td>None</td>\n",
       "      <td>N113363</td>\n",
       "    </tr>\n",
       "    <tr>\n",
       "      <th>3</th>\n",
       "      <td>None</td>\n",
       "      <td>None</td>\n",
       "      <td>None</td>\n",
       "      <td>N118418</td>\n",
       "    </tr>\n",
       "    <tr>\n",
       "      <th>4</th>\n",
       "      <td>None</td>\n",
       "      <td>None</td>\n",
       "      <td>None</td>\n",
       "      <td>N102010</td>\n",
       "    </tr>\n",
       "    <tr>\n",
       "      <th>5</th>\n",
       "      <td>None</td>\n",
       "      <td>None</td>\n",
       "      <td>None</td>\n",
       "      <td>N45635</td>\n",
       "    </tr>\n",
       "  </tbody>\n",
       "</table>\n",
       "</div>"
      ],
      "text/plain": [
       "  Title Content Image        0\n",
       "0  None    None  None  N110434\n",
       "1  None    None  None   N74207\n",
       "2  None    None  None  N113363\n",
       "3  None    None  None  N118418\n",
       "4  None    None  None  N102010\n",
       "5  None    None  None   N45635"
      ]
     },
     "execution_count": 195,
     "metadata": {},
     "output_type": "execute_result"
    }
   ],
   "source": [
    "# 차후 df 결합을 위해 추가 \n",
    "df2['0'] = ['N110434', 'N74207', 'N113363', 'N118418', 'N102010', 'N45635']\n",
    "df2 = df2.drop(columns='url')\n",
    "df2"
   ]
  },
  {
   "cell_type": "code",
   "execution_count": 196,
   "metadata": {},
   "outputs": [],
   "source": [
    "def after_processing_strange_url(df_date, df2, dt):\n",
    "    \n",
    "    # 날짜, 제목, 내용, 이미지 합치기 \n",
    "    demo_tr_cr = pd.merge(df_date, df2, on='0')\n",
    "    print('누락 데이터 수집한 shape')\n",
    "    print(demo_tr_cr.shape)\n",
    "    \n",
    "    # 칼럼 명 맞추고 \n",
    "    demo_tr_cr = demo_tr_cr.rename(columns={'0':0})\n",
    "    \n",
    "    dt = pd.merge(demo_tr_cr, dt, on=0)\n",
    "    print('누락 데이터 수집한 후 칼럼 증가!! shape')\n",
    "    print(dt.shape)\n",
    "    \n",
    "\n",
    "    return dt"
   ]
  },
  {
   "cell_type": "code",
   "execution_count": 197,
   "metadata": {
    "tags": []
   },
   "outputs": [
    {
     "name": "stdout",
     "output_type": "stream",
     "text": [
      "누락 데이터 수집한 shape\n",
      "(6, 5)\n",
      "누락 데이터 수집한 후 칼럼 증가!! shape\n",
      "(6, 12)\n"
     ]
    },
    {
     "data": {
      "text/html": [
       "<div>\n",
       "<style scoped>\n",
       "    .dataframe tbody tr th:only-of-type {\n",
       "        vertical-align: middle;\n",
       "    }\n",
       "\n",
       "    .dataframe tbody tr th {\n",
       "        vertical-align: top;\n",
       "    }\n",
       "\n",
       "    .dataframe thead th {\n",
       "        text-align: right;\n",
       "    }\n",
       "</style>\n",
       "<table border=\"1\" class=\"dataframe\">\n",
       "  <thead>\n",
       "    <tr style=\"text-align: right;\">\n",
       "      <th></th>\n",
       "      <th>date</th>\n",
       "      <th>0</th>\n",
       "      <th>Title</th>\n",
       "      <th>Content</th>\n",
       "      <th>Image</th>\n",
       "      <th>1</th>\n",
       "      <th>2</th>\n",
       "      <th>3</th>\n",
       "      <th>4</th>\n",
       "      <th>5</th>\n",
       "      <th>6</th>\n",
       "      <th>7</th>\n",
       "    </tr>\n",
       "  </thead>\n",
       "  <tbody>\n",
       "    <tr>\n",
       "      <th>0</th>\n",
       "      <td>None</td>\n",
       "      <td>N110434</td>\n",
       "      <td>None</td>\n",
       "      <td>None</td>\n",
       "      <td>None</td>\n",
       "      <td>lifestyle</td>\n",
       "      <td>lifestylefamilyandrelationships</td>\n",
       "      <td>The 50 Most Common Last Names in America</td>\n",
       "      <td>What's in a name?\\thttps://assets.msn.com/labs...</td>\n",
       "      <td>[]</td>\n",
       "      <td>NaN</td>\n",
       "      <td>NaN</td>\n",
       "    </tr>\n",
       "    <tr>\n",
       "      <th>1</th>\n",
       "      <td>None</td>\n",
       "      <td>N74207</td>\n",
       "      <td>None</td>\n",
       "      <td>None</td>\n",
       "      <td>None</td>\n",
       "      <td>finance</td>\n",
       "      <td>finance-video</td>\n",
       "      <td>The Price You Pay: The spiraling cost of colle...</td>\n",
       "      <td>https://assets.msn.com/labs/mind/AAIKUGl.html</td>\n",
       "      <td>[]</td>\n",
       "      <td>[]</td>\n",
       "      <td>NaN</td>\n",
       "    </tr>\n",
       "    <tr>\n",
       "      <th>2</th>\n",
       "      <td>None</td>\n",
       "      <td>N113363</td>\n",
       "      <td>None</td>\n",
       "      <td>None</td>\n",
       "      <td>None</td>\n",
       "      <td>sports</td>\n",
       "      <td>football_nfl</td>\n",
       "      <td>Baker Mayfield injury update: 'No doubt' Brown...</td>\n",
       "      <td>He'll be in better shape physically and he'll ...</td>\n",
       "      <td>[{\"Label\": \"Freddie Kitchens\", \"Type\": \"P\", \"W...</td>\n",
       "      <td>NaN</td>\n",
       "      <td>NaN</td>\n",
       "    </tr>\n",
       "    <tr>\n",
       "      <th>3</th>\n",
       "      <td>None</td>\n",
       "      <td>N118418</td>\n",
       "      <td>None</td>\n",
       "      <td>None</td>\n",
       "      <td>None</td>\n",
       "      <td>news</td>\n",
       "      <td>newsus</td>\n",
       "      <td>The security has been stepped up': Forest Park...</td>\n",
       "      <td>https://assets.msn.com/labs/mind/AAJncPt.html</td>\n",
       "      <td>[{\"Label\": \"Forest Park\\u2013DeBaliviere stati...</td>\n",
       "      <td>[{\"Label\": \"St. Louis\", \"Type\": \"G\", \"Wikidata...</td>\n",
       "      <td>NaN</td>\n",
       "    </tr>\n",
       "    <tr>\n",
       "      <th>4</th>\n",
       "      <td>None</td>\n",
       "      <td>N102010</td>\n",
       "      <td>None</td>\n",
       "      <td>None</td>\n",
       "      <td>None</td>\n",
       "      <td>news</td>\n",
       "      <td>newsus</td>\n",
       "      <td>[We] walk dogs and pick up poo for free | Why ...</td>\n",
       "      <td>https://assets.msn.com/labs/mind/AAJUQ4w.html</td>\n",
       "      <td>[{\"Label\": \"Animal control service\", \"Type\": \"...</td>\n",
       "      <td>[{\"Label\": \"Animal control service\", \"Type\": \"...</td>\n",
       "      <td>NaN</td>\n",
       "    </tr>\n",
       "    <tr>\n",
       "      <th>5</th>\n",
       "      <td>None</td>\n",
       "      <td>N45635</td>\n",
       "      <td>None</td>\n",
       "      <td>None</td>\n",
       "      <td>None</td>\n",
       "      <td>video</td>\n",
       "      <td>news</td>\n",
       "      <td>Transcripts highlight Sean Hannity's political...</td>\n",
       "      <td>We're seeing really disturbing things coming o...</td>\n",
       "      <td>[{\"Label\": \"Sean Hannity\", \"Type\": \"P\", \"Wikid...</td>\n",
       "      <td>NaN</td>\n",
       "      <td>NaN</td>\n",
       "    </tr>\n",
       "  </tbody>\n",
       "</table>\n",
       "</div>"
      ],
      "text/plain": [
       "   date        0 Title Content Image          1  \\\n",
       "0  None  N110434  None    None  None  lifestyle   \n",
       "1  None   N74207  None    None  None    finance   \n",
       "2  None  N113363  None    None  None     sports   \n",
       "3  None  N118418  None    None  None       news   \n",
       "4  None  N102010  None    None  None       news   \n",
       "5  None   N45635  None    None  None      video   \n",
       "\n",
       "                                 2  \\\n",
       "0  lifestylefamilyandrelationships   \n",
       "1                    finance-video   \n",
       "2                     football_nfl   \n",
       "3                           newsus   \n",
       "4                           newsus   \n",
       "5                             news   \n",
       "\n",
       "                                                   3  \\\n",
       "0           The 50 Most Common Last Names in America   \n",
       "1  The Price You Pay: The spiraling cost of colle...   \n",
       "2  Baker Mayfield injury update: 'No doubt' Brown...   \n",
       "3  The security has been stepped up': Forest Park...   \n",
       "4  [We] walk dogs and pick up poo for free | Why ...   \n",
       "5  Transcripts highlight Sean Hannity's political...   \n",
       "\n",
       "                                                   4  \\\n",
       "0  What's in a name?\\thttps://assets.msn.com/labs...   \n",
       "1      https://assets.msn.com/labs/mind/AAIKUGl.html   \n",
       "2  He'll be in better shape physically and he'll ...   \n",
       "3      https://assets.msn.com/labs/mind/AAJncPt.html   \n",
       "4      https://assets.msn.com/labs/mind/AAJUQ4w.html   \n",
       "5  We're seeing really disturbing things coming o...   \n",
       "\n",
       "                                                   5  \\\n",
       "0                                                 []   \n",
       "1                                                 []   \n",
       "2  [{\"Label\": \"Freddie Kitchens\", \"Type\": \"P\", \"W...   \n",
       "3  [{\"Label\": \"Forest Park\\u2013DeBaliviere stati...   \n",
       "4  [{\"Label\": \"Animal control service\", \"Type\": \"...   \n",
       "5  [{\"Label\": \"Sean Hannity\", \"Type\": \"P\", \"Wikid...   \n",
       "\n",
       "                                                   6    7  \n",
       "0                                                NaN  NaN  \n",
       "1                                                 []  NaN  \n",
       "2                                                NaN  NaN  \n",
       "3  [{\"Label\": \"St. Louis\", \"Type\": \"G\", \"Wikidata...  NaN  \n",
       "4  [{\"Label\": \"Animal control service\", \"Type\": \"...  NaN  \n",
       "5                                                NaN  NaN  "
      ]
     },
     "execution_count": 197,
     "metadata": {},
     "output_type": "execute_result"
    }
   ],
   "source": [
    "dt = after_processing_strange_url(df_date, df2, dt)\n",
    "dt"
   ]
  },
  {
   "cell_type": "code",
   "execution_count": 198,
   "metadata": {
    "tags": []
   },
   "outputs": [
    {
     "name": "stdout",
     "output_type": "stream",
     "text": [
      "원래 데이터 demo_tr: (101527, 8)\n",
      "수집된 데이터 붙인 demo_tr: (101521, 13)\n",
      "----------------------------------------\n",
      "누락 데이터 수: 6\n"
     ]
    }
   ],
   "source": [
    "check_nurak_num(large_tr, '/Users/baeyuna/Documents/SNU_DLab/Data/msn_train')"
   ]
  },
  {
   "cell_type": "code",
   "execution_count": 199,
   "metadata": {},
   "outputs": [],
   "source": [
    "def final_strange_url(data, dt, integrated_df_path):\n",
    "    print('원래 데이터 :', data.shape)\n",
    "\n",
    "    integrated_df = pd.read_csv('{}.csv'.format(integrated_df_path))\n",
    "    integrated_df = integrated_df.drop(columns='nids')\n",
    "    \n",
    "    dt = dt.rename(columns={5:'5'})\n",
    "    dt = dt.rename(columns={0:'0'})\n",
    "    dt = dt.rename(columns={1:'1'})\n",
    "    dt = dt.rename(columns={2:'2'})\n",
    "    dt = dt.rename(columns={3:'3'})\n",
    "    dt = dt.rename(columns={4:'4'})\n",
    "    dt = dt.rename(columns={6:'6'})\n",
    "    dt = dt.rename(columns={7:'7'})\n",
    "    dt = dt.rename(columns={'date':'Date'})\n",
    "    dt = dt[integrated_df.columns.tolist()]\n",
    "    \n",
    "    df = pd.concat([dt, integrated_df])\n",
    "    print('추가 수집 완료 최종본:', df.shape)\n",
    "    return df"
   ]
  },
  {
   "cell_type": "code",
   "execution_count": 200,
   "metadata": {
    "tags": []
   },
   "outputs": [
    {
     "name": "stdout",
     "output_type": "stream",
     "text": [
      "원래 데이터 : (101527, 8)\n",
      "추가 수집 완료 최종본: (101527, 12)\n"
     ]
    },
    {
     "data": {
      "text/html": [
       "<div>\n",
       "<style scoped>\n",
       "    .dataframe tbody tr th:only-of-type {\n",
       "        vertical-align: middle;\n",
       "    }\n",
       "\n",
       "    .dataframe tbody tr th {\n",
       "        vertical-align: top;\n",
       "    }\n",
       "\n",
       "    .dataframe thead th {\n",
       "        text-align: right;\n",
       "    }\n",
       "</style>\n",
       "<table border=\"1\" class=\"dataframe\">\n",
       "  <thead>\n",
       "    <tr style=\"text-align: right;\">\n",
       "      <th></th>\n",
       "      <th>5</th>\n",
       "      <th>Title</th>\n",
       "      <th>Date</th>\n",
       "      <th>Image</th>\n",
       "      <th>Content</th>\n",
       "      <th>0</th>\n",
       "      <th>1</th>\n",
       "      <th>2</th>\n",
       "      <th>3</th>\n",
       "      <th>4</th>\n",
       "      <th>6</th>\n",
       "      <th>7</th>\n",
       "    </tr>\n",
       "  </thead>\n",
       "  <tbody>\n",
       "    <tr>\n",
       "      <th>0</th>\n",
       "      <td>[]</td>\n",
       "      <td>None</td>\n",
       "      <td>None</td>\n",
       "      <td>None</td>\n",
       "      <td>None</td>\n",
       "      <td>N110434</td>\n",
       "      <td>lifestyle</td>\n",
       "      <td>lifestylefamilyandrelationships</td>\n",
       "      <td>The 50 Most Common Last Names in America</td>\n",
       "      <td>What's in a name?\\thttps://assets.msn.com/labs...</td>\n",
       "      <td>NaN</td>\n",
       "      <td>NaN</td>\n",
       "    </tr>\n",
       "    <tr>\n",
       "      <th>1</th>\n",
       "      <td>[]</td>\n",
       "      <td>None</td>\n",
       "      <td>None</td>\n",
       "      <td>None</td>\n",
       "      <td>None</td>\n",
       "      <td>N74207</td>\n",
       "      <td>finance</td>\n",
       "      <td>finance-video</td>\n",
       "      <td>The Price You Pay: The spiraling cost of colle...</td>\n",
       "      <td>https://assets.msn.com/labs/mind/AAIKUGl.html</td>\n",
       "      <td>[]</td>\n",
       "      <td>NaN</td>\n",
       "    </tr>\n",
       "    <tr>\n",
       "      <th>2</th>\n",
       "      <td>[{\"Label\": \"Freddie Kitchens\", \"Type\": \"P\", \"W...</td>\n",
       "      <td>None</td>\n",
       "      <td>None</td>\n",
       "      <td>None</td>\n",
       "      <td>None</td>\n",
       "      <td>N113363</td>\n",
       "      <td>sports</td>\n",
       "      <td>football_nfl</td>\n",
       "      <td>Baker Mayfield injury update: 'No doubt' Brown...</td>\n",
       "      <td>He'll be in better shape physically and he'll ...</td>\n",
       "      <td>NaN</td>\n",
       "      <td>NaN</td>\n",
       "    </tr>\n",
       "    <tr>\n",
       "      <th>3</th>\n",
       "      <td>[{\"Label\": \"Forest Park\\u2013DeBaliviere stati...</td>\n",
       "      <td>None</td>\n",
       "      <td>None</td>\n",
       "      <td>None</td>\n",
       "      <td>None</td>\n",
       "      <td>N118418</td>\n",
       "      <td>news</td>\n",
       "      <td>newsus</td>\n",
       "      <td>The security has been stepped up': Forest Park...</td>\n",
       "      <td>https://assets.msn.com/labs/mind/AAJncPt.html</td>\n",
       "      <td>[{\"Label\": \"St. Louis\", \"Type\": \"G\", \"Wikidata...</td>\n",
       "      <td>NaN</td>\n",
       "    </tr>\n",
       "    <tr>\n",
       "      <th>4</th>\n",
       "      <td>[{\"Label\": \"Animal control service\", \"Type\": \"...</td>\n",
       "      <td>None</td>\n",
       "      <td>None</td>\n",
       "      <td>None</td>\n",
       "      <td>None</td>\n",
       "      <td>N102010</td>\n",
       "      <td>news</td>\n",
       "      <td>newsus</td>\n",
       "      <td>[We] walk dogs and pick up poo for free | Why ...</td>\n",
       "      <td>https://assets.msn.com/labs/mind/AAJUQ4w.html</td>\n",
       "      <td>[{\"Label\": \"Animal control service\", \"Type\": \"...</td>\n",
       "      <td>NaN</td>\n",
       "    </tr>\n",
       "  </tbody>\n",
       "</table>\n",
       "</div>"
      ],
      "text/plain": [
       "                                                   5 Title  Date Image  \\\n",
       "0                                                 []  None  None  None   \n",
       "1                                                 []  None  None  None   \n",
       "2  [{\"Label\": \"Freddie Kitchens\", \"Type\": \"P\", \"W...  None  None  None   \n",
       "3  [{\"Label\": \"Forest Park\\u2013DeBaliviere stati...  None  None  None   \n",
       "4  [{\"Label\": \"Animal control service\", \"Type\": \"...  None  None  None   \n",
       "\n",
       "  Content        0          1                                2  \\\n",
       "0    None  N110434  lifestyle  lifestylefamilyandrelationships   \n",
       "1    None   N74207    finance                    finance-video   \n",
       "2    None  N113363     sports                     football_nfl   \n",
       "3    None  N118418       news                           newsus   \n",
       "4    None  N102010       news                           newsus   \n",
       "\n",
       "                                                   3  \\\n",
       "0           The 50 Most Common Last Names in America   \n",
       "1  The Price You Pay: The spiraling cost of colle...   \n",
       "2  Baker Mayfield injury update: 'No doubt' Brown...   \n",
       "3  The security has been stepped up': Forest Park...   \n",
       "4  [We] walk dogs and pick up poo for free | Why ...   \n",
       "\n",
       "                                                   4  \\\n",
       "0  What's in a name?\\thttps://assets.msn.com/labs...   \n",
       "1      https://assets.msn.com/labs/mind/AAIKUGl.html   \n",
       "2  He'll be in better shape physically and he'll ...   \n",
       "3      https://assets.msn.com/labs/mind/AAJncPt.html   \n",
       "4      https://assets.msn.com/labs/mind/AAJUQ4w.html   \n",
       "\n",
       "                                                   6    7  \n",
       "0                                                NaN  NaN  \n",
       "1                                                 []  NaN  \n",
       "2                                                NaN  NaN  \n",
       "3  [{\"Label\": \"St. Louis\", \"Type\": \"G\", \"Wikidata...  NaN  \n",
       "4  [{\"Label\": \"Animal control service\", \"Type\": \"...  NaN  "
      ]
     },
     "execution_count": 200,
     "metadata": {},
     "output_type": "execute_result"
    }
   ],
   "source": [
    "dt = final_strange_url(large_tr, dt, '/Users/baeyuna/Documents/SNU_DLab/Data/msn_train')\n",
    "dt.head()"
   ]
  },
  {
   "cell_type": "code",
   "execution_count": 144,
   "metadata": {
    "tags": []
   },
   "outputs": [
    {
     "name": "stdout",
     "output_type": "stream",
     "text": [
      "save /Users/baeyuna/Documents/SNU_DLab/Data/MINDlarge_train/integrated_news.csv\n"
     ]
    }
   ],
   "source": [
    "# save_df(dt, '/Users/baeyuna/Documents/SNU_DLab/Data/MINDlarge_train')"
   ]
  },
  {
   "cell_type": "code",
   "execution_count": 201,
   "metadata": {
    "tags": []
   },
   "outputs": [
    {
     "name": "stdout",
     "output_type": "stream",
     "text": [
      "전체 Title 행 수: 101527\n",
      "nan인 Title 행 수: 6\n",
      "------------------------------\n",
      "Title 크롤링 가능 비율: 99.99409024200459\n",
      "전체 Date 행 수: 101527\n",
      "nan인 Date 행 수: 104\n",
      "------------------------------\n",
      "Date 크롤링 가능 비율: 99.89756419474622\n",
      "전체 Image 행 수: 101527\n",
      "nan인 Image 행 수: 20313\n",
      "------------------------------\n",
      "Image 크롤링 가능 비율: 79.99251430653915\n",
      "전체 Content 행 수: 101527\n",
      "nan인 Content 행 수: 10916\n",
      "------------------------------\n",
      "Content 크롤링 가능 비율: 89.24818028701725\n"
     ]
    }
   ],
   "source": [
    "crawling_ratio(dt, 'Title')\n",
    "crawling_ratio(dt, 'Date')\n",
    "crawling_ratio(dt, 'Image')\n",
    "crawling_ratio(dt, 'Content')"
   ]
  },
  {
   "cell_type": "markdown",
   "metadata": {},
   "source": [
    "## 4. large_dev  \n",
    "* url 형식이 이상함"
   ]
  },
  {
   "cell_type": "code",
   "execution_count": 202,
   "metadata": {
    "tags": []
   },
   "outputs": [
    {
     "name": "stdout",
     "output_type": "stream",
     "text": [
      "----누락 url list-----\n",
      "['[]', '[]', '[{\"Label\": \"Freddie Kitchens\", \"Type\": \"P\", \"WikidataId\": \"Q5496752\", \"Confidence\": 1.0, \"OccurrenceOffsets\": [90], \"SurfaceForms\": [\"Freddie Kitchens\"]}, {\"Label\": \"Baker Mayfield\", \"Type\": \"P\", \"WikidataId\": \"Q14950655\", \"Confidence\": 1.0, \"OccurrenceOffsets\": [115], \"SurfaceForms\": [\"Mayfield\"]}]', '[{\"Label\": \"Forest Park\\\\u2013DeBaliviere station\", \"Type\": \"F\", \"WikidataId\": \"Q5469071\", \"Confidence\": 1.0, \"OccurrenceOffsets\": [36], \"SurfaceForms\": [\"Forest Park Debaliviere\"]}]', '[{\"Label\": \"Animal control service\", \"Type\": \"U\", \"WikidataId\": \"Q3289646\", \"Confidence\": 1.0, \"OccurrenceOffsets\": [51], \"SurfaceForms\": [\"animal control\"]}]']\n",
      "\n",
      "----누락 원본 데이터-----\n"
     ]
    },
    {
     "data": {
      "text/html": [
       "<div>\n",
       "<style scoped>\n",
       "    .dataframe tbody tr th:only-of-type {\n",
       "        vertical-align: middle;\n",
       "    }\n",
       "\n",
       "    .dataframe tbody tr th {\n",
       "        vertical-align: top;\n",
       "    }\n",
       "\n",
       "    .dataframe thead th {\n",
       "        text-align: right;\n",
       "    }\n",
       "</style>\n",
       "<table border=\"1\" class=\"dataframe\">\n",
       "  <thead>\n",
       "    <tr style=\"text-align: right;\">\n",
       "      <th></th>\n",
       "      <th>0</th>\n",
       "      <th>1</th>\n",
       "      <th>2</th>\n",
       "      <th>3</th>\n",
       "      <th>4</th>\n",
       "      <th>5</th>\n",
       "      <th>6</th>\n",
       "      <th>7</th>\n",
       "    </tr>\n",
       "  </thead>\n",
       "  <tbody>\n",
       "    <tr>\n",
       "      <th>3932</th>\n",
       "      <td>N110434</td>\n",
       "      <td>lifestyle</td>\n",
       "      <td>lifestylefamilyandrelationships</td>\n",
       "      <td>The 50 Most Common Last Names in America</td>\n",
       "      <td>What's in a name?\\thttps://assets.msn.com/labs...</td>\n",
       "      <td>[]</td>\n",
       "      <td>NaN</td>\n",
       "      <td>NaN</td>\n",
       "    </tr>\n",
       "    <tr>\n",
       "      <th>31636</th>\n",
       "      <td>N74207</td>\n",
       "      <td>finance</td>\n",
       "      <td>finance-video</td>\n",
       "      <td>The Price You Pay: The spiraling cost of colle...</td>\n",
       "      <td>https://assets.msn.com/labs/mind/AAIKUGl.html</td>\n",
       "      <td>[]</td>\n",
       "      <td>[]</td>\n",
       "      <td>NaN</td>\n",
       "    </tr>\n",
       "    <tr>\n",
       "      <th>38358</th>\n",
       "      <td>N113363</td>\n",
       "      <td>sports</td>\n",
       "      <td>football_nfl</td>\n",
       "      <td>Baker Mayfield injury update: 'No doubt' Brown...</td>\n",
       "      <td>He'll be in better shape physically and he'll ...</td>\n",
       "      <td>[{\"Label\": \"Freddie Kitchens\", \"Type\": \"P\", \"W...</td>\n",
       "      <td>NaN</td>\n",
       "      <td>NaN</td>\n",
       "    </tr>\n",
       "    <tr>\n",
       "      <th>40467</th>\n",
       "      <td>N118418</td>\n",
       "      <td>news</td>\n",
       "      <td>newsus</td>\n",
       "      <td>The security has been stepped up': Forest Park...</td>\n",
       "      <td>https://assets.msn.com/labs/mind/AAJncPt.html</td>\n",
       "      <td>[{\"Label\": \"Forest Park\\u2013DeBaliviere stati...</td>\n",
       "      <td>[{\"Label\": \"St. Louis\", \"Type\": \"G\", \"Wikidata...</td>\n",
       "      <td>NaN</td>\n",
       "    </tr>\n",
       "    <tr>\n",
       "      <th>52863</th>\n",
       "      <td>N102010</td>\n",
       "      <td>news</td>\n",
       "      <td>newsus</td>\n",
       "      <td>[We] walk dogs and pick up poo for free | Why ...</td>\n",
       "      <td>https://assets.msn.com/labs/mind/AAJUQ4w.html</td>\n",
       "      <td>[{\"Label\": \"Animal control service\", \"Type\": \"...</td>\n",
       "      <td>[{\"Label\": \"Animal control service\", \"Type\": \"...</td>\n",
       "      <td>NaN</td>\n",
       "    </tr>\n",
       "  </tbody>\n",
       "</table>\n",
       "</div>"
      ],
      "text/plain": [
       "             0          1                                2  \\\n",
       "3932   N110434  lifestyle  lifestylefamilyandrelationships   \n",
       "31636   N74207    finance                    finance-video   \n",
       "38358  N113363     sports                     football_nfl   \n",
       "40467  N118418       news                           newsus   \n",
       "52863  N102010       news                           newsus   \n",
       "\n",
       "                                                       3  \\\n",
       "3932            The 50 Most Common Last Names in America   \n",
       "31636  The Price You Pay: The spiraling cost of colle...   \n",
       "38358  Baker Mayfield injury update: 'No doubt' Brown...   \n",
       "40467  The security has been stepped up': Forest Park...   \n",
       "52863  [We] walk dogs and pick up poo for free | Why ...   \n",
       "\n",
       "                                                       4  \\\n",
       "3932   What's in a name?\\thttps://assets.msn.com/labs...   \n",
       "31636      https://assets.msn.com/labs/mind/AAIKUGl.html   \n",
       "38358  He'll be in better shape physically and he'll ...   \n",
       "40467      https://assets.msn.com/labs/mind/AAJncPt.html   \n",
       "52863      https://assets.msn.com/labs/mind/AAJUQ4w.html   \n",
       "\n",
       "                                                       5  \\\n",
       "3932                                                  []   \n",
       "31636                                                 []   \n",
       "38358  [{\"Label\": \"Freddie Kitchens\", \"Type\": \"P\", \"W...   \n",
       "40467  [{\"Label\": \"Forest Park\\u2013DeBaliviere stati...   \n",
       "52863  [{\"Label\": \"Animal control service\", \"Type\": \"...   \n",
       "\n",
       "                                                       6    7  \n",
       "3932                                                 NaN  NaN  \n",
       "31636                                                 []  NaN  \n",
       "38358                                                NaN  NaN  \n",
       "40467  [{\"Label\": \"St. Louis\", \"Type\": \"G\", \"Wikidata...  NaN  \n",
       "52863  [{\"Label\": \"Animal control service\", \"Type\": \"...  NaN  "
      ]
     },
     "execution_count": 202,
     "metadata": {},
     "output_type": "execute_result"
    }
   ],
   "source": [
    "dt_urls, dt = nurak_data(large_dev, ['N110434', 'N74207', 'N113363', 'N118418', 'N102010'])\n",
    "\n",
    "print('----누락 url list-----')\n",
    "print(dt_urls)\n",
    "\n",
    "print()\n",
    "print('----누락 원본 데이터-----')\n",
    "dt "
   ]
  },
  {
   "cell_type": "code",
   "execution_count": 203,
   "metadata": {
    "tags": []
   },
   "outputs": [
    {
     "name": "stdout",
     "output_type": "stream",
     "text": [
      "crawling date start.\n"
     ]
    },
    {
     "name": "stderr",
     "output_type": "stream",
     "text": [
      "100%|██████████| 5/5 [00:00<00:00, 362.67it/s]"
     ]
    },
    {
     "name": "stdout",
     "output_type": "stream",
     "text": [
      "bottleneck .... Program will open chrome ... takes ages ...\n",
      "noooooo!!! parsing []\n",
      "noooooo!!! parsing []\n",
      "noooooo!!! parsing [{Label: Freddie Kitchens, Type: P, WikidataId: Q5496752, Confidence: 1.0, OccurrenceOffsets: [90], SurfaceForms: [Freddie Kitchens]}, {Label: Baker Mayfield, Type: P, WikidataId: Q14950655, Confidence: 1.0, OccurrenceOffsets: [115], SurfaceForms: [Mayfield]}]\n",
      "noooooo!!! parsing [{Label: Forest Park\\u2013DeBaliviere station, Type: F, WikidataId: Q5469071, Confidence: 1.0, OccurrenceOffsets: [36], SurfaceForms: [Forest Park Debaliviere]}]\n",
      "noooooo!!! parsing [{Label: Animal control service, Type: U, WikidataId: Q3289646, Confidence: 1.0, OccurrenceOffsets: [51], SurfaceForms: [animal control]}]\n",
      "-------Seconds: 2.054513931274414--------\n",
      "(5, 2)\n"
     ]
    },
    {
     "name": "stderr",
     "output_type": "stream",
     "text": [
      "\n"
     ]
    },
    {
     "data": {
      "text/html": [
       "<div>\n",
       "<style scoped>\n",
       "    .dataframe tbody tr th:only-of-type {\n",
       "        vertical-align: middle;\n",
       "    }\n",
       "\n",
       "    .dataframe tbody tr th {\n",
       "        vertical-align: top;\n",
       "    }\n",
       "\n",
       "    .dataframe thead th {\n",
       "        text-align: right;\n",
       "    }\n",
       "</style>\n",
       "<table border=\"1\" class=\"dataframe\">\n",
       "  <thead>\n",
       "    <tr style=\"text-align: right;\">\n",
       "      <th></th>\n",
       "      <th>date</th>\n",
       "      <th>url</th>\n",
       "    </tr>\n",
       "  </thead>\n",
       "  <tbody>\n",
       "    <tr>\n",
       "      <th>0</th>\n",
       "      <td>None</td>\n",
       "      <td>[]</td>\n",
       "    </tr>\n",
       "    <tr>\n",
       "      <th>1</th>\n",
       "      <td>None</td>\n",
       "      <td>[]</td>\n",
       "    </tr>\n",
       "    <tr>\n",
       "      <th>2</th>\n",
       "      <td>None</td>\n",
       "      <td>[{Label: Freddie Kitchens, Type: P, WikidataId...</td>\n",
       "    </tr>\n",
       "    <tr>\n",
       "      <th>3</th>\n",
       "      <td>None</td>\n",
       "      <td>[{Label: Forest Park\\u2013DeBaliviere station,...</td>\n",
       "    </tr>\n",
       "    <tr>\n",
       "      <th>4</th>\n",
       "      <td>None</td>\n",
       "      <td>[{Label: Animal control service, Type: U, Wiki...</td>\n",
       "    </tr>\n",
       "  </tbody>\n",
       "</table>\n",
       "</div>"
      ],
      "text/plain": [
       "   date                                                url\n",
       "0  None                                                 []\n",
       "1  None                                                 []\n",
       "2  None  [{Label: Freddie Kitchens, Type: P, WikidataId...\n",
       "3  None  [{Label: Forest Park\\u2013DeBaliviere station,...\n",
       "4  None  [{Label: Animal control service, Type: U, Wiki..."
      ]
     },
     "execution_count": 203,
     "metadata": {},
     "output_type": "execute_result"
    }
   ],
   "source": [
    "df_date = date_crawler(dt_urls)\n",
    "df_date"
   ]
  },
  {
   "cell_type": "code",
   "execution_count": 204,
   "metadata": {},
   "outputs": [
    {
     "data": {
      "text/html": [
       "<div>\n",
       "<style scoped>\n",
       "    .dataframe tbody tr th:only-of-type {\n",
       "        vertical-align: middle;\n",
       "    }\n",
       "\n",
       "    .dataframe tbody tr th {\n",
       "        vertical-align: top;\n",
       "    }\n",
       "\n",
       "    .dataframe thead th {\n",
       "        text-align: right;\n",
       "    }\n",
       "</style>\n",
       "<table border=\"1\" class=\"dataframe\">\n",
       "  <thead>\n",
       "    <tr style=\"text-align: right;\">\n",
       "      <th></th>\n",
       "      <th>date</th>\n",
       "      <th>0</th>\n",
       "    </tr>\n",
       "  </thead>\n",
       "  <tbody>\n",
       "    <tr>\n",
       "      <th>0</th>\n",
       "      <td>None</td>\n",
       "      <td>N110434</td>\n",
       "    </tr>\n",
       "    <tr>\n",
       "      <th>1</th>\n",
       "      <td>None</td>\n",
       "      <td>N74207</td>\n",
       "    </tr>\n",
       "    <tr>\n",
       "      <th>2</th>\n",
       "      <td>None</td>\n",
       "      <td>N113363</td>\n",
       "    </tr>\n",
       "    <tr>\n",
       "      <th>3</th>\n",
       "      <td>None</td>\n",
       "      <td>N118418</td>\n",
       "    </tr>\n",
       "    <tr>\n",
       "      <th>4</th>\n",
       "      <td>None</td>\n",
       "      <td>N102010</td>\n",
       "    </tr>\n",
       "  </tbody>\n",
       "</table>\n",
       "</div>"
      ],
      "text/plain": [
       "   date        0\n",
       "0  None  N110434\n",
       "1  None   N74207\n",
       "2  None  N113363\n",
       "3  None  N118418\n",
       "4  None  N102010"
      ]
     },
     "execution_count": 204,
     "metadata": {},
     "output_type": "execute_result"
    }
   ],
   "source": [
    "# 차후 df 결합을 위해 추가 \n",
    "df_date['0'] = ['N110434', 'N74207', 'N113363', 'N118418', 'N102010']\n",
    "df_date = df_date.drop(columns='url')\n",
    "df_date"
   ]
  },
  {
   "cell_type": "code",
   "execution_count": 205,
   "metadata": {
    "tags": []
   },
   "outputs": [
    {
     "name": "stderr",
     "output_type": "stream",
     "text": [
      "100%|██████████| 5/5 [00:00<00:00, 1128.23it/s]"
     ]
    },
    {
     "name": "stdout",
     "output_type": "stream",
     "text": [
      "crawling start.\n",
      "nooooooo!!!! parsing url: []\n",
      "nooooooo!!!! parsing url: []\n",
      "nooooooo!!!! parsing url: [{Label: Freddie Kitchens, Type: P, WikidataId: Q5496752, Confidence: 1.0, OccurrenceOffsets: [90], SurfaceForms: [Freddie Kitchens]}, {Label: Baker Mayfield, Type: P, WikidataId: Q14950655, Confidence: 1.0, OccurrenceOffsets: [115], SurfaceForms: [Mayfield]}]\n",
      "nooooooo!!!! parsing url: [{Label: Forest Park\\u2013DeBaliviere station, Type: F, WikidataId: Q5469071, Confidence: 1.0, OccurrenceOffsets: [36], SurfaceForms: [Forest Park Debaliviere]}]\n",
      "nooooooo!!!! parsing url: [{Label: Animal control service, Type: U, WikidataId: Q3289646, Confidence: 1.0, OccurrenceOffsets: [51], SurfaceForms: [animal control]}]\n",
      "-------Seconds: 0.08394598960876465--------\n",
      "5\n",
      "5\n",
      "5\n",
      "5\n",
      "(5, 4)\n"
     ]
    },
    {
     "name": "stderr",
     "output_type": "stream",
     "text": [
      "\n"
     ]
    },
    {
     "data": {
      "text/html": [
       "<div>\n",
       "<style scoped>\n",
       "    .dataframe tbody tr th:only-of-type {\n",
       "        vertical-align: middle;\n",
       "    }\n",
       "\n",
       "    .dataframe tbody tr th {\n",
       "        vertical-align: top;\n",
       "    }\n",
       "\n",
       "    .dataframe thead th {\n",
       "        text-align: right;\n",
       "    }\n",
       "</style>\n",
       "<table border=\"1\" class=\"dataframe\">\n",
       "  <thead>\n",
       "    <tr style=\"text-align: right;\">\n",
       "      <th></th>\n",
       "      <th>url</th>\n",
       "      <th>Title</th>\n",
       "      <th>Content</th>\n",
       "      <th>Image</th>\n",
       "    </tr>\n",
       "  </thead>\n",
       "  <tbody>\n",
       "    <tr>\n",
       "      <th>0</th>\n",
       "      <td>[]</td>\n",
       "      <td>None</td>\n",
       "      <td>None</td>\n",
       "      <td>None</td>\n",
       "    </tr>\n",
       "    <tr>\n",
       "      <th>1</th>\n",
       "      <td>[]</td>\n",
       "      <td>None</td>\n",
       "      <td>None</td>\n",
       "      <td>None</td>\n",
       "    </tr>\n",
       "    <tr>\n",
       "      <th>2</th>\n",
       "      <td>[{\"Label\": \"Freddie Kitchens\", \"Type\": \"P\", \"W...</td>\n",
       "      <td>None</td>\n",
       "      <td>None</td>\n",
       "      <td>None</td>\n",
       "    </tr>\n",
       "    <tr>\n",
       "      <th>3</th>\n",
       "      <td>[{\"Label\": \"Forest Park\\u2013DeBaliviere stati...</td>\n",
       "      <td>None</td>\n",
       "      <td>None</td>\n",
       "      <td>None</td>\n",
       "    </tr>\n",
       "    <tr>\n",
       "      <th>4</th>\n",
       "      <td>[{\"Label\": \"Animal control service\", \"Type\": \"...</td>\n",
       "      <td>None</td>\n",
       "      <td>None</td>\n",
       "      <td>None</td>\n",
       "    </tr>\n",
       "  </tbody>\n",
       "</table>\n",
       "</div>"
      ],
      "text/plain": [
       "                                                 url Title Content Image\n",
       "0                                                 []  None    None  None\n",
       "1                                                 []  None    None  None\n",
       "2  [{\"Label\": \"Freddie Kitchens\", \"Type\": \"P\", \"W...  None    None  None\n",
       "3  [{\"Label\": \"Forest Park\\u2013DeBaliviere stati...  None    None  None\n",
       "4  [{\"Label\": \"Animal control service\", \"Type\": \"...  None    None  None"
      ]
     },
     "execution_count": 205,
     "metadata": {},
     "output_type": "execute_result"
    }
   ],
   "source": [
    "df2 = crawler(dt_urls)\n",
    "df2"
   ]
  },
  {
   "cell_type": "code",
   "execution_count": 206,
   "metadata": {},
   "outputs": [
    {
     "data": {
      "text/html": [
       "<div>\n",
       "<style scoped>\n",
       "    .dataframe tbody tr th:only-of-type {\n",
       "        vertical-align: middle;\n",
       "    }\n",
       "\n",
       "    .dataframe tbody tr th {\n",
       "        vertical-align: top;\n",
       "    }\n",
       "\n",
       "    .dataframe thead th {\n",
       "        text-align: right;\n",
       "    }\n",
       "</style>\n",
       "<table border=\"1\" class=\"dataframe\">\n",
       "  <thead>\n",
       "    <tr style=\"text-align: right;\">\n",
       "      <th></th>\n",
       "      <th>Title</th>\n",
       "      <th>Content</th>\n",
       "      <th>Image</th>\n",
       "      <th>0</th>\n",
       "    </tr>\n",
       "  </thead>\n",
       "  <tbody>\n",
       "    <tr>\n",
       "      <th>0</th>\n",
       "      <td>None</td>\n",
       "      <td>None</td>\n",
       "      <td>None</td>\n",
       "      <td>N110434</td>\n",
       "    </tr>\n",
       "    <tr>\n",
       "      <th>1</th>\n",
       "      <td>None</td>\n",
       "      <td>None</td>\n",
       "      <td>None</td>\n",
       "      <td>N74207</td>\n",
       "    </tr>\n",
       "    <tr>\n",
       "      <th>2</th>\n",
       "      <td>None</td>\n",
       "      <td>None</td>\n",
       "      <td>None</td>\n",
       "      <td>N113363</td>\n",
       "    </tr>\n",
       "    <tr>\n",
       "      <th>3</th>\n",
       "      <td>None</td>\n",
       "      <td>None</td>\n",
       "      <td>None</td>\n",
       "      <td>N118418</td>\n",
       "    </tr>\n",
       "    <tr>\n",
       "      <th>4</th>\n",
       "      <td>None</td>\n",
       "      <td>None</td>\n",
       "      <td>None</td>\n",
       "      <td>N102010</td>\n",
       "    </tr>\n",
       "  </tbody>\n",
       "</table>\n",
       "</div>"
      ],
      "text/plain": [
       "  Title Content Image        0\n",
       "0  None    None  None  N110434\n",
       "1  None    None  None   N74207\n",
       "2  None    None  None  N113363\n",
       "3  None    None  None  N118418\n",
       "4  None    None  None  N102010"
      ]
     },
     "execution_count": 206,
     "metadata": {},
     "output_type": "execute_result"
    }
   ],
   "source": [
    "# 차후 df 결합을 위해 추가 \n",
    "df2['0'] = ['N110434', 'N74207', 'N113363', 'N118418', 'N102010']\n",
    "df2 = df2.drop(columns='url')\n",
    "df2"
   ]
  },
  {
   "cell_type": "code",
   "execution_count": 207,
   "metadata": {},
   "outputs": [
    {
     "name": "stdout",
     "output_type": "stream",
     "text": [
      "누락 데이터 수집한 shape\n",
      "(5, 5)\n",
      "누락 데이터 수집한 후 칼럼 증가!! shape\n",
      "(5, 12)\n"
     ]
    },
    {
     "data": {
      "text/html": [
       "<div>\n",
       "<style scoped>\n",
       "    .dataframe tbody tr th:only-of-type {\n",
       "        vertical-align: middle;\n",
       "    }\n",
       "\n",
       "    .dataframe tbody tr th {\n",
       "        vertical-align: top;\n",
       "    }\n",
       "\n",
       "    .dataframe thead th {\n",
       "        text-align: right;\n",
       "    }\n",
       "</style>\n",
       "<table border=\"1\" class=\"dataframe\">\n",
       "  <thead>\n",
       "    <tr style=\"text-align: right;\">\n",
       "      <th></th>\n",
       "      <th>date</th>\n",
       "      <th>0</th>\n",
       "      <th>Title</th>\n",
       "      <th>Content</th>\n",
       "      <th>Image</th>\n",
       "      <th>1</th>\n",
       "      <th>2</th>\n",
       "      <th>3</th>\n",
       "      <th>4</th>\n",
       "      <th>5</th>\n",
       "      <th>6</th>\n",
       "      <th>7</th>\n",
       "    </tr>\n",
       "  </thead>\n",
       "  <tbody>\n",
       "    <tr>\n",
       "      <th>0</th>\n",
       "      <td>None</td>\n",
       "      <td>N110434</td>\n",
       "      <td>None</td>\n",
       "      <td>None</td>\n",
       "      <td>None</td>\n",
       "      <td>lifestyle</td>\n",
       "      <td>lifestylefamilyandrelationships</td>\n",
       "      <td>The 50 Most Common Last Names in America</td>\n",
       "      <td>What's in a name?\\thttps://assets.msn.com/labs...</td>\n",
       "      <td>[]</td>\n",
       "      <td>NaN</td>\n",
       "      <td>NaN</td>\n",
       "    </tr>\n",
       "    <tr>\n",
       "      <th>1</th>\n",
       "      <td>None</td>\n",
       "      <td>N74207</td>\n",
       "      <td>None</td>\n",
       "      <td>None</td>\n",
       "      <td>None</td>\n",
       "      <td>finance</td>\n",
       "      <td>finance-video</td>\n",
       "      <td>The Price You Pay: The spiraling cost of colle...</td>\n",
       "      <td>https://assets.msn.com/labs/mind/AAIKUGl.html</td>\n",
       "      <td>[]</td>\n",
       "      <td>[]</td>\n",
       "      <td>NaN</td>\n",
       "    </tr>\n",
       "    <tr>\n",
       "      <th>2</th>\n",
       "      <td>None</td>\n",
       "      <td>N113363</td>\n",
       "      <td>None</td>\n",
       "      <td>None</td>\n",
       "      <td>None</td>\n",
       "      <td>sports</td>\n",
       "      <td>football_nfl</td>\n",
       "      <td>Baker Mayfield injury update: 'No doubt' Brown...</td>\n",
       "      <td>He'll be in better shape physically and he'll ...</td>\n",
       "      <td>[{\"Label\": \"Freddie Kitchens\", \"Type\": \"P\", \"W...</td>\n",
       "      <td>NaN</td>\n",
       "      <td>NaN</td>\n",
       "    </tr>\n",
       "    <tr>\n",
       "      <th>3</th>\n",
       "      <td>None</td>\n",
       "      <td>N118418</td>\n",
       "      <td>None</td>\n",
       "      <td>None</td>\n",
       "      <td>None</td>\n",
       "      <td>news</td>\n",
       "      <td>newsus</td>\n",
       "      <td>The security has been stepped up': Forest Park...</td>\n",
       "      <td>https://assets.msn.com/labs/mind/AAJncPt.html</td>\n",
       "      <td>[{\"Label\": \"Forest Park\\u2013DeBaliviere stati...</td>\n",
       "      <td>[{\"Label\": \"St. Louis\", \"Type\": \"G\", \"Wikidata...</td>\n",
       "      <td>NaN</td>\n",
       "    </tr>\n",
       "    <tr>\n",
       "      <th>4</th>\n",
       "      <td>None</td>\n",
       "      <td>N102010</td>\n",
       "      <td>None</td>\n",
       "      <td>None</td>\n",
       "      <td>None</td>\n",
       "      <td>news</td>\n",
       "      <td>newsus</td>\n",
       "      <td>[We] walk dogs and pick up poo for free | Why ...</td>\n",
       "      <td>https://assets.msn.com/labs/mind/AAJUQ4w.html</td>\n",
       "      <td>[{\"Label\": \"Animal control service\", \"Type\": \"...</td>\n",
       "      <td>[{\"Label\": \"Animal control service\", \"Type\": \"...</td>\n",
       "      <td>NaN</td>\n",
       "    </tr>\n",
       "  </tbody>\n",
       "</table>\n",
       "</div>"
      ],
      "text/plain": [
       "   date        0 Title Content Image          1  \\\n",
       "0  None  N110434  None    None  None  lifestyle   \n",
       "1  None   N74207  None    None  None    finance   \n",
       "2  None  N113363  None    None  None     sports   \n",
       "3  None  N118418  None    None  None       news   \n",
       "4  None  N102010  None    None  None       news   \n",
       "\n",
       "                                 2  \\\n",
       "0  lifestylefamilyandrelationships   \n",
       "1                    finance-video   \n",
       "2                     football_nfl   \n",
       "3                           newsus   \n",
       "4                           newsus   \n",
       "\n",
       "                                                   3  \\\n",
       "0           The 50 Most Common Last Names in America   \n",
       "1  The Price You Pay: The spiraling cost of colle...   \n",
       "2  Baker Mayfield injury update: 'No doubt' Brown...   \n",
       "3  The security has been stepped up': Forest Park...   \n",
       "4  [We] walk dogs and pick up poo for free | Why ...   \n",
       "\n",
       "                                                   4  \\\n",
       "0  What's in a name?\\thttps://assets.msn.com/labs...   \n",
       "1      https://assets.msn.com/labs/mind/AAIKUGl.html   \n",
       "2  He'll be in better shape physically and he'll ...   \n",
       "3      https://assets.msn.com/labs/mind/AAJncPt.html   \n",
       "4      https://assets.msn.com/labs/mind/AAJUQ4w.html   \n",
       "\n",
       "                                                   5  \\\n",
       "0                                                 []   \n",
       "1                                                 []   \n",
       "2  [{\"Label\": \"Freddie Kitchens\", \"Type\": \"P\", \"W...   \n",
       "3  [{\"Label\": \"Forest Park\\u2013DeBaliviere stati...   \n",
       "4  [{\"Label\": \"Animal control service\", \"Type\": \"...   \n",
       "\n",
       "                                                   6    7  \n",
       "0                                                NaN  NaN  \n",
       "1                                                 []  NaN  \n",
       "2                                                NaN  NaN  \n",
       "3  [{\"Label\": \"St. Louis\", \"Type\": \"G\", \"Wikidata...  NaN  \n",
       "4  [{\"Label\": \"Animal control service\", \"Type\": \"...  NaN  "
      ]
     },
     "execution_count": 207,
     "metadata": {},
     "output_type": "execute_result"
    }
   ],
   "source": [
    "dt = after_processing_strange_url(df_date, df2, dt)\n",
    "dt"
   ]
  },
  {
   "cell_type": "code",
   "execution_count": 208,
   "metadata": {},
   "outputs": [
    {
     "name": "stdout",
     "output_type": "stream",
     "text": [
      "원래 데이터 demo_tr: (72023, 8)\n",
      "수집된 데이터 붙인 demo_tr: (72018, 13)\n",
      "----------------------------------------\n",
      "누락 데이터 수: 5\n"
     ]
    }
   ],
   "source": [
    "check_nurak_num(large_dev, '/Users/baeyuna/Documents/SNU_DLab/Data/msn_dev')"
   ]
  },
  {
   "cell_type": "code",
   "execution_count": 209,
   "metadata": {},
   "outputs": [
    {
     "name": "stdout",
     "output_type": "stream",
     "text": [
      "원래 데이터 : (72023, 8)\n",
      "추가 수집 완료 최종본: (72023, 12)\n"
     ]
    },
    {
     "data": {
      "text/html": [
       "<div>\n",
       "<style scoped>\n",
       "    .dataframe tbody tr th:only-of-type {\n",
       "        vertical-align: middle;\n",
       "    }\n",
       "\n",
       "    .dataframe tbody tr th {\n",
       "        vertical-align: top;\n",
       "    }\n",
       "\n",
       "    .dataframe thead th {\n",
       "        text-align: right;\n",
       "    }\n",
       "</style>\n",
       "<table border=\"1\" class=\"dataframe\">\n",
       "  <thead>\n",
       "    <tr style=\"text-align: right;\">\n",
       "      <th></th>\n",
       "      <th>5</th>\n",
       "      <th>Title</th>\n",
       "      <th>Date</th>\n",
       "      <th>Image</th>\n",
       "      <th>Content</th>\n",
       "      <th>0</th>\n",
       "      <th>1</th>\n",
       "      <th>2</th>\n",
       "      <th>3</th>\n",
       "      <th>4</th>\n",
       "      <th>6</th>\n",
       "      <th>7</th>\n",
       "    </tr>\n",
       "  </thead>\n",
       "  <tbody>\n",
       "    <tr>\n",
       "      <th>0</th>\n",
       "      <td>[]</td>\n",
       "      <td>None</td>\n",
       "      <td>None</td>\n",
       "      <td>None</td>\n",
       "      <td>None</td>\n",
       "      <td>N110434</td>\n",
       "      <td>lifestyle</td>\n",
       "      <td>lifestylefamilyandrelationships</td>\n",
       "      <td>The 50 Most Common Last Names in America</td>\n",
       "      <td>What's in a name?\\thttps://assets.msn.com/labs...</td>\n",
       "      <td>NaN</td>\n",
       "      <td>NaN</td>\n",
       "    </tr>\n",
       "    <tr>\n",
       "      <th>1</th>\n",
       "      <td>[]</td>\n",
       "      <td>None</td>\n",
       "      <td>None</td>\n",
       "      <td>None</td>\n",
       "      <td>None</td>\n",
       "      <td>N74207</td>\n",
       "      <td>finance</td>\n",
       "      <td>finance-video</td>\n",
       "      <td>The Price You Pay: The spiraling cost of colle...</td>\n",
       "      <td>https://assets.msn.com/labs/mind/AAIKUGl.html</td>\n",
       "      <td>[]</td>\n",
       "      <td>NaN</td>\n",
       "    </tr>\n",
       "    <tr>\n",
       "      <th>2</th>\n",
       "      <td>[{\"Label\": \"Freddie Kitchens\", \"Type\": \"P\", \"W...</td>\n",
       "      <td>None</td>\n",
       "      <td>None</td>\n",
       "      <td>None</td>\n",
       "      <td>None</td>\n",
       "      <td>N113363</td>\n",
       "      <td>sports</td>\n",
       "      <td>football_nfl</td>\n",
       "      <td>Baker Mayfield injury update: 'No doubt' Brown...</td>\n",
       "      <td>He'll be in better shape physically and he'll ...</td>\n",
       "      <td>NaN</td>\n",
       "      <td>NaN</td>\n",
       "    </tr>\n",
       "    <tr>\n",
       "      <th>3</th>\n",
       "      <td>[{\"Label\": \"Forest Park\\u2013DeBaliviere stati...</td>\n",
       "      <td>None</td>\n",
       "      <td>None</td>\n",
       "      <td>None</td>\n",
       "      <td>None</td>\n",
       "      <td>N118418</td>\n",
       "      <td>news</td>\n",
       "      <td>newsus</td>\n",
       "      <td>The security has been stepped up': Forest Park...</td>\n",
       "      <td>https://assets.msn.com/labs/mind/AAJncPt.html</td>\n",
       "      <td>[{\"Label\": \"St. Louis\", \"Type\": \"G\", \"Wikidata...</td>\n",
       "      <td>NaN</td>\n",
       "    </tr>\n",
       "    <tr>\n",
       "      <th>4</th>\n",
       "      <td>[{\"Label\": \"Animal control service\", \"Type\": \"...</td>\n",
       "      <td>None</td>\n",
       "      <td>None</td>\n",
       "      <td>None</td>\n",
       "      <td>None</td>\n",
       "      <td>N102010</td>\n",
       "      <td>news</td>\n",
       "      <td>newsus</td>\n",
       "      <td>[We] walk dogs and pick up poo for free | Why ...</td>\n",
       "      <td>https://assets.msn.com/labs/mind/AAJUQ4w.html</td>\n",
       "      <td>[{\"Label\": \"Animal control service\", \"Type\": \"...</td>\n",
       "      <td>NaN</td>\n",
       "    </tr>\n",
       "  </tbody>\n",
       "</table>\n",
       "</div>"
      ],
      "text/plain": [
       "                                                   5 Title  Date Image  \\\n",
       "0                                                 []  None  None  None   \n",
       "1                                                 []  None  None  None   \n",
       "2  [{\"Label\": \"Freddie Kitchens\", \"Type\": \"P\", \"W...  None  None  None   \n",
       "3  [{\"Label\": \"Forest Park\\u2013DeBaliviere stati...  None  None  None   \n",
       "4  [{\"Label\": \"Animal control service\", \"Type\": \"...  None  None  None   \n",
       "\n",
       "  Content        0          1                                2  \\\n",
       "0    None  N110434  lifestyle  lifestylefamilyandrelationships   \n",
       "1    None   N74207    finance                    finance-video   \n",
       "2    None  N113363     sports                     football_nfl   \n",
       "3    None  N118418       news                           newsus   \n",
       "4    None  N102010       news                           newsus   \n",
       "\n",
       "                                                   3  \\\n",
       "0           The 50 Most Common Last Names in America   \n",
       "1  The Price You Pay: The spiraling cost of colle...   \n",
       "2  Baker Mayfield injury update: 'No doubt' Brown...   \n",
       "3  The security has been stepped up': Forest Park...   \n",
       "4  [We] walk dogs and pick up poo for free | Why ...   \n",
       "\n",
       "                                                   4  \\\n",
       "0  What's in a name?\\thttps://assets.msn.com/labs...   \n",
       "1      https://assets.msn.com/labs/mind/AAIKUGl.html   \n",
       "2  He'll be in better shape physically and he'll ...   \n",
       "3      https://assets.msn.com/labs/mind/AAJncPt.html   \n",
       "4      https://assets.msn.com/labs/mind/AAJUQ4w.html   \n",
       "\n",
       "                                                   6    7  \n",
       "0                                                NaN  NaN  \n",
       "1                                                 []  NaN  \n",
       "2                                                NaN  NaN  \n",
       "3  [{\"Label\": \"St. Louis\", \"Type\": \"G\", \"Wikidata...  NaN  \n",
       "4  [{\"Label\": \"Animal control service\", \"Type\": \"...  NaN  "
      ]
     },
     "execution_count": 209,
     "metadata": {},
     "output_type": "execute_result"
    }
   ],
   "source": [
    "dt = final_strange_url(large_dev, dt, '/Users/baeyuna/Documents/SNU_DLab/Data/msn_dev')\n",
    "dt.head()"
   ]
  },
  {
   "cell_type": "code",
   "execution_count": 210,
   "metadata": {},
   "outputs": [],
   "source": [
    "# save_df(dt, '/Users/baeyuna/Documents/SNU_DLab/Data/MINDlarge_dev')"
   ]
  },
  {
   "cell_type": "code",
   "execution_count": 211,
   "metadata": {},
   "outputs": [
    {
     "name": "stdout",
     "output_type": "stream",
     "text": [
      "전체 Title 행 수: 72023\n",
      "nan인 Title 행 수: 5\n",
      "------------------------------\n",
      "Title 크롤링 가능 비율: 99.99305777321133\n",
      "전체 Date 행 수: 72023\n",
      "nan인 Date 행 수: 483\n",
      "------------------------------\n",
      "Date 크롤링 가능 비율: 99.32938089221499\n",
      "전체 Image 행 수: 72023\n",
      "nan인 Image 행 수: 13653\n",
      "------------------------------\n",
      "Image 크롤링 가능 비율: 81.04355553087208\n",
      "전체 Content 행 수: 72023\n",
      "nan인 Content 행 수: 7176\n",
      "------------------------------\n",
      "Content 크롤링 가능 비율: 90.03651611290837\n"
     ]
    }
   ],
   "source": [
    "crawling_ratio(dt, 'Title')\n",
    "crawling_ratio(dt, 'Date')\n",
    "crawling_ratio(dt, 'Image')\n",
    "crawling_ratio(dt, 'Content')"
   ]
  },
  {
   "cell_type": "code",
   "execution_count": null,
   "metadata": {},
   "outputs": [],
   "source": []
  }
 ],
 "metadata": {
  "kernelspec": {
   "display_name": "Python 3",
   "language": "python",
   "name": "python3"
  },
  "language_info": {
   "codemirror_mode": {
    "name": "ipython",
    "version": 3
   },
   "file_extension": ".py",
   "mimetype": "text/x-python",
   "name": "python",
   "nbconvert_exporter": "python",
   "pygments_lexer": "ipython3",
   "version": "3.7.6"
  }
 },
 "nbformat": 4,
 "nbformat_minor": 4
}
