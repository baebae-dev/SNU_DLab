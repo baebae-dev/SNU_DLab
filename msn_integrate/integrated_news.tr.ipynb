{
 "cells": [
  {
   "cell_type": "code",
   "execution_count": 1,
   "metadata": {},
   "outputs": [],
   "source": [
    "import pandas as pd\n",
    "from tqdm import tqdm"
   ]
  },
  {
   "cell_type": "code",
   "execution_count": 6,
   "metadata": {},
   "outputs": [],
   "source": [
    "tr1 = pd.read_csv('/Users/baeyuna/Documents/SNU_DLab/msn_integrate/date_tr1.csv')\n",
    "tr2 = pd.read_csv('/Users/baeyuna/Documents/SNU_DLab/msn_integrate/date_tr2.csv')\n",
    "tr3 = pd.read_csv('/Users/baeyuna/Documents/SNU_DLab/msn_integrate/date_tr3.csv')\n",
    "tr4 = pd.read_csv('/Users/baeyuna/Documents/SNU_DLab/msn_integrate/date_tr4.csv')\n",
    "tr5 = pd.read_csv('/Users/baeyuna/Documents/SNU_DLab/msn_integrate/date_tr5.csv')"
   ]
  },
  {
   "cell_type": "code",
   "execution_count": 17,
   "metadata": {
    "tags": []
   },
   "outputs": [],
   "source": [
    "tr = pd.concat([tr1,tr2])\n",
    "print(tr.shape)\n",
    "tr = pd.concat([tr,tr3])\n",
    "print(tr.shape)\n",
    "tr = pd.concat([tr,tr4])\n",
    "print(tr.shape)\n",
    "tr = pd.concat([tr,tr5])\n",
    "print(tr.shape)\n",
    "tr = tr.reset_index()"
   ]
  },
  {
   "cell_type": "code",
   "execution_count": 19,
   "metadata": {},
   "outputs": [
    {
     "output_type": "execute_result",
     "data": {
      "text/plain": "   index                      date  \\\n0      0  2019-10-29T12:36:23.000Z   \n1      1  2019-12-26T14:50:00.000Z   \n2      2  2019-10-22T14:12:29.000Z   \n3      3  2019-10-29T12:45:14.000Z   \n4      4  2019-10-14T18:53:58.000Z   \n\n                                                 url  \n0  https://www.msn.com/en-us/health/health-news/m...  \n1  https://www.msn.com/en-us/lifestyle/lifestyler...  \n2  https://www.msn.com/en-us/sports/basketball_nb...  \n3  https://www.msn.com/en-us/sports/golf/randalls...  \n4  https://www.msn.com/en-us/movies/movies-galler...  ",
      "text/html": "<div>\n<style scoped>\n    .dataframe tbody tr th:only-of-type {\n        vertical-align: middle;\n    }\n\n    .dataframe tbody tr th {\n        vertical-align: top;\n    }\n\n    .dataframe thead th {\n        text-align: right;\n    }\n</style>\n<table border=\"1\" class=\"dataframe\">\n  <thead>\n    <tr style=\"text-align: right;\">\n      <th></th>\n      <th>index</th>\n      <th>date</th>\n      <th>url</th>\n    </tr>\n  </thead>\n  <tbody>\n    <tr>\n      <th>0</th>\n      <td>0</td>\n      <td>2019-10-29T12:36:23.000Z</td>\n      <td>https://www.msn.com/en-us/health/health-news/m...</td>\n    </tr>\n    <tr>\n      <th>1</th>\n      <td>1</td>\n      <td>2019-12-26T14:50:00.000Z</td>\n      <td>https://www.msn.com/en-us/lifestyle/lifestyler...</td>\n    </tr>\n    <tr>\n      <th>2</th>\n      <td>2</td>\n      <td>2019-10-22T14:12:29.000Z</td>\n      <td>https://www.msn.com/en-us/sports/basketball_nb...</td>\n    </tr>\n    <tr>\n      <th>3</th>\n      <td>3</td>\n      <td>2019-10-29T12:45:14.000Z</td>\n      <td>https://www.msn.com/en-us/sports/golf/randalls...</td>\n    </tr>\n    <tr>\n      <th>4</th>\n      <td>4</td>\n      <td>2019-10-14T18:53:58.000Z</td>\n      <td>https://www.msn.com/en-us/movies/movies-galler...</td>\n    </tr>\n  </tbody>\n</table>\n</div>"
     },
     "metadata": {},
     "execution_count": 19
    }
   ],
   "source": [
    "tr.head()"
   ]
  },
  {
   "cell_type": "code",
   "execution_count": 26,
   "metadata": {
    "tags": []
   },
   "outputs": [
    {
     "output_type": "stream",
     "name": "stdout",
     "text": "4059\n"
    },
    {
     "output_type": "execute_result",
     "data": {
      "text/plain": "                          date  \\\n0     2019-10-29T12:36:23.000Z   \n1     2019-12-26T14:50:00.000Z   \n2     2019-10-22T14:12:29.000Z   \n3     2019-10-29T12:45:14.000Z   \n4     2019-10-14T18:53:58.000Z   \n...                        ...   \n4054  2019-11-10T01:30:49.000Z   \n4055  2019-11-12T21:34:03.000Z   \n4056  2019-11-11T18:21:41.000Z   \n4057  2019-11-13T19:48:00.000Z   \n4058  2019-11-11T18:14:37.000Z   \n\n                                                      5  \n0     https://www.msn.com/en-us/health/health-news/m...  \n1     https://www.msn.com/en-us/lifestyle/lifestyler...  \n2     https://www.msn.com/en-us/sports/basketball_nb...  \n3     https://www.msn.com/en-us/sports/golf/randalls...  \n4     https://www.msn.com/en-us/movies/movies-galler...  \n...                                                 ...  \n4054  https://www.msn.com/en-us/sports/nba/video-sne...  \n4055  https://www.msn.com/en-us/video/news/michael-b...  \n4056  https://www.msn.com/en-us/news/newscrime/man-c...  \n4057  https://www.msn.com/en-us/finance/finance-top-...  \n4058  https://www.msn.com/en-us/sports/basketball_nb...  \n\n[4059 rows x 2 columns]",
      "text/html": "<div>\n<style scoped>\n    .dataframe tbody tr th:only-of-type {\n        vertical-align: middle;\n    }\n\n    .dataframe tbody tr th {\n        vertical-align: top;\n    }\n\n    .dataframe thead th {\n        text-align: right;\n    }\n</style>\n<table border=\"1\" class=\"dataframe\">\n  <thead>\n    <tr style=\"text-align: right;\">\n      <th></th>\n      <th>date</th>\n      <th>5</th>\n    </tr>\n  </thead>\n  <tbody>\n    <tr>\n      <th>0</th>\n      <td>2019-10-29T12:36:23.000Z</td>\n      <td>https://www.msn.com/en-us/health/health-news/m...</td>\n    </tr>\n    <tr>\n      <th>1</th>\n      <td>2019-12-26T14:50:00.000Z</td>\n      <td>https://www.msn.com/en-us/lifestyle/lifestyler...</td>\n    </tr>\n    <tr>\n      <th>2</th>\n      <td>2019-10-22T14:12:29.000Z</td>\n      <td>https://www.msn.com/en-us/sports/basketball_nb...</td>\n    </tr>\n    <tr>\n      <th>3</th>\n      <td>2019-10-29T12:45:14.000Z</td>\n      <td>https://www.msn.com/en-us/sports/golf/randalls...</td>\n    </tr>\n    <tr>\n      <th>4</th>\n      <td>2019-10-14T18:53:58.000Z</td>\n      <td>https://www.msn.com/en-us/movies/movies-galler...</td>\n    </tr>\n    <tr>\n      <th>...</th>\n      <td>...</td>\n      <td>...</td>\n    </tr>\n    <tr>\n      <th>4054</th>\n      <td>2019-11-10T01:30:49.000Z</td>\n      <td>https://www.msn.com/en-us/sports/nba/video-sne...</td>\n    </tr>\n    <tr>\n      <th>4055</th>\n      <td>2019-11-12T21:34:03.000Z</td>\n      <td>https://www.msn.com/en-us/video/news/michael-b...</td>\n    </tr>\n    <tr>\n      <th>4056</th>\n      <td>2019-11-11T18:21:41.000Z</td>\n      <td>https://www.msn.com/en-us/news/newscrime/man-c...</td>\n    </tr>\n    <tr>\n      <th>4057</th>\n      <td>2019-11-13T19:48:00.000Z</td>\n      <td>https://www.msn.com/en-us/finance/finance-top-...</td>\n    </tr>\n    <tr>\n      <th>4058</th>\n      <td>2019-11-11T18:14:37.000Z</td>\n      <td>https://www.msn.com/en-us/sports/basketball_nb...</td>\n    </tr>\n  </tbody>\n</table>\n<p>4059 rows × 2 columns</p>\n</div>"
     },
     "metadata": {},
     "execution_count": 26
    }
   ],
   "source": [
    "tr = tr.drop(columns = 'index')\n",
    "tr = tr.rename(columns = {'url':'5'})\n",
    "tr_urls = tr['5'].tolist()\n",
    "print(len(tr_urls))\n",
    "tr"
   ]
  },
  {
   "cell_type": "code",
   "execution_count": 3,
   "metadata": {},
   "outputs": [
    {
     "output_type": "execute_result",
     "data": {
      "text/plain": "                                                   5  \\\n0  https://www.msn.com/en-us/news/world/the-cost-...   \n1  https://www.msn.com/en-us/health/nutrition/50-...   \n2  https://www.msn.com/en-us/health/health-news/m...   \n3  https://www.msn.com/en-us/lifestyle/lifestyler...   \n4  https://www.msn.com/en-us/health/weightloss/th...   \n\n                                               Title Date  \\\n0                                                NaN  NaN   \n1                                                NaN  NaN   \n2  Michigan apple recall: Nearly 2,300 crates cou...  NaN   \n3         Every outfit Duchess Kate has worn in 2019  NaN   \n4                                                NaN  NaN   \n\n                                               Image  \\\n0                                                NaN   \n1                                                NaN   \n2  //static-entertainment-eas-s-msn-com.akamaized...   \n3  //static-entertainment-eas-s-msn-com.akamaized...   \n4                                                NaN   \n\n                                             Content       0          1  \\\n0                                                NaN  N10399       news   \n1                                                NaN   N9552     health   \n2  \\n\\n\\n\\n\\n\\n© North Bay Produce\\n Michigan's N...  N15322     health   \n3  Duchess Kate rarely puts a foot wrong when it ...  N25192  lifestyle   \n4                                                NaN  N25099     health   \n\n                 2                                                  3  \\\n0        newsworld  The Cost of Trump's Aid Freeze in the Trenches...   \n1        nutrition  50 Foods You Should Never Eat, According to He...   \n2      health-news  Michigan apple recall: Nearly 2,300 crates cou...   \n3  lifestyleroyals         Every outfit Duchess Kate has worn in 2019   \n4       weightloss  These Simple Diet Changes Helped This Guy Lose...   \n\n                                                   4  \\\n0  Lt. Ivan Molchanets peeked over a parapet of s...   \n1                             This is so depressing.   \n2  A Michigan produce company has recalled nearly...   \n3  See Kate Middleton's style choices this year f...   \n4  The part of me that knew I had to make changes...   \n\n                                                   6  \\\n0                                                 []   \n1                                                 []   \n2  [{\"Label\": \"Michigan\", \"Type\": \"G\", \"WikidataI...   \n3                                                 []   \n4                                                 []   \n\n                                                   7  \n0  [{\"Label\": \"Ukraine\", \"Type\": \"G\", \"WikidataId...  \n1                                                 []  \n2  [{\"Label\": \"Michigan\", \"Type\": \"G\", \"WikidataI...  \n3  [{\"Label\": \"Catherine, Duchess of Cambridge\", ...  \n4                                                 []  ",
      "text/html": "<div>\n<style scoped>\n    .dataframe tbody tr th:only-of-type {\n        vertical-align: middle;\n    }\n\n    .dataframe tbody tr th {\n        vertical-align: top;\n    }\n\n    .dataframe thead th {\n        text-align: right;\n    }\n</style>\n<table border=\"1\" class=\"dataframe\">\n  <thead>\n    <tr style=\"text-align: right;\">\n      <th></th>\n      <th>5</th>\n      <th>Title</th>\n      <th>Date</th>\n      <th>Image</th>\n      <th>Content</th>\n      <th>0</th>\n      <th>1</th>\n      <th>2</th>\n      <th>3</th>\n      <th>4</th>\n      <th>6</th>\n      <th>7</th>\n    </tr>\n  </thead>\n  <tbody>\n    <tr>\n      <th>0</th>\n      <td>https://www.msn.com/en-us/news/world/the-cost-...</td>\n      <td>NaN</td>\n      <td>NaN</td>\n      <td>NaN</td>\n      <td>NaN</td>\n      <td>N10399</td>\n      <td>news</td>\n      <td>newsworld</td>\n      <td>The Cost of Trump's Aid Freeze in the Trenches...</td>\n      <td>Lt. Ivan Molchanets peeked over a parapet of s...</td>\n      <td>[]</td>\n      <td>[{\"Label\": \"Ukraine\", \"Type\": \"G\", \"WikidataId...</td>\n    </tr>\n    <tr>\n      <th>1</th>\n      <td>https://www.msn.com/en-us/health/nutrition/50-...</td>\n      <td>NaN</td>\n      <td>NaN</td>\n      <td>NaN</td>\n      <td>NaN</td>\n      <td>N9552</td>\n      <td>health</td>\n      <td>nutrition</td>\n      <td>50 Foods You Should Never Eat, According to He...</td>\n      <td>This is so depressing.</td>\n      <td>[]</td>\n      <td>[]</td>\n    </tr>\n    <tr>\n      <th>2</th>\n      <td>https://www.msn.com/en-us/health/health-news/m...</td>\n      <td>Michigan apple recall: Nearly 2,300 crates cou...</td>\n      <td>NaN</td>\n      <td>//static-entertainment-eas-s-msn-com.akamaized...</td>\n      <td>\\n\\n\\n\\n\\n\\n© North Bay Produce\\n Michigan's N...</td>\n      <td>N15322</td>\n      <td>health</td>\n      <td>health-news</td>\n      <td>Michigan apple recall: Nearly 2,300 crates cou...</td>\n      <td>A Michigan produce company has recalled nearly...</td>\n      <td>[{\"Label\": \"Michigan\", \"Type\": \"G\", \"WikidataI...</td>\n      <td>[{\"Label\": \"Michigan\", \"Type\": \"G\", \"WikidataI...</td>\n    </tr>\n    <tr>\n      <th>3</th>\n      <td>https://www.msn.com/en-us/lifestyle/lifestyler...</td>\n      <td>Every outfit Duchess Kate has worn in 2019</td>\n      <td>NaN</td>\n      <td>//static-entertainment-eas-s-msn-com.akamaized...</td>\n      <td>Duchess Kate rarely puts a foot wrong when it ...</td>\n      <td>N25192</td>\n      <td>lifestyle</td>\n      <td>lifestyleroyals</td>\n      <td>Every outfit Duchess Kate has worn in 2019</td>\n      <td>See Kate Middleton's style choices this year f...</td>\n      <td>[]</td>\n      <td>[{\"Label\": \"Catherine, Duchess of Cambridge\", ...</td>\n    </tr>\n    <tr>\n      <th>4</th>\n      <td>https://www.msn.com/en-us/health/weightloss/th...</td>\n      <td>NaN</td>\n      <td>NaN</td>\n      <td>NaN</td>\n      <td>NaN</td>\n      <td>N25099</td>\n      <td>health</td>\n      <td>weightloss</td>\n      <td>These Simple Diet Changes Helped This Guy Lose...</td>\n      <td>The part of me that knew I had to make changes...</td>\n      <td>[]</td>\n      <td>[]</td>\n    </tr>\n  </tbody>\n</table>\n</div>"
     },
     "metadata": {},
     "execution_count": 3
    }
   ],
   "source": [
    "demo_tr_news = pd.read_csv('/Users/baeyuna/Documents/SNU_DLab/Data/demo_tr_news.csv')\n",
    "demo_tr_news.head()"
   ]
  },
  {
   "cell_type": "code",
   "execution_count": 27,
   "metadata": {
    "tags": []
   },
   "outputs": [
    {
     "output_type": "stream",
     "name": "stdout",
     "text": "(22713, 12)\n"
    },
    {
     "output_type": "execute_result",
     "data": {
      "text/plain": "                                                   5 Title Date Image Content  \\\n0  https://www.msn.com/en-us/news/world/the-cost-...   NaN  NaN   NaN     NaN   \n1  https://www.msn.com/en-us/health/nutrition/50-...   NaN  NaN   NaN     NaN   \n4  https://www.msn.com/en-us/health/weightloss/th...   NaN  NaN   NaN     NaN   \n8  https://www.msn.com/en-us/lifestyle/lifestyleb...   NaN  NaN   NaN     NaN   \n9  https://www.msn.com/en-us/lifestyle/shop-appar...   NaN  NaN   NaN     NaN   \n\n        0          1              2  \\\n0  N10399       news      newsworld   \n1   N9552     health      nutrition   \n4  N25099     health     weightloss   \n8    N811  lifestyle  lifestylebuzz   \n9  N16133  lifestyle   shop-apparel   \n\n                                                   3  \\\n0  The Cost of Trump's Aid Freeze in the Trenches...   \n1  50 Foods You Should Never Eat, According to He...   \n4  These Simple Diet Changes Helped This Guy Lose...   \n8  Millennials are killing purse sales and replac...   \n9  The Absolute Best One-piece Bathing Suits of 2019   \n\n                                                   4  \\\n0  Lt. Ivan Molchanets peeked over a parapet of s...   \n1                             This is so depressing.   \n4  The part of me that knew I had to make changes...   \n8  Sales of women's backpacks are consistently ri...   \n9  One-piece bathing suits are arguably the best ...   \n\n                                                   6  \\\n0                                                 []   \n1                                                 []   \n4                                                 []   \n8                                                 []   \n9  [{\"Label\": \"One-piece swimsuit\", \"Type\": \"C\", ...   \n\n                                                   7  \n0  [{\"Label\": \"Ukraine\", \"Type\": \"G\", \"WikidataId...  \n1                                                 []  \n4                                                 []  \n8                                                 []  \n9  [{\"Label\": \"One-piece swimsuit\", \"Type\": \"C\", ...  ",
      "text/html": "<div>\n<style scoped>\n    .dataframe tbody tr th:only-of-type {\n        vertical-align: middle;\n    }\n\n    .dataframe tbody tr th {\n        vertical-align: top;\n    }\n\n    .dataframe thead th {\n        text-align: right;\n    }\n</style>\n<table border=\"1\" class=\"dataframe\">\n  <thead>\n    <tr style=\"text-align: right;\">\n      <th></th>\n      <th>5</th>\n      <th>Title</th>\n      <th>Date</th>\n      <th>Image</th>\n      <th>Content</th>\n      <th>0</th>\n      <th>1</th>\n      <th>2</th>\n      <th>3</th>\n      <th>4</th>\n      <th>6</th>\n      <th>7</th>\n    </tr>\n  </thead>\n  <tbody>\n    <tr>\n      <th>0</th>\n      <td>https://www.msn.com/en-us/news/world/the-cost-...</td>\n      <td>NaN</td>\n      <td>NaN</td>\n      <td>NaN</td>\n      <td>NaN</td>\n      <td>N10399</td>\n      <td>news</td>\n      <td>newsworld</td>\n      <td>The Cost of Trump's Aid Freeze in the Trenches...</td>\n      <td>Lt. Ivan Molchanets peeked over a parapet of s...</td>\n      <td>[]</td>\n      <td>[{\"Label\": \"Ukraine\", \"Type\": \"G\", \"WikidataId...</td>\n    </tr>\n    <tr>\n      <th>1</th>\n      <td>https://www.msn.com/en-us/health/nutrition/50-...</td>\n      <td>NaN</td>\n      <td>NaN</td>\n      <td>NaN</td>\n      <td>NaN</td>\n      <td>N9552</td>\n      <td>health</td>\n      <td>nutrition</td>\n      <td>50 Foods You Should Never Eat, According to He...</td>\n      <td>This is so depressing.</td>\n      <td>[]</td>\n      <td>[]</td>\n    </tr>\n    <tr>\n      <th>4</th>\n      <td>https://www.msn.com/en-us/health/weightloss/th...</td>\n      <td>NaN</td>\n      <td>NaN</td>\n      <td>NaN</td>\n      <td>NaN</td>\n      <td>N25099</td>\n      <td>health</td>\n      <td>weightloss</td>\n      <td>These Simple Diet Changes Helped This Guy Lose...</td>\n      <td>The part of me that knew I had to make changes...</td>\n      <td>[]</td>\n      <td>[]</td>\n    </tr>\n    <tr>\n      <th>8</th>\n      <td>https://www.msn.com/en-us/lifestyle/lifestyleb...</td>\n      <td>NaN</td>\n      <td>NaN</td>\n      <td>NaN</td>\n      <td>NaN</td>\n      <td>N811</td>\n      <td>lifestyle</td>\n      <td>lifestylebuzz</td>\n      <td>Millennials are killing purse sales and replac...</td>\n      <td>Sales of women's backpacks are consistently ri...</td>\n      <td>[]</td>\n      <td>[]</td>\n    </tr>\n    <tr>\n      <th>9</th>\n      <td>https://www.msn.com/en-us/lifestyle/shop-appar...</td>\n      <td>NaN</td>\n      <td>NaN</td>\n      <td>NaN</td>\n      <td>NaN</td>\n      <td>N16133</td>\n      <td>lifestyle</td>\n      <td>shop-apparel</td>\n      <td>The Absolute Best One-piece Bathing Suits of 2019</td>\n      <td>One-piece bathing suits are arguably the best ...</td>\n      <td>[{\"Label\": \"One-piece swimsuit\", \"Type\": \"C\", ...</td>\n      <td>[{\"Label\": \"One-piece swimsuit\", \"Type\": \"C\", ...</td>\n    </tr>\n  </tbody>\n</table>\n</div>"
     },
     "metadata": {},
     "execution_count": 27
    }
   ],
   "source": [
    "dt1 = demo_tr_news.loc[~demo_tr_news['5'].isin(tr_urls)]\n",
    "print(dt1.shape)\n",
    "dt1.head()"
   ]
  },
  {
   "cell_type": "code",
   "execution_count": 28,
   "metadata": {
    "tags": []
   },
   "outputs": [
    {
     "output_type": "stream",
     "name": "stdout",
     "text": "(4025, 12)\n"
    },
    {
     "output_type": "execute_result",
     "data": {
      "text/plain": "                                                   5  \\\n2  https://www.msn.com/en-us/health/health-news/m...   \n3  https://www.msn.com/en-us/lifestyle/lifestyler...   \n5  https://www.msn.com/en-us/sports/basketball_nb...   \n6  https://www.msn.com/en-us/sports/golf/randalls...   \n7  https://www.msn.com/en-us/movies/movies-galler...   \n\n                                               Title Date  \\\n2  Michigan apple recall: Nearly 2,300 crates cou...  NaN   \n3         Every outfit Duchess Kate has worn in 2019  NaN   \n5  LA rivalry takes on new meaning for fans as La...  NaN   \n6  Randall’s Rant: Is Tiger already the GOAT with...  NaN   \n7  16 Live-Action Disney Movies in the Works Afte...  NaN   \n\n                                               Image  \\\n2  //static-entertainment-eas-s-msn-com.akamaized...   \n3  //static-entertainment-eas-s-msn-com.akamaized...   \n5  //static-entertainment-eas-s-msn-com.akamaized...   \n6  //static-entertainment-eas-s-msn-com.akamaized...   \n7  //static-entertainment-eas-s-msn-com.akamaized...   \n\n                                             Content       0          1  \\\n2  \\n\\n\\n\\n\\n\\n© North Bay Produce\\n Michigan's N...  N15322     health   \n3  Duchess Kate rarely puts a foot wrong when it ...  N25192  lifestyle   \n5  \\n\\n\\n\\n\\n\\n© Provided by USA Today Sports Med...  N27958     sports   \n6  You don’t need to be a world class litigator t...  N26200     sports   \n7  Disney will be pumping out live-action version...  N10728     movies   \n\n                 2                                                  3  \\\n2      health-news  Michigan apple recall: Nearly 2,300 crates cou...   \n3  lifestyleroyals         Every outfit Duchess Kate has worn in 2019   \n5   basketball_nba  LA rivalry takes on new meaning for fans as La...   \n6             golf  Randall's Rant: Is Tiger already the GOAT with...   \n7   movies-gallery  16 Live-Action Disney Movies in the Works Afte...   \n\n                                                   4  \\\n2  A Michigan produce company has recalled nearly...   \n3  See Kate Middleton's style choices this year f...   \n5  NBA Finals MVP Kawhi Leonard and other Clipper...   \n6  We may never understand what Tiger Woods has g...   \n7  The studio is raiding its vault to remake clas...   \n\n                                                   6  \\\n2  [{\"Label\": \"Michigan\", \"Type\": \"G\", \"WikidataI...   \n3                                                 []   \n5  [{\"Label\": \"Los Angeles Clippers\", \"Type\": \"O\"...   \n6  [{\"Label\": \"Tiger Woods\", \"Type\": \"P\", \"Wikida...   \n7  [{\"Label\": \"Maleficent: Mistress of Evil\", \"Ty...   \n\n                                                   7  \n2  [{\"Label\": \"Michigan\", \"Type\": \"G\", \"WikidataI...  \n3  [{\"Label\": \"Catherine, Duchess of Cambridge\", ...  \n5  [{\"Label\": \"Los Angeles Clippers\", \"Type\": \"O\"...  \n6  [{\"Label\": \"Tiger Woods\", \"Type\": \"P\", \"Wikida...  \n7  [{\"Label\": \"Mulan (1998 film)\", \"Type\": \"W\", \"...  ",
      "text/html": "<div>\n<style scoped>\n    .dataframe tbody tr th:only-of-type {\n        vertical-align: middle;\n    }\n\n    .dataframe tbody tr th {\n        vertical-align: top;\n    }\n\n    .dataframe thead th {\n        text-align: right;\n    }\n</style>\n<table border=\"1\" class=\"dataframe\">\n  <thead>\n    <tr style=\"text-align: right;\">\n      <th></th>\n      <th>5</th>\n      <th>Title</th>\n      <th>Date</th>\n      <th>Image</th>\n      <th>Content</th>\n      <th>0</th>\n      <th>1</th>\n      <th>2</th>\n      <th>3</th>\n      <th>4</th>\n      <th>6</th>\n      <th>7</th>\n    </tr>\n  </thead>\n  <tbody>\n    <tr>\n      <th>2</th>\n      <td>https://www.msn.com/en-us/health/health-news/m...</td>\n      <td>Michigan apple recall: Nearly 2,300 crates cou...</td>\n      <td>NaN</td>\n      <td>//static-entertainment-eas-s-msn-com.akamaized...</td>\n      <td>\\n\\n\\n\\n\\n\\n© North Bay Produce\\n Michigan's N...</td>\n      <td>N15322</td>\n      <td>health</td>\n      <td>health-news</td>\n      <td>Michigan apple recall: Nearly 2,300 crates cou...</td>\n      <td>A Michigan produce company has recalled nearly...</td>\n      <td>[{\"Label\": \"Michigan\", \"Type\": \"G\", \"WikidataI...</td>\n      <td>[{\"Label\": \"Michigan\", \"Type\": \"G\", \"WikidataI...</td>\n    </tr>\n    <tr>\n      <th>3</th>\n      <td>https://www.msn.com/en-us/lifestyle/lifestyler...</td>\n      <td>Every outfit Duchess Kate has worn in 2019</td>\n      <td>NaN</td>\n      <td>//static-entertainment-eas-s-msn-com.akamaized...</td>\n      <td>Duchess Kate rarely puts a foot wrong when it ...</td>\n      <td>N25192</td>\n      <td>lifestyle</td>\n      <td>lifestyleroyals</td>\n      <td>Every outfit Duchess Kate has worn in 2019</td>\n      <td>See Kate Middleton's style choices this year f...</td>\n      <td>[]</td>\n      <td>[{\"Label\": \"Catherine, Duchess of Cambridge\", ...</td>\n    </tr>\n    <tr>\n      <th>5</th>\n      <td>https://www.msn.com/en-us/sports/basketball_nb...</td>\n      <td>LA rivalry takes on new meaning for fans as La...</td>\n      <td>NaN</td>\n      <td>//static-entertainment-eas-s-msn-com.akamaized...</td>\n      <td>\\n\\n\\n\\n\\n\\n© Provided by USA Today Sports Med...</td>\n      <td>N27958</td>\n      <td>sports</td>\n      <td>basketball_nba</td>\n      <td>LA rivalry takes on new meaning for fans as La...</td>\n      <td>NBA Finals MVP Kawhi Leonard and other Clipper...</td>\n      <td>[{\"Label\": \"Los Angeles Clippers\", \"Type\": \"O\"...</td>\n      <td>[{\"Label\": \"Los Angeles Clippers\", \"Type\": \"O\"...</td>\n    </tr>\n    <tr>\n      <th>6</th>\n      <td>https://www.msn.com/en-us/sports/golf/randalls...</td>\n      <td>Randall’s Rant: Is Tiger already the GOAT with...</td>\n      <td>NaN</td>\n      <td>//static-entertainment-eas-s-msn-com.akamaized...</td>\n      <td>You don’t need to be a world class litigator t...</td>\n      <td>N26200</td>\n      <td>sports</td>\n      <td>golf</td>\n      <td>Randall's Rant: Is Tiger already the GOAT with...</td>\n      <td>We may never understand what Tiger Woods has g...</td>\n      <td>[{\"Label\": \"Tiger Woods\", \"Type\": \"P\", \"Wikida...</td>\n      <td>[{\"Label\": \"Tiger Woods\", \"Type\": \"P\", \"Wikida...</td>\n    </tr>\n    <tr>\n      <th>7</th>\n      <td>https://www.msn.com/en-us/movies/movies-galler...</td>\n      <td>16 Live-Action Disney Movies in the Works Afte...</td>\n      <td>NaN</td>\n      <td>//static-entertainment-eas-s-msn-com.akamaized...</td>\n      <td>Disney will be pumping out live-action version...</td>\n      <td>N10728</td>\n      <td>movies</td>\n      <td>movies-gallery</td>\n      <td>16 Live-Action Disney Movies in the Works Afte...</td>\n      <td>The studio is raiding its vault to remake clas...</td>\n      <td>[{\"Label\": \"Maleficent: Mistress of Evil\", \"Ty...</td>\n      <td>[{\"Label\": \"Mulan (1998 film)\", \"Type\": \"W\", \"...</td>\n    </tr>\n  </tbody>\n</table>\n</div>"
     },
     "metadata": {},
     "execution_count": 28
    }
   ],
   "source": [
    "dt2 = demo_tr_news.loc[demo_tr_news['5'].isin(tr_urls)]\n",
    "print(dt2.shape)\n",
    "dt2.head()"
   ]
  },
  {
   "cell_type": "code",
   "execution_count": 31,
   "metadata": {
    "tags": []
   },
   "outputs": [
    {
     "output_type": "stream",
     "name": "stdout",
     "text": "(4025, 12)\n"
    },
    {
     "output_type": "execute_result",
     "data": {
      "text/plain": "                       Date  \\\n0  2019-10-29T12:36:23.000Z   \n1  2019-12-26T14:50:00.000Z   \n2  2019-10-22T14:12:29.000Z   \n3  2019-10-29T12:45:14.000Z   \n4  2019-10-14T18:53:58.000Z   \n\n                                                   5  \\\n0  https://www.msn.com/en-us/health/health-news/m...   \n1  https://www.msn.com/en-us/lifestyle/lifestyler...   \n2  https://www.msn.com/en-us/sports/basketball_nb...   \n3  https://www.msn.com/en-us/sports/golf/randalls...   \n4  https://www.msn.com/en-us/movies/movies-galler...   \n\n                                               Title  \\\n0  Michigan apple recall: Nearly 2,300 crates cou...   \n1         Every outfit Duchess Kate has worn in 2019   \n2  LA rivalry takes on new meaning for fans as La...   \n3  Randall’s Rant: Is Tiger already the GOAT with...   \n4  16 Live-Action Disney Movies in the Works Afte...   \n\n                                               Image  \\\n0  //static-entertainment-eas-s-msn-com.akamaized...   \n1  //static-entertainment-eas-s-msn-com.akamaized...   \n2  //static-entertainment-eas-s-msn-com.akamaized...   \n3  //static-entertainment-eas-s-msn-com.akamaized...   \n4  //static-entertainment-eas-s-msn-com.akamaized...   \n\n                                             Content       0          1  \\\n0  \\n\\n\\n\\n\\n\\n© North Bay Produce\\n Michigan's N...  N15322     health   \n1  Duchess Kate rarely puts a foot wrong when it ...  N25192  lifestyle   \n2  \\n\\n\\n\\n\\n\\n© Provided by USA Today Sports Med...  N27958     sports   \n3  You don’t need to be a world class litigator t...  N26200     sports   \n4  Disney will be pumping out live-action version...  N10728     movies   \n\n                 2                                                  3  \\\n0      health-news  Michigan apple recall: Nearly 2,300 crates cou...   \n1  lifestyleroyals         Every outfit Duchess Kate has worn in 2019   \n2   basketball_nba  LA rivalry takes on new meaning for fans as La...   \n3             golf  Randall's Rant: Is Tiger already the GOAT with...   \n4   movies-gallery  16 Live-Action Disney Movies in the Works Afte...   \n\n                                                   4  \\\n0  A Michigan produce company has recalled nearly...   \n1  See Kate Middleton's style choices this year f...   \n2  NBA Finals MVP Kawhi Leonard and other Clipper...   \n3  We may never understand what Tiger Woods has g...   \n4  The studio is raiding its vault to remake clas...   \n\n                                                   6  \\\n0  [{\"Label\": \"Michigan\", \"Type\": \"G\", \"WikidataI...   \n1                                                 []   \n2  [{\"Label\": \"Los Angeles Clippers\", \"Type\": \"O\"...   \n3  [{\"Label\": \"Tiger Woods\", \"Type\": \"P\", \"Wikida...   \n4  [{\"Label\": \"Maleficent: Mistress of Evil\", \"Ty...   \n\n                                                   7  \n0  [{\"Label\": \"Michigan\", \"Type\": \"G\", \"WikidataI...  \n1  [{\"Label\": \"Catherine, Duchess of Cambridge\", ...  \n2  [{\"Label\": \"Los Angeles Clippers\", \"Type\": \"O\"...  \n3  [{\"Label\": \"Tiger Woods\", \"Type\": \"P\", \"Wikida...  \n4  [{\"Label\": \"Mulan (1998 film)\", \"Type\": \"W\", \"...  ",
      "text/html": "<div>\n<style scoped>\n    .dataframe tbody tr th:only-of-type {\n        vertical-align: middle;\n    }\n\n    .dataframe tbody tr th {\n        vertical-align: top;\n    }\n\n    .dataframe thead th {\n        text-align: right;\n    }\n</style>\n<table border=\"1\" class=\"dataframe\">\n  <thead>\n    <tr style=\"text-align: right;\">\n      <th></th>\n      <th>Date</th>\n      <th>5</th>\n      <th>Title</th>\n      <th>Image</th>\n      <th>Content</th>\n      <th>0</th>\n      <th>1</th>\n      <th>2</th>\n      <th>3</th>\n      <th>4</th>\n      <th>6</th>\n      <th>7</th>\n    </tr>\n  </thead>\n  <tbody>\n    <tr>\n      <th>0</th>\n      <td>2019-10-29T12:36:23.000Z</td>\n      <td>https://www.msn.com/en-us/health/health-news/m...</td>\n      <td>Michigan apple recall: Nearly 2,300 crates cou...</td>\n      <td>//static-entertainment-eas-s-msn-com.akamaized...</td>\n      <td>\\n\\n\\n\\n\\n\\n© North Bay Produce\\n Michigan's N...</td>\n      <td>N15322</td>\n      <td>health</td>\n      <td>health-news</td>\n      <td>Michigan apple recall: Nearly 2,300 crates cou...</td>\n      <td>A Michigan produce company has recalled nearly...</td>\n      <td>[{\"Label\": \"Michigan\", \"Type\": \"G\", \"WikidataI...</td>\n      <td>[{\"Label\": \"Michigan\", \"Type\": \"G\", \"WikidataI...</td>\n    </tr>\n    <tr>\n      <th>1</th>\n      <td>2019-12-26T14:50:00.000Z</td>\n      <td>https://www.msn.com/en-us/lifestyle/lifestyler...</td>\n      <td>Every outfit Duchess Kate has worn in 2019</td>\n      <td>//static-entertainment-eas-s-msn-com.akamaized...</td>\n      <td>Duchess Kate rarely puts a foot wrong when it ...</td>\n      <td>N25192</td>\n      <td>lifestyle</td>\n      <td>lifestyleroyals</td>\n      <td>Every outfit Duchess Kate has worn in 2019</td>\n      <td>See Kate Middleton's style choices this year f...</td>\n      <td>[]</td>\n      <td>[{\"Label\": \"Catherine, Duchess of Cambridge\", ...</td>\n    </tr>\n    <tr>\n      <th>2</th>\n      <td>2019-10-22T14:12:29.000Z</td>\n      <td>https://www.msn.com/en-us/sports/basketball_nb...</td>\n      <td>LA rivalry takes on new meaning for fans as La...</td>\n      <td>//static-entertainment-eas-s-msn-com.akamaized...</td>\n      <td>\\n\\n\\n\\n\\n\\n© Provided by USA Today Sports Med...</td>\n      <td>N27958</td>\n      <td>sports</td>\n      <td>basketball_nba</td>\n      <td>LA rivalry takes on new meaning for fans as La...</td>\n      <td>NBA Finals MVP Kawhi Leonard and other Clipper...</td>\n      <td>[{\"Label\": \"Los Angeles Clippers\", \"Type\": \"O\"...</td>\n      <td>[{\"Label\": \"Los Angeles Clippers\", \"Type\": \"O\"...</td>\n    </tr>\n    <tr>\n      <th>3</th>\n      <td>2019-10-29T12:45:14.000Z</td>\n      <td>https://www.msn.com/en-us/sports/golf/randalls...</td>\n      <td>Randall’s Rant: Is Tiger already the GOAT with...</td>\n      <td>//static-entertainment-eas-s-msn-com.akamaized...</td>\n      <td>You don’t need to be a world class litigator t...</td>\n      <td>N26200</td>\n      <td>sports</td>\n      <td>golf</td>\n      <td>Randall's Rant: Is Tiger already the GOAT with...</td>\n      <td>We may never understand what Tiger Woods has g...</td>\n      <td>[{\"Label\": \"Tiger Woods\", \"Type\": \"P\", \"Wikida...</td>\n      <td>[{\"Label\": \"Tiger Woods\", \"Type\": \"P\", \"Wikida...</td>\n    </tr>\n    <tr>\n      <th>4</th>\n      <td>2019-10-14T18:53:58.000Z</td>\n      <td>https://www.msn.com/en-us/movies/movies-galler...</td>\n      <td>16 Live-Action Disney Movies in the Works Afte...</td>\n      <td>//static-entertainment-eas-s-msn-com.akamaized...</td>\n      <td>Disney will be pumping out live-action version...</td>\n      <td>N10728</td>\n      <td>movies</td>\n      <td>movies-gallery</td>\n      <td>16 Live-Action Disney Movies in the Works Afte...</td>\n      <td>The studio is raiding its vault to remake clas...</td>\n      <td>[{\"Label\": \"Maleficent: Mistress of Evil\", \"Ty...</td>\n      <td>[{\"Label\": \"Mulan (1998 film)\", \"Type\": \"W\", \"...</td>\n    </tr>\n  </tbody>\n</table>\n</div>"
     },
     "metadata": {},
     "execution_count": 31
    }
   ],
   "source": [
    "df = pd.merge(tr, dt2, on='5')\n",
    "df = df.drop(columns = 'Date')\n",
    "df = df.rename(columns={'date':'Date'})\n",
    "print(df.shape)\n",
    "df.head()"
   ]
  },
  {
   "cell_type": "code",
   "execution_count": 32,
   "metadata": {
    "tags": []
   },
   "outputs": [
    {
     "output_type": "stream",
     "name": "stdout",
     "text": "(22713, 12)\n(26738, 12)\n(4025, 12)\n"
    }
   ],
   "source": [
    "print(dt1.shape)\n",
    "print(demo_tr_news.shape)\n",
    "print(df.shape)"
   ]
  },
  {
   "cell_type": "code",
   "execution_count": 33,
   "metadata": {
    "tags": []
   },
   "outputs": [
    {
     "output_type": "stream",
     "name": "stdout",
     "text": "(26738, 12)\n"
    },
    {
     "output_type": "execute_result",
     "data": {
      "text/plain": "                                                   5 Title Date Image Content  \\\n0  https://www.msn.com/en-us/news/world/the-cost-...   NaN  NaN   NaN     NaN   \n1  https://www.msn.com/en-us/health/nutrition/50-...   NaN  NaN   NaN     NaN   \n4  https://www.msn.com/en-us/health/weightloss/th...   NaN  NaN   NaN     NaN   \n8  https://www.msn.com/en-us/lifestyle/lifestyleb...   NaN  NaN   NaN     NaN   \n9  https://www.msn.com/en-us/lifestyle/shop-appar...   NaN  NaN   NaN     NaN   \n\n        0          1              2  \\\n0  N10399       news      newsworld   \n1   N9552     health      nutrition   \n4  N25099     health     weightloss   \n8    N811  lifestyle  lifestylebuzz   \n9  N16133  lifestyle   shop-apparel   \n\n                                                   3  \\\n0  The Cost of Trump's Aid Freeze in the Trenches...   \n1  50 Foods You Should Never Eat, According to He...   \n4  These Simple Diet Changes Helped This Guy Lose...   \n8  Millennials are killing purse sales and replac...   \n9  The Absolute Best One-piece Bathing Suits of 2019   \n\n                                                   4  \\\n0  Lt. Ivan Molchanets peeked over a parapet of s...   \n1                             This is so depressing.   \n4  The part of me that knew I had to make changes...   \n8  Sales of women's backpacks are consistently ri...   \n9  One-piece bathing suits are arguably the best ...   \n\n                                                   6  \\\n0                                                 []   \n1                                                 []   \n4                                                 []   \n8                                                 []   \n9  [{\"Label\": \"One-piece swimsuit\", \"Type\": \"C\", ...   \n\n                                                   7  \n0  [{\"Label\": \"Ukraine\", \"Type\": \"G\", \"WikidataId...  \n1                                                 []  \n4                                                 []  \n8                                                 []  \n9  [{\"Label\": \"One-piece swimsuit\", \"Type\": \"C\", ...  ",
      "text/html": "<div>\n<style scoped>\n    .dataframe tbody tr th:only-of-type {\n        vertical-align: middle;\n    }\n\n    .dataframe tbody tr th {\n        vertical-align: top;\n    }\n\n    .dataframe thead th {\n        text-align: right;\n    }\n</style>\n<table border=\"1\" class=\"dataframe\">\n  <thead>\n    <tr style=\"text-align: right;\">\n      <th></th>\n      <th>5</th>\n      <th>Title</th>\n      <th>Date</th>\n      <th>Image</th>\n      <th>Content</th>\n      <th>0</th>\n      <th>1</th>\n      <th>2</th>\n      <th>3</th>\n      <th>4</th>\n      <th>6</th>\n      <th>7</th>\n    </tr>\n  </thead>\n  <tbody>\n    <tr>\n      <th>0</th>\n      <td>https://www.msn.com/en-us/news/world/the-cost-...</td>\n      <td>NaN</td>\n      <td>NaN</td>\n      <td>NaN</td>\n      <td>NaN</td>\n      <td>N10399</td>\n      <td>news</td>\n      <td>newsworld</td>\n      <td>The Cost of Trump's Aid Freeze in the Trenches...</td>\n      <td>Lt. Ivan Molchanets peeked over a parapet of s...</td>\n      <td>[]</td>\n      <td>[{\"Label\": \"Ukraine\", \"Type\": \"G\", \"WikidataId...</td>\n    </tr>\n    <tr>\n      <th>1</th>\n      <td>https://www.msn.com/en-us/health/nutrition/50-...</td>\n      <td>NaN</td>\n      <td>NaN</td>\n      <td>NaN</td>\n      <td>NaN</td>\n      <td>N9552</td>\n      <td>health</td>\n      <td>nutrition</td>\n      <td>50 Foods You Should Never Eat, According to He...</td>\n      <td>This is so depressing.</td>\n      <td>[]</td>\n      <td>[]</td>\n    </tr>\n    <tr>\n      <th>4</th>\n      <td>https://www.msn.com/en-us/health/weightloss/th...</td>\n      <td>NaN</td>\n      <td>NaN</td>\n      <td>NaN</td>\n      <td>NaN</td>\n      <td>N25099</td>\n      <td>health</td>\n      <td>weightloss</td>\n      <td>These Simple Diet Changes Helped This Guy Lose...</td>\n      <td>The part of me that knew I had to make changes...</td>\n      <td>[]</td>\n      <td>[]</td>\n    </tr>\n    <tr>\n      <th>8</th>\n      <td>https://www.msn.com/en-us/lifestyle/lifestyleb...</td>\n      <td>NaN</td>\n      <td>NaN</td>\n      <td>NaN</td>\n      <td>NaN</td>\n      <td>N811</td>\n      <td>lifestyle</td>\n      <td>lifestylebuzz</td>\n      <td>Millennials are killing purse sales and replac...</td>\n      <td>Sales of women's backpacks are consistently ri...</td>\n      <td>[]</td>\n      <td>[]</td>\n    </tr>\n    <tr>\n      <th>9</th>\n      <td>https://www.msn.com/en-us/lifestyle/shop-appar...</td>\n      <td>NaN</td>\n      <td>NaN</td>\n      <td>NaN</td>\n      <td>NaN</td>\n      <td>N16133</td>\n      <td>lifestyle</td>\n      <td>shop-apparel</td>\n      <td>The Absolute Best One-piece Bathing Suits of 2019</td>\n      <td>One-piece bathing suits are arguably the best ...</td>\n      <td>[{\"Label\": \"One-piece swimsuit\", \"Type\": \"C\", ...</td>\n      <td>[{\"Label\": \"One-piece swimsuit\", \"Type\": \"C\", ...</td>\n    </tr>\n  </tbody>\n</table>\n</div>"
     },
     "metadata": {},
     "execution_count": 33
    }
   ],
   "source": [
    "demo_tr = pd.concat([dt1, df])\n",
    "print(demo_tr.shape)\n",
    "demo_tr.head()"
   ]
  },
  {
   "cell_type": "code",
   "execution_count": 40,
   "metadata": {},
   "outputs": [],
   "source": [
    "demo_tr.to_csv('/Users/baeyuna/Documents/SNU_DLab/msn_integrate/tr/integrated_news.csv', index=False)"
   ]
  },
  {
   "cell_type": "code",
   "execution_count": null,
   "metadata": {},
   "outputs": [],
   "source": []
  }
 ],
 "metadata": {
  "language_info": {
   "codemirror_mode": {
    "name": "ipython",
    "version": 3
   },
   "file_extension": ".py",
   "mimetype": "text/x-python",
   "name": "python",
   "nbconvert_exporter": "python",
   "pygments_lexer": "ipython3",
   "version": 3
  },
  "orig_nbformat": 2,
  "kernelspec": {
   "name": "python_defaultSpec_1597205185323",
   "display_name": "Python 3.7.6 64-bit ('anaconda3': virtualenv)"
  }
 },
 "nbformat": 4,
 "nbformat_minor": 2
}