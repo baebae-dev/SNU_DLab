{
 "cells": [
  {
   "cell_type": "code",
   "execution_count": 1,
   "metadata": {},
   "outputs": [],
   "source": [
    "import pandas as pd\n",
    "from tqdm import tqdm"
   ]
  },
  {
   "cell_type": "code",
   "execution_count": null,
   "metadata": {},
   "outputs": [],
   "source": [
    "tr1 = pd.read_csv('/Users/baeyuna/Documents/SNU_DLab/msn_integrate/date_tr1.csv')\n",
    "tr2 = pd.read_csv('/Users/baeyuna/Documents/SNU_DLab/msn_integrate/date_tr2.csv')\n",
    "tr3 = pd.read_csv('/Users/baeyuna/Documents/SNU_DLab/msn_integrate/date_tr3.csv')\n",
    "tr4 = pd.read_csv('/Users/baeyuna/Documents/SNU_DLab/msn_integrate/date_tr4.csv')\n",
    "tr5 = pd.read_csv('/Users/baeyuna/Documents/SNU_DLab/msn_integrate/date_tr5.csv')"
   ]
  },
  {
   "cell_type": "code",
   "execution_count": null,
   "metadata": {},
   "outputs": [],
   "source": [
    "tr = pd.concat([tr1,tr2])\n",
    "print(tr.shape)\n",
    "tr = pd.concat([tr,tr3])\n",
    "print(tr.shape)\n",
    "tr = pd.concat([tr,tr4])\n",
    "print(tr.shape)\n",
    "tr = pd.concat([tr,tr5])\n",
    "print(tr.shape)"
   ]
  },
  {
   "cell_type": "code",
   "execution_count": 3,
   "metadata": {},
   "outputs": [
    {
     "output_type": "execute_result",
     "data": {
      "text/plain": "                                                   5  \\\n0  https://www.msn.com/en-us/news/world/the-cost-...   \n1  https://www.msn.com/en-us/health/nutrition/50-...   \n2  https://www.msn.com/en-us/health/health-news/m...   \n3  https://www.msn.com/en-us/lifestyle/lifestyler...   \n4  https://www.msn.com/en-us/health/weightloss/th...   \n\n                                               Title Date  \\\n0                                                NaN  NaN   \n1                                                NaN  NaN   \n2  Michigan apple recall: Nearly 2,300 crates cou...  NaN   \n3         Every outfit Duchess Kate has worn in 2019  NaN   \n4                                                NaN  NaN   \n\n                                               Image  \\\n0                                                NaN   \n1                                                NaN   \n2  //static-entertainment-eas-s-msn-com.akamaized...   \n3  //static-entertainment-eas-s-msn-com.akamaized...   \n4                                                NaN   \n\n                                             Content       0          1  \\\n0                                                NaN  N10399       news   \n1                                                NaN   N9552     health   \n2  \\n\\n\\n\\n\\n\\n© North Bay Produce\\n Michigan's N...  N15322     health   \n3  Duchess Kate rarely puts a foot wrong when it ...  N25192  lifestyle   \n4                                                NaN  N25099     health   \n\n                 2                                                  3  \\\n0        newsworld  The Cost of Trump's Aid Freeze in the Trenches...   \n1        nutrition  50 Foods You Should Never Eat, According to He...   \n2      health-news  Michigan apple recall: Nearly 2,300 crates cou...   \n3  lifestyleroyals         Every outfit Duchess Kate has worn in 2019   \n4       weightloss  These Simple Diet Changes Helped This Guy Lose...   \n\n                                                   4  \\\n0  Lt. Ivan Molchanets peeked over a parapet of s...   \n1                             This is so depressing.   \n2  A Michigan produce company has recalled nearly...   \n3  See Kate Middleton's style choices this year f...   \n4  The part of me that knew I had to make changes...   \n\n                                                   6  \\\n0                                                 []   \n1                                                 []   \n2  [{\"Label\": \"Michigan\", \"Type\": \"G\", \"WikidataI...   \n3                                                 []   \n4                                                 []   \n\n                                                   7  \n0  [{\"Label\": \"Ukraine\", \"Type\": \"G\", \"WikidataId...  \n1                                                 []  \n2  [{\"Label\": \"Michigan\", \"Type\": \"G\", \"WikidataI...  \n3  [{\"Label\": \"Catherine, Duchess of Cambridge\", ...  \n4                                                 []  ",
      "text/html": "<div>\n<style scoped>\n    .dataframe tbody tr th:only-of-type {\n        vertical-align: middle;\n    }\n\n    .dataframe tbody tr th {\n        vertical-align: top;\n    }\n\n    .dataframe thead th {\n        text-align: right;\n    }\n</style>\n<table border=\"1\" class=\"dataframe\">\n  <thead>\n    <tr style=\"text-align: right;\">\n      <th></th>\n      <th>5</th>\n      <th>Title</th>\n      <th>Date</th>\n      <th>Image</th>\n      <th>Content</th>\n      <th>0</th>\n      <th>1</th>\n      <th>2</th>\n      <th>3</th>\n      <th>4</th>\n      <th>6</th>\n      <th>7</th>\n    </tr>\n  </thead>\n  <tbody>\n    <tr>\n      <th>0</th>\n      <td>https://www.msn.com/en-us/news/world/the-cost-...</td>\n      <td>NaN</td>\n      <td>NaN</td>\n      <td>NaN</td>\n      <td>NaN</td>\n      <td>N10399</td>\n      <td>news</td>\n      <td>newsworld</td>\n      <td>The Cost of Trump's Aid Freeze in the Trenches...</td>\n      <td>Lt. Ivan Molchanets peeked over a parapet of s...</td>\n      <td>[]</td>\n      <td>[{\"Label\": \"Ukraine\", \"Type\": \"G\", \"WikidataId...</td>\n    </tr>\n    <tr>\n      <th>1</th>\n      <td>https://www.msn.com/en-us/health/nutrition/50-...</td>\n      <td>NaN</td>\n      <td>NaN</td>\n      <td>NaN</td>\n      <td>NaN</td>\n      <td>N9552</td>\n      <td>health</td>\n      <td>nutrition</td>\n      <td>50 Foods You Should Never Eat, According to He...</td>\n      <td>This is so depressing.</td>\n      <td>[]</td>\n      <td>[]</td>\n    </tr>\n    <tr>\n      <th>2</th>\n      <td>https://www.msn.com/en-us/health/health-news/m...</td>\n      <td>Michigan apple recall: Nearly 2,300 crates cou...</td>\n      <td>NaN</td>\n      <td>//static-entertainment-eas-s-msn-com.akamaized...</td>\n      <td>\\n\\n\\n\\n\\n\\n© North Bay Produce\\n Michigan's N...</td>\n      <td>N15322</td>\n      <td>health</td>\n      <td>health-news</td>\n      <td>Michigan apple recall: Nearly 2,300 crates cou...</td>\n      <td>A Michigan produce company has recalled nearly...</td>\n      <td>[{\"Label\": \"Michigan\", \"Type\": \"G\", \"WikidataI...</td>\n      <td>[{\"Label\": \"Michigan\", \"Type\": \"G\", \"WikidataI...</td>\n    </tr>\n    <tr>\n      <th>3</th>\n      <td>https://www.msn.com/en-us/lifestyle/lifestyler...</td>\n      <td>Every outfit Duchess Kate has worn in 2019</td>\n      <td>NaN</td>\n      <td>//static-entertainment-eas-s-msn-com.akamaized...</td>\n      <td>Duchess Kate rarely puts a foot wrong when it ...</td>\n      <td>N25192</td>\n      <td>lifestyle</td>\n      <td>lifestyleroyals</td>\n      <td>Every outfit Duchess Kate has worn in 2019</td>\n      <td>See Kate Middleton's style choices this year f...</td>\n      <td>[]</td>\n      <td>[{\"Label\": \"Catherine, Duchess of Cambridge\", ...</td>\n    </tr>\n    <tr>\n      <th>4</th>\n      <td>https://www.msn.com/en-us/health/weightloss/th...</td>\n      <td>NaN</td>\n      <td>NaN</td>\n      <td>NaN</td>\n      <td>NaN</td>\n      <td>N25099</td>\n      <td>health</td>\n      <td>weightloss</td>\n      <td>These Simple Diet Changes Helped This Guy Lose...</td>\n      <td>The part of me that knew I had to make changes...</td>\n      <td>[]</td>\n      <td>[]</td>\n    </tr>\n  </tbody>\n</table>\n</div>"
     },
     "metadata": {},
     "execution_count": 3
    }
   ],
   "source": [
    "demo_tr_news = pd.read_csv('/Users/baeyuna/Documents/SNU_DLab/Data/demo_tr_news.csv')\n",
    "demo_tr_news.head()"
   ]
  },
  {
   "cell_type": "code",
   "execution_count": null,
   "metadata": {},
   "outputs": [],
   "source": [
    "print('------demo_tr_news------')\n",
    "print(demo_tr_news.shape)\n",
    "print('기존 date nan 개수:',demo_tr_news.loc[~demo_tr_news['date'].isnull()].shape)\n",
    "\n",
    "print('------tr------')\n",
    "print(tr.shape)\n",
    "for i in tqdm(range(len(demo_tr_news))):\n",
    "    for j in range(len(tr)):\n",
    "        if demo_tr_news.loc[i,'5'] == tr.loc[i,'url']:\n",
    "            demo_tr_news.loc[i,'Date'] = tr.loc[i,'date']\n",
    "\n",
    "print('------demo_tr_news 업뎃------')\n",
    "print(demo_tr_news.shape)\n",
    "print('date naa 채워진 개수:',demo_tr_news.loc[~demo_tr_news['date'].isnull()].shape)"
   ]
  }
 ],
 "metadata": {
  "language_info": {
   "codemirror_mode": {
    "name": "ipython",
    "version": 3
   },
   "file_extension": ".py",
   "mimetype": "text/x-python",
   "name": "python",
   "nbconvert_exporter": "python",
   "pygments_lexer": "ipython3",
   "version": 3
  },
  "orig_nbformat": 2,
  "kernelspec": {
   "name": "python_defaultSpec_1597205185323",
   "display_name": "Python 3.7.6 64-bit ('anaconda3': virtualenv)"
  }
 },
 "nbformat": 4,
 "nbformat_minor": 2
}