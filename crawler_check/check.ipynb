{
 "cells": [
  {
   "cell_type": "code",
   "execution_count": 1,
   "metadata": {},
   "outputs": [],
   "source": [
    "import pandas as pd"
   ]
  },
  {
   "cell_type": "code",
   "execution_count": 2,
   "metadata": {},
   "outputs": [
    {
     "output_type": "execute_result",
     "data": {
      "text/plain": "                                                   5  \\\n0  https://www.msn.com/en-us/news/newspolitics/we...   \n1  https://www.msn.com/en-us/tv/tv-celebrity/shar...   \n2  https://www.msn.com/en-us/news/world/the-cost-...   \n3  https://www.msn.com/en-us/health/nutrition/50-...   \n4  https://www.msn.com/en-us/health/weightloss/th...   \n\n                                               Title  \\\n0  We'd Arrest Trump For Fifth Ave Shooting, NYC ...   \n1  Sharon Osbourne Admits She 'Can Hardly Feel' H...   \n2                                                NaN   \n3                                                NaN   \n4                                                NaN   \n\n                       Date  \\\n0  2019-10-24T18:20:00.000Z   \n1  2019-10-23T13:01:53.000Z   \n2                       NaN   \n3                       NaN   \n4                       NaN   \n\n                                               Image  \\\n0  //static-entertainment-eas-s-msn-com.akamaized...   \n1  //static-entertainment-eas-s-msn-com.akamaized...   \n2                                                NaN   \n3                                                NaN   \n4                                                NaN   \n\n                                             Content       0       1  \\\n0  NEW YORK — He might give up his freedom even i...  N22921    news   \n1  Sharon Osbourne isn’t afraid to speak candidly...   N3052      tv   \n2                                                NaN  N10399    news   \n3                                                NaN   N9552  health   \n4                                                NaN  N25099  health   \n\n              2                                                  3  \\\n0  newspolitics  We'd Arrest Trump For Fifth Ave Shooting, NYC ...   \n1  tv-celebrity  Sharon Osbourne Admits She 'Can Hardly Feel' H...   \n2     newsworld  The Cost of Trump's Aid Freeze in the Trenches...   \n3     nutrition  50 Foods You Should Never Eat, According to He...   \n4    weightloss  These Simple Diet Changes Helped This Guy Lose...   \n\n                                                   4  \\\n0  NYPD cops would put President Donald Trump in ...   \n1  Sharon Osbourne Admits She 'Can Hardly Feel' M...   \n2  Lt. Ivan Molchanets peeked over a parapet of s...   \n3                             This is so depressing.   \n4  The part of me that knew I had to make changes...   \n\n                                                   6  \\\n0  [{\"Label\": \"Fifth Avenue\", \"Type\": \"S\", \"Wikid...   \n1  [{\"Label\": \"Sharon Osbourne\", \"Type\": \"P\", \"Wi...   \n2                                                 []   \n3                                                 []   \n4                                                 []   \n\n                                                   7  \n0  [{\"Label\": \"Fifth Avenue\", \"Type\": \"S\", \"Wikid...  \n1  [{\"Label\": \"Sharon Osbourne\", \"Type\": \"P\", \"Wi...  \n2  [{\"Label\": \"Ukraine\", \"Type\": \"G\", \"WikidataId...  \n3                                                 []  \n4                                                 []  ",
      "text/html": "<div>\n<style scoped>\n    .dataframe tbody tr th:only-of-type {\n        vertical-align: middle;\n    }\n\n    .dataframe tbody tr th {\n        vertical-align: top;\n    }\n\n    .dataframe thead th {\n        text-align: right;\n    }\n</style>\n<table border=\"1\" class=\"dataframe\">\n  <thead>\n    <tr style=\"text-align: right;\">\n      <th></th>\n      <th>5</th>\n      <th>Title</th>\n      <th>Date</th>\n      <th>Image</th>\n      <th>Content</th>\n      <th>0</th>\n      <th>1</th>\n      <th>2</th>\n      <th>3</th>\n      <th>4</th>\n      <th>6</th>\n      <th>7</th>\n    </tr>\n  </thead>\n  <tbody>\n    <tr>\n      <th>0</th>\n      <td>https://www.msn.com/en-us/news/newspolitics/we...</td>\n      <td>We'd Arrest Trump For Fifth Ave Shooting, NYC ...</td>\n      <td>2019-10-24T18:20:00.000Z</td>\n      <td>//static-entertainment-eas-s-msn-com.akamaized...</td>\n      <td>NEW YORK — He might give up his freedom even i...</td>\n      <td>N22921</td>\n      <td>news</td>\n      <td>newspolitics</td>\n      <td>We'd Arrest Trump For Fifth Ave Shooting, NYC ...</td>\n      <td>NYPD cops would put President Donald Trump in ...</td>\n      <td>[{\"Label\": \"Fifth Avenue\", \"Type\": \"S\", \"Wikid...</td>\n      <td>[{\"Label\": \"Fifth Avenue\", \"Type\": \"S\", \"Wikid...</td>\n    </tr>\n    <tr>\n      <th>1</th>\n      <td>https://www.msn.com/en-us/tv/tv-celebrity/shar...</td>\n      <td>Sharon Osbourne Admits She 'Can Hardly Feel' H...</td>\n      <td>2019-10-23T13:01:53.000Z</td>\n      <td>//static-entertainment-eas-s-msn-com.akamaized...</td>\n      <td>Sharon Osbourne isn’t afraid to speak candidly...</td>\n      <td>N3052</td>\n      <td>tv</td>\n      <td>tv-celebrity</td>\n      <td>Sharon Osbourne Admits She 'Can Hardly Feel' H...</td>\n      <td>Sharon Osbourne Admits She 'Can Hardly Feel' M...</td>\n      <td>[{\"Label\": \"Sharon Osbourne\", \"Type\": \"P\", \"Wi...</td>\n      <td>[{\"Label\": \"Sharon Osbourne\", \"Type\": \"P\", \"Wi...</td>\n    </tr>\n    <tr>\n      <th>2</th>\n      <td>https://www.msn.com/en-us/news/world/the-cost-...</td>\n      <td>NaN</td>\n      <td>NaN</td>\n      <td>NaN</td>\n      <td>NaN</td>\n      <td>N10399</td>\n      <td>news</td>\n      <td>newsworld</td>\n      <td>The Cost of Trump's Aid Freeze in the Trenches...</td>\n      <td>Lt. Ivan Molchanets peeked over a parapet of s...</td>\n      <td>[]</td>\n      <td>[{\"Label\": \"Ukraine\", \"Type\": \"G\", \"WikidataId...</td>\n    </tr>\n    <tr>\n      <th>3</th>\n      <td>https://www.msn.com/en-us/health/nutrition/50-...</td>\n      <td>NaN</td>\n      <td>NaN</td>\n      <td>NaN</td>\n      <td>NaN</td>\n      <td>N9552</td>\n      <td>health</td>\n      <td>nutrition</td>\n      <td>50 Foods You Should Never Eat, According to He...</td>\n      <td>This is so depressing.</td>\n      <td>[]</td>\n      <td>[]</td>\n    </tr>\n    <tr>\n      <th>4</th>\n      <td>https://www.msn.com/en-us/health/weightloss/th...</td>\n      <td>NaN</td>\n      <td>NaN</td>\n      <td>NaN</td>\n      <td>NaN</td>\n      <td>N25099</td>\n      <td>health</td>\n      <td>weightloss</td>\n      <td>These Simple Diet Changes Helped This Guy Lose...</td>\n      <td>The part of me that knew I had to make changes...</td>\n      <td>[]</td>\n      <td>[]</td>\n    </tr>\n  </tbody>\n</table>\n</div>"
     },
     "metadata": {},
     "execution_count": 2
    }
   ],
   "source": [
    "tr_in = pd.read_csv('/Users/baeyuna/Documents/SNU_DLab/Data/MINDdemo_train/integrated_news.csv')\n",
    "tr_in.head()"
   ]
  },
  {
   "cell_type": "code",
   "execution_count": 4,
   "metadata": {},
   "outputs": [
    {
     "output_type": "execute_result",
     "data": {
      "text/plain": "                                                   5  \\\n0  https://www.msn.com/en-us/sports/football_nfl/...   \n1  https://www.msn.com/en-us/news/newsus/the-fund...   \n2  https://www.msn.com/en-us/news/newscrime/missi...   \n3  https://www.msn.com/en-us/news/world/the-cost-...   \n4  https://www.msn.com/en-us/health/nutrition/50-...   \n\n                                               Title  \\\n0  Marcus Peters' fit with Ravens looks to be bet...   \n1  Missing college student's parents meet with mo...   \n2                                                NaN   \n3                                                NaN   \n4                                                NaN   \n\n                       Date  \\\n0  2019-10-17T03:22:27.000Z   \n1                       NaN   \n2  2019-11-07T06:49:00.000Z   \n3                       NaN   \n4                       NaN   \n\n                                               Image  \\\n0  //static-entertainment-eas-s-msn-com.akamaized...   \n1  //static-entertainment-eas-s-msn-com.akamaized...   \n2                                                NaN   \n3                                                NaN   \n4                                                NaN   \n\n                                             Content       0       1  \\\n0  To understand why the Baltimore Ravens made th...   N9896  sports   \n1  \\n\\n\\n\\n \\n\\n< PREVIOUS SLIDE\\n\\nSLIDE 1 of 3\\...  N23203    news   \n2                                                NaN   N4199    news   \n3                                                NaN  N10399    news   \n4                                                NaN   N9552  health   \n\n              2                                                  3  \\\n0  football_nfl  Marcus Peters' fit with Ravens looks to be bet...   \n1        newsus  The fundamentalist religious community that li...   \n2     newscrime  Missing college student's parents meet with mo...   \n3     newsworld  The Cost of Trump's Aid Freeze in the Trenches...   \n4     nutrition  50 Foods You Should Never Eat, According to He...   \n\n                                                   4  \\\n0                                                NaN   \n1  The three mothers and six children killed in a...   \n2  Investigators did not call the man a suspect, ...   \n3  Lt. Ivan Molchanets peeked over a parapet of s...   \n4                             This is so depressing.   \n\n                                                   6  \\\n0  [{\"Label\": \"Los Angeles Rams\", \"Type\": \"O\", \"W...   \n1                                                 []   \n2  [{\"Label\": \"Disappearance of Natalee Holloway\"...   \n3                                                 []   \n4                                                 []   \n\n                                                   7  \n0                                                 []  \n1  [{\"Label\": \"Mexican Drug War\", \"Type\": \"E\", \"W...  \n2                                                 []  \n3  [{\"Label\": \"Ukraine\", \"Type\": \"G\", \"WikidataId...  \n4                                                 []  ",
      "text/html": "<div>\n<style scoped>\n    .dataframe tbody tr th:only-of-type {\n        vertical-align: middle;\n    }\n\n    .dataframe tbody tr th {\n        vertical-align: top;\n    }\n\n    .dataframe thead th {\n        text-align: right;\n    }\n</style>\n<table border=\"1\" class=\"dataframe\">\n  <thead>\n    <tr style=\"text-align: right;\">\n      <th></th>\n      <th>5</th>\n      <th>Title</th>\n      <th>Date</th>\n      <th>Image</th>\n      <th>Content</th>\n      <th>0</th>\n      <th>1</th>\n      <th>2</th>\n      <th>3</th>\n      <th>4</th>\n      <th>6</th>\n      <th>7</th>\n    </tr>\n  </thead>\n  <tbody>\n    <tr>\n      <th>0</th>\n      <td>https://www.msn.com/en-us/sports/football_nfl/...</td>\n      <td>Marcus Peters' fit with Ravens looks to be bet...</td>\n      <td>2019-10-17T03:22:27.000Z</td>\n      <td>//static-entertainment-eas-s-msn-com.akamaized...</td>\n      <td>To understand why the Baltimore Ravens made th...</td>\n      <td>N9896</td>\n      <td>sports</td>\n      <td>football_nfl</td>\n      <td>Marcus Peters' fit with Ravens looks to be bet...</td>\n      <td>NaN</td>\n      <td>[{\"Label\": \"Los Angeles Rams\", \"Type\": \"O\", \"W...</td>\n      <td>[]</td>\n    </tr>\n    <tr>\n      <th>1</th>\n      <td>https://www.msn.com/en-us/news/newsus/the-fund...</td>\n      <td>Missing college student's parents meet with mo...</td>\n      <td>NaN</td>\n      <td>//static-entertainment-eas-s-msn-com.akamaized...</td>\n      <td>\\n\\n\\n\\n \\n\\n&lt; PREVIOUS SLIDE\\n\\nSLIDE 1 of 3\\...</td>\n      <td>N23203</td>\n      <td>news</td>\n      <td>newsus</td>\n      <td>The fundamentalist religious community that li...</td>\n      <td>The three mothers and six children killed in a...</td>\n      <td>[]</td>\n      <td>[{\"Label\": \"Mexican Drug War\", \"Type\": \"E\", \"W...</td>\n    </tr>\n    <tr>\n      <th>2</th>\n      <td>https://www.msn.com/en-us/news/newscrime/missi...</td>\n      <td>NaN</td>\n      <td>2019-11-07T06:49:00.000Z</td>\n      <td>NaN</td>\n      <td>NaN</td>\n      <td>N4199</td>\n      <td>news</td>\n      <td>newscrime</td>\n      <td>Missing college student's parents meet with mo...</td>\n      <td>Investigators did not call the man a suspect, ...</td>\n      <td>[{\"Label\": \"Disappearance of Natalee Holloway\"...</td>\n      <td>[]</td>\n    </tr>\n    <tr>\n      <th>3</th>\n      <td>https://www.msn.com/en-us/news/world/the-cost-...</td>\n      <td>NaN</td>\n      <td>NaN</td>\n      <td>NaN</td>\n      <td>NaN</td>\n      <td>N10399</td>\n      <td>news</td>\n      <td>newsworld</td>\n      <td>The Cost of Trump's Aid Freeze in the Trenches...</td>\n      <td>Lt. Ivan Molchanets peeked over a parapet of s...</td>\n      <td>[]</td>\n      <td>[{\"Label\": \"Ukraine\", \"Type\": \"G\", \"WikidataId...</td>\n    </tr>\n    <tr>\n      <th>4</th>\n      <td>https://www.msn.com/en-us/health/nutrition/50-...</td>\n      <td>NaN</td>\n      <td>NaN</td>\n      <td>NaN</td>\n      <td>NaN</td>\n      <td>N9552</td>\n      <td>health</td>\n      <td>nutrition</td>\n      <td>50 Foods You Should Never Eat, According to He...</td>\n      <td>This is so depressing.</td>\n      <td>[]</td>\n      <td>[]</td>\n    </tr>\n  </tbody>\n</table>\n</div>"
     },
     "metadata": {},
     "execution_count": 4
    }
   ],
   "source": [
    "dev_in = pd.read_csv('/Users/baeyuna/Documents/SNU_DLab/Data/MINDdemo_dev/integrated_news.csv')\n",
    "dev_in.head() "
   ]
  },
  {
   "cell_type": "code",
   "execution_count": 7,
   "metadata": {
    "tags": []
   },
   "outputs": [
    {
     "output_type": "stream",
     "name": "stdout",
     "text": "10534\n"
    },
    {
     "output_type": "execute_result",
     "data": {
      "text/plain": "      nid          1                  2  \\\n0   N3112  lifestyle    lifestyleroyals   \n1  N12103     health             voices   \n2  N20460     health            medical   \n3   N5409    weather  weathertopstories   \n4  N15322     health        health-news   \n\n                                                   3  \\\n0  The Brands Queen Elizabeth, Prince Charles, an...   \n1  I Was An NBA Wife. Here's How It Affected My M...   \n2  How to Get Rid of Skin Tags, According to a De...   \n3  It's been Orlando's hottest October ever so fa...   \n4  Michigan apple recall: Nearly 2,300 crates cou...   \n\n                                                   4  \\\n0  Shop the notebooks, jackets, and more that the...   \n1  I felt like I was a fraud, and being an NBA wi...   \n2  They seem harmless, but there's a very good re...   \n3  There won't be a chill down to your bones this...   \n4  A Michigan produce company has recalled nearly...   \n\n                                                   5  \\\n0  https://www.msn.com/en-us/lifestyle/lifestyler...   \n1  https://www.msn.com/en-us/health/voices/i-was-...   \n2  https://www.msn.com/en-us/health/medical/how-t...   \n3  https://www.msn.com/en-us/weather/weathertopst...   \n4  https://www.msn.com/en-us/health/health-news/m...   \n\n                                                   6  \\\n0  [{\"Label\": \"Prince Philip, Duke of Edinburgh\",...   \n1                                                 []   \n2  [{\"Label\": \"Skin tag\", \"Type\": \"C\", \"WikidataI...   \n3  [{\"Label\": \"Orlando, Florida\", \"Type\": \"G\", \"W...   \n4  [{\"Label\": \"Michigan\", \"Type\": \"G\", \"WikidataI...   \n\n                                                   7  \n0                                                 []  \n1  [{\"Label\": \"National Basketball Association\", ...  \n2  [{\"Label\": \"Skin tag\", \"Type\": \"C\", \"WikidataI...  \n3  [{\"Label\": \"Orlando, Florida\", \"Type\": \"G\", \"W...  \n4  [{\"Label\": \"Michigan\", \"Type\": \"G\", \"WikidataI...  ",
      "text/html": "<div>\n<style scoped>\n    .dataframe tbody tr th:only-of-type {\n        vertical-align: middle;\n    }\n\n    .dataframe tbody tr th {\n        vertical-align: top;\n    }\n\n    .dataframe thead th {\n        text-align: right;\n    }\n</style>\n<table border=\"1\" class=\"dataframe\">\n  <thead>\n    <tr style=\"text-align: right;\">\n      <th></th>\n      <th>nid</th>\n      <th>1</th>\n      <th>2</th>\n      <th>3</th>\n      <th>4</th>\n      <th>5</th>\n      <th>6</th>\n      <th>7</th>\n    </tr>\n  </thead>\n  <tbody>\n    <tr>\n      <th>0</th>\n      <td>N3112</td>\n      <td>lifestyle</td>\n      <td>lifestyleroyals</td>\n      <td>The Brands Queen Elizabeth, Prince Charles, an...</td>\n      <td>Shop the notebooks, jackets, and more that the...</td>\n      <td>https://www.msn.com/en-us/lifestyle/lifestyler...</td>\n      <td>[{\"Label\": \"Prince Philip, Duke of Edinburgh\",...</td>\n      <td>[]</td>\n    </tr>\n    <tr>\n      <th>1</th>\n      <td>N12103</td>\n      <td>health</td>\n      <td>voices</td>\n      <td>I Was An NBA Wife. Here's How It Affected My M...</td>\n      <td>I felt like I was a fraud, and being an NBA wi...</td>\n      <td>https://www.msn.com/en-us/health/voices/i-was-...</td>\n      <td>[]</td>\n      <td>[{\"Label\": \"National Basketball Association\", ...</td>\n    </tr>\n    <tr>\n      <th>2</th>\n      <td>N20460</td>\n      <td>health</td>\n      <td>medical</td>\n      <td>How to Get Rid of Skin Tags, According to a De...</td>\n      <td>They seem harmless, but there's a very good re...</td>\n      <td>https://www.msn.com/en-us/health/medical/how-t...</td>\n      <td>[{\"Label\": \"Skin tag\", \"Type\": \"C\", \"WikidataI...</td>\n      <td>[{\"Label\": \"Skin tag\", \"Type\": \"C\", \"WikidataI...</td>\n    </tr>\n    <tr>\n      <th>3</th>\n      <td>N5409</td>\n      <td>weather</td>\n      <td>weathertopstories</td>\n      <td>It's been Orlando's hottest October ever so fa...</td>\n      <td>There won't be a chill down to your bones this...</td>\n      <td>https://www.msn.com/en-us/weather/weathertopst...</td>\n      <td>[{\"Label\": \"Orlando, Florida\", \"Type\": \"G\", \"W...</td>\n      <td>[{\"Label\": \"Orlando, Florida\", \"Type\": \"G\", \"W...</td>\n    </tr>\n    <tr>\n      <th>4</th>\n      <td>N15322</td>\n      <td>health</td>\n      <td>health-news</td>\n      <td>Michigan apple recall: Nearly 2,300 crates cou...</td>\n      <td>A Michigan produce company has recalled nearly...</td>\n      <td>https://www.msn.com/en-us/health/health-news/m...</td>\n      <td>[{\"Label\": \"Michigan\", \"Type\": \"G\", \"WikidataI...</td>\n      <td>[{\"Label\": \"Michigan\", \"Type\": \"G\", \"WikidataI...</td>\n    </tr>\n  </tbody>\n</table>\n</div>"
     },
     "metadata": {},
     "execution_count": 7
    }
   ],
   "source": [
    "dif_nid_df = pd.read_csv('/Users/baeyuna/Documents/SNU_DLab/crawler_check/dif_nid_df.csv')\n",
    "dif_nid = dif_nid_df['nid'].tolist()\n",
    "print(len(dif_nid))\n",
    "dif_nid_df.head()"
   ]
  },
  {
   "cell_type": "code",
   "execution_count": 8,
   "metadata": {
    "tags": []
   },
   "outputs": [
    {
     "output_type": "stream",
     "name": "stdout",
     "text": "21058\n"
    },
    {
     "output_type": "execute_result",
     "data": {
      "text/plain": "      nid              1                  2  \\\n0   N3112      lifestyle    lifestyleroyals   \n1  N12103         health             voices   \n2  N20460         health            medical   \n3   N5409        weather  weathertopstories   \n4  N21078  entertainment             gaming   \n\n                                                   3  \\\n0  The Brands Queen Elizabeth, Prince Charles, an...   \n1  I Was An NBA Wife. Here's How It Affected My M...   \n2  How to Get Rid of Skin Tags, According to a De...   \n3  It's been Orlando's hottest October ever so fa...   \n4  Best PS5 games: top PlayStation 5 titles to lo...   \n\n                                                   4  \\\n0  Shop the notebooks, jackets, and more that the...   \n1  I felt like I was a fraud, and being an NBA wi...   \n2  They seem harmless, but there's a very good re...   \n3  There won't be a chill down to your bones this...   \n4  Every confirmed or expected PS5 game we can't ...   \n\n                                                   5  \\\n0  https://www.msn.com/en-us/lifestyle/lifestyler...   \n1  https://www.msn.com/en-us/health/voices/i-was-...   \n2  https://www.msn.com/en-us/health/medical/how-t...   \n3  https://www.msn.com/en-us/weather/weathertopst...   \n4  https://www.msn.com/en-us/entertainment/gaming...   \n\n                                                   6  \\\n0  [{\"Label\": \"Prince Philip, Duke of Edinburgh\",...   \n1                                                 []   \n2  [{\"Label\": \"Skin tag\", \"Type\": \"C\", \"WikidataI...   \n3  [{\"Label\": \"Orlando, Florida\", \"Type\": \"G\", \"W...   \n4  [{\"Label\": \"PlayStation\", \"Type\": \"J\", \"Wikida...   \n\n                                                   7  \n0                                                 []  \n1  [{\"Label\": \"National Basketball Association\", ...  \n2  [{\"Label\": \"Skin tag\", \"Type\": \"C\", \"WikidataI...  \n3  [{\"Label\": \"Orlando, Florida\", \"Type\": \"G\", \"W...  \n4                                                 []  ",
      "text/html": "<div>\n<style scoped>\n    .dataframe tbody tr th:only-of-type {\n        vertical-align: middle;\n    }\n\n    .dataframe tbody tr th {\n        vertical-align: top;\n    }\n\n    .dataframe thead th {\n        text-align: right;\n    }\n</style>\n<table border=\"1\" class=\"dataframe\">\n  <thead>\n    <tr style=\"text-align: right;\">\n      <th></th>\n      <th>nid</th>\n      <th>1</th>\n      <th>2</th>\n      <th>3</th>\n      <th>4</th>\n      <th>5</th>\n      <th>6</th>\n      <th>7</th>\n    </tr>\n  </thead>\n  <tbody>\n    <tr>\n      <th>0</th>\n      <td>N3112</td>\n      <td>lifestyle</td>\n      <td>lifestyleroyals</td>\n      <td>The Brands Queen Elizabeth, Prince Charles, an...</td>\n      <td>Shop the notebooks, jackets, and more that the...</td>\n      <td>https://www.msn.com/en-us/lifestyle/lifestyler...</td>\n      <td>[{\"Label\": \"Prince Philip, Duke of Edinburgh\",...</td>\n      <td>[]</td>\n    </tr>\n    <tr>\n      <th>1</th>\n      <td>N12103</td>\n      <td>health</td>\n      <td>voices</td>\n      <td>I Was An NBA Wife. Here's How It Affected My M...</td>\n      <td>I felt like I was a fraud, and being an NBA wi...</td>\n      <td>https://www.msn.com/en-us/health/voices/i-was-...</td>\n      <td>[]</td>\n      <td>[{\"Label\": \"National Basketball Association\", ...</td>\n    </tr>\n    <tr>\n      <th>2</th>\n      <td>N20460</td>\n      <td>health</td>\n      <td>medical</td>\n      <td>How to Get Rid of Skin Tags, According to a De...</td>\n      <td>They seem harmless, but there's a very good re...</td>\n      <td>https://www.msn.com/en-us/health/medical/how-t...</td>\n      <td>[{\"Label\": \"Skin tag\", \"Type\": \"C\", \"WikidataI...</td>\n      <td>[{\"Label\": \"Skin tag\", \"Type\": \"C\", \"WikidataI...</td>\n    </tr>\n    <tr>\n      <th>3</th>\n      <td>N5409</td>\n      <td>weather</td>\n      <td>weathertopstories</td>\n      <td>It's been Orlando's hottest October ever so fa...</td>\n      <td>There won't be a chill down to your bones this...</td>\n      <td>https://www.msn.com/en-us/weather/weathertopst...</td>\n      <td>[{\"Label\": \"Orlando, Florida\", \"Type\": \"G\", \"W...</td>\n      <td>[{\"Label\": \"Orlando, Florida\", \"Type\": \"G\", \"W...</td>\n    </tr>\n    <tr>\n      <th>4</th>\n      <td>N21078</td>\n      <td>entertainment</td>\n      <td>gaming</td>\n      <td>Best PS5 games: top PlayStation 5 titles to lo...</td>\n      <td>Every confirmed or expected PS5 game we can't ...</td>\n      <td>https://www.msn.com/en-us/entertainment/gaming...</td>\n      <td>[{\"Label\": \"PlayStation\", \"Type\": \"J\", \"Wikida...</td>\n      <td>[]</td>\n    </tr>\n  </tbody>\n</table>\n</div>"
     },
     "metadata": {},
     "execution_count": 8
    }
   ],
   "source": [
    "dif_nid_tr_df = pd.read_csv('/Users/baeyuna/Documents/SNU_DLab/crawler_check/dif_nid_tr_df.csv')\n",
    "dif_nid_tr = dif_nid_tr_df['nid'].tolist()\n",
    "print(len(dif_nid_tr))\n",
    "dif_nid_tr_df.head()"
   ]
  },
  {
   "cell_type": "code",
   "execution_count": 10,
   "metadata": {
    "tags": []
   },
   "outputs": [
    {
     "output_type": "stream",
     "name": "stdout",
     "text": "(5682, 12)\n5682\n"
    },
    {
     "output_type": "execute_result",
     "data": {
      "text/plain": "                                                   5  \\\n0  https://www.msn.com/en-us/news/newspolitics/we...   \n1  https://www.msn.com/en-us/tv/tv-celebrity/shar...   \n2  https://www.msn.com/en-us/news/world/the-cost-...   \n3  https://www.msn.com/en-us/health/nutrition/50-...   \n4  https://www.msn.com/en-us/health/weightloss/th...   \n\n                                               Title  \\\n0  We'd Arrest Trump For Fifth Ave Shooting, NYC ...   \n1  Sharon Osbourne Admits She 'Can Hardly Feel' H...   \n2                                                NaN   \n3                                                NaN   \n4                                                NaN   \n\n                       Date  \\\n0  2019-10-24T18:20:00.000Z   \n1  2019-10-23T13:01:53.000Z   \n2                       NaN   \n3                       NaN   \n4                       NaN   \n\n                                               Image  \\\n0  //static-entertainment-eas-s-msn-com.akamaized...   \n1  //static-entertainment-eas-s-msn-com.akamaized...   \n2                                                NaN   \n3                                                NaN   \n4                                                NaN   \n\n                                             Content       0       1  \\\n0  NEW YORK — He might give up his freedom even i...  N22921    news   \n1  Sharon Osbourne isn’t afraid to speak candidly...   N3052      tv   \n2                                                NaN  N10399    news   \n3                                                NaN   N9552  health   \n4                                                NaN  N25099  health   \n\n              2                                                  3  \\\n0  newspolitics  We'd Arrest Trump For Fifth Ave Shooting, NYC ...   \n1  tv-celebrity  Sharon Osbourne Admits She 'Can Hardly Feel' H...   \n2     newsworld  The Cost of Trump's Aid Freeze in the Trenches...   \n3     nutrition  50 Foods You Should Never Eat, According to He...   \n4    weightloss  These Simple Diet Changes Helped This Guy Lose...   \n\n                                                   4  \\\n0  NYPD cops would put President Donald Trump in ...   \n1  Sharon Osbourne Admits She 'Can Hardly Feel' M...   \n2  Lt. Ivan Molchanets peeked over a parapet of s...   \n3                             This is so depressing.   \n4  The part of me that knew I had to make changes...   \n\n                                                   6  \\\n0  [{\"Label\": \"Fifth Avenue\", \"Type\": \"S\", \"Wikid...   \n1  [{\"Label\": \"Sharon Osbourne\", \"Type\": \"P\", \"Wi...   \n2                                                 []   \n3                                                 []   \n4                                                 []   \n\n                                                   7  \n0  [{\"Label\": \"Fifth Avenue\", \"Type\": \"S\", \"Wikid...  \n1  [{\"Label\": \"Sharon Osbourne\", \"Type\": \"P\", \"Wi...  \n2  [{\"Label\": \"Ukraine\", \"Type\": \"G\", \"WikidataId...  \n3                                                 []  \n4                                                 []  ",
      "text/html": "<div>\n<style scoped>\n    .dataframe tbody tr th:only-of-type {\n        vertical-align: middle;\n    }\n\n    .dataframe tbody tr th {\n        vertical-align: top;\n    }\n\n    .dataframe thead th {\n        text-align: right;\n    }\n</style>\n<table border=\"1\" class=\"dataframe\">\n  <thead>\n    <tr style=\"text-align: right;\">\n      <th></th>\n      <th>5</th>\n      <th>Title</th>\n      <th>Date</th>\n      <th>Image</th>\n      <th>Content</th>\n      <th>0</th>\n      <th>1</th>\n      <th>2</th>\n      <th>3</th>\n      <th>4</th>\n      <th>6</th>\n      <th>7</th>\n    </tr>\n  </thead>\n  <tbody>\n    <tr>\n      <th>0</th>\n      <td>https://www.msn.com/en-us/news/newspolitics/we...</td>\n      <td>We'd Arrest Trump For Fifth Ave Shooting, NYC ...</td>\n      <td>2019-10-24T18:20:00.000Z</td>\n      <td>//static-entertainment-eas-s-msn-com.akamaized...</td>\n      <td>NEW YORK — He might give up his freedom even i...</td>\n      <td>N22921</td>\n      <td>news</td>\n      <td>newspolitics</td>\n      <td>We'd Arrest Trump For Fifth Ave Shooting, NYC ...</td>\n      <td>NYPD cops would put President Donald Trump in ...</td>\n      <td>[{\"Label\": \"Fifth Avenue\", \"Type\": \"S\", \"Wikid...</td>\n      <td>[{\"Label\": \"Fifth Avenue\", \"Type\": \"S\", \"Wikid...</td>\n    </tr>\n    <tr>\n      <th>1</th>\n      <td>https://www.msn.com/en-us/tv/tv-celebrity/shar...</td>\n      <td>Sharon Osbourne Admits She 'Can Hardly Feel' H...</td>\n      <td>2019-10-23T13:01:53.000Z</td>\n      <td>//static-entertainment-eas-s-msn-com.akamaized...</td>\n      <td>Sharon Osbourne isn’t afraid to speak candidly...</td>\n      <td>N3052</td>\n      <td>tv</td>\n      <td>tv-celebrity</td>\n      <td>Sharon Osbourne Admits She 'Can Hardly Feel' H...</td>\n      <td>Sharon Osbourne Admits She 'Can Hardly Feel' M...</td>\n      <td>[{\"Label\": \"Sharon Osbourne\", \"Type\": \"P\", \"Wi...</td>\n      <td>[{\"Label\": \"Sharon Osbourne\", \"Type\": \"P\", \"Wi...</td>\n    </tr>\n    <tr>\n      <th>2</th>\n      <td>https://www.msn.com/en-us/news/world/the-cost-...</td>\n      <td>NaN</td>\n      <td>NaN</td>\n      <td>NaN</td>\n      <td>NaN</td>\n      <td>N10399</td>\n      <td>news</td>\n      <td>newsworld</td>\n      <td>The Cost of Trump's Aid Freeze in the Trenches...</td>\n      <td>Lt. Ivan Molchanets peeked over a parapet of s...</td>\n      <td>[]</td>\n      <td>[{\"Label\": \"Ukraine\", \"Type\": \"G\", \"WikidataId...</td>\n    </tr>\n    <tr>\n      <th>3</th>\n      <td>https://www.msn.com/en-us/health/nutrition/50-...</td>\n      <td>NaN</td>\n      <td>NaN</td>\n      <td>NaN</td>\n      <td>NaN</td>\n      <td>N9552</td>\n      <td>health</td>\n      <td>nutrition</td>\n      <td>50 Foods You Should Never Eat, According to He...</td>\n      <td>This is so depressing.</td>\n      <td>[]</td>\n      <td>[]</td>\n    </tr>\n    <tr>\n      <th>4</th>\n      <td>https://www.msn.com/en-us/health/weightloss/th...</td>\n      <td>NaN</td>\n      <td>NaN</td>\n      <td>NaN</td>\n      <td>NaN</td>\n      <td>N25099</td>\n      <td>health</td>\n      <td>weightloss</td>\n      <td>These Simple Diet Changes Helped This Guy Lose...</td>\n      <td>The part of me that knew I had to make changes...</td>\n      <td>[]</td>\n      <td>[]</td>\n    </tr>\n  </tbody>\n</table>\n</div>"
     },
     "metadata": {},
     "execution_count": 10
    }
   ],
   "source": [
    "ok_tr_integrated = tr_in.loc[~tr_in['0'].isin(dif_nid_tr)]\n",
    "print(ok_tr_integrated.shape)\n",
    "print(tr_in.shape[0] - len(dif_nid_tr))\n",
    "ok_tr_integrated.head()"
   ]
  },
  {
   "cell_type": "code",
   "execution_count": 11,
   "metadata": {},
   "outputs": [],
   "source": [
    "ok_tr_integrated.to_csv('ok_tr_integrated.csv', index=False)"
   ]
  },
  {
   "cell_type": "code",
   "execution_count": 12,
   "metadata": {
    "tags": []
   },
   "outputs": [
    {
     "output_type": "stream",
     "name": "stdout",
     "text": "(8189, 12)\n8189\n"
    },
    {
     "output_type": "execute_result",
     "data": {
      "text/plain": "                                                   5  \\\n0  https://www.msn.com/en-us/sports/football_nfl/...   \n1  https://www.msn.com/en-us/news/newsus/the-fund...   \n2  https://www.msn.com/en-us/news/newscrime/missi...   \n3  https://www.msn.com/en-us/news/world/the-cost-...   \n4  https://www.msn.com/en-us/health/nutrition/50-...   \n\n                                               Title  \\\n0  Marcus Peters' fit with Ravens looks to be bet...   \n1  Missing college student's parents meet with mo...   \n2                                                NaN   \n3                                                NaN   \n4                                                NaN   \n\n                       Date  \\\n0  2019-10-17T03:22:27.000Z   \n1                       NaN   \n2  2019-11-07T06:49:00.000Z   \n3                       NaN   \n4                       NaN   \n\n                                               Image  \\\n0  //static-entertainment-eas-s-msn-com.akamaized...   \n1  //static-entertainment-eas-s-msn-com.akamaized...   \n2                                                NaN   \n3                                                NaN   \n4                                                NaN   \n\n                                             Content       0       1  \\\n0  To understand why the Baltimore Ravens made th...   N9896  sports   \n1  \\n\\n\\n\\n \\n\\n< PREVIOUS SLIDE\\n\\nSLIDE 1 of 3\\...  N23203    news   \n2                                                NaN   N4199    news   \n3                                                NaN  N10399    news   \n4                                                NaN   N9552  health   \n\n              2                                                  3  \\\n0  football_nfl  Marcus Peters' fit with Ravens looks to be bet...   \n1        newsus  The fundamentalist religious community that li...   \n2     newscrime  Missing college student's parents meet with mo...   \n3     newsworld  The Cost of Trump's Aid Freeze in the Trenches...   \n4     nutrition  50 Foods You Should Never Eat, According to He...   \n\n                                                   4  \\\n0                                                NaN   \n1  The three mothers and six children killed in a...   \n2  Investigators did not call the man a suspect, ...   \n3  Lt. Ivan Molchanets peeked over a parapet of s...   \n4                             This is so depressing.   \n\n                                                   6  \\\n0  [{\"Label\": \"Los Angeles Rams\", \"Type\": \"O\", \"W...   \n1                                                 []   \n2  [{\"Label\": \"Disappearance of Natalee Holloway\"...   \n3                                                 []   \n4                                                 []   \n\n                                                   7  \n0                                                 []  \n1  [{\"Label\": \"Mexican Drug War\", \"Type\": \"E\", \"W...  \n2                                                 []  \n3  [{\"Label\": \"Ukraine\", \"Type\": \"G\", \"WikidataId...  \n4                                                 []  ",
      "text/html": "<div>\n<style scoped>\n    .dataframe tbody tr th:only-of-type {\n        vertical-align: middle;\n    }\n\n    .dataframe tbody tr th {\n        vertical-align: top;\n    }\n\n    .dataframe thead th {\n        text-align: right;\n    }\n</style>\n<table border=\"1\" class=\"dataframe\">\n  <thead>\n    <tr style=\"text-align: right;\">\n      <th></th>\n      <th>5</th>\n      <th>Title</th>\n      <th>Date</th>\n      <th>Image</th>\n      <th>Content</th>\n      <th>0</th>\n      <th>1</th>\n      <th>2</th>\n      <th>3</th>\n      <th>4</th>\n      <th>6</th>\n      <th>7</th>\n    </tr>\n  </thead>\n  <tbody>\n    <tr>\n      <th>0</th>\n      <td>https://www.msn.com/en-us/sports/football_nfl/...</td>\n      <td>Marcus Peters' fit with Ravens looks to be bet...</td>\n      <td>2019-10-17T03:22:27.000Z</td>\n      <td>//static-entertainment-eas-s-msn-com.akamaized...</td>\n      <td>To understand why the Baltimore Ravens made th...</td>\n      <td>N9896</td>\n      <td>sports</td>\n      <td>football_nfl</td>\n      <td>Marcus Peters' fit with Ravens looks to be bet...</td>\n      <td>NaN</td>\n      <td>[{\"Label\": \"Los Angeles Rams\", \"Type\": \"O\", \"W...</td>\n      <td>[]</td>\n    </tr>\n    <tr>\n      <th>1</th>\n      <td>https://www.msn.com/en-us/news/newsus/the-fund...</td>\n      <td>Missing college student's parents meet with mo...</td>\n      <td>NaN</td>\n      <td>//static-entertainment-eas-s-msn-com.akamaized...</td>\n      <td>\\n\\n\\n\\n \\n\\n&lt; PREVIOUS SLIDE\\n\\nSLIDE 1 of 3\\...</td>\n      <td>N23203</td>\n      <td>news</td>\n      <td>newsus</td>\n      <td>The fundamentalist religious community that li...</td>\n      <td>The three mothers and six children killed in a...</td>\n      <td>[]</td>\n      <td>[{\"Label\": \"Mexican Drug War\", \"Type\": \"E\", \"W...</td>\n    </tr>\n    <tr>\n      <th>2</th>\n      <td>https://www.msn.com/en-us/news/newscrime/missi...</td>\n      <td>NaN</td>\n      <td>2019-11-07T06:49:00.000Z</td>\n      <td>NaN</td>\n      <td>NaN</td>\n      <td>N4199</td>\n      <td>news</td>\n      <td>newscrime</td>\n      <td>Missing college student's parents meet with mo...</td>\n      <td>Investigators did not call the man a suspect, ...</td>\n      <td>[{\"Label\": \"Disappearance of Natalee Holloway\"...</td>\n      <td>[]</td>\n    </tr>\n    <tr>\n      <th>3</th>\n      <td>https://www.msn.com/en-us/news/world/the-cost-...</td>\n      <td>NaN</td>\n      <td>NaN</td>\n      <td>NaN</td>\n      <td>NaN</td>\n      <td>N10399</td>\n      <td>news</td>\n      <td>newsworld</td>\n      <td>The Cost of Trump's Aid Freeze in the Trenches...</td>\n      <td>Lt. Ivan Molchanets peeked over a parapet of s...</td>\n      <td>[]</td>\n      <td>[{\"Label\": \"Ukraine\", \"Type\": \"G\", \"WikidataId...</td>\n    </tr>\n    <tr>\n      <th>4</th>\n      <td>https://www.msn.com/en-us/health/nutrition/50-...</td>\n      <td>NaN</td>\n      <td>NaN</td>\n      <td>NaN</td>\n      <td>NaN</td>\n      <td>N9552</td>\n      <td>health</td>\n      <td>nutrition</td>\n      <td>50 Foods You Should Never Eat, According to He...</td>\n      <td>This is so depressing.</td>\n      <td>[]</td>\n      <td>[]</td>\n    </tr>\n  </tbody>\n</table>\n</div>"
     },
     "metadata": {},
     "execution_count": 12
    }
   ],
   "source": [
    "ok_dev_integrated = dev_in.loc[~dev_in['0'].isin(dif_nid)]\n",
    "print(ok_dev_integrated.shape)\n",
    "print(dev_in.shape[0] - len(dif_nid))\n",
    "ok_dev_integrated.head()"
   ]
  },
  {
   "cell_type": "code",
   "execution_count": 13,
   "metadata": {},
   "outputs": [],
   "source": [
    "ok_dev_integrated.to_csv('ok_dev_integrated.csv', index=False)"
   ]
  },
  {
   "cell_type": "code",
   "execution_count": null,
   "metadata": {},
   "outputs": [],
   "source": []
  },
  {
   "cell_type": "code",
   "execution_count": 8,
   "metadata": {},
   "outputs": [
    {
     "output_type": "execute_result",
     "data": {
      "text/plain": "Title    We'd Arrest Trump For Fifth Ave Shooting, NYC ...\n3        We'd Arrest Trump For Fifth Ave Shooting, NYC ...\nName: 0, dtype: object"
     },
     "metadata": {},
     "execution_count": 8
    }
   ],
   "source": [
    "tr_in.iloc[0,[1,8]]"
   ]
  },
  {
   "cell_type": "code",
   "execution_count": 3,
   "metadata": {},
   "outputs": [],
   "source": [
    "from tqdm import tqdm"
   ]
  },
  {
   "cell_type": "code",
   "execution_count": 17,
   "metadata": {
    "tags": []
   },
   "outputs": [
    {
     "output_type": "stream",
     "name": "stderr",
     "text": "100%|██████████| 26740/26740 [00:00<00:00, 65997.31it/s]\n"
    }
   ],
   "source": [
    "diff = []\n",
    "for i in tqdm(range(len(tr_in))):\n",
    "    if tr_in.iloc[i,1] != tr_in.iloc[i,8]:\n",
    "        diff.append(i)"
   ]
  },
  {
   "cell_type": "code",
   "execution_count": 19,
   "metadata": {},
   "outputs": [
    {
     "output_type": "execute_result",
     "data": {
      "text/plain": "                                                       5  \\\n11     https://www.msn.com/en-us/foodanddrink/videos/...   \n15     https://www.msn.com/en-us/sports/outdoors/on-t...   \n99     https://www.msn.com/en-us/news/newsus/surge-in...   \n104    https://www.msn.com/en-us/video/news/former-wh...   \n149    https://www.msn.com/en-us/video/animals/listen...   \n...                                                  ...   \n26722  https://www.msn.com/en-us/news/newsoffbeat/sep...   \n26729  https://www.msn.com/en-us/travel/travelarticle...   \n26735  https://www.msn.com/en-us/sports/nba/video-sne...   \n26736  https://www.msn.com/en-us/video/news/michael-b...   \n26737  https://www.msn.com/en-us/news/newscrime/man-c...   \n\n                                                   Title  \\\n11        80 Old Items Fantastically Fit for Repurposing   \n15     Where to get a flu shot: Walmart, CVS, Walgree...   \n99     2021 VW Golf GTI Caught At The 'Ring Perfectin...   \n104    Hyundai wants the 2021 Tucson to be a game-cha...   \n149    A heartbreaking photo of a dog riding a bus al...   \n...                                                  ...   \n26722  Separated pit bulls ‘hit doggie lottery’ as Ma...   \n26729  ‘This is your home away from home’: Lorain ope...   \n26735      VIDEO: Sneak peek at Suns’ stadium renovation   \n26736  Man charged with murder of man found dead in b...   \n26737  14 High-Yield Dividend Stocks to Buy for the 4...   \n\n                           Date  \\\n11                          NaN   \n15                          NaN   \n99                          NaN   \n104                         NaN   \n149                         NaN   \n...                         ...   \n26722  2020-01-27T23:45:33.000Z   \n26729  2019-11-11T17:11:51.000Z   \n26735  2019-11-10T01:30:49.000Z   \n26736  2019-11-12T21:34:03.000Z   \n26737  2019-11-11T18:21:41.000Z   \n\n                                                   Image  \\\n11     //static-entertainment-eas-s-msn-com.akamaized...   \n15     //static-entertainment-eas-s-msn-com.akamaized...   \n99     //static-entertainment-eas-s-msn-com.akamaized...   \n104    //static-entertainment-eas-s-msn-com.akamaized...   \n149    //static-entertainment-eas-s-msn-com.akamaized...   \n...                                                  ...   \n26722  //static-entertainment-eas-s-msn-com.akamaized...   \n26729  //static-entertainment-eas-s-msn-com.akamaized...   \n26735  //static-entertainment-eas-s-msn-com.akamaized...   \n26736  //static-entertainment-eas-s-msn-com.akamaized...   \n26737  //static-entertainment-eas-s-msn-com.akamaized...   \n\n                                                 Content       0  \\\n11                                         XD Load Error  N12885   \n15     \\n\\n\\n\\n\\n\\n© Provided by CBS Interactive Inc....  N13548   \n99     One of the very few eighth-gen Golfs coming to...  N19381   \n104    Hyundai is pulling out all the stops to make t...  N12828   \n149    A heartbreaking photo of a dog riding a bus al...  N19738   \n...                                                  ...     ...   \n26722  The Facebook post showed the 6-year-old dogs, ...   N8743   \n26729  LORAIN, Ohio - It's a new place to call home s...  N25890   \n26735  This week Phoenix Suns fans were treated to a ...   N2398   \n26736  CHARLOTTE, N.C. (WBTV) - A man has been arrest...  N14439   \n26737  Financial planners often recommend the 4% rule...  N13611   \n\n                  1               2  \\\n11     foodanddrink          videos   \n15           sports        outdoors   \n99             news          newsus   \n104           video            news   \n149           video         animals   \n...             ...             ...   \n26722          news     newsoffbeat   \n26729        travel   travelarticle   \n26735        sports  basketball_nba   \n26736         video            news   \n26737          news       newscrime   \n\n                                                       3  \\\n11         17 Things You Didn't Know Mayonnaise Could Do   \n15            ON THE GUN: Browning X-Bolt Max Long Range   \n99          Surge in wind and extreme fire in California   \n104    Former White House chief of staff John Kelly s...   \n149             Listen to the loudest bird ever recorded   \n...                                                  ...   \n26722  Separated pit bulls 'hit doggie lottery' as Ma...   \n26729  'This is your home away from home': Lorain ope...   \n26735      VIDEO: Sneak peek at Suns' stadium renovation   \n26736  Michael Bloomberg files for Democratic primary...   \n26737  Man charged with murder of man found dead in b...   \n\n                                                       4  \\\n11     Mayonnaise is a controversial condiment; howev...   \n15     Browning's new X-Bolt Max Long Range checks al...   \n99     A surge in wind and extreme fire conditions wi...   \n104    In an interview at a political conference host...   \n149    Scientists say the male white bellbird has the...   \n...                                                  ...   \n26722  The Facebook post showed the 6-year-old dogs, ...   \n26729  LORAIN, Ohio - It's a new place to call home s...   \n26735  The plan is for Project 201 to be completed be...   \n26736  Billionaire and former New York City Mayor Mic...   \n26737                                                NaN   \n\n                                                       6  \\\n11                                                    []   \n15                                                    []   \n99     [{\"Label\": \"California\", \"Type\": \"G\", \"Wikidat...   \n104    [{\"Label\": \"John F. Kelly\", \"Type\": \"P\", \"Wiki...   \n149                                                   []   \n...                                                  ...   \n26722  [{\"Label\": \"Marvel Comics\", \"Type\": \"O\", \"Wiki...   \n26729  [{\"Label\": \"Lorain, Ohio\", \"Type\": \"G\", \"Wikid...   \n26735  [{\"Label\": \"Phoenix Suns\", \"Type\": \"O\", \"Wikid...   \n26736  [{\"Label\": \"Michael Bloomberg\", \"Type\": \"P\", \"...   \n26737  [{\"Label\": \"Charlotte, North Carolina\", \"Type\"...   \n\n                                                       7  \n11                                                    []  \n15     [{\"Label\": \"Browning X-Bolt\", \"Type\": \"B\", \"Wi...  \n99                                                    []  \n104    [{\"Label\": \"John F. Kelly\", \"Type\": \"P\", \"Wiki...  \n149                                                   []  \n...                                                  ...  \n26722  [{\"Label\": \"Facebook\", \"Type\": \"O\", \"WikidataI...  \n26729  [{\"Label\": \"Lorain, Ohio\", \"Type\": \"G\", \"Wikid...  \n26735                                                 []  \n26736  [{\"Label\": \"Michael Bloomberg\", \"Type\": \"P\", \"...  \n26737                                                 []  \n\n[3641 rows x 12 columns]",
      "text/html": "<div>\n<style scoped>\n    .dataframe tbody tr th:only-of-type {\n        vertical-align: middle;\n    }\n\n    .dataframe tbody tr th {\n        vertical-align: top;\n    }\n\n    .dataframe thead th {\n        text-align: right;\n    }\n</style>\n<table border=\"1\" class=\"dataframe\">\n  <thead>\n    <tr style=\"text-align: right;\">\n      <th></th>\n      <th>5</th>\n      <th>Title</th>\n      <th>Date</th>\n      <th>Image</th>\n      <th>Content</th>\n      <th>0</th>\n      <th>1</th>\n      <th>2</th>\n      <th>3</th>\n      <th>4</th>\n      <th>6</th>\n      <th>7</th>\n    </tr>\n  </thead>\n  <tbody>\n    <tr>\n      <th>11</th>\n      <td>https://www.msn.com/en-us/foodanddrink/videos/...</td>\n      <td>80 Old Items Fantastically Fit for Repurposing</td>\n      <td>NaN</td>\n      <td>//static-entertainment-eas-s-msn-com.akamaized...</td>\n      <td>XD Load Error</td>\n      <td>N12885</td>\n      <td>foodanddrink</td>\n      <td>videos</td>\n      <td>17 Things You Didn't Know Mayonnaise Could Do</td>\n      <td>Mayonnaise is a controversial condiment; howev...</td>\n      <td>[]</td>\n      <td>[]</td>\n    </tr>\n    <tr>\n      <th>15</th>\n      <td>https://www.msn.com/en-us/sports/outdoors/on-t...</td>\n      <td>Where to get a flu shot: Walmart, CVS, Walgree...</td>\n      <td>NaN</td>\n      <td>//static-entertainment-eas-s-msn-com.akamaized...</td>\n      <td>\\n\\n\\n\\n\\n\\n© Provided by CBS Interactive Inc....</td>\n      <td>N13548</td>\n      <td>sports</td>\n      <td>outdoors</td>\n      <td>ON THE GUN: Browning X-Bolt Max Long Range</td>\n      <td>Browning's new X-Bolt Max Long Range checks al...</td>\n      <td>[]</td>\n      <td>[{\"Label\": \"Browning X-Bolt\", \"Type\": \"B\", \"Wi...</td>\n    </tr>\n    <tr>\n      <th>99</th>\n      <td>https://www.msn.com/en-us/news/newsus/surge-in...</td>\n      <td>2021 VW Golf GTI Caught At The 'Ring Perfectin...</td>\n      <td>NaN</td>\n      <td>//static-entertainment-eas-s-msn-com.akamaized...</td>\n      <td>One of the very few eighth-gen Golfs coming to...</td>\n      <td>N19381</td>\n      <td>news</td>\n      <td>newsus</td>\n      <td>Surge in wind and extreme fire in California</td>\n      <td>A surge in wind and extreme fire conditions wi...</td>\n      <td>[{\"Label\": \"California\", \"Type\": \"G\", \"Wikidat...</td>\n      <td>[]</td>\n    </tr>\n    <tr>\n      <th>104</th>\n      <td>https://www.msn.com/en-us/video/news/former-wh...</td>\n      <td>Hyundai wants the 2021 Tucson to be a game-cha...</td>\n      <td>NaN</td>\n      <td>//static-entertainment-eas-s-msn-com.akamaized...</td>\n      <td>Hyundai is pulling out all the stops to make t...</td>\n      <td>N12828</td>\n      <td>video</td>\n      <td>news</td>\n      <td>Former White House chief of staff John Kelly s...</td>\n      <td>In an interview at a political conference host...</td>\n      <td>[{\"Label\": \"John F. Kelly\", \"Type\": \"P\", \"Wiki...</td>\n      <td>[{\"Label\": \"John F. Kelly\", \"Type\": \"P\", \"Wiki...</td>\n    </tr>\n    <tr>\n      <th>149</th>\n      <td>https://www.msn.com/en-us/video/animals/listen...</td>\n      <td>A heartbreaking photo of a dog riding a bus al...</td>\n      <td>NaN</td>\n      <td>//static-entertainment-eas-s-msn-com.akamaized...</td>\n      <td>A heartbreaking photo of a dog riding a bus al...</td>\n      <td>N19738</td>\n      <td>video</td>\n      <td>animals</td>\n      <td>Listen to the loudest bird ever recorded</td>\n      <td>Scientists say the male white bellbird has the...</td>\n      <td>[]</td>\n      <td>[]</td>\n    </tr>\n    <tr>\n      <th>...</th>\n      <td>...</td>\n      <td>...</td>\n      <td>...</td>\n      <td>...</td>\n      <td>...</td>\n      <td>...</td>\n      <td>...</td>\n      <td>...</td>\n      <td>...</td>\n      <td>...</td>\n      <td>...</td>\n      <td>...</td>\n    </tr>\n    <tr>\n      <th>26722</th>\n      <td>https://www.msn.com/en-us/news/newsoffbeat/sep...</td>\n      <td>Separated pit bulls ‘hit doggie lottery’ as Ma...</td>\n      <td>2020-01-27T23:45:33.000Z</td>\n      <td>//static-entertainment-eas-s-msn-com.akamaized...</td>\n      <td>The Facebook post showed the 6-year-old dogs, ...</td>\n      <td>N8743</td>\n      <td>news</td>\n      <td>newsoffbeat</td>\n      <td>Separated pit bulls 'hit doggie lottery' as Ma...</td>\n      <td>The Facebook post showed the 6-year-old dogs, ...</td>\n      <td>[{\"Label\": \"Marvel Comics\", \"Type\": \"O\", \"Wiki...</td>\n      <td>[{\"Label\": \"Facebook\", \"Type\": \"O\", \"WikidataI...</td>\n    </tr>\n    <tr>\n      <th>26729</th>\n      <td>https://www.msn.com/en-us/travel/travelarticle...</td>\n      <td>‘This is your home away from home’: Lorain ope...</td>\n      <td>2019-11-11T17:11:51.000Z</td>\n      <td>//static-entertainment-eas-s-msn-com.akamaized...</td>\n      <td>LORAIN, Ohio - It's a new place to call home s...</td>\n      <td>N25890</td>\n      <td>travel</td>\n      <td>travelarticle</td>\n      <td>'This is your home away from home': Lorain ope...</td>\n      <td>LORAIN, Ohio - It's a new place to call home s...</td>\n      <td>[{\"Label\": \"Lorain, Ohio\", \"Type\": \"G\", \"Wikid...</td>\n      <td>[{\"Label\": \"Lorain, Ohio\", \"Type\": \"G\", \"Wikid...</td>\n    </tr>\n    <tr>\n      <th>26735</th>\n      <td>https://www.msn.com/en-us/sports/nba/video-sne...</td>\n      <td>VIDEO: Sneak peek at Suns’ stadium renovation</td>\n      <td>2019-11-10T01:30:49.000Z</td>\n      <td>//static-entertainment-eas-s-msn-com.akamaized...</td>\n      <td>This week Phoenix Suns fans were treated to a ...</td>\n      <td>N2398</td>\n      <td>sports</td>\n      <td>basketball_nba</td>\n      <td>VIDEO: Sneak peek at Suns' stadium renovation</td>\n      <td>The plan is for Project 201 to be completed be...</td>\n      <td>[{\"Label\": \"Phoenix Suns\", \"Type\": \"O\", \"Wikid...</td>\n      <td>[]</td>\n    </tr>\n    <tr>\n      <th>26736</th>\n      <td>https://www.msn.com/en-us/video/news/michael-b...</td>\n      <td>Man charged with murder of man found dead in b...</td>\n      <td>2019-11-12T21:34:03.000Z</td>\n      <td>//static-entertainment-eas-s-msn-com.akamaized...</td>\n      <td>CHARLOTTE, N.C. (WBTV) - A man has been arrest...</td>\n      <td>N14439</td>\n      <td>video</td>\n      <td>news</td>\n      <td>Michael Bloomberg files for Democratic primary...</td>\n      <td>Billionaire and former New York City Mayor Mic...</td>\n      <td>[{\"Label\": \"Michael Bloomberg\", \"Type\": \"P\", \"...</td>\n      <td>[{\"Label\": \"Michael Bloomberg\", \"Type\": \"P\", \"...</td>\n    </tr>\n    <tr>\n      <th>26737</th>\n      <td>https://www.msn.com/en-us/news/newscrime/man-c...</td>\n      <td>14 High-Yield Dividend Stocks to Buy for the 4...</td>\n      <td>2019-11-11T18:21:41.000Z</td>\n      <td>//static-entertainment-eas-s-msn-com.akamaized...</td>\n      <td>Financial planners often recommend the 4% rule...</td>\n      <td>N13611</td>\n      <td>news</td>\n      <td>newscrime</td>\n      <td>Man charged with murder of man found dead in b...</td>\n      <td>NaN</td>\n      <td>[{\"Label\": \"Charlotte, North Carolina\", \"Type\"...</td>\n      <td>[]</td>\n    </tr>\n  </tbody>\n</table>\n<p>3641 rows × 12 columns</p>\n</div>"
     },
     "metadata": {},
     "execution_count": 19
    }
   ],
   "source": [
    "diff_df = tr_in.iloc[diff,:]\n",
    "diff_df = diff_df.loc[~diff_df['Title'].isnull()]\n",
    "diff_df"
   ]
  },
  {
   "cell_type": "code",
   "execution_count": null,
   "metadata": {},
   "outputs": [],
   "source": []
  },
  {
   "cell_type": "code",
   "execution_count": null,
   "metadata": {},
   "outputs": [],
   "source": []
  },
  {
   "cell_type": "code",
   "execution_count": 103,
   "metadata": {
    "tags": []
   },
   "outputs": [
    {
     "output_type": "stream",
     "name": "stderr",
     "text": "100%|██████████| 26740/26740 [00:00<00:00, 62561.29it/s]\n"
    },
    {
     "output_type": "execute_result",
     "data": {
      "text/plain": "            0                                                  3  \\\n47       N130  Man on stepson's surprise play: 'It took my vo...   \n50     N20470  Sarah Sapora Reflects On Being Labeled 'Most C...   \n62     N26285  Kim Kardashian Defends Prince Harry and Meghan...   \n66      N6514  Flight attendants warn of 'catastrophic' fire ...   \n104    N12828  Former White House chief of staff John Kelly s...   \n...       ...                                                ...   \n22710  N27251    Evo Morales of Bolivia Accepts Asylum in Mexico   \n22711   N7793  Five winners and five losers as the Dallas Cow...   \n22712   N6982  California cops respond to 2 homeless men shot...   \n22713   N4938    Turkish army takes CNN inside Syria's safe zone   \n22714  N23724  Supermarket magnate John Catsimatidis offers $...   \n\n                                                       3  \n47     Man on stepson's surprise play: \"It took my vo...  \n50     Sarah Sapora Reflects On Being Labeled \"Most C...  \n62     Kim Kardashian Defends Prince Harry and Meghan...  \n66     Flight attendants warn of \"catastrophic\" fire ...  \n104    Former White House chief of staff John Kelly s...  \n...                                                  ...  \n22710  Energy Secretary Perry says he is resigning by...  \n22711  Native nations demand demolition of 3 Columbia...  \n22712  Attorneys seek new competency evaluation for m...  \n22713  Ravens backup QB Robert Griffin III 'ran in sl...  \n22714       Here's Every Pumpkin Recipe You'll Ever Need  \n\n[21058 rows x 3 columns]",
      "text/html": "<div>\n<style scoped>\n    .dataframe tbody tr th:only-of-type {\n        vertical-align: middle;\n    }\n\n    .dataframe tbody tr th {\n        vertical-align: top;\n    }\n\n    .dataframe thead th {\n        text-align: right;\n    }\n</style>\n<table border=\"1\" class=\"dataframe\">\n  <thead>\n    <tr style=\"text-align: right;\">\n      <th></th>\n      <th>0</th>\n      <th>3</th>\n      <th>3</th>\n    </tr>\n  </thead>\n  <tbody>\n    <tr>\n      <th>47</th>\n      <td>N130</td>\n      <td>Man on stepson's surprise play: 'It took my vo...</td>\n      <td>Man on stepson's surprise play: \"It took my vo...</td>\n    </tr>\n    <tr>\n      <th>50</th>\n      <td>N20470</td>\n      <td>Sarah Sapora Reflects On Being Labeled 'Most C...</td>\n      <td>Sarah Sapora Reflects On Being Labeled \"Most C...</td>\n    </tr>\n    <tr>\n      <th>62</th>\n      <td>N26285</td>\n      <td>Kim Kardashian Defends Prince Harry and Meghan...</td>\n      <td>Kim Kardashian Defends Prince Harry and Meghan...</td>\n    </tr>\n    <tr>\n      <th>66</th>\n      <td>N6514</td>\n      <td>Flight attendants warn of 'catastrophic' fire ...</td>\n      <td>Flight attendants warn of \"catastrophic\" fire ...</td>\n    </tr>\n    <tr>\n      <th>104</th>\n      <td>N12828</td>\n      <td>Former White House chief of staff John Kelly s...</td>\n      <td>Former White House chief of staff John Kelly s...</td>\n    </tr>\n    <tr>\n      <th>...</th>\n      <td>...</td>\n      <td>...</td>\n      <td>...</td>\n    </tr>\n    <tr>\n      <th>22710</th>\n      <td>N27251</td>\n      <td>Evo Morales of Bolivia Accepts Asylum in Mexico</td>\n      <td>Energy Secretary Perry says he is resigning by...</td>\n    </tr>\n    <tr>\n      <th>22711</th>\n      <td>N7793</td>\n      <td>Five winners and five losers as the Dallas Cow...</td>\n      <td>Native nations demand demolition of 3 Columbia...</td>\n    </tr>\n    <tr>\n      <th>22712</th>\n      <td>N6982</td>\n      <td>California cops respond to 2 homeless men shot...</td>\n      <td>Attorneys seek new competency evaluation for m...</td>\n    </tr>\n    <tr>\n      <th>22713</th>\n      <td>N4938</td>\n      <td>Turkish army takes CNN inside Syria's safe zone</td>\n      <td>Ravens backup QB Robert Griffin III 'ran in sl...</td>\n    </tr>\n    <tr>\n      <th>22714</th>\n      <td>N23724</td>\n      <td>Supermarket magnate John Catsimatidis offers $...</td>\n      <td>Here's Every Pumpkin Recipe You'll Ever Need</td>\n    </tr>\n  </tbody>\n</table>\n<p>21058 rows × 3 columns</p>\n</div>"
     },
     "metadata": {},
     "execution_count": 103
    }
   ],
   "source": [
    "dfffft = []\n",
    "for i in tqdm(range(len(df_tr))):\n",
    "    if df_tr.iloc[i,1] != df_tr.iloc[i,2]:\n",
    "        dfffft.append(i) \n",
    "\n",
    "dif_nid_t = df_tr.iloc[dfffft,:]['0'].tolist()\n",
    "df_tr.iloc[dfffft,:] "
   ]
  },
  {
   "cell_type": "code",
   "execution_count": 102,
   "metadata": {},
   "outputs": [
    {
     "output_type": "execute_result",
     "data": {
      "text/plain": "        0                                                  3  \\\n0  N22921  We'd Arrest Trump For Fifth Ave Shooting, NYC ...   \n1   N3052  Sharon Osbourne Admits She 'Can Hardly Feel' H...   \n2  N10399  The Cost of Trump's Aid Freeze in the Trenches...   \n3   N9552  50 Foods You Should Never Eat, According to He...   \n4  N25099  These Simple Diet Changes Helped This Guy Lose...   \n\n                                                   3  \n0  We'd Arrest Trump For Fifth Ave Shooting, NYC ...  \n1  Sharon Osbourne Admits She 'Can Hardly Feel' H...  \n2  The Cost of Trump's Aid Freeze in the Trenches...  \n3  50 Foods You Should Never Eat, According to He...  \n4  These Simple Diet Changes Helped This Guy Lose...  ",
      "text/html": "<div>\n<style scoped>\n    .dataframe tbody tr th:only-of-type {\n        vertical-align: middle;\n    }\n\n    .dataframe tbody tr th {\n        vertical-align: top;\n    }\n\n    .dataframe thead th {\n        text-align: right;\n    }\n</style>\n<table border=\"1\" class=\"dataframe\">\n  <thead>\n    <tr style=\"text-align: right;\">\n      <th></th>\n      <th>0</th>\n      <th>3</th>\n      <th>3</th>\n    </tr>\n  </thead>\n  <tbody>\n    <tr>\n      <th>0</th>\n      <td>N22921</td>\n      <td>We'd Arrest Trump For Fifth Ave Shooting, NYC ...</td>\n      <td>We'd Arrest Trump For Fifth Ave Shooting, NYC ...</td>\n    </tr>\n    <tr>\n      <th>1</th>\n      <td>N3052</td>\n      <td>Sharon Osbourne Admits She 'Can Hardly Feel' H...</td>\n      <td>Sharon Osbourne Admits She 'Can Hardly Feel' H...</td>\n    </tr>\n    <tr>\n      <th>2</th>\n      <td>N10399</td>\n      <td>The Cost of Trump's Aid Freeze in the Trenches...</td>\n      <td>The Cost of Trump's Aid Freeze in the Trenches...</td>\n    </tr>\n    <tr>\n      <th>3</th>\n      <td>N9552</td>\n      <td>50 Foods You Should Never Eat, According to He...</td>\n      <td>50 Foods You Should Never Eat, According to He...</td>\n    </tr>\n    <tr>\n      <th>4</th>\n      <td>N25099</td>\n      <td>These Simple Diet Changes Helped This Guy Lose...</td>\n      <td>These Simple Diet Changes Helped This Guy Lose...</td>\n    </tr>\n  </tbody>\n</table>\n</div>"
     },
     "metadata": {},
     "execution_count": 102
    }
   ],
   "source": [
    "tinte = tr_in.iloc[:,[5,8]]\n",
    "tnews = tr_news.iloc[:,[0,3]]\n",
    "tnews.rename(columns = {0:'0'}, inplace= True)\n",
    "\n",
    "df_tr = pd.merge(tinte, tnews, on = '0')\n",
    "df_tr.head()"
   ]
  },
  {
   "cell_type": "code",
   "execution_count": null,
   "metadata": {},
   "outputs": [],
   "source": []
  },
  {
   "cell_type": "code",
   "execution_count": null,
   "metadata": {},
   "outputs": [],
   "source": []
  },
  {
   "cell_type": "code",
   "execution_count": null,
   "metadata": {},
   "outputs": [],
   "source": []
  },
  {
   "cell_type": "code",
   "execution_count": null,
   "metadata": {},
   "outputs": [],
   "source": []
  },
  {
   "cell_type": "code",
   "execution_count": 7,
   "metadata": {},
   "outputs": [
    {
     "output_type": "execute_result",
     "data": {
      "text/plain": "        0          1                  2  \\\n0   N3112  lifestyle    lifestyleroyals   \n1  N10399       news          newsworld   \n2  N12103     health             voices   \n3  N20460     health            medical   \n4   N5409    weather  weathertopstories   \n\n                                                   3  \\\n0  The Brands Queen Elizabeth, Prince Charles, an...   \n1  The Cost of Trump's Aid Freeze in the Trenches...   \n2  I Was An NBA Wife. Here's How It Affected My M...   \n3  How to Get Rid of Skin Tags, According to a De...   \n4  It's been Orlando's hottest October ever so fa...   \n\n                                                   4  \\\n0  Shop the notebooks, jackets, and more that the...   \n1  Lt. Ivan Molchanets peeked over a parapet of s...   \n2  I felt like I was a fraud, and being an NBA wi...   \n3  They seem harmless, but there's a very good re...   \n4  There won't be a chill down to your bones this...   \n\n                                                   5  \\\n0  https://www.msn.com/en-us/lifestyle/lifestyler...   \n1  https://www.msn.com/en-us/news/world/the-cost-...   \n2  https://www.msn.com/en-us/health/voices/i-was-...   \n3  https://www.msn.com/en-us/health/medical/how-t...   \n4  https://www.msn.com/en-us/weather/weathertopst...   \n\n                                                   6  \\\n0  [{\"Label\": \"Prince Philip, Duke of Edinburgh\",...   \n1                                                 []   \n2                                                 []   \n3  [{\"Label\": \"Skin tag\", \"Type\": \"C\", \"WikidataI...   \n4  [{\"Label\": \"Orlando, Florida\", \"Type\": \"G\", \"W...   \n\n                                                   7  \n0                                                 []  \n1  [{\"Label\": \"Ukraine\", \"Type\": \"G\", \"WikidataId...  \n2  [{\"Label\": \"National Basketball Association\", ...  \n3  [{\"Label\": \"Skin tag\", \"Type\": \"C\", \"WikidataI...  \n4  [{\"Label\": \"Orlando, Florida\", \"Type\": \"G\", \"W...  ",
      "text/html": "<div>\n<style scoped>\n    .dataframe tbody tr th:only-of-type {\n        vertical-align: middle;\n    }\n\n    .dataframe tbody tr th {\n        vertical-align: top;\n    }\n\n    .dataframe thead th {\n        text-align: right;\n    }\n</style>\n<table border=\"1\" class=\"dataframe\">\n  <thead>\n    <tr style=\"text-align: right;\">\n      <th></th>\n      <th>0</th>\n      <th>1</th>\n      <th>2</th>\n      <th>3</th>\n      <th>4</th>\n      <th>5</th>\n      <th>6</th>\n      <th>7</th>\n    </tr>\n  </thead>\n  <tbody>\n    <tr>\n      <th>0</th>\n      <td>N3112</td>\n      <td>lifestyle</td>\n      <td>lifestyleroyals</td>\n      <td>The Brands Queen Elizabeth, Prince Charles, an...</td>\n      <td>Shop the notebooks, jackets, and more that the...</td>\n      <td>https://www.msn.com/en-us/lifestyle/lifestyler...</td>\n      <td>[{\"Label\": \"Prince Philip, Duke of Edinburgh\",...</td>\n      <td>[]</td>\n    </tr>\n    <tr>\n      <th>1</th>\n      <td>N10399</td>\n      <td>news</td>\n      <td>newsworld</td>\n      <td>The Cost of Trump's Aid Freeze in the Trenches...</td>\n      <td>Lt. Ivan Molchanets peeked over a parapet of s...</td>\n      <td>https://www.msn.com/en-us/news/world/the-cost-...</td>\n      <td>[]</td>\n      <td>[{\"Label\": \"Ukraine\", \"Type\": \"G\", \"WikidataId...</td>\n    </tr>\n    <tr>\n      <th>2</th>\n      <td>N12103</td>\n      <td>health</td>\n      <td>voices</td>\n      <td>I Was An NBA Wife. Here's How It Affected My M...</td>\n      <td>I felt like I was a fraud, and being an NBA wi...</td>\n      <td>https://www.msn.com/en-us/health/voices/i-was-...</td>\n      <td>[]</td>\n      <td>[{\"Label\": \"National Basketball Association\", ...</td>\n    </tr>\n    <tr>\n      <th>3</th>\n      <td>N20460</td>\n      <td>health</td>\n      <td>medical</td>\n      <td>How to Get Rid of Skin Tags, According to a De...</td>\n      <td>They seem harmless, but there's a very good re...</td>\n      <td>https://www.msn.com/en-us/health/medical/how-t...</td>\n      <td>[{\"Label\": \"Skin tag\", \"Type\": \"C\", \"WikidataI...</td>\n      <td>[{\"Label\": \"Skin tag\", \"Type\": \"C\", \"WikidataI...</td>\n    </tr>\n    <tr>\n      <th>4</th>\n      <td>N5409</td>\n      <td>weather</td>\n      <td>weathertopstories</td>\n      <td>It's been Orlando's hottest October ever so fa...</td>\n      <td>There won't be a chill down to your bones this...</td>\n      <td>https://www.msn.com/en-us/weather/weathertopst...</td>\n      <td>[{\"Label\": \"Orlando, Florida\", \"Type\": \"G\", \"W...</td>\n      <td>[{\"Label\": \"Orlando, Florida\", \"Type\": \"G\", \"W...</td>\n    </tr>\n  </tbody>\n</table>\n</div>"
     },
     "metadata": {},
     "execution_count": 7
    }
   ],
   "source": [
    "dev_news = pd.read_csv('/Users/baeyuna/Documents/SNU_DLab/Data/MINDdemo_dev/news.tsv', delimiter='\\t', header=None)\n",
    "dev_news.head()"
   ]
  },
  {
   "cell_type": "code",
   "execution_count": 62,
   "metadata": {},
   "outputs": [
    {
     "output_type": "execute_result",
     "data": {
      "text/plain": "        0                                                  3  \\\n0   N9896  Marcus Peters' fit with Ravens looks to be bet...   \n1  N23203  The fundamentalist religious community that li...   \n2   N4199  Missing college student's parents meet with mo...   \n3  N10399  The Cost of Trump's Aid Freeze in the Trenches...   \n4   N9552  50 Foods You Should Never Eat, According to He...   \n\n                                                   3  \n0  Marcus Peters' fit with Ravens looks to be bet...  \n1  The fundamentalist religious community that li...  \n2  Missing college student's parents meet with mo...  \n3  The Cost of Trump's Aid Freeze in the Trenches...  \n4  50 Foods You Should Never Eat, According to He...  ",
      "text/html": "<div>\n<style scoped>\n    .dataframe tbody tr th:only-of-type {\n        vertical-align: middle;\n    }\n\n    .dataframe tbody tr th {\n        vertical-align: top;\n    }\n\n    .dataframe thead th {\n        text-align: right;\n    }\n</style>\n<table border=\"1\" class=\"dataframe\">\n  <thead>\n    <tr style=\"text-align: right;\">\n      <th></th>\n      <th>0</th>\n      <th>3</th>\n      <th>3</th>\n    </tr>\n  </thead>\n  <tbody>\n    <tr>\n      <th>0</th>\n      <td>N9896</td>\n      <td>Marcus Peters' fit with Ravens looks to be bet...</td>\n      <td>Marcus Peters' fit with Ravens looks to be bet...</td>\n    </tr>\n    <tr>\n      <th>1</th>\n      <td>N23203</td>\n      <td>The fundamentalist religious community that li...</td>\n      <td>The fundamentalist religious community that li...</td>\n    </tr>\n    <tr>\n      <th>2</th>\n      <td>N4199</td>\n      <td>Missing college student's parents meet with mo...</td>\n      <td>Missing college student's parents meet with mo...</td>\n    </tr>\n    <tr>\n      <th>3</th>\n      <td>N10399</td>\n      <td>The Cost of Trump's Aid Freeze in the Trenches...</td>\n      <td>The Cost of Trump's Aid Freeze in the Trenches...</td>\n    </tr>\n    <tr>\n      <th>4</th>\n      <td>N9552</td>\n      <td>50 Foods You Should Never Eat, According to He...</td>\n      <td>50 Foods You Should Never Eat, According to He...</td>\n    </tr>\n  </tbody>\n</table>\n</div>"
     },
     "metadata": {},
     "execution_count": 62
    }
   ],
   "source": [
    "dinte = dev_in.iloc[:,[5,8]]\n",
    "dnews = dev_news.iloc[:,[0,3]]\n",
    "\n",
    "df = pd.merge(dinte, dnews, on = '0')\n",
    "df.head()"
   ]
  },
  {
   "cell_type": "code",
   "execution_count": 63,
   "metadata": {
    "tags": []
   },
   "outputs": [
    {
     "output_type": "stream",
     "name": "stderr",
     "text": "100%|██████████| 18723/18723 [00:00<00:00, 63744.85it/s]\n"
    }
   ],
   "source": [
    "dffff = []\n",
    "for i in tqdm(range(len(df))):\n",
    "    if df.iloc[i,1] != df.iloc[i,2]:\n",
    "        dffff.append(i) "
   ]
  },
  {
   "cell_type": "code",
   "execution_count": 69,
   "metadata": {},
   "outputs": [
    {
     "output_type": "execute_result",
     "data": {
      "text/plain": "            0                                                  3  \\\n1676   N22273  50 Foods You Should Never Eat, According to He...   \n1677   N10616  Newark Liberty Airport's Terminal One a $2.7 b...   \n1678   N21935  Elijah Cummings to lie in state at US Capitol ...   \n1679    N9663  17 Abandoned Theme Parks to Explore for Thrill...   \n1680   N16695                10 Things You Never Knew About Owls   \n...       ...                                                ...   \n12205   N9428  Animal shelter under scrutiny over dirty cages...   \n12206  N23852  Florida's hepatitis A outbreak prompts a door-...   \n12207  N13146  Cleveland takes on Washington, seeks to halt 3...   \n12208   N1969  DC high schools awarded for bold new approach ...   \n12209  N13888  Pregnant 'Little People, Big World' star Tori ...   \n\n                                                       3  \n1676   Homes destroyed, hundreds more evacuated as Lo...  \n1677   Apple commits $2.5 billion to combat Californi...  \n1678   Missing Scottish Man's Hand And Wedding Ring W...  \n1679   Man sets Guinness World Record for highest sta...  \n1680   LeBron James addresses 'tough situation' after...  \n...                                                  ...  \n12205  Lyft driver shot after passenger tries to rob her  \n12206                          16 of the Best Drift Cars  \n12207  The best cheeseburger in LA sells out every we...  \n12208          Why Are Cruise Ships Almost Always White?  \n12209  The World's Most Beautiful Beaches Will Make Y...  \n\n[10534 rows x 3 columns]",
      "text/html": "<div>\n<style scoped>\n    .dataframe tbody tr th:only-of-type {\n        vertical-align: middle;\n    }\n\n    .dataframe tbody tr th {\n        vertical-align: top;\n    }\n\n    .dataframe thead th {\n        text-align: right;\n    }\n</style>\n<table border=\"1\" class=\"dataframe\">\n  <thead>\n    <tr style=\"text-align: right;\">\n      <th></th>\n      <th>0</th>\n      <th>3</th>\n      <th>3</th>\n    </tr>\n  </thead>\n  <tbody>\n    <tr>\n      <th>1676</th>\n      <td>N22273</td>\n      <td>50 Foods You Should Never Eat, According to He...</td>\n      <td>Homes destroyed, hundreds more evacuated as Lo...</td>\n    </tr>\n    <tr>\n      <th>1677</th>\n      <td>N10616</td>\n      <td>Newark Liberty Airport's Terminal One a $2.7 b...</td>\n      <td>Apple commits $2.5 billion to combat Californi...</td>\n    </tr>\n    <tr>\n      <th>1678</th>\n      <td>N21935</td>\n      <td>Elijah Cummings to lie in state at US Capitol ...</td>\n      <td>Missing Scottish Man's Hand And Wedding Ring W...</td>\n    </tr>\n    <tr>\n      <th>1679</th>\n      <td>N9663</td>\n      <td>17 Abandoned Theme Parks to Explore for Thrill...</td>\n      <td>Man sets Guinness World Record for highest sta...</td>\n    </tr>\n    <tr>\n      <th>1680</th>\n      <td>N16695</td>\n      <td>10 Things You Never Knew About Owls</td>\n      <td>LeBron James addresses 'tough situation' after...</td>\n    </tr>\n    <tr>\n      <th>...</th>\n      <td>...</td>\n      <td>...</td>\n      <td>...</td>\n    </tr>\n    <tr>\n      <th>12205</th>\n      <td>N9428</td>\n      <td>Animal shelter under scrutiny over dirty cages...</td>\n      <td>Lyft driver shot after passenger tries to rob her</td>\n    </tr>\n    <tr>\n      <th>12206</th>\n      <td>N23852</td>\n      <td>Florida's hepatitis A outbreak prompts a door-...</td>\n      <td>16 of the Best Drift Cars</td>\n    </tr>\n    <tr>\n      <th>12207</th>\n      <td>N13146</td>\n      <td>Cleveland takes on Washington, seeks to halt 3...</td>\n      <td>The best cheeseburger in LA sells out every we...</td>\n    </tr>\n    <tr>\n      <th>12208</th>\n      <td>N1969</td>\n      <td>DC high schools awarded for bold new approach ...</td>\n      <td>Why Are Cruise Ships Almost Always White?</td>\n    </tr>\n    <tr>\n      <th>12209</th>\n      <td>N13888</td>\n      <td>Pregnant 'Little People, Big World' star Tori ...</td>\n      <td>The World's Most Beautiful Beaches Will Make Y...</td>\n    </tr>\n  </tbody>\n</table>\n<p>10534 rows × 3 columns</p>\n</div>"
     },
     "metadata": {},
     "execution_count": 69
    }
   ],
   "source": [
    "dif_nid = df.iloc[dffff,:]['0'].tolist()\n",
    "df.iloc[dffff,:] "
   ]
  },
  {
   "cell_type": "code",
   "execution_count": 109,
   "metadata": {},
   "outputs": [],
   "source": [
    "dev_news.rename(columns={0:'nid'}, inplace=True)"
   ]
  },
  {
   "cell_type": "code",
   "execution_count": 111,
   "metadata": {},
   "outputs": [],
   "source": [
    "dev_news.loc[dev_news['nid'].isin(dif_nid)].to_csv('dif_nid_df.csv', index=False)"
   ]
  },
  {
   "cell_type": "code",
   "execution_count": 95,
   "metadata": {},
   "outputs": [],
   "source": [
    "with open('dif_nid_dev.txt', 'w') as f:\n",
    "    for nid in dif_nid:\n",
    "        f.writelines(nid)\n",
    "\n",
    "f.close()"
   ]
  },
  {
   "cell_type": "code",
   "execution_count": 112,
   "metadata": {},
   "outputs": [],
   "source": [
    "tr_news.rename(columns={0:'nid'}, inplace=True)"
   ]
  },
  {
   "cell_type": "code",
   "execution_count": 113,
   "metadata": {},
   "outputs": [],
   "source": [
    "tr_news.loc[tr_news['nid'].isin(dif_nid_t)].to_csv('dif_nid_tr_df.csv', index=False)"
   ]
  },
  {
   "cell_type": "code",
   "execution_count": 104,
   "metadata": {},
   "outputs": [],
   "source": [
    "with open('dif_nid_tr.txt', 'w') as f:\n",
    "    for nid in dif_nid_t:\n",
    "        f.writelines(nid)\n",
    "\n",
    "f.close()"
   ]
  },
  {
   "cell_type": "code",
   "execution_count": null,
   "metadata": {},
   "outputs": [],
   "source": []
  },
  {
   "cell_type": "code",
   "execution_count": null,
   "metadata": {},
   "outputs": [],
   "source": []
  },
  {
   "cell_type": "code",
   "execution_count": 92,
   "metadata": {},
   "outputs": [
    {
     "output_type": "execute_result",
     "data": {
      "text/plain": "                                                  5  \\\n1676  https://assets.msn.com/labs/mind/AABDHTv.html   \n1677  https://assets.msn.com/labs/mind/AAJfTqo.html   \n1678  https://assets.msn.com/labs/mind/AAJgNxm.html   \n1679  https://assets.msn.com/labs/mind/AADlunl.html   \n1680  https://assets.msn.com/labs/mind/AAEw1Zd.html   \n\n                                                  Title                  Date  \\\n1676  50 Foods You Should Never Eat, According to He...  2019-05-21T21:10:55Z   \n1677  Newark Liberty Airport's Terminal One a $2.7 b...  2019-10-23T19:44:51Z   \n1678  Elijah Cummings to lie in state at US Capitol ...  2019-10-24T09:23:00Z   \n1679  17 Abandoned Theme Parks to Explore for Thrill...  2019-10-02T11:00:00Z   \n1680                10 Things You Never Knew About Owls  2019-07-18T14:47:14Z   \n\n                                                  Image  \\\n1676  https://img-s-msn-com.akamaized.net/tenant/amp...   \n1677                                                NaN   \n1678                                                NaN   \n1679  https://img-s-msn-com.akamaized.net/tenant/amp...   \n1680  https://img-s-msn-com.akamaized.net/tenant/amp...   \n\n                                                Content     nid          1  \\\n1676  What's the one food you refuse to eat? Whateve...  N22273     health   \n1677  Gov. Phil Murphy, Senate President Stephen Swe...  N10616     travel   \n1678  WASHINGTON â Rep. Elijah Cummings will lie i...  N21935       news   \n1679  Amusement parks usually conjure up images of s...   N9663     travel   \n1680  There's no one \"owl\"âin fact there are 250 d...  N16695  lifestyle   \n\n                         2                                                  3  \\\n1676             nutrition  50 Foods You Should Never Eat, According to He...   \n1677         travelarticle  Newark Liberty Airport's Terminal One a $2.7 b...   \n1678          newspolitics  Elijah Cummings to lie in state at US Capitol ...   \n1679       traveltripideas  17 Abandoned Theme Parks to Explore for Thrill...   \n1680  lifestylepetsanimals                10 Things You Never Knew About Owls   \n\n                                                      4  \\\n1676                             This is so depressing.   \n1677  The project, which is the bi-state agency's si...   \n1678  Cummings, a Democrat whose district included s...   \n1679  Disney, Six Flags, and even the Flintstones ha...   \n1680  With their huge eyes, sharp talons, and swivel...   \n\n                                                      6  \\\n1676                                                 []   \n1677  [{\"Label\": \"Newark Liberty International Airpo...   \n1678  [{\"Label\": \"Elijah Cummings\", \"Type\": \"P\", \"Wi...   \n1679  [{\"Label\": \"Amusement park\", \"Type\": \"C\", \"Wik...   \n1680                                                 []   \n\n                                                      7  \n1676                                                 []  \n1677                                                 []  \n1678  [{\"Label\": \"Elijah Cummings\", \"Type\": \"P\", \"Wi...  \n1679  [{\"Label\": \"Six Flags\", \"Type\": \"O\", \"Wikidata...  \n1680                                                 []  ",
      "text/html": "<div>\n<style scoped>\n    .dataframe tbody tr th:only-of-type {\n        vertical-align: middle;\n    }\n\n    .dataframe tbody tr th {\n        vertical-align: top;\n    }\n\n    .dataframe thead th {\n        text-align: right;\n    }\n</style>\n<table border=\"1\" class=\"dataframe\">\n  <thead>\n    <tr style=\"text-align: right;\">\n      <th></th>\n      <th>5</th>\n      <th>Title</th>\n      <th>Date</th>\n      <th>Image</th>\n      <th>Content</th>\n      <th>nid</th>\n      <th>1</th>\n      <th>2</th>\n      <th>3</th>\n      <th>4</th>\n      <th>6</th>\n      <th>7</th>\n    </tr>\n  </thead>\n  <tbody>\n    <tr>\n      <th>1676</th>\n      <td>https://assets.msn.com/labs/mind/AABDHTv.html</td>\n      <td>50 Foods You Should Never Eat, According to He...</td>\n      <td>2019-05-21T21:10:55Z</td>\n      <td>https://img-s-msn-com.akamaized.net/tenant/amp...</td>\n      <td>What's the one food you refuse to eat? Whateve...</td>\n      <td>N22273</td>\n      <td>health</td>\n      <td>nutrition</td>\n      <td>50 Foods You Should Never Eat, According to He...</td>\n      <td>This is so depressing.</td>\n      <td>[]</td>\n      <td>[]</td>\n    </tr>\n    <tr>\n      <th>1677</th>\n      <td>https://assets.msn.com/labs/mind/AAJfTqo.html</td>\n      <td>Newark Liberty Airport's Terminal One a $2.7 b...</td>\n      <td>2019-10-23T19:44:51Z</td>\n      <td>NaN</td>\n      <td>Gov. Phil Murphy, Senate President Stephen Swe...</td>\n      <td>N10616</td>\n      <td>travel</td>\n      <td>travelarticle</td>\n      <td>Newark Liberty Airport's Terminal One a $2.7 b...</td>\n      <td>The project, which is the bi-state agency's si...</td>\n      <td>[{\"Label\": \"Newark Liberty International Airpo...</td>\n      <td>[]</td>\n    </tr>\n    <tr>\n      <th>1678</th>\n      <td>https://assets.msn.com/labs/mind/AAJgNxm.html</td>\n      <td>Elijah Cummings to lie in state at US Capitol ...</td>\n      <td>2019-10-24T09:23:00Z</td>\n      <td>NaN</td>\n      <td>WASHINGTON â Rep. Elijah Cummings will lie i...</td>\n      <td>N21935</td>\n      <td>news</td>\n      <td>newspolitics</td>\n      <td>Elijah Cummings to lie in state at US Capitol ...</td>\n      <td>Cummings, a Democrat whose district included s...</td>\n      <td>[{\"Label\": \"Elijah Cummings\", \"Type\": \"P\", \"Wi...</td>\n      <td>[{\"Label\": \"Elijah Cummings\", \"Type\": \"P\", \"Wi...</td>\n    </tr>\n    <tr>\n      <th>1679</th>\n      <td>https://assets.msn.com/labs/mind/AADlunl.html</td>\n      <td>17 Abandoned Theme Parks to Explore for Thrill...</td>\n      <td>2019-10-02T11:00:00Z</td>\n      <td>https://img-s-msn-com.akamaized.net/tenant/amp...</td>\n      <td>Amusement parks usually conjure up images of s...</td>\n      <td>N9663</td>\n      <td>travel</td>\n      <td>traveltripideas</td>\n      <td>17 Abandoned Theme Parks to Explore for Thrill...</td>\n      <td>Disney, Six Flags, and even the Flintstones ha...</td>\n      <td>[{\"Label\": \"Amusement park\", \"Type\": \"C\", \"Wik...</td>\n      <td>[{\"Label\": \"Six Flags\", \"Type\": \"O\", \"Wikidata...</td>\n    </tr>\n    <tr>\n      <th>1680</th>\n      <td>https://assets.msn.com/labs/mind/AAEw1Zd.html</td>\n      <td>10 Things You Never Knew About Owls</td>\n      <td>2019-07-18T14:47:14Z</td>\n      <td>https://img-s-msn-com.akamaized.net/tenant/amp...</td>\n      <td>There's no one \"owl\"âin fact there are 250 d...</td>\n      <td>N16695</td>\n      <td>lifestyle</td>\n      <td>lifestylepetsanimals</td>\n      <td>10 Things You Never Knew About Owls</td>\n      <td>With their huge eyes, sharp talons, and swivel...</td>\n      <td>[]</td>\n      <td>[]</td>\n    </tr>\n  </tbody>\n</table>\n</div>"
     },
     "metadata": {},
     "execution_count": 92
    }
   ],
   "source": [
    "dev_inddd = dev_in.loc[dev_in.iloc[:,5].isin(dif_nid)]\n",
    "dev_inddd.rename(columns = {'0':'nid'}, inplace=True)\n",
    "dev_inddd.head()"
   ]
  },
  {
   "cell_type": "code",
   "execution_count": 85,
   "metadata": {},
   "outputs": [
    {
     "output_type": "execute_result",
     "data": {
      "text/plain": "      nid          1                  2  \\\n0   N3112  lifestyle    lifestyleroyals   \n2  N12103     health             voices   \n3  N20460     health            medical   \n4   N5409    weather  weathertopstories   \n9  N15322     health        health-news   \n\n                                                   3  \\\n0  The Brands Queen Elizabeth, Prince Charles, an...   \n2  I Was An NBA Wife. Here's How It Affected My M...   \n3  How to Get Rid of Skin Tags, According to a De...   \n4  It's been Orlando's hottest October ever so fa...   \n9  Michigan apple recall: Nearly 2,300 crates cou...   \n\n                                                   4  \\\n0  Shop the notebooks, jackets, and more that the...   \n2  I felt like I was a fraud, and being an NBA wi...   \n3  They seem harmless, but there's a very good re...   \n4  There won't be a chill down to your bones this...   \n9  A Michigan produce company has recalled nearly...   \n\n                                                   5  \\\n0  https://www.msn.com/en-us/lifestyle/lifestyler...   \n2  https://www.msn.com/en-us/health/voices/i-was-...   \n3  https://www.msn.com/en-us/health/medical/how-t...   \n4  https://www.msn.com/en-us/weather/weathertopst...   \n9  https://www.msn.com/en-us/health/health-news/m...   \n\n                                                   6  \\\n0  [{\"Label\": \"Prince Philip, Duke of Edinburgh\",...   \n2                                                 []   \n3  [{\"Label\": \"Skin tag\", \"Type\": \"C\", \"WikidataI...   \n4  [{\"Label\": \"Orlando, Florida\", \"Type\": \"G\", \"W...   \n9  [{\"Label\": \"Michigan\", \"Type\": \"G\", \"WikidataI...   \n\n                                                   7  \n0                                                 []  \n2  [{\"Label\": \"National Basketball Association\", ...  \n3  [{\"Label\": \"Skin tag\", \"Type\": \"C\", \"WikidataI...  \n4  [{\"Label\": \"Orlando, Florida\", \"Type\": \"G\", \"W...  \n9  [{\"Label\": \"Michigan\", \"Type\": \"G\", \"WikidataI...  ",
      "text/html": "<div>\n<style scoped>\n    .dataframe tbody tr th:only-of-type {\n        vertical-align: middle;\n    }\n\n    .dataframe tbody tr th {\n        vertical-align: top;\n    }\n\n    .dataframe thead th {\n        text-align: right;\n    }\n</style>\n<table border=\"1\" class=\"dataframe\">\n  <thead>\n    <tr style=\"text-align: right;\">\n      <th></th>\n      <th>nid</th>\n      <th>1</th>\n      <th>2</th>\n      <th>3</th>\n      <th>4</th>\n      <th>5</th>\n      <th>6</th>\n      <th>7</th>\n    </tr>\n  </thead>\n  <tbody>\n    <tr>\n      <th>0</th>\n      <td>N3112</td>\n      <td>lifestyle</td>\n      <td>lifestyleroyals</td>\n      <td>The Brands Queen Elizabeth, Prince Charles, an...</td>\n      <td>Shop the notebooks, jackets, and more that the...</td>\n      <td>https://www.msn.com/en-us/lifestyle/lifestyler...</td>\n      <td>[{\"Label\": \"Prince Philip, Duke of Edinburgh\",...</td>\n      <td>[]</td>\n    </tr>\n    <tr>\n      <th>2</th>\n      <td>N12103</td>\n      <td>health</td>\n      <td>voices</td>\n      <td>I Was An NBA Wife. Here's How It Affected My M...</td>\n      <td>I felt like I was a fraud, and being an NBA wi...</td>\n      <td>https://www.msn.com/en-us/health/voices/i-was-...</td>\n      <td>[]</td>\n      <td>[{\"Label\": \"National Basketball Association\", ...</td>\n    </tr>\n    <tr>\n      <th>3</th>\n      <td>N20460</td>\n      <td>health</td>\n      <td>medical</td>\n      <td>How to Get Rid of Skin Tags, According to a De...</td>\n      <td>They seem harmless, but there's a very good re...</td>\n      <td>https://www.msn.com/en-us/health/medical/how-t...</td>\n      <td>[{\"Label\": \"Skin tag\", \"Type\": \"C\", \"WikidataI...</td>\n      <td>[{\"Label\": \"Skin tag\", \"Type\": \"C\", \"WikidataI...</td>\n    </tr>\n    <tr>\n      <th>4</th>\n      <td>N5409</td>\n      <td>weather</td>\n      <td>weathertopstories</td>\n      <td>It's been Orlando's hottest October ever so fa...</td>\n      <td>There won't be a chill down to your bones this...</td>\n      <td>https://www.msn.com/en-us/weather/weathertopst...</td>\n      <td>[{\"Label\": \"Orlando, Florida\", \"Type\": \"G\", \"W...</td>\n      <td>[{\"Label\": \"Orlando, Florida\", \"Type\": \"G\", \"W...</td>\n    </tr>\n    <tr>\n      <th>9</th>\n      <td>N15322</td>\n      <td>health</td>\n      <td>health-news</td>\n      <td>Michigan apple recall: Nearly 2,300 crates cou...</td>\n      <td>A Michigan produce company has recalled nearly...</td>\n      <td>https://www.msn.com/en-us/health/health-news/m...</td>\n      <td>[{\"Label\": \"Michigan\", \"Type\": \"G\", \"WikidataI...</td>\n      <td>[{\"Label\": \"Michigan\", \"Type\": \"G\", \"WikidataI...</td>\n    </tr>\n  </tbody>\n</table>\n</div>"
     },
     "metadata": {},
     "execution_count": 85
    }
   ],
   "source": [
    "dev_newsdd = dev_news.loc[dev_news.iloc[:,0].isin(dif_nid)]\n",
    "dev_newsdd.rename(columns={0:'nid'},inplace=True)\n",
    "dev_newsdd.head()"
   ]
  },
  {
   "cell_type": "code",
   "execution_count": 86,
   "metadata": {},
   "outputs": [
    {
     "output_type": "execute_result",
     "data": {
      "text/plain": "          nid     1       2  \\\n11843  N22273  news  newsus   \n\n                                                       3  \\\n11843  Homes destroyed, hundreds more evacuated as Lo...   \n\n                                                       4  \\\n11843  More wildfires ignited near Los Angeles on Thu...   \n\n                                                       5   6  \\\n11843  https://www.msn.com/en-us/news/newsus/homes-de...  []   \n\n                                                       7  \n11843  [{\"Label\": \"Los Angeles\", \"Type\": \"G\", \"Wikida...  ",
      "text/html": "<div>\n<style scoped>\n    .dataframe tbody tr th:only-of-type {\n        vertical-align: middle;\n    }\n\n    .dataframe tbody tr th {\n        vertical-align: top;\n    }\n\n    .dataframe thead th {\n        text-align: right;\n    }\n</style>\n<table border=\"1\" class=\"dataframe\">\n  <thead>\n    <tr style=\"text-align: right;\">\n      <th></th>\n      <th>nid</th>\n      <th>1</th>\n      <th>2</th>\n      <th>3</th>\n      <th>4</th>\n      <th>5</th>\n      <th>6</th>\n      <th>7</th>\n    </tr>\n  </thead>\n  <tbody>\n    <tr>\n      <th>11843</th>\n      <td>N22273</td>\n      <td>news</td>\n      <td>newsus</td>\n      <td>Homes destroyed, hundreds more evacuated as Lo...</td>\n      <td>More wildfires ignited near Los Angeles on Thu...</td>\n      <td>https://www.msn.com/en-us/news/newsus/homes-de...</td>\n      <td>[]</td>\n      <td>[{\"Label\": \"Los Angeles\", \"Type\": \"G\", \"Wikida...</td>\n    </tr>\n  </tbody>\n</table>\n</div>"
     },
     "metadata": {},
     "execution_count": 86
    }
   ],
   "source": [
    "dev_newsdd.loc[dev_newsdd['nid']=='N22273']"
   ]
  },
  {
   "cell_type": "code",
   "execution_count": 93,
   "metadata": {},
   "outputs": [
    {
     "output_type": "execute_result",
     "data": {
      "text/plain": "                                                  5  \\\n1676  https://assets.msn.com/labs/mind/AABDHTv.html   \n\n                                                  Title                  Date  \\\n1676  50 Foods You Should Never Eat, According to He...  2019-05-21T21:10:55Z   \n\n                                                  Image  \\\n1676  https://img-s-msn-com.akamaized.net/tenant/amp...   \n\n                                                Content     nid       1  \\\n1676  What's the one food you refuse to eat? Whateve...  N22273  health   \n\n              2                                                  3  \\\n1676  nutrition  50 Foods You Should Never Eat, According to He...   \n\n                           4   6   7  \n1676  This is so depressing.  []  []  ",
      "text/html": "<div>\n<style scoped>\n    .dataframe tbody tr th:only-of-type {\n        vertical-align: middle;\n    }\n\n    .dataframe tbody tr th {\n        vertical-align: top;\n    }\n\n    .dataframe thead th {\n        text-align: right;\n    }\n</style>\n<table border=\"1\" class=\"dataframe\">\n  <thead>\n    <tr style=\"text-align: right;\">\n      <th></th>\n      <th>5</th>\n      <th>Title</th>\n      <th>Date</th>\n      <th>Image</th>\n      <th>Content</th>\n      <th>nid</th>\n      <th>1</th>\n      <th>2</th>\n      <th>3</th>\n      <th>4</th>\n      <th>6</th>\n      <th>7</th>\n    </tr>\n  </thead>\n  <tbody>\n    <tr>\n      <th>1676</th>\n      <td>https://assets.msn.com/labs/mind/AABDHTv.html</td>\n      <td>50 Foods You Should Never Eat, According to He...</td>\n      <td>2019-05-21T21:10:55Z</td>\n      <td>https://img-s-msn-com.akamaized.net/tenant/amp...</td>\n      <td>What's the one food you refuse to eat? Whateve...</td>\n      <td>N22273</td>\n      <td>health</td>\n      <td>nutrition</td>\n      <td>50 Foods You Should Never Eat, According to He...</td>\n      <td>This is so depressing.</td>\n      <td>[]</td>\n      <td>[]</td>\n    </tr>\n  </tbody>\n</table>\n</div>"
     },
     "metadata": {},
     "execution_count": 93
    }
   ],
   "source": [
    "dev_inddd.loc[dev_inddd['nid']=='N22273']"
   ]
  },
  {
   "cell_type": "code",
   "execution_count": null,
   "metadata": {},
   "outputs": [],
   "source": []
  },
  {
   "cell_type": "code",
   "execution_count": null,
   "metadata": {},
   "outputs": [],
   "source": []
  },
  {
   "cell_type": "code",
   "execution_count": null,
   "metadata": {},
   "outputs": [],
   "source": []
  },
  {
   "cell_type": "code",
   "execution_count": 58,
   "metadata": {
    "tags": []
   },
   "outputs": [
    {
     "output_type": "stream",
     "name": "stdout",
     "text": "Index(['0', '3'], dtype='object')\n"
    },
    {
     "output_type": "execute_result",
     "data": {
      "text/plain": "        0                                                  3\n0   N9896  Marcus Peters' fit with Ravens looks to be bet...\n1  N23203  The fundamentalist religious community that li...\n2   N4199  Missing college student's parents meet with mo...\n3  N10399  The Cost of Trump's Aid Freeze in the Trenches...\n4   N9552  50 Foods You Should Never Eat, According to He...",
      "text/html": "<div>\n<style scoped>\n    .dataframe tbody tr th:only-of-type {\n        vertical-align: middle;\n    }\n\n    .dataframe tbody tr th {\n        vertical-align: top;\n    }\n\n    .dataframe thead th {\n        text-align: right;\n    }\n</style>\n<table border=\"1\" class=\"dataframe\">\n  <thead>\n    <tr style=\"text-align: right;\">\n      <th></th>\n      <th>0</th>\n      <th>3</th>\n    </tr>\n  </thead>\n  <tbody>\n    <tr>\n      <th>0</th>\n      <td>N9896</td>\n      <td>Marcus Peters' fit with Ravens looks to be bet...</td>\n    </tr>\n    <tr>\n      <th>1</th>\n      <td>N23203</td>\n      <td>The fundamentalist religious community that li...</td>\n    </tr>\n    <tr>\n      <th>2</th>\n      <td>N4199</td>\n      <td>Missing college student's parents meet with mo...</td>\n    </tr>\n    <tr>\n      <th>3</th>\n      <td>N10399</td>\n      <td>The Cost of Trump's Aid Freeze in the Trenches...</td>\n    </tr>\n    <tr>\n      <th>4</th>\n      <td>N9552</td>\n      <td>50 Foods You Should Never Eat, According to He...</td>\n    </tr>\n  </tbody>\n</table>\n</div>"
     },
     "metadata": {},
     "execution_count": 58
    }
   ],
   "source": [
    "print(dinte.columns)\n",
    "dinte.head()"
   ]
  },
  {
   "cell_type": "code",
   "execution_count": 61,
   "metadata": {
    "tags": []
   },
   "outputs": [
    {
     "output_type": "stream",
     "name": "stdout",
     "text": "Int64Index([0, 3], dtype='int64')\nIndex(['0', 3], dtype='object')\n"
    },
    {
     "output_type": "execute_result",
     "data": {
      "text/plain": "        0                                                  3\n0   N3112  The Brands Queen Elizabeth, Prince Charles, an...\n1  N10399  The Cost of Trump's Aid Freeze in the Trenches...\n2  N12103  I Was An NBA Wife. Here's How It Affected My M...\n3  N20460  How to Get Rid of Skin Tags, According to a De...\n4   N5409  It's been Orlando's hottest October ever so fa...",
      "text/html": "<div>\n<style scoped>\n    .dataframe tbody tr th:only-of-type {\n        vertical-align: middle;\n    }\n\n    .dataframe tbody tr th {\n        vertical-align: top;\n    }\n\n    .dataframe thead th {\n        text-align: right;\n    }\n</style>\n<table border=\"1\" class=\"dataframe\">\n  <thead>\n    <tr style=\"text-align: right;\">\n      <th></th>\n      <th>0</th>\n      <th>3</th>\n    </tr>\n  </thead>\n  <tbody>\n    <tr>\n      <th>0</th>\n      <td>N3112</td>\n      <td>The Brands Queen Elizabeth, Prince Charles, an...</td>\n    </tr>\n    <tr>\n      <th>1</th>\n      <td>N10399</td>\n      <td>The Cost of Trump's Aid Freeze in the Trenches...</td>\n    </tr>\n    <tr>\n      <th>2</th>\n      <td>N12103</td>\n      <td>I Was An NBA Wife. Here's How It Affected My M...</td>\n    </tr>\n    <tr>\n      <th>3</th>\n      <td>N20460</td>\n      <td>How to Get Rid of Skin Tags, According to a De...</td>\n    </tr>\n    <tr>\n      <th>4</th>\n      <td>N5409</td>\n      <td>It's been Orlando's hottest October ever so fa...</td>\n    </tr>\n  </tbody>\n</table>\n</div>"
     },
     "metadata": {},
     "execution_count": 61
    }
   ],
   "source": [
    "print(dnews.columns)\n",
    "dnews.rename(columns={0:'0'}, inplace=True)\n",
    "print(dnews.columns)\n",
    "dnews.head()"
   ]
  },
  {
   "cell_type": "code",
   "execution_count": null,
   "metadata": {},
   "outputs": [],
   "source": []
  },
  {
   "cell_type": "code",
   "execution_count": null,
   "metadata": {},
   "outputs": [],
   "source": []
  },
  {
   "cell_type": "code",
   "execution_count": 41,
   "metadata": {
    "tags": []
   },
   "outputs": [
    {
     "output_type": "stream",
     "name": "stderr",
     "text": "100%|██████████| 18723/18723 [00:00<00:00, 61738.11it/s]\n"
    }
   ],
   "source": [
    "diff_d = []\n",
    "for i in tqdm(range(len(dev_in))):\n",
    "    if dev_in.iloc[i,1] != dev_in.iloc[i,8]:\n",
    "        diff_d.append(i)"
   ]
  },
  {
   "cell_type": "code",
   "execution_count": null,
   "metadata": {},
   "outputs": [],
   "source": []
  },
  {
   "cell_type": "code",
   "execution_count": null,
   "metadata": {},
   "outputs": [],
   "source": []
  },
  {
   "cell_type": "code",
   "execution_count": 42,
   "metadata": {},
   "outputs": [
    {
     "output_type": "execute_result",
     "data": {
      "text/plain": "                                                       5  \\\n1      https://www.msn.com/en-us/news/newsus/the-fund...   \n6      https://www.msn.com/en-us/sports/football_nfl/...   \n18     https://www.msn.com/en-us/foodanddrink/videos/...   \n28     https://www.msn.com/en-us/news/newsus/michael-...   \n32     https://www.msn.com/en-us/sports/football_nfl_...   \n...                                                  ...   \n18691  https://www.msn.com/en-us/news/newsus/house-le...   \n18693  https://www.msn.com/en-us/sports/basketball_nb...   \n18711  https://www.msn.com/en-us/lifestyle/lifestyleh...   \n18714  https://www.msn.com/en-us/health/wellness/what...   \n18720  https://www.msn.com/en-us/music/musicnews/list...   \n\n                                                   Title  \\\n1      Missing college student's parents meet with mo...   \n6      John Dorsey admits talks with Washington, but ...   \n18                 17 Reasons Why Your Breath Smells Bad   \n28     What Do Prince George & Princess Charlotte Kno...   \n32     46-Year-Old Woman Gives Birth a Day After Find...   \n...                                                  ...   \n18691  House leaders demand FAA answer why it overrul...   \n18693  Shaq gets emotional welcome back from TNT crew...   \n18711  A Beginner’s Guide to Astrological Rising Sign...   \n18714              What Menopause Does to Women’s Brains   \n18720  Listen to John Legend and Kelly Clarkson’s upd...   \n\n                           Date  \\\n1                           NaN   \n6                           NaN   \n18                          NaN   \n28                          NaN   \n32                          NaN   \n...                         ...   \n18691  2019-11-08T04:30:00.000Z   \n18693  2019-11-08T04:34:00.000Z   \n18711  2019-11-12T13:00:00.000Z   \n18714  2019-11-08T13:13:00.000Z   \n18720  2019-11-08T13:00:00.000Z   \n\n                                                   Image  \\\n1      //static-entertainment-eas-s-msn-com.akamaized...   \n6      //static-entertainment-eas-s-msn-com.akamaized...   \n18     //static-entertainment-eas-s-msn-com.akamaized...   \n28     //static-entertainment-eas-s-msn-com.akamaized...   \n32     //static-entertainment-eas-s-msn-com.akamaized...   \n...                                                  ...   \n18691  //static-entertainment-eas-s-msn-com.akamaized...   \n18693  //static-entertainment-eas-s-msn-com.akamaized...   \n18711  //static-entertainment-eas-s-msn-com.akamaized...   \n18714  //static-entertainment-eas-s-msn-com.akamaized...   \n18720  //static-entertainment-eas-s-msn-com.akamaized...   \n\n                                                 Content       0  \\\n1      \\n\\n\\n\\n \\n\\n< PREVIOUS SLIDE\\n\\nSLIDE 1 of 3\\...  N23203   \n6      Team officials in Washington “emphatically” de...  N26261   \n18     Having bad breath is kind of like getting toil...  N12885   \n28     We’ve been hearing a lot about how the young r...  N14142   \n32     A 46-year-old woman gave birth just 24 hours a...  N10169   \n...                                                  ...     ...   \n18691  Two leading House Democrats wrote to the FAA o...  N27115   \n18693  Shaquille O'Neal received an emotional welcome...  N22500   \n18711  As astrology has entered mainstream conversati...   N9948   \n18714  \\n\\n\\n\\n\\n\\n© Lisa Mosconi\\n A scan of the aut...  N24877   \n18720  \\n\\n\\n\\n\\n\\n© Getty Images\\n LAS VEGAS, NV - M...  N11176   \n\n                  1                    2  \\\n1              news               newsus   \n6            sports         football_nfl   \n18     foodanddrink               videos   \n28             news               newsus   \n32           sports  football_nfl_videos   \n...             ...                  ...   \n18691          news               newsus   \n18693        sports       basketball_nba   \n18711     lifestyle   lifestylehoroscope   \n18714        health             wellness   \n18720         music            musicnews   \n\n                                                       3  \\\n1      The fundamentalist religious community that li...   \n6      John Dorsey admits talks with Washington, but ...   \n18         17 Things You Didn't Know Mayonnaise Could Do   \n28     Michael Douglas Shares His and Catherine Zeta-...   \n32     Can't-Miss Play: Marquez Valdes-Scantling torc...   \n...                                                  ...   \n18691  House leaders demand FAA answer why it overrul...   \n18693  Shaq gets emotional welcome back from TNT crew...   \n18711  A Beginner's Guide to Astrological Rising Sign...   \n18714              What Menopause Does to Women's Brains   \n18720  Listen to John Legend and Kelly Clarkson's upd...   \n\n                                                       4  \\\n1      The three mothers and six children killed in a...   \n6      Team officials in Washington \"emphatically\" de...   \n18     Mayonnaise is a controversial condiment; howev...   \n28     Michael Douglas reveals the nicknames he and h...   \n32     Green Bay Packers wide receiver Marquez Valdes...   \n...                                                  ...   \n18691  The lawmakers' questions are related to concer...   \n18693  Shaq had been away after his sister, Ayesha Ha...   \n18711  Think your sun sign is the only important astr...   \n18714  Two-thirds of Alzheimer's patients are women. ...   \n18720  The coaches from \"The Voice\" have covered the ...   \n\n                                                       6  \\\n1                                                     []   \n6      [{\"Label\": \"John Dorsey (American football)\", ...   \n18                                                    []   \n28     [{\"Label\": \"Catherine Zeta-Jones\", \"Type\": \"P\"...   \n32     [{\"Label\": \"Marquez Valdes-Scantling\", \"Type\":...   \n...                                                  ...   \n18691  [{\"Label\": \"Federal Aviation Administration\", ...   \n18693  [{\"Label\": \"Shaquille O'Neal\", \"Type\": \"P\", \"W...   \n18711                                                 []   \n18714                                                 []   \n18720  [{\"Label\": \"Baby, It's Cold Outside\", \"Type\": ...   \n\n                                                       7  \n1      [{\"Label\": \"Mexican Drug War\", \"Type\": \"E\", \"W...  \n6      [{\"Label\": \"John Dorsey (American football)\", ...  \n18                                                    []  \n28     [{\"Label\": \"Catherine Zeta-Jones\", \"Type\": \"P\"...  \n32     [{\"Label\": \"Marquez Valdes-Scantling\", \"Type\":...  \n...                                                  ...  \n18691  [{\"Label\": \"Boeing 737 MAX\", \"Type\": \"V\", \"Wik...  \n18693  [{\"Label\": \"Shaquille O'Neal\", \"Type\": \"P\", \"W...  \n18711  [{\"Label\": \"Ascendant\", \"Type\": \"C\", \"Wikidata...  \n18714  [{\"Label\": \"Alzheimer's disease\", \"Type\": \"U\",...  \n18720                                                 []  \n\n[2581 rows x 12 columns]",
      "text/html": "<div>\n<style scoped>\n    .dataframe tbody tr th:only-of-type {\n        vertical-align: middle;\n    }\n\n    .dataframe tbody tr th {\n        vertical-align: top;\n    }\n\n    .dataframe thead th {\n        text-align: right;\n    }\n</style>\n<table border=\"1\" class=\"dataframe\">\n  <thead>\n    <tr style=\"text-align: right;\">\n      <th></th>\n      <th>5</th>\n      <th>Title</th>\n      <th>Date</th>\n      <th>Image</th>\n      <th>Content</th>\n      <th>0</th>\n      <th>1</th>\n      <th>2</th>\n      <th>3</th>\n      <th>4</th>\n      <th>6</th>\n      <th>7</th>\n    </tr>\n  </thead>\n  <tbody>\n    <tr>\n      <th>1</th>\n      <td>https://www.msn.com/en-us/news/newsus/the-fund...</td>\n      <td>Missing college student's parents meet with mo...</td>\n      <td>NaN</td>\n      <td>//static-entertainment-eas-s-msn-com.akamaized...</td>\n      <td>\\n\\n\\n\\n \\n\\n&lt; PREVIOUS SLIDE\\n\\nSLIDE 1 of 3\\...</td>\n      <td>N23203</td>\n      <td>news</td>\n      <td>newsus</td>\n      <td>The fundamentalist religious community that li...</td>\n      <td>The three mothers and six children killed in a...</td>\n      <td>[]</td>\n      <td>[{\"Label\": \"Mexican Drug War\", \"Type\": \"E\", \"W...</td>\n    </tr>\n    <tr>\n      <th>6</th>\n      <td>https://www.msn.com/en-us/sports/football_nfl/...</td>\n      <td>John Dorsey admits talks with Washington, but ...</td>\n      <td>NaN</td>\n      <td>//static-entertainment-eas-s-msn-com.akamaized...</td>\n      <td>Team officials in Washington “emphatically” de...</td>\n      <td>N26261</td>\n      <td>sports</td>\n      <td>football_nfl</td>\n      <td>John Dorsey admits talks with Washington, but ...</td>\n      <td>Team officials in Washington \"emphatically\" de...</td>\n      <td>[{\"Label\": \"John Dorsey (American football)\", ...</td>\n      <td>[{\"Label\": \"John Dorsey (American football)\", ...</td>\n    </tr>\n    <tr>\n      <th>18</th>\n      <td>https://www.msn.com/en-us/foodanddrink/videos/...</td>\n      <td>17 Reasons Why Your Breath Smells Bad</td>\n      <td>NaN</td>\n      <td>//static-entertainment-eas-s-msn-com.akamaized...</td>\n      <td>Having bad breath is kind of like getting toil...</td>\n      <td>N12885</td>\n      <td>foodanddrink</td>\n      <td>videos</td>\n      <td>17 Things You Didn't Know Mayonnaise Could Do</td>\n      <td>Mayonnaise is a controversial condiment; howev...</td>\n      <td>[]</td>\n      <td>[]</td>\n    </tr>\n    <tr>\n      <th>28</th>\n      <td>https://www.msn.com/en-us/news/newsus/michael-...</td>\n      <td>What Do Prince George &amp; Princess Charlotte Kno...</td>\n      <td>NaN</td>\n      <td>//static-entertainment-eas-s-msn-com.akamaized...</td>\n      <td>We’ve been hearing a lot about how the young r...</td>\n      <td>N14142</td>\n      <td>news</td>\n      <td>newsus</td>\n      <td>Michael Douglas Shares His and Catherine Zeta-...</td>\n      <td>Michael Douglas reveals the nicknames he and h...</td>\n      <td>[{\"Label\": \"Catherine Zeta-Jones\", \"Type\": \"P\"...</td>\n      <td>[{\"Label\": \"Catherine Zeta-Jones\", \"Type\": \"P\"...</td>\n    </tr>\n    <tr>\n      <th>32</th>\n      <td>https://www.msn.com/en-us/sports/football_nfl_...</td>\n      <td>46-Year-Old Woman Gives Birth a Day After Find...</td>\n      <td>NaN</td>\n      <td>//static-entertainment-eas-s-msn-com.akamaized...</td>\n      <td>A 46-year-old woman gave birth just 24 hours a...</td>\n      <td>N10169</td>\n      <td>sports</td>\n      <td>football_nfl_videos</td>\n      <td>Can't-Miss Play: Marquez Valdes-Scantling torc...</td>\n      <td>Green Bay Packers wide receiver Marquez Valdes...</td>\n      <td>[{\"Label\": \"Marquez Valdes-Scantling\", \"Type\":...</td>\n      <td>[{\"Label\": \"Marquez Valdes-Scantling\", \"Type\":...</td>\n    </tr>\n    <tr>\n      <th>...</th>\n      <td>...</td>\n      <td>...</td>\n      <td>...</td>\n      <td>...</td>\n      <td>...</td>\n      <td>...</td>\n      <td>...</td>\n      <td>...</td>\n      <td>...</td>\n      <td>...</td>\n      <td>...</td>\n      <td>...</td>\n    </tr>\n    <tr>\n      <th>18691</th>\n      <td>https://www.msn.com/en-us/news/newsus/house-le...</td>\n      <td>House leaders demand FAA answer why it overrul...</td>\n      <td>2019-11-08T04:30:00.000Z</td>\n      <td>//static-entertainment-eas-s-msn-com.akamaized...</td>\n      <td>Two leading House Democrats wrote to the FAA o...</td>\n      <td>N27115</td>\n      <td>news</td>\n      <td>newsus</td>\n      <td>House leaders demand FAA answer why it overrul...</td>\n      <td>The lawmakers' questions are related to concer...</td>\n      <td>[{\"Label\": \"Federal Aviation Administration\", ...</td>\n      <td>[{\"Label\": \"Boeing 737 MAX\", \"Type\": \"V\", \"Wik...</td>\n    </tr>\n    <tr>\n      <th>18693</th>\n      <td>https://www.msn.com/en-us/sports/basketball_nb...</td>\n      <td>Shaq gets emotional welcome back from TNT crew...</td>\n      <td>2019-11-08T04:34:00.000Z</td>\n      <td>//static-entertainment-eas-s-msn-com.akamaized...</td>\n      <td>Shaquille O'Neal received an emotional welcome...</td>\n      <td>N22500</td>\n      <td>sports</td>\n      <td>basketball_nba</td>\n      <td>Shaq gets emotional welcome back from TNT crew...</td>\n      <td>Shaq had been away after his sister, Ayesha Ha...</td>\n      <td>[{\"Label\": \"Shaquille O'Neal\", \"Type\": \"P\", \"W...</td>\n      <td>[{\"Label\": \"Shaquille O'Neal\", \"Type\": \"P\", \"W...</td>\n    </tr>\n    <tr>\n      <th>18711</th>\n      <td>https://www.msn.com/en-us/lifestyle/lifestyleh...</td>\n      <td>A Beginner’s Guide to Astrological Rising Sign...</td>\n      <td>2019-11-12T13:00:00.000Z</td>\n      <td>//static-entertainment-eas-s-msn-com.akamaized...</td>\n      <td>As astrology has entered mainstream conversati...</td>\n      <td>N9948</td>\n      <td>lifestyle</td>\n      <td>lifestylehoroscope</td>\n      <td>A Beginner's Guide to Astrological Rising Sign...</td>\n      <td>Think your sun sign is the only important astr...</td>\n      <td>[]</td>\n      <td>[{\"Label\": \"Ascendant\", \"Type\": \"C\", \"Wikidata...</td>\n    </tr>\n    <tr>\n      <th>18714</th>\n      <td>https://www.msn.com/en-us/health/wellness/what...</td>\n      <td>What Menopause Does to Women’s Brains</td>\n      <td>2019-11-08T13:13:00.000Z</td>\n      <td>//static-entertainment-eas-s-msn-com.akamaized...</td>\n      <td>\\n\\n\\n\\n\\n\\n© Lisa Mosconi\\n A scan of the aut...</td>\n      <td>N24877</td>\n      <td>health</td>\n      <td>wellness</td>\n      <td>What Menopause Does to Women's Brains</td>\n      <td>Two-thirds of Alzheimer's patients are women. ...</td>\n      <td>[]</td>\n      <td>[{\"Label\": \"Alzheimer's disease\", \"Type\": \"U\",...</td>\n    </tr>\n    <tr>\n      <th>18720</th>\n      <td>https://www.msn.com/en-us/music/musicnews/list...</td>\n      <td>Listen to John Legend and Kelly Clarkson’s upd...</td>\n      <td>2019-11-08T13:00:00.000Z</td>\n      <td>//static-entertainment-eas-s-msn-com.akamaized...</td>\n      <td>\\n\\n\\n\\n\\n\\n© Getty Images\\n LAS VEGAS, NV - M...</td>\n      <td>N11176</td>\n      <td>music</td>\n      <td>musicnews</td>\n      <td>Listen to John Legend and Kelly Clarkson's upd...</td>\n      <td>The coaches from \"The Voice\" have covered the ...</td>\n      <td>[{\"Label\": \"Baby, It's Cold Outside\", \"Type\": ...</td>\n      <td>[]</td>\n    </tr>\n  </tbody>\n</table>\n<p>2581 rows × 12 columns</p>\n</div>"
     },
     "metadata": {},
     "execution_count": 42
    }
   ],
   "source": [
    "diff_df_d = dev_in.iloc[diff_d,:]\n",
    "diff_df_d = diff_df_d.loc[~diff_df_d['Title'].isnull()]\n",
    "diff_df_d"
   ]
  },
  {
   "cell_type": "code",
   "execution_count": 45,
   "metadata": {},
   "outputs": [
    {
     "output_type": "execute_result",
     "data": {
      "text/plain": "'https://www.msn.com/en-us/news/newsus/the-fundamentalist-religious-community-that-lives-in-the-throes-of-a-drug-war/vi-AAJXUWc?ocid=chopendata'"
     },
     "metadata": {},
     "execution_count": 45
    }
   ],
   "source": [
    "diff_df_d.iloc[0,0] "
   ]
  },
  {
   "cell_type": "code",
   "execution_count": null,
   "metadata": {},
   "outputs": [],
   "source": [
    "https://www.msn.com/en-us/news/us/sen-tammy-duckworths-calls-trump-a-coward-in-chief-at-the-2020-dnc/vi-BB18d1pM?ocid=chopendata"
   ]
  },
  {
   "cell_type": "code",
   "execution_count": 46,
   "metadata": {},
   "outputs": [
    {
     "output_type": "execute_result",
     "data": {
      "text/plain": "\"https://www.msn.com/en-us/foodanddrink/videos/17-things-you-didn't-know-mayonnaise-could-do/vi-AABbMM1?ocid=chopendata\""
     },
     "metadata": {},
     "execution_count": 46
    }
   ],
   "source": [
    "diff_df_d.iloc[2,0] "
   ]
  },
  {
   "cell_type": "code",
   "execution_count": null,
   "metadata": {},
   "outputs": [],
   "source": [
    "https://www.msn.com/en-us/foodanddrink/video/cinnamon-toast-crunch-made-a-seasoning-blend-so-get-ready-to-dump-it-on-everything/vi-BB18cKTp?ocid=chopendata"
   ]
  },
  {
   "cell_type": "code",
   "execution_count": null,
   "metadata": {},
   "outputs": [],
   "source": []
  },
  {
   "cell_type": "code",
   "execution_count": null,
   "metadata": {},
   "outputs": [],
   "source": []
  }
 ],
 "metadata": {
  "language_info": {
   "codemirror_mode": {
    "name": "ipython",
    "version": 3
   },
   "file_extension": ".py",
   "mimetype": "text/x-python",
   "name": "python",
   "nbconvert_exporter": "python",
   "pygments_lexer": "ipython3",
   "version": 3
  },
  "orig_nbformat": 2,
  "kernelspec": {
   "name": "python_defaultSpec_1597985351040",
   "display_name": "Python 3.7.6 64-bit ('base': conda)"
  }
 },
 "nbformat": 4,
 "nbformat_minor": 2
}