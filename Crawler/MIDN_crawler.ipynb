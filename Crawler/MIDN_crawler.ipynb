{
 "cells": [
  {
   "cell_type": "code",
   "execution_count": 2,
   "metadata": {
    "tags": []
   },
   "outputs": [
    {
     "output_type": "stream",
     "name": "stdout",
     "text": "Collecting cssselect\n  Downloading cssselect-1.1.0-py2.py3-none-any.whl (16 kB)\nInstalling collected packages: cssselect\nSuccessfully installed cssselect-1.1.0\n"
    }
   ],
   "source": [
    "! pip install cssselect"
   ]
  },
  {
   "cell_type": "code",
   "execution_count": 3,
   "metadata": {},
   "outputs": [],
   "source": [
    "import requests\n",
    "import numpy as np\n",
    "import pandas as pd\n",
    "import json\n",
    "import joblib\n",
    "import cssselect\n",
    "import lxml.html\n",
    "from tqdm import tqdm"
   ]
  },
  {
   "cell_type": "code",
   "execution_count": 7,
   "metadata": {
    "tags": []
   },
   "outputs": [
    {
     "output_type": "stream",
     "name": "stdout",
     "text": "(101527, 8)\n"
    },
    {
     "output_type": "execute_result",
     "data": {
      "text/plain": "        0          1                         2  \\\n0  N88753  lifestyle           lifestyleroyals   \n1  N45436       news  newsscienceandtechnology   \n2  N23144     health                weightloss   \n3  N86255     health                   medical   \n4  N93187       news                 newsworld   \n\n                                                   3  \\\n0  The Brands Queen Elizabeth, Prince Charles, an...   \n1    Walmart Slashes Prices on Last-Generation iPads   \n2                      50 Worst Habits For Belly Fat   \n3  Dispose of unwanted prescription drugs during ...   \n4  The Cost of Trump's Aid Freeze in the Trenches...   \n\n                                                   4  \\\n0  Shop the notebooks, jackets, and more that the...   \n1  Apple's new iPad releases bring big deals on l...   \n2  These seemingly harmless habits are holding yo...   \n3                                                NaN   \n4  Lt. Ivan Molchanets peeked over a parapet of s...   \n\n                                               5  \\\n0  https://assets.msn.com/labs/mind/AAGH0ET.html   \n1  https://assets.msn.com/labs/mind/AABmf2I.html   \n2  https://assets.msn.com/labs/mind/AAB19MK.html   \n3  https://assets.msn.com/labs/mind/AAISxPN.html   \n4  https://assets.msn.com/labs/mind/AAJgNsz.html   \n\n                                                   6  \\\n0  [{\"Label\": \"Prince Philip, Duke of Edinburgh\",...   \n1  [{\"Label\": \"IPad\", \"Type\": \"J\", \"WikidataId\": ...   \n2  [{\"Label\": \"Adipose tissue\", \"Type\": \"C\", \"Wik...   \n3  [{\"Label\": \"Drug Enforcement Administration\", ...   \n4                                                 []   \n\n                                                   7  \n0                                                 []  \n1  [{\"Label\": \"IPad\", \"Type\": \"J\", \"WikidataId\": ...  \n2  [{\"Label\": \"Adipose tissue\", \"Type\": \"C\", \"Wik...  \n3                                                 []  \n4  [{\"Label\": \"Ukraine\", \"Type\": \"G\", \"WikidataId...  ",
      "text/html": "<div>\n<style scoped>\n    .dataframe tbody tr th:only-of-type {\n        vertical-align: middle;\n    }\n\n    .dataframe tbody tr th {\n        vertical-align: top;\n    }\n\n    .dataframe thead th {\n        text-align: right;\n    }\n</style>\n<table border=\"1\" class=\"dataframe\">\n  <thead>\n    <tr style=\"text-align: right;\">\n      <th></th>\n      <th>0</th>\n      <th>1</th>\n      <th>2</th>\n      <th>3</th>\n      <th>4</th>\n      <th>5</th>\n      <th>6</th>\n      <th>7</th>\n    </tr>\n  </thead>\n  <tbody>\n    <tr>\n      <th>0</th>\n      <td>N88753</td>\n      <td>lifestyle</td>\n      <td>lifestyleroyals</td>\n      <td>The Brands Queen Elizabeth, Prince Charles, an...</td>\n      <td>Shop the notebooks, jackets, and more that the...</td>\n      <td>https://assets.msn.com/labs/mind/AAGH0ET.html</td>\n      <td>[{\"Label\": \"Prince Philip, Duke of Edinburgh\",...</td>\n      <td>[]</td>\n    </tr>\n    <tr>\n      <th>1</th>\n      <td>N45436</td>\n      <td>news</td>\n      <td>newsscienceandtechnology</td>\n      <td>Walmart Slashes Prices on Last-Generation iPads</td>\n      <td>Apple's new iPad releases bring big deals on l...</td>\n      <td>https://assets.msn.com/labs/mind/AABmf2I.html</td>\n      <td>[{\"Label\": \"IPad\", \"Type\": \"J\", \"WikidataId\": ...</td>\n      <td>[{\"Label\": \"IPad\", \"Type\": \"J\", \"WikidataId\": ...</td>\n    </tr>\n    <tr>\n      <th>2</th>\n      <td>N23144</td>\n      <td>health</td>\n      <td>weightloss</td>\n      <td>50 Worst Habits For Belly Fat</td>\n      <td>These seemingly harmless habits are holding yo...</td>\n      <td>https://assets.msn.com/labs/mind/AAB19MK.html</td>\n      <td>[{\"Label\": \"Adipose tissue\", \"Type\": \"C\", \"Wik...</td>\n      <td>[{\"Label\": \"Adipose tissue\", \"Type\": \"C\", \"Wik...</td>\n    </tr>\n    <tr>\n      <th>3</th>\n      <td>N86255</td>\n      <td>health</td>\n      <td>medical</td>\n      <td>Dispose of unwanted prescription drugs during ...</td>\n      <td>NaN</td>\n      <td>https://assets.msn.com/labs/mind/AAISxPN.html</td>\n      <td>[{\"Label\": \"Drug Enforcement Administration\", ...</td>\n      <td>[]</td>\n    </tr>\n    <tr>\n      <th>4</th>\n      <td>N93187</td>\n      <td>news</td>\n      <td>newsworld</td>\n      <td>The Cost of Trump's Aid Freeze in the Trenches...</td>\n      <td>Lt. Ivan Molchanets peeked over a parapet of s...</td>\n      <td>https://assets.msn.com/labs/mind/AAJgNsz.html</td>\n      <td>[]</td>\n      <td>[{\"Label\": \"Ukraine\", \"Type\": \"G\", \"WikidataId...</td>\n    </tr>\n  </tbody>\n</table>\n</div>"
     },
     "metadata": {},
     "execution_count": 7
    }
   ],
   "source": [
    "train = pd.read_csv('/Users/baeyuna/Documents/SNU_Dlab/Data/MINDlarge_train/news.tsv', delimiter='\\t', header=None)\n",
    "print(train.shape)\n",
    "train.head()"
   ]
  },
  {
   "cell_type": "code",
   "execution_count": 10,
   "metadata": {},
   "outputs": [
    {
     "output_type": "execute_result",
     "data": {
      "text/plain": "['https://assets.msn.com/labs/mind/AAGH0ET.html',\n 'https://assets.msn.com/labs/mind/AABmf2I.html',\n 'https://assets.msn.com/labs/mind/AAB19MK.html',\n 'https://assets.msn.com/labs/mind/AAISxPN.html',\n 'https://assets.msn.com/labs/mind/AAJgNsz.html']"
     },
     "metadata": {},
     "execution_count": 10
    }
   ],
   "source": [
    "train.iloc[:5,5].tolist()"
   ]
  },
  {
   "cell_type": "code",
   "execution_count": null,
   "metadata": {},
   "outputs": [],
   "source": [
    "train_urls = train.loc[:,5]"
   ]
  },
  {
   "cell_type": "code",
   "execution_count": 11,
   "metadata": {
    "tags": []
   },
   "outputs": [
    {
     "output_type": "stream",
     "name": "stdout",
     "text": "(72023, 8)\n"
    },
    {
     "output_type": "execute_result",
     "data": {
      "text/plain": "        0          1                2  \\\n0  N88753  lifestyle  lifestyleroyals   \n1  N23144     health       weightloss   \n2  N86255     health          medical   \n3  N93187       news        newsworld   \n4  N75236     health           voices   \n\n                                                   3  \\\n0  The Brands Queen Elizabeth, Prince Charles, an...   \n1                      50 Worst Habits For Belly Fat   \n2  Dispose of unwanted prescription drugs during ...   \n3  The Cost of Trump's Aid Freeze in the Trenches...   \n4  I Was An NBA Wife. Here's How It Affected My M...   \n\n                                                   4  \\\n0  Shop the notebooks, jackets, and more that the...   \n1  These seemingly harmless habits are holding yo...   \n2                                                NaN   \n3  Lt. Ivan Molchanets peeked over a parapet of s...   \n4  I felt like I was a fraud, and being an NBA wi...   \n\n                                               5  \\\n0  https://assets.msn.com/labs/mind/AAGH0ET.html   \n1  https://assets.msn.com/labs/mind/AAB19MK.html   \n2  https://assets.msn.com/labs/mind/AAISxPN.html   \n3  https://assets.msn.com/labs/mind/AAJgNsz.html   \n4  https://assets.msn.com/labs/mind/AACk2N6.html   \n\n                                                   6  \\\n0  [{\"Label\": \"Prince Philip, Duke of Edinburgh\",...   \n1  [{\"Label\": \"Adipose tissue\", \"Type\": \"C\", \"Wik...   \n2  [{\"Label\": \"Drug Enforcement Administration\", ...   \n3                                                 []   \n4                                                 []   \n\n                                                   7  \n0                                                 []  \n1  [{\"Label\": \"Adipose tissue\", \"Type\": \"C\", \"Wik...  \n2                                                 []  \n3  [{\"Label\": \"Ukraine\", \"Type\": \"G\", \"WikidataId...  \n4  [{\"Label\": \"National Basketball Association\", ...  ",
      "text/html": "<div>\n<style scoped>\n    .dataframe tbody tr th:only-of-type {\n        vertical-align: middle;\n    }\n\n    .dataframe tbody tr th {\n        vertical-align: top;\n    }\n\n    .dataframe thead th {\n        text-align: right;\n    }\n</style>\n<table border=\"1\" class=\"dataframe\">\n  <thead>\n    <tr style=\"text-align: right;\">\n      <th></th>\n      <th>0</th>\n      <th>1</th>\n      <th>2</th>\n      <th>3</th>\n      <th>4</th>\n      <th>5</th>\n      <th>6</th>\n      <th>7</th>\n    </tr>\n  </thead>\n  <tbody>\n    <tr>\n      <th>0</th>\n      <td>N88753</td>\n      <td>lifestyle</td>\n      <td>lifestyleroyals</td>\n      <td>The Brands Queen Elizabeth, Prince Charles, an...</td>\n      <td>Shop the notebooks, jackets, and more that the...</td>\n      <td>https://assets.msn.com/labs/mind/AAGH0ET.html</td>\n      <td>[{\"Label\": \"Prince Philip, Duke of Edinburgh\",...</td>\n      <td>[]</td>\n    </tr>\n    <tr>\n      <th>1</th>\n      <td>N23144</td>\n      <td>health</td>\n      <td>weightloss</td>\n      <td>50 Worst Habits For Belly Fat</td>\n      <td>These seemingly harmless habits are holding yo...</td>\n      <td>https://assets.msn.com/labs/mind/AAB19MK.html</td>\n      <td>[{\"Label\": \"Adipose tissue\", \"Type\": \"C\", \"Wik...</td>\n      <td>[{\"Label\": \"Adipose tissue\", \"Type\": \"C\", \"Wik...</td>\n    </tr>\n    <tr>\n      <th>2</th>\n      <td>N86255</td>\n      <td>health</td>\n      <td>medical</td>\n      <td>Dispose of unwanted prescription drugs during ...</td>\n      <td>NaN</td>\n      <td>https://assets.msn.com/labs/mind/AAISxPN.html</td>\n      <td>[{\"Label\": \"Drug Enforcement Administration\", ...</td>\n      <td>[]</td>\n    </tr>\n    <tr>\n      <th>3</th>\n      <td>N93187</td>\n      <td>news</td>\n      <td>newsworld</td>\n      <td>The Cost of Trump's Aid Freeze in the Trenches...</td>\n      <td>Lt. Ivan Molchanets peeked over a parapet of s...</td>\n      <td>https://assets.msn.com/labs/mind/AAJgNsz.html</td>\n      <td>[]</td>\n      <td>[{\"Label\": \"Ukraine\", \"Type\": \"G\", \"WikidataId...</td>\n    </tr>\n    <tr>\n      <th>4</th>\n      <td>N75236</td>\n      <td>health</td>\n      <td>voices</td>\n      <td>I Was An NBA Wife. Here's How It Affected My M...</td>\n      <td>I felt like I was a fraud, and being an NBA wi...</td>\n      <td>https://assets.msn.com/labs/mind/AACk2N6.html</td>\n      <td>[]</td>\n      <td>[{\"Label\": \"National Basketball Association\", ...</td>\n    </tr>\n  </tbody>\n</table>\n</div>"
     },
     "metadata": {},
     "execution_count": 11
    }
   ],
   "source": [
    "dev = pd.read_csv('/Users/baeyuna/Documents/SNU_Dlab/Data/MINDlarge_dev/news.tsv', delimiter='\\t', header=None)\n",
    "print(dev.shape)\n",
    "dev.head()"
   ]
  },
  {
   "cell_type": "code",
   "execution_count": null,
   "metadata": {},
   "outputs": [],
   "source": []
  },
  {
   "cell_type": "code",
   "execution_count": null,
   "metadata": {},
   "outputs": [],
   "source": [
    "def getReviews(idx):\n",
    "    reviews_list = []\n",
    "    headers = {\n",
    "        'User-Agent': 'Mozilla/5.0 (Macintosh; Intel Mac OS X 10_15_4) AppleWebKit/537.36 (KHTML, like Gecko) Chrome/83.0.4103.61 Safari/537.36'\n",
    "    }\n",
    "    \n",
    "    for page in [0,1,2]:\n",
    "        try: # 페이지가 있으면\n",
    "            url = f'https://store.naver.com/restaurants/detail?entry=plt&id={idx}&tab=receiptReview&tabPage={page}'\n",
    "            response = requests.get(url, headers = headers)\n",
    "            root = lxml.html.fromstring(response.text)\n",
    "            \n",
    "            nicks = [elem.text_content().strip() for elem in root.cssselect('div.reviewer > a')]\n",
    "            reviews = [elem.text_content().strip() for elem in root.cssselect('div.review_txt')]\n",
    "            stars = [elem.attrib['style'] for elem in root.cssselect('span.bg > span.value')]\n",
    "            herfs = [elem.attrib['href'].split('my/')[1].split('/')[0] for elem in root.cssselect('a.item')]\n",
    "            \n",
    "            value = list(map(list, zip(nicks, reviews, stars, herfs)))\n",
    "            [x.append(idx) for x in value]\n",
    "            reviews_list.extend(value)\n",
    "        except: # 페이지가 없으면\n",
    "            continue\n",
    "\n",
    "    return reviews_list"
   ]
  },
  {
   "cell_type": "code",
   "execution_count": 12,
   "metadata": {},
   "outputs": [],
   "source": [
    "import os"
   ]
  },
  {
   "cell_type": "code",
   "execution_count": 16,
   "metadata": {},
   "outputs": [
    {
     "output_type": "execute_result",
     "data": {
      "text/plain": "        0          1                         2  \\\n0  N88753  lifestyle           lifestyleroyals   \n1  N45436       news  newsscienceandtechnology   \n2  N23144     health                weightloss   \n3  N86255     health                   medical   \n4  N93187       news                 newsworld   \n\n                                                   3  \\\n0  The Brands Queen Elizabeth, Prince Charles, an...   \n1    Walmart Slashes Prices on Last-Generation iPads   \n2                      50 Worst Habits For Belly Fat   \n3  Dispose of unwanted prescription drugs during ...   \n4  The Cost of Trump's Aid Freeze in the Trenches...   \n\n                                                   4  \\\n0  Shop the notebooks, jackets, and more that the...   \n1  Apple's new iPad releases bring big deals on l...   \n2  These seemingly harmless habits are holding yo...   \n3                                                NaN   \n4  Lt. Ivan Molchanets peeked over a parapet of s...   \n\n                                               5  \\\n0  https://assets.msn.com/labs/mind/AAGH0ET.html   \n1  https://assets.msn.com/labs/mind/AABmf2I.html   \n2  https://assets.msn.com/labs/mind/AAB19MK.html   \n3  https://assets.msn.com/labs/mind/AAISxPN.html   \n4  https://assets.msn.com/labs/mind/AAJgNsz.html   \n\n                                                   6  \\\n0  [{\"Label\": \"Prince Philip, Duke of Edinburgh\",...   \n1  [{\"Label\": \"IPad\", \"Type\": \"J\", \"WikidataId\": ...   \n2  [{\"Label\": \"Adipose tissue\", \"Type\": \"C\", \"Wik...   \n3  [{\"Label\": \"Drug Enforcement Administration\", ...   \n4                                                 []   \n\n                                                   7  \n0                                                 []  \n1  [{\"Label\": \"IPad\", \"Type\": \"J\", \"WikidataId\": ...  \n2  [{\"Label\": \"Adipose tissue\", \"Type\": \"C\", \"Wik...  \n3                                                 []  \n4  [{\"Label\": \"Ukraine\", \"Type\": \"G\", \"WikidataId...  ",
      "text/html": "<div>\n<style scoped>\n    .dataframe tbody tr th:only-of-type {\n        vertical-align: middle;\n    }\n\n    .dataframe tbody tr th {\n        vertical-align: top;\n    }\n\n    .dataframe thead th {\n        text-align: right;\n    }\n</style>\n<table border=\"1\" class=\"dataframe\">\n  <thead>\n    <tr style=\"text-align: right;\">\n      <th></th>\n      <th>0</th>\n      <th>1</th>\n      <th>2</th>\n      <th>3</th>\n      <th>4</th>\n      <th>5</th>\n      <th>6</th>\n      <th>7</th>\n    </tr>\n  </thead>\n  <tbody>\n    <tr>\n      <th>0</th>\n      <td>N88753</td>\n      <td>lifestyle</td>\n      <td>lifestyleroyals</td>\n      <td>The Brands Queen Elizabeth, Prince Charles, an...</td>\n      <td>Shop the notebooks, jackets, and more that the...</td>\n      <td>https://assets.msn.com/labs/mind/AAGH0ET.html</td>\n      <td>[{\"Label\": \"Prince Philip, Duke of Edinburgh\",...</td>\n      <td>[]</td>\n    </tr>\n    <tr>\n      <th>1</th>\n      <td>N45436</td>\n      <td>news</td>\n      <td>newsscienceandtechnology</td>\n      <td>Walmart Slashes Prices on Last-Generation iPads</td>\n      <td>Apple's new iPad releases bring big deals on l...</td>\n      <td>https://assets.msn.com/labs/mind/AABmf2I.html</td>\n      <td>[{\"Label\": \"IPad\", \"Type\": \"J\", \"WikidataId\": ...</td>\n      <td>[{\"Label\": \"IPad\", \"Type\": \"J\", \"WikidataId\": ...</td>\n    </tr>\n    <tr>\n      <th>2</th>\n      <td>N23144</td>\n      <td>health</td>\n      <td>weightloss</td>\n      <td>50 Worst Habits For Belly Fat</td>\n      <td>These seemingly harmless habits are holding yo...</td>\n      <td>https://assets.msn.com/labs/mind/AAB19MK.html</td>\n      <td>[{\"Label\": \"Adipose tissue\", \"Type\": \"C\", \"Wik...</td>\n      <td>[{\"Label\": \"Adipose tissue\", \"Type\": \"C\", \"Wik...</td>\n    </tr>\n    <tr>\n      <th>3</th>\n      <td>N86255</td>\n      <td>health</td>\n      <td>medical</td>\n      <td>Dispose of unwanted prescription drugs during ...</td>\n      <td>NaN</td>\n      <td>https://assets.msn.com/labs/mind/AAISxPN.html</td>\n      <td>[{\"Label\": \"Drug Enforcement Administration\", ...</td>\n      <td>[]</td>\n    </tr>\n    <tr>\n      <th>4</th>\n      <td>N93187</td>\n      <td>news</td>\n      <td>newsworld</td>\n      <td>The Cost of Trump's Aid Freeze in the Trenches...</td>\n      <td>Lt. Ivan Molchanets peeked over a parapet of s...</td>\n      <td>https://assets.msn.com/labs/mind/AAJgNsz.html</td>\n      <td>[]</td>\n      <td>[{\"Label\": \"Ukraine\", \"Type\": \"G\", \"WikidataId...</td>\n    </tr>\n  </tbody>\n</table>\n</div>"
     },
     "metadata": {},
     "execution_count": 16
    }
   ],
   "source": [
    "train.head()"
   ]
  },
  {
   "cell_type": "code",
   "execution_count": 15,
   "metadata": {},
   "outputs": [
    {
     "output_type": "error",
     "ename": "ValueError",
     "evalue": "not enough values to unpack (expected 9, got 8)",
     "traceback": [
      "\u001b[0;31m---------------------------------------------------------------------------\u001b[0m",
      "\u001b[0;31mValueError\u001b[0m                                Traceback (most recent call last)",
      "\u001b[0;32m<ipython-input-15-0e7f18eccece>\u001b[0m in \u001b[0;36m<module>\u001b[0;34m\u001b[0m\n\u001b[1;32m      2\u001b[0m \u001b[0;32mwith\u001b[0m \u001b[0mopen\u001b[0m\u001b[0;34m(\u001b[0m\u001b[0;34m'/Users/baeyuna/Documents/SNU_Dlab/Data/MINDlarge_train/news.tsv'\u001b[0m\u001b[0;34m,\u001b[0m \u001b[0;34m'r'\u001b[0m\u001b[0;34m)\u001b[0m \u001b[0;32mas\u001b[0m \u001b[0mf\u001b[0m\u001b[0;34m:\u001b[0m\u001b[0;34m\u001b[0m\u001b[0;34m\u001b[0m\u001b[0m\n\u001b[1;32m      3\u001b[0m     \u001b[0;32mfor\u001b[0m \u001b[0ml\u001b[0m \u001b[0;32min\u001b[0m \u001b[0mf\u001b[0m\u001b[0;34m:\u001b[0m\u001b[0;34m\u001b[0m\u001b[0;34m\u001b[0m\u001b[0m\n\u001b[0;32m----> 4\u001b[0;31m         \u001b[0m_\u001b[0m\u001b[0;34m,\u001b[0m \u001b[0m_\u001b[0m\u001b[0;34m,\u001b[0m \u001b[0m_\u001b[0m\u001b[0;34m,\u001b[0m \u001b[0m_\u001b[0m\u001b[0;34m,\u001b[0m \u001b[0m_\u001b[0m\u001b[0;34m,\u001b[0m \u001b[0murl\u001b[0m\u001b[0;34m,\u001b[0m \u001b[0m_\u001b[0m\u001b[0;34m,\u001b[0m \u001b[0m_\u001b[0m\u001b[0;34m,\u001b[0m \u001b[0m_\u001b[0m \u001b[0;34m=\u001b[0m \u001b[0ml\u001b[0m\u001b[0;34m.\u001b[0m\u001b[0mstrip\u001b[0m\u001b[0;34m(\u001b[0m\u001b[0;34m'\\n'\u001b[0m\u001b[0;34m)\u001b[0m\u001b[0;34m.\u001b[0m\u001b[0msplit\u001b[0m\u001b[0;34m(\u001b[0m\u001b[0;34m'\\t'\u001b[0m\u001b[0;34m)\u001b[0m\u001b[0;34m\u001b[0m\u001b[0;34m\u001b[0m\u001b[0m\n\u001b[0m\u001b[1;32m      5\u001b[0m         \u001b[0mstart_urls\u001b[0m\u001b[0;34m.\u001b[0m\u001b[0mappend\u001b[0m\u001b[0;34m(\u001b[0m\u001b[0murl\u001b[0m\u001b[0;34m)\u001b[0m\u001b[0;34m\u001b[0m\u001b[0;34m\u001b[0m\u001b[0m\n",
      "\u001b[0;31mValueError\u001b[0m: not enough values to unpack (expected 9, got 8)"
     ]
    }
   ],
   "source": [
    "start_urls = []\n",
    "with open('/Users/baeyuna/Documents/SNU_Dlab/Data/MINDlarge_train/news.tsv', 'r') as f:\n",
    "    for l in f:\n",
    "        _, _, _, _, _, url, _, _ = l.strip('\\n').split('\\t')\n",
    "        start_urls.append(url)"
   ]
  },
  {
   "cell_type": "code",
   "execution_count": null,
   "metadata": {},
   "outputs": [],
   "source": []
  }
 ],
 "metadata": {
  "language_info": {
   "codemirror_mode": {
    "name": "ipython",
    "version": 3
   },
   "file_extension": ".py",
   "mimetype": "text/x-python",
   "name": "python",
   "nbconvert_exporter": "python",
   "pygments_lexer": "ipython3",
   "version": 3
  },
  "orig_nbformat": 2,
  "kernelspec": {
   "name": "python_defaultSpec_1596008651460",
   "display_name": "Python 3.7.6 64-bit ('base': conda)"
  }
 },
 "nbformat": 4,
 "nbformat_minor": 2
}