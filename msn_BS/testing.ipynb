{
 "cells": [
  {
   "cell_type": "code",
   "execution_count": 19,
   "metadata": {},
   "outputs": [
    {
     "data": {
      "text/plain": [
       "'https://www.msn.com/en-us/entertainment/gaming/best-ps5-games-top-playstation-5-titles-to-look-forward-to/ar-AACHUn8?ocid=chopendata.html'"
      ]
     },
     "execution_count": 19,
     "metadata": {},
     "output_type": "execute_result"
    }
   ],
   "source": [
    "urls = 'https://www.msn.com/en-us/entertainment/gaming/best-ps5-games-top-playstation-5-titles-to-look-forward-to/ar-AACHUn8?ocid=chopendata.html'\n",
    "urls"
   ]
  },
  {
   "cell_type": "code",
   "execution_count": 67,
   "metadata": {},
   "outputs": [
    {
     "data": {
      "text/plain": [
       "'https://www.msn.com/en-us/health/health-news/michigan-apple-recall-nearly-2-300-crates-could-be-contaminated-with-listeria/ar-AAJwfO8?ocid=chopendata'"
      ]
     },
     "execution_count": 67,
     "metadata": {},
     "output_type": "execute_result"
    }
   ],
   "source": [
    "urls = 'https://www.msn.com/en-us/health/health-news/michigan-apple-recall-nearly-2-300-crates-could-be-contaminated-with-listeria/ar-AAJwfO8?ocid=chopendata'\n",
    "urls"
   ]
  },
  {
   "cell_type": "code",
   "execution_count": 23,
   "metadata": {},
   "outputs": [],
   "source": [
    "req = requests.get(urls)\n",
    "html = req.text\n",
    "soup = BeautifulSoup(html, 'html.parser')"
   ]
  },
  {
   "cell_type": "code",
   "execution_count": null,
   "metadata": {
    "scrolled": true
   },
   "outputs": [],
   "source": [
    "soup.find('time')"
   ]
  },
  {
   "cell_type": "code",
   "execution_count": null,
   "metadata": {},
   "outputs": [],
   "source": []
  },
  {
   "cell_type": "code",
   "execution_count": 65,
   "metadata": {},
   "outputs": [
    {
     "name": "stdout",
     "output_type": "stream",
     "text": [
      "2019-11-01T17:06:28.000Z\n"
     ]
    }
   ],
   "source": [
    "from selenium import webdriver\n",
    "\n",
    "options = webdriver.ChromeOptions()\n",
    "options.add_argument('headless')\n",
    "options.add_argument('window-size=1920x1080')\n",
    "options.add_argument('disable-gpu')\n",
    "options.add_argument('User-Agent: Mozilla/5.0 (Macintosh; Intel Mac OS X 10_14_4) AppleWebKit/537.36 (KHTML, like Gecko) Chrome/74.0.3729.131 Safari/537.36')\n",
    "options.add_argument('lang=ko_KR')\n",
    "\n",
    "# /Users/baeyuna/Documents/Crawling/xpath.ipynb\n",
    "chromedriver = '/Users/baeyuna/Documents/chromedriver'\n",
    "driver = webdriver.Chrome(chromedriver, options=options) # webdriver.ChromeOptions()\n",
    "driver.get('https://www.msn.com/en-us/tv/tv-gallery/the-23-best-tv-reboots-of-all-time/ss-AAI343h?ocid=chopendata')\n",
    "\n",
    "title = driver.find_element_by_xpath('//*[@id=\"precontent\"]/section/div[1]/div/div/span[3]/time')\n",
    "\n",
    "print(title.get_attribute('datetime'))"
   ]
  },
  {
   "cell_type": "code",
   "execution_count": 66,
   "metadata": {},
   "outputs": [
    {
     "data": {
      "text/plain": [
       "<selenium.webdriver.remote.webelement.WebElement (session=\"3ab9adea04b16200ba4c640a07f645bc\", element=\"680672a0-3d78-4c99-acd0-97e01c44631e\")>"
      ]
     },
     "execution_count": 66,
     "metadata": {},
     "output_type": "execute_result"
    }
   ],
   "source": [
    "title"
   ]
  },
  {
   "cell_type": "code",
   "execution_count": 69,
   "metadata": {},
   "outputs": [
    {
     "data": {
      "text/plain": [
       "'https://www.msn.com/en-us/health/health-news/michigan-apple-recall-nearly-2-300-crates-could-be-contaminated-with-listeria/ar-AAJwfO8?ocid=chopendata'"
      ]
     },
     "execution_count": 69,
     "metadata": {},
     "output_type": "execute_result"
    }
   ],
   "source": [
    "urls = 'https://www.msn.com/en-us/health/health-news/michigan-apple-recall-nearly-2-300-crates-could-be-contaminated-with-listeria/ar-AAJwfO8?ocid=chopendata'\n",
    "urls"
   ]
  },
  {
   "cell_type": "code",
   "execution_count": 70,
   "metadata": {},
   "outputs": [],
   "source": [
    "driver.get(urls)"
   ]
  },
  {
   "cell_type": "code",
   "execution_count": 71,
   "metadata": {},
   "outputs": [
    {
     "name": "stdout",
     "output_type": "stream",
     "text": [
      "2019-10-29T12:36:23.000Z\n"
     ]
    }
   ],
   "source": [
    "title = driver.find_element_by_xpath('//*[@id=\"precontent\"]/section/div[1]/div/div/span[3]/time')\n",
    "\n",
    "print(title.get_attribute('datetime'))"
   ]
  },
  {
   "cell_type": "code",
   "execution_count": null,
   "metadata": {},
   "outputs": [],
   "source": []
  }
 ],
 "metadata": {
  "kernelspec": {
   "display_name": "Python 3",
   "language": "python",
   "name": "python3"
  },
  "language_info": {
   "codemirror_mode": {
    "name": "ipython",
    "version": 3
   },
   "file_extension": ".py",
   "mimetype": "text/x-python",
   "name": "python",
   "nbconvert_exporter": "python",
   "pygments_lexer": "ipython3",
   "version": "3.7.6"
  }
 },
 "nbformat": 4,
 "nbformat_minor": 4
}
