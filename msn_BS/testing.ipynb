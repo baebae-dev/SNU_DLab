{
 "cells": [
  {
   "cell_type": "code",
   "execution_count": 1,
   "metadata": {},
   "outputs": [],
   "source": [
    "import os\n",
    "import pandas as pd\n",
    "import requests\n",
    "from bs4 import BeautifulSoup\n",
    "import argparse\n",
    "import json\n",
    "import re\n",
    "import sys"
   ]
  },
  {
   "cell_type": "code",
   "execution_count": 3,
   "metadata": {},
   "outputs": [],
   "source": [
    "urls = pd.read_csv('/Users/baeyuna/Documents/SNU_Dlab/Data/MINDlarge_train/news.tsv', delimiter='\\t', header=None).iloc[0,5]"
   ]
  },
  {
   "cell_type": "code",
   "execution_count": 19,
   "metadata": {},
   "outputs": [
    {
     "output_type": "execute_result",
     "data": {
      "text/plain": "'https://assets.msn.com/labs/mind/AAGH0ET.html'"
     },
     "metadata": {},
     "execution_count": 19
    }
   ],
   "source": [
    "urls"
   ]
  },
  {
   "cell_type": "code",
   "execution_count": 16,
   "metadata": {},
   "outputs": [
    {
     "output_type": "execute_result",
     "data": {
      "text/plain": "<div data-region=\"precontent\" id=\"precontent\">\n<header class=\"collection-headline-flex\" role=\"presentation\">\n<h1 elementtiming=\"TTVR.ViewsContentHeader\" itemprop=\"headline\">\nThe Brands Queen Elizabeth, Prince Charles, and Prince Philip Swear By\n</h1>\n</header>\n<section class=\"Modelinfo\" style=\"position: relative;\">\n<div class=\"authorinfo-flexar\">\n<div class=\"authortime-info\">\n<div class=\"authorname-txt\" itemprop=\"author\" itemscope=\"itemscope\">\n<span class=\"truncate\" itemprop=\"name\">\nChloe Foussianes\n</span>\n<span class=\"hdr-dot\"></span>\n<span class=\"date\"><time data-always-show=\"true\" datetime=\"2019-09-02T11:02:28Z\">\n9/2/2019\n</time></span>\n</div>\n</div>\n</div>\n<hr class=\"hdr-sep\"/>\n</section>\n</div>"
     },
     "metadata": {},
     "execution_count": 16
    }
   ],
   "source": [
    "req = requests.get(urls)\n",
    "html = req.text\n",
    "soup = BeautifulSoup(html, 'html.parser')\n",
    "\n",
    "title = soup.find('div')\n",
    "title"
   ]
  },
  {
   "cell_type": "code",
   "execution_count": 24,
   "metadata": {},
   "outputs": [
    {
     "output_type": "execute_result",
     "data": {
      "text/plain": "'The Brands Queen Elizabeth, Prince Charles, and Prince Philip Swear By\\r\\n\\n\\n\\n\\n\\n\\n\\r\\nChloe Foussianes\\r\\n\\n\\n\\r\\n9/2/2019'"
     },
     "metadata": {},
     "execution_count": 24
    }
   ],
   "source": []
  },
  {
   "cell_type": "code",
   "execution_count": 18,
   "metadata": {},
   "outputs": [],
   "source": [
    "date = soup.find('div',{'class':'date'})\n",
    "date"
   ]
  },
  {
   "cell_type": "code",
   "execution_count": null,
   "metadata": {},
   "outputs": [],
   "source": []
  },
  {
   "cell_type": "code",
   "execution_count": null,
   "metadata": {},
   "outputs": [],
   "source": [
    " > div > header > span > h1"
   ]
  }
 ],
 "metadata": {
  "language_info": {
   "codemirror_mode": {
    "name": "ipython",
    "version": 3
   },
   "file_extension": ".py",
   "mimetype": "text/x-python",
   "name": "python",
   "nbconvert_exporter": "python",
   "pygments_lexer": "ipython3",
   "version": 3
  },
  "orig_nbformat": 2,
  "kernelspec": {
   "name": "python_defaultSpec_1596261263395",
   "display_name": "Python 3.7.6 64-bit ('base': conda)"
  }
 },
 "nbformat": 4,
 "nbformat_minor": 2
}