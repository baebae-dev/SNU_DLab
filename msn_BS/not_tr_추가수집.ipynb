{
 "cells": [
  {
   "cell_type": "code",
   "execution_count": 81,
   "metadata": {},
   "outputs": [
    {
     "name": "stdout",
     "output_type": "stream",
     "text": [
      "5733\n"
     ]
    }
   ],
   "source": [
    "import pandas as pd \n",
    "\n",
    "not_tr = pd.read_csv('not_tr.csv')\n",
    "not_tr_urls = not_tr['urls'].tolist()\n",
    "print(len(not_tr_urls)) "
   ]
  },
  {
   "cell_type": "code",
   "execution_count": null,
   "metadata": {},
   "outputs": [],
   "source": [
    "from selenium import webdriver\n",
    "\n",
    "options = webdriver.ChromeOptions()\n",
    "options.add_argument('headless')\n",
    "options.add_argument('window-size=1920x1080')\n",
    "options.add_argument('disable-gpu')\n",
    "options.add_argument('User-Agent: Mozilla/5.0 (Macintosh; Intel Mac OS X 10_14_4) AppleWebKit/537.36 (KHTML, like Gecko) Chrome/74.0.3729.131 Safari/537.36')\n",
    "options.add_argument('lang=ko_KR')\n",
    "\n",
    "# /Users/baeyuna/Documents/Crawling/xpath.ipynb\n",
    "chromedriver = '/Users/baeyuna/Documents/chromedriver'\n",
    "driver = webdriver.Chrome(chromedriver, options=options)"
   ]
  },
  {
   "cell_type": "code",
   "execution_count": null,
   "metadata": {},
   "outputs": [
    {
     "name": "stderr",
     "output_type": "stream",
     "text": [
      " 40%|████      | 2314/5733 [2:13:47<3:43:38,  3.92s/it] "
     ]
    }
   ],
   "source": [
    "import time\n",
    "from random import *\n",
    "from tqdm import tqdm\n",
    "\n",
    "dates = []\n",
    "MAX_SLEEP_TIME = 3\n",
    "\n",
    "for url in tqdm(not_tr_urls):\n",
    "    rand_value = randint(1, MAX_SLEEP_TIME)\n",
    "    time.sleep(rand_value)\n",
    "    driver.get(url)\n",
    "    \n",
    "    try:\n",
    "        datetime = driver.find_element_by_xpath('//*[@id=\"precontent\"]/section/div[1]/div/div/span[3]/time')\n",
    "        date = datetime.get_attribute('datetime')\n",
    "        dates.append(date)\n",
    "    except:\n",
    "        dates.append(None)\n",
    "\n",
    "df = pd.DataFrame({'date':dates, 'url':urls})\n",
    "df"
   ]
  },
  {
   "cell_type": "code",
   "execution_count": null,
   "metadata": {},
   "outputs": [],
   "source": [
    "print('잘 뽑힌 값 개수:',df.loc[~df['date'].isnull()].shape)"
   ]
  },
  {
   "cell_type": "markdown",
   "metadata": {},
   "source": [
    "# 데이터 합치기"
   ]
  },
  {
   "cell_type": "code",
   "execution_count": null,
   "metadata": {},
   "outputs": [],
   "source": [
    "# 기존 크롤링한 데이터 \n",
    "msn_train= pd.read_csv('/Users/baeyuna/Documents/SNU_DLab/Data/msn_train.csv')"
   ]
  },
  {
   "cell_type": "code",
   "execution_count": null,
   "metadata": {},
   "outputs": [],
   "source": [
    "# 데모 데이터 \n",
    "\n",
    "demo_train = pd.read_csv('/Users/baeyuna/Documents/SNU_DLab/Data/MINDdemo_train/news.tsv', delimiter='\\t', header=None)\n",
    "print(demo_train.shape)\n",
    "demo_train.head()"
   ]
  },
  {
   "cell_type": "code",
   "execution_count": null,
   "metadata": {},
   "outputs": [],
   "source": [
    "# 기존 수집된 데이터로 붙이기\n",
    "demo_train_nid = demo_train.iloc[:,0]\n",
    "\n",
    "demo_trains = msn_train.loc[msn_train.iloc[:,6].isin(demo_train_nid)]\n",
    "print(demo_trains.shape)\n",
    "demo_trains.head()"
   ]
  },
  {
   "cell_type": "code",
   "execution_count": null,
   "metadata": {},
   "outputs": [],
   "source": [
    "# 추가 수집 데이터 \n",
    "titles = []   \n",
    "contents = []\n",
    "images = [] \n",
    "\n",
    "\n",
    "print('crawling start.')\n",
    "start_time = int(time.time())\n",
    "\n",
    "url_except =[]\n",
    "num = 0\n",
    "total = len(not_train_urls)\n",
    "for url in not_train_urls:\n",
    "    # 진행상황 확인 \n",
    "    num += 1\n",
    "    if num % 2000 == 0:\n",
    "        print('{} urls are crawled.\\n {} are remained'.format(num, total - num))\n",
    "\n",
    "    try:\n",
    "        req = requests.get(url)\n",
    "        html = req.text\n",
    "        soup = BeautifulSoup(html, 'html.parser')\n",
    "\n",
    "\n",
    "        # title\n",
    "        if soup.find('h1').text.strip() is not None:\n",
    "            title = soup.find('h1').text.strip()\n",
    "            titles.append(title)\n",
    "        elif soup.find('header').text.strip() is not None:\n",
    "            title = soup.find('header').text.strip()\n",
    "            titles.append(title)\n",
    "        else:\n",
    "            titles.append(None)\n",
    "\n",
    "        # content\n",
    "        if soup.find_all('p') is not None:\n",
    "            content = []\n",
    "            for el in soup.find_all('p'):\n",
    "                content.append(el.get_text()) \n",
    "            contents.append(' '.join(content))\n",
    "        elif soup.find('h2').text.strip() is not None:\n",
    "            content = soup.find('h2').text.strip()\n",
    "            contents.append(content)\n",
    "        else:\n",
    "            contents.append(url)\n",
    "\n",
    "        # image\n",
    "        try:\n",
    "            image = soup.find('img').get('src')\n",
    "            images.append(image)\n",
    "        except:\n",
    "            images.append('no image')\n",
    "\n",
    "\n",
    "        # 길이 맞추기 \n",
    "        if len(url_lst) != num:\n",
    "            url_lst.append(None)\n",
    "        if len(titles) != num:\n",
    "            titles.append(None)\n",
    "        if len(contents) != num:\n",
    "            contents.append(None)\n",
    "        if len(images) != num:\n",
    "            images.append(None)\n",
    "\n",
    "    except:\n",
    "        url_except.append(url)\n",
    "\n",
    "print('-------Seconds: %s--------' % (time.time() - start_time))\n",
    "print('-------url_except-----')\n",
    "print(len(url_except)) \n",
    "\n",
    "print('len titles', len(titles))\n",
    "print('len dates', len(dates))\n",
    "print('len contents', len(contents))\n",
    "print('len images', len(images))"
   ]
  },
  {
   "cell_type": "code",
   "execution_count": null,
   "metadata": {},
   "outputs": [],
   "source": [
    "df_train = pd.DataFrame({'url' : not_train_urls,\n",
    "                   'Title':titles,\n",
    "                   'Date': dates, \n",
    "                   'Content': contents,\n",
    "                   'Image': images})\n",
    "print(df_train.shape)\n",
    "\n",
    "import numpy as np\n",
    "\n",
    "for i in range(len(df_train)):\n",
    "    if df_train.loc[i, 'Title'] == 'Whoops!':\n",
    "        df_train.loc[i, 'Title'] = np.nan \n",
    "        df_train.loc[i, 'Date'] = np.nan \n",
    "        df_train.loc[i, 'Content'] = np.nan \n",
    "        df_train.loc[i, 'Image'] = np.nan \n",
    "\n",
    "print('잘 뽑힌 값 개수:',df_train.loc[~df_train['date'].isnull()].shape)\n",
    "df_train.head()"
   ]
  },
  {
   "cell_type": "code",
   "execution_count": null,
   "metadata": {},
   "outputs": [],
   "source": [
    "# 데이터 붙이기\n",
    "\n",
    "print(demo_trains.shape)\n",
    "print(df_train.shape)\n",
    "print(pd.concat([demo_trains,df_train]).shape)"
   ]
  },
  {
   "cell_type": "code",
   "execution_count": null,
   "metadata": {},
   "outputs": [],
   "source": [
    "df_train.rename(columns = {'url' : 5}, inplace = True)\n",
    "\n",
    "demo_train = pd.merge(not_train, df_train, how='inner',on= 5)\n",
    "print(demo_train.shape)\n",
    "\n",
    "print('-----columns-----')\n",
    "print(demo_trains.columns.tolist())\n",
    "demo_train.head()"
   ]
  },
  {
   "cell_type": "code",
   "execution_count": null,
   "metadata": {},
   "outputs": [],
   "source": [
    "demo_train = demo_train.iloc[:,[5,8,9,11,10,0,1,2,3,4,6,7]]\n",
    "print(demo_train.columns.tolist()) \n",
    "\n",
    "demo_train.rename(columns = {5 : '5'}, inplace = True)\n",
    "demo_train.rename(columns = {0 : '0'}, inplace = True)\n",
    "demo_train.rename(columns = {1 : '1'}, inplace = True)\n",
    "demo_train.rename(columns = {2 : '2'}, inplace = True)\n",
    "demo_train.rename(columns = {3 : '3'}, inplace = True)\n",
    "demo_train.rename(columns = {4 : '4'}, inplace = True)\n",
    "demo_train.rename(columns = {6 : '6'}, inplace = True)\n",
    "demo_train.rename(columns = {7 : '7'}, inplace = True)"
   ]
  },
  {
   "cell_type": "code",
   "execution_count": null,
   "metadata": {},
   "outputs": [],
   "source": [
    "demo_trains = demo_trains.drop(['nids'], axis=1)\n",
    "print(demo_trains.columns.tolist())\n",
    "\n",
    "demo = pd.concat([demo_train, demo_trains])\n",
    "print(demo.shape)\n",
    "\n",
    "demo.to_csv('integrated_news.csv', index=False)\n",
    "demo.head()"
   ]
  },
  {
   "cell_type": "code",
   "execution_count": null,
   "metadata": {},
   "outputs": [],
   "source": []
  }
 ],
 "metadata": {
  "kernelspec": {
   "display_name": "Python 3",
   "language": "python",
   "name": "python3"
  },
  "language_info": {
   "codemirror_mode": {
    "name": "ipython",
    "version": 3
   },
   "file_extension": ".py",
   "mimetype": "text/x-python",
   "name": "python",
   "nbconvert_exporter": "python",
   "pygments_lexer": "ipython3",
   "version": "3.7.6"
  }
 },
 "nbformat": 4,
 "nbformat_minor": 2
}
