{
 "cells": [
  {
   "cell_type": "markdown",
   "metadata": {},
   "source": [
    "# Dev"
   ]
  },
  {
   "cell_type": "code",
   "execution_count": 2,
   "metadata": {},
   "outputs": [],
   "source": [
    "import pandas as pd "
   ]
  },
  {
   "cell_type": "code",
   "execution_count": 3,
   "metadata": {
    "tags": []
   },
   "outputs": [
    {
     "output_type": "stream",
     "name": "stdout",
     "text": "(42414, 6)\n"
    },
    {
     "output_type": "execute_result",
     "data": {
      "text/plain": "                                             url     nids  \\\n0  https://assets.msn.com/labs/mind/AAGH0ET.html  AAGH0ET   \n1  https://assets.msn.com/labs/mind/AAISxPN.html  AAISxPN   \n2  https://assets.msn.com/labs/mind/AAJgNsz.html  AAJgNsz   \n3  https://assets.msn.com/labs/mind/AACk2N6.html  AACk2N6   \n4  https://assets.msn.com/labs/mind/AAAKEkt.html  AAAKEkt   \n\n                                               Title                  Date  \\\n0  The Brands Queen Elizabeth, Prince Charles, an...  2019-09-02T11:02:28Z   \n1  Dispose of unwanted prescription drugs on Satu...  2019-10-25T17:31:42Z   \n2  The Cost of Trumpâs Aid Freeze in the Trench...  2019-10-24T19:15:00Z   \n3  I Was An NBA Wife. Here's How It Affected My M...  2019-06-03T12:30:06Z   \n4  How to Get Rid of Skin Tags, According to a De...  2019-05-01T06:00:00Z   \n\n                                             Content  \\\n0  The royals are free to shop wherever they choo...   \n1  CINCINNATI (FOX19) - If you have expired, unus...   \n2   ZOLOTE, Ukraine â Lt. Ivan Molchanets peeke...   \n3  Walking into the Bradley Center, I could feel ...   \n4   [Video by Health.com] As you get older, littl...   \n\n                                               Image  \n0  https://img-s-msn-com.akamaized.net/tenant/amp...  \n1  https://img-s-msn-com.akamaized.net/tenant/amp...  \n2  https://img-s-msn-com.akamaized.net/tenant/amp...  \n3  https://img-s-msn-com.akamaized.net/tenant/amp...  \n4                                                NaN  ",
      "text/html": "<div>\n<style scoped>\n    .dataframe tbody tr th:only-of-type {\n        vertical-align: middle;\n    }\n\n    .dataframe tbody tr th {\n        vertical-align: top;\n    }\n\n    .dataframe thead th {\n        text-align: right;\n    }\n</style>\n<table border=\"1\" class=\"dataframe\">\n  <thead>\n    <tr style=\"text-align: right;\">\n      <th></th>\n      <th>url</th>\n      <th>nids</th>\n      <th>Title</th>\n      <th>Date</th>\n      <th>Content</th>\n      <th>Image</th>\n    </tr>\n  </thead>\n  <tbody>\n    <tr>\n      <th>0</th>\n      <td>https://assets.msn.com/labs/mind/AAGH0ET.html</td>\n      <td>AAGH0ET</td>\n      <td>The Brands Queen Elizabeth, Prince Charles, an...</td>\n      <td>2019-09-02T11:02:28Z</td>\n      <td>The royals are free to shop wherever they choo...</td>\n      <td>https://img-s-msn-com.akamaized.net/tenant/amp...</td>\n    </tr>\n    <tr>\n      <th>1</th>\n      <td>https://assets.msn.com/labs/mind/AAISxPN.html</td>\n      <td>AAISxPN</td>\n      <td>Dispose of unwanted prescription drugs on Satu...</td>\n      <td>2019-10-25T17:31:42Z</td>\n      <td>CINCINNATI (FOX19) - If you have expired, unus...</td>\n      <td>https://img-s-msn-com.akamaized.net/tenant/amp...</td>\n    </tr>\n    <tr>\n      <th>2</th>\n      <td>https://assets.msn.com/labs/mind/AAJgNsz.html</td>\n      <td>AAJgNsz</td>\n      <td>The Cost of Trumpâs Aid Freeze in the Trench...</td>\n      <td>2019-10-24T19:15:00Z</td>\n      <td>ZOLOTE, Ukraine â Lt. Ivan Molchanets peeke...</td>\n      <td>https://img-s-msn-com.akamaized.net/tenant/amp...</td>\n    </tr>\n    <tr>\n      <th>3</th>\n      <td>https://assets.msn.com/labs/mind/AACk2N6.html</td>\n      <td>AACk2N6</td>\n      <td>I Was An NBA Wife. Here's How It Affected My M...</td>\n      <td>2019-06-03T12:30:06Z</td>\n      <td>Walking into the Bradley Center, I could feel ...</td>\n      <td>https://img-s-msn-com.akamaized.net/tenant/amp...</td>\n    </tr>\n    <tr>\n      <th>4</th>\n      <td>https://assets.msn.com/labs/mind/AAAKEkt.html</td>\n      <td>AAAKEkt</td>\n      <td>How to Get Rid of Skin Tags, According to a De...</td>\n      <td>2019-05-01T06:00:00Z</td>\n      <td>[Video by Health.com] As you get older, littl...</td>\n      <td>NaN</td>\n    </tr>\n  </tbody>\n</table>\n</div>"
     },
     "metadata": {},
     "execution_count": 3
    }
   ],
   "source": [
    "dev1 = pd.read_csv('/Users/baeyuna/Documents/SNU_DLab/msn_BS/msn/msn_dev.csv')\n",
    "print(dev1.shape)\n",
    "dev1.head()"
   ]
  },
  {
   "cell_type": "code",
   "execution_count": 5,
   "metadata": {
    "tags": []
   },
   "outputs": [
    {
     "output_type": "stream",
     "name": "stdout",
     "text": "(72018, 6)\n"
    },
    {
     "output_type": "execute_result",
     "data": {
      "text/plain": "                                             url     nids  \\\n0  https://assets.msn.com/labs/mind/AAGH0ET.html  AAGH0ET   \n1  https://assets.msn.com/labs/mind/AAB19MK.html  AAB19MK   \n2  https://assets.msn.com/labs/mind/AAISxPN.html  AAISxPN   \n3  https://assets.msn.com/labs/mind/AAJgNsz.html  AAJgNsz   \n4  https://assets.msn.com/labs/mind/AACk2N6.html  AACk2N6   \n\n                                               Title Date  \\\n0  The Brands Queen Elizabeth, Prince Charles, an...  NaN   \n1                      50 Worst Habits For Belly Fat  NaN   \n2  Dispose of unwanted prescription drugs on Satu...  NaN   \n3  The Cost of Trumpâs Aid Freeze in the Trench...  NaN   \n4  I Was An NBA Wife. Here's How It Affected My M...  NaN   \n\n                                             Content  \\\n0  ['The royals are free to shop wherever they ch...   \n1  ['When you first start dieting and exercising,...   \n2  ['CINCINNATI (FOX19) - If you have expired, un...   \n3  ['', 'ZOLOTE, Ukraine â\\x80\\x94 Lt. Ivan Molch...   \n4  [\"Walking into the Bradley Center, I could fee...   \n\n                                               Image  \n0  https://img-s-msn-com.akamaized.net/tenant/amp...  \n1  https://img-s-msn-com.akamaized.net/tenant/amp...  \n2  https://img-s-msn-com.akamaized.net/tenant/amp...  \n3  https://img-s-msn-com.akamaized.net/tenant/amp...  \n4  https://img-s-msn-com.akamaized.net/tenant/amp...  ",
      "text/html": "<div>\n<style scoped>\n    .dataframe tbody tr th:only-of-type {\n        vertical-align: middle;\n    }\n\n    .dataframe tbody tr th {\n        vertical-align: top;\n    }\n\n    .dataframe thead th {\n        text-align: right;\n    }\n</style>\n<table border=\"1\" class=\"dataframe\">\n  <thead>\n    <tr style=\"text-align: right;\">\n      <th></th>\n      <th>url</th>\n      <th>nids</th>\n      <th>Title</th>\n      <th>Date</th>\n      <th>Content</th>\n      <th>Image</th>\n    </tr>\n  </thead>\n  <tbody>\n    <tr>\n      <th>0</th>\n      <td>https://assets.msn.com/labs/mind/AAGH0ET.html</td>\n      <td>AAGH0ET</td>\n      <td>The Brands Queen Elizabeth, Prince Charles, an...</td>\n      <td>NaN</td>\n      <td>['The royals are free to shop wherever they ch...</td>\n      <td>https://img-s-msn-com.akamaized.net/tenant/amp...</td>\n    </tr>\n    <tr>\n      <th>1</th>\n      <td>https://assets.msn.com/labs/mind/AAB19MK.html</td>\n      <td>AAB19MK</td>\n      <td>50 Worst Habits For Belly Fat</td>\n      <td>NaN</td>\n      <td>['When you first start dieting and exercising,...</td>\n      <td>https://img-s-msn-com.akamaized.net/tenant/amp...</td>\n    </tr>\n    <tr>\n      <th>2</th>\n      <td>https://assets.msn.com/labs/mind/AAISxPN.html</td>\n      <td>AAISxPN</td>\n      <td>Dispose of unwanted prescription drugs on Satu...</td>\n      <td>NaN</td>\n      <td>['CINCINNATI (FOX19) - If you have expired, un...</td>\n      <td>https://img-s-msn-com.akamaized.net/tenant/amp...</td>\n    </tr>\n    <tr>\n      <th>3</th>\n      <td>https://assets.msn.com/labs/mind/AAJgNsz.html</td>\n      <td>AAJgNsz</td>\n      <td>The Cost of Trumpâs Aid Freeze in the Trench...</td>\n      <td>NaN</td>\n      <td>['', 'ZOLOTE, Ukraine â\\x80\\x94 Lt. Ivan Molch...</td>\n      <td>https://img-s-msn-com.akamaized.net/tenant/amp...</td>\n    </tr>\n    <tr>\n      <th>4</th>\n      <td>https://assets.msn.com/labs/mind/AACk2N6.html</td>\n      <td>AACk2N6</td>\n      <td>I Was An NBA Wife. Here's How It Affected My M...</td>\n      <td>NaN</td>\n      <td>[\"Walking into the Bradley Center, I could fee...</td>\n      <td>https://img-s-msn-com.akamaized.net/tenant/amp...</td>\n    </tr>\n  </tbody>\n</table>\n</div>"
     },
     "metadata": {},
     "execution_count": 5
    }
   ],
   "source": [
    "dev2 = pd.read_csv('/Users/baeyuna/Documents/SNU_DLab/msn_BS/msn/msn_dev1.csv')\n",
    "print(dev2.shape)\n",
    "dev2.head()"
   ]
  },
  {
   "cell_type": "code",
   "execution_count": 41,
   "metadata": {
    "tags": []
   },
   "outputs": [
    {
     "output_type": "stream",
     "name": "stdout",
     "text": "(114432, 6)\n"
    },
    {
     "output_type": "execute_result",
     "data": {
      "text/plain": "                                             url     nids  \\\n0  https://assets.msn.com/labs/mind/AAGH0ET.html  AAGH0ET   \n1  https://assets.msn.com/labs/mind/AAISxPN.html  AAISxPN   \n2  https://assets.msn.com/labs/mind/AAJgNsz.html  AAJgNsz   \n3  https://assets.msn.com/labs/mind/AACk2N6.html  AACk2N6   \n4  https://assets.msn.com/labs/mind/AAAKEkt.html  AAAKEkt   \n\n                                               Title                  Date  \\\n0  The Brands Queen Elizabeth, Prince Charles, an...  2019-09-02T11:02:28Z   \n1  Dispose of unwanted prescription drugs on Satu...  2019-10-25T17:31:42Z   \n2  The Cost of Trumpâs Aid Freeze in the Trench...  2019-10-24T19:15:00Z   \n3  I Was An NBA Wife. Here's How It Affected My M...  2019-06-03T12:30:06Z   \n4  How to Get Rid of Skin Tags, According to a De...  2019-05-01T06:00:00Z   \n\n                                             Content  \\\n0  The royals are free to shop wherever they choo...   \n1  CINCINNATI (FOX19) - If you have expired, unus...   \n2   ZOLOTE, Ukraine â Lt. Ivan Molchanets peeke...   \n3  Walking into the Bradley Center, I could feel ...   \n4   [Video by Health.com] As you get older, littl...   \n\n                                               Image  \n0  https://img-s-msn-com.akamaized.net/tenant/amp...  \n1  https://img-s-msn-com.akamaized.net/tenant/amp...  \n2  https://img-s-msn-com.akamaized.net/tenant/amp...  \n3  https://img-s-msn-com.akamaized.net/tenant/amp...  \n4                                                NaN  ",
      "text/html": "<div>\n<style scoped>\n    .dataframe tbody tr th:only-of-type {\n        vertical-align: middle;\n    }\n\n    .dataframe tbody tr th {\n        vertical-align: top;\n    }\n\n    .dataframe thead th {\n        text-align: right;\n    }\n</style>\n<table border=\"1\" class=\"dataframe\">\n  <thead>\n    <tr style=\"text-align: right;\">\n      <th></th>\n      <th>url</th>\n      <th>nids</th>\n      <th>Title</th>\n      <th>Date</th>\n      <th>Content</th>\n      <th>Image</th>\n    </tr>\n  </thead>\n  <tbody>\n    <tr>\n      <th>0</th>\n      <td>https://assets.msn.com/labs/mind/AAGH0ET.html</td>\n      <td>AAGH0ET</td>\n      <td>The Brands Queen Elizabeth, Prince Charles, an...</td>\n      <td>2019-09-02T11:02:28Z</td>\n      <td>The royals are free to shop wherever they choo...</td>\n      <td>https://img-s-msn-com.akamaized.net/tenant/amp...</td>\n    </tr>\n    <tr>\n      <th>1</th>\n      <td>https://assets.msn.com/labs/mind/AAISxPN.html</td>\n      <td>AAISxPN</td>\n      <td>Dispose of unwanted prescription drugs on Satu...</td>\n      <td>2019-10-25T17:31:42Z</td>\n      <td>CINCINNATI (FOX19) - If you have expired, unus...</td>\n      <td>https://img-s-msn-com.akamaized.net/tenant/amp...</td>\n    </tr>\n    <tr>\n      <th>2</th>\n      <td>https://assets.msn.com/labs/mind/AAJgNsz.html</td>\n      <td>AAJgNsz</td>\n      <td>The Cost of Trumpâs Aid Freeze in the Trench...</td>\n      <td>2019-10-24T19:15:00Z</td>\n      <td>ZOLOTE, Ukraine â Lt. Ivan Molchanets peeke...</td>\n      <td>https://img-s-msn-com.akamaized.net/tenant/amp...</td>\n    </tr>\n    <tr>\n      <th>3</th>\n      <td>https://assets.msn.com/labs/mind/AACk2N6.html</td>\n      <td>AACk2N6</td>\n      <td>I Was An NBA Wife. Here's How It Affected My M...</td>\n      <td>2019-06-03T12:30:06Z</td>\n      <td>Walking into the Bradley Center, I could feel ...</td>\n      <td>https://img-s-msn-com.akamaized.net/tenant/amp...</td>\n    </tr>\n    <tr>\n      <th>4</th>\n      <td>https://assets.msn.com/labs/mind/AAAKEkt.html</td>\n      <td>AAAKEkt</td>\n      <td>How to Get Rid of Skin Tags, According to a De...</td>\n      <td>2019-05-01T06:00:00Z</td>\n      <td>[Video by Health.com] As you get older, littl...</td>\n      <td>NaN</td>\n    </tr>\n  </tbody>\n</table>\n</div>"
     },
     "metadata": {},
     "execution_count": 41
    }
   ],
   "source": [
    "dev = pd.concat([dev1, dev2])\n",
    "print(dev.shape)\n",
    "dev.head() "
   ]
  },
  {
   "cell_type": "code",
   "execution_count": 42,
   "metadata": {},
   "outputs": [
    {
     "output_type": "execute_result",
     "data": {
      "text/plain": "72018"
     },
     "metadata": {},
     "execution_count": 42
    }
   ],
   "source": [
    "dev['url'].nunique() # 5개 제외 "
   ]
  },
  {
   "cell_type": "code",
   "execution_count": null,
   "metadata": {},
   "outputs": [],
   "source": [
    "dev.to_csv('msn_dev_all.csv', index=False)"
   ]
  },
  {
   "cell_type": "markdown",
   "metadata": {},
   "source": [
    "# Train"
   ]
  },
  {
   "cell_type": "code",
   "execution_count": 4,
   "metadata": {
    "tags": []
   },
   "outputs": [
    {
     "output_type": "stream",
     "name": "stdout",
     "text": "(50243, 6)\n"
    },
    {
     "output_type": "execute_result",
     "data": {
      "text/plain": "                                             url     nids  \\\n0  https://assets.msn.com/labs/mind/AABmf2I.html  AABmf2I   \n1  https://assets.msn.com/labs/mind/AAISxPN.html  AAISxPN   \n2  https://assets.msn.com/labs/mind/AAEKnO1.html  AAEKnO1   \n3  https://assets.msn.com/labs/mind/AADlomf.html  AADlomf   \n4  https://assets.msn.com/labs/mind/AAGBR44.html  AAGBR44   \n\n                                               Title                  Date  \\\n0    Walmart Slashes Prices on Last-Generation iPads  2019-10-28T17:38:04Z   \n1  Dispose of unwanted prescription drugs on Satu...  2019-10-25T17:31:42Z   \n2  Check Houston traffic map for current road con...  2019-11-26T12:55:03Z   \n3  How to record your screen on Windows, macOS, i...  2019-11-06T16:06:25Z   \n4  This Guy Altered His Diet and Training to Drop...  2019-08-31T11:37:11Z   \n\n                                             Content  \\\n0  ['This year, Walmartâ\\x80\\x99s not waiting unt...   \n1  ['CINCINNATI (FOX19) - If you have expired, un...   \n2  [\"Get real-time traffic data from Houston's ro...   \n3  [\"There are lots of reasons to record your scr...   \n4  ['Brandon Reid always felt like â\\x80\\x9cthe f...   \n\n                                               Image  \n0  https://img-s-msn-com.akamaized.net/tenant/amp...  \n1  https://img-s-msn-com.akamaized.net/tenant/amp...  \n2  https://img-s-msn-com.akamaized.net/tenant/amp...  \n3  https://img-s-msn-com.akamaized.net/tenant/amp...  \n4  https://img-s-msn-com.akamaized.net/tenant/amp...  ",
      "text/html": "<div>\n<style scoped>\n    .dataframe tbody tr th:only-of-type {\n        vertical-align: middle;\n    }\n\n    .dataframe tbody tr th {\n        vertical-align: top;\n    }\n\n    .dataframe thead th {\n        text-align: right;\n    }\n</style>\n<table border=\"1\" class=\"dataframe\">\n  <thead>\n    <tr style=\"text-align: right;\">\n      <th></th>\n      <th>url</th>\n      <th>nids</th>\n      <th>Title</th>\n      <th>Date</th>\n      <th>Content</th>\n      <th>Image</th>\n    </tr>\n  </thead>\n  <tbody>\n    <tr>\n      <th>0</th>\n      <td>https://assets.msn.com/labs/mind/AABmf2I.html</td>\n      <td>AABmf2I</td>\n      <td>Walmart Slashes Prices on Last-Generation iPads</td>\n      <td>2019-10-28T17:38:04Z</td>\n      <td>['This year, Walmartâ\\x80\\x99s not waiting unt...</td>\n      <td>https://img-s-msn-com.akamaized.net/tenant/amp...</td>\n    </tr>\n    <tr>\n      <th>1</th>\n      <td>https://assets.msn.com/labs/mind/AAISxPN.html</td>\n      <td>AAISxPN</td>\n      <td>Dispose of unwanted prescription drugs on Satu...</td>\n      <td>2019-10-25T17:31:42Z</td>\n      <td>['CINCINNATI (FOX19) - If you have expired, un...</td>\n      <td>https://img-s-msn-com.akamaized.net/tenant/amp...</td>\n    </tr>\n    <tr>\n      <th>2</th>\n      <td>https://assets.msn.com/labs/mind/AAEKnO1.html</td>\n      <td>AAEKnO1</td>\n      <td>Check Houston traffic map for current road con...</td>\n      <td>2019-11-26T12:55:03Z</td>\n      <td>[\"Get real-time traffic data from Houston's ro...</td>\n      <td>https://img-s-msn-com.akamaized.net/tenant/amp...</td>\n    </tr>\n    <tr>\n      <th>3</th>\n      <td>https://assets.msn.com/labs/mind/AADlomf.html</td>\n      <td>AADlomf</td>\n      <td>How to record your screen on Windows, macOS, i...</td>\n      <td>2019-11-06T16:06:25Z</td>\n      <td>[\"There are lots of reasons to record your scr...</td>\n      <td>https://img-s-msn-com.akamaized.net/tenant/amp...</td>\n    </tr>\n    <tr>\n      <th>4</th>\n      <td>https://assets.msn.com/labs/mind/AAGBR44.html</td>\n      <td>AAGBR44</td>\n      <td>This Guy Altered His Diet and Training to Drop...</td>\n      <td>2019-08-31T11:37:11Z</td>\n      <td>['Brandon Reid always felt like â\\x80\\x9cthe f...</td>\n      <td>https://img-s-msn-com.akamaized.net/tenant/amp...</td>\n    </tr>\n  </tbody>\n</table>\n</div>"
     },
     "metadata": {},
     "execution_count": 4
    }
   ],
   "source": [
    "tr1 = pd.read_csv('/Users/baeyuna/Documents/SNU_DLab/msn_BS/msn/msn_train.csv')\n",
    "print(tr1.shape)\n",
    "tr1.head()"
   ]
  },
  {
   "cell_type": "code",
   "execution_count": 6,
   "metadata": {
    "tags": []
   },
   "outputs": [
    {
     "output_type": "stream",
     "name": "stdout",
     "text": "(51278, 6)\n"
    },
    {
     "output_type": "execute_result",
     "data": {
      "text/plain": "                                             url     nids  \\\n0  https://assets.msn.com/labs/mind/AAGH0ET.html  AAGH0ET   \n1  https://assets.msn.com/labs/mind/AAB19MK.html  AAB19MK   \n2  https://assets.msn.com/labs/mind/AAJgNsz.html  AAJgNsz   \n3  https://assets.msn.com/labs/mind/AACk2N6.html  AACk2N6   \n4  https://assets.msn.com/labs/mind/AAAKEkt.html  AAAKEkt   \n\n                                               Title                  Date  \\\n0  The Brands Queen Elizabeth, Prince Charles, an...  2019-09-02T11:02:28Z   \n1                      50 Worst Habits For Belly Fat  2019-05-06T16:12:54Z   \n2  The Cost of Trumpâs Aid Freeze in the Trench...  2019-10-24T19:15:00Z   \n3  I Was An NBA Wife. Here's How It Affected My M...  2019-06-03T12:30:06Z   \n4  How to Get Rid of Skin Tags, According to a De...  2019-05-01T06:00:00Z   \n\n                                             Content  \\\n0  The royals are free to shop wherever they choo...   \n1  When you first start dieting and exercising, t...   \n2   ZOLOTE, Ukraine â Lt. Ivan Molchanets peeke...   \n3  Walking into the Bradley Center, I could feel ...   \n4   [Video by Health.com] As you get older, littl...   \n\n                                               Image  \n0  https://img-s-msn-com.akamaized.net/tenant/amp...  \n1  https://img-s-msn-com.akamaized.net/tenant/amp...  \n2  https://img-s-msn-com.akamaized.net/tenant/amp...  \n3  https://img-s-msn-com.akamaized.net/tenant/amp...  \n4                                                NaN  ",
      "text/html": "<div>\n<style scoped>\n    .dataframe tbody tr th:only-of-type {\n        vertical-align: middle;\n    }\n\n    .dataframe tbody tr th {\n        vertical-align: top;\n    }\n\n    .dataframe thead th {\n        text-align: right;\n    }\n</style>\n<table border=\"1\" class=\"dataframe\">\n  <thead>\n    <tr style=\"text-align: right;\">\n      <th></th>\n      <th>url</th>\n      <th>nids</th>\n      <th>Title</th>\n      <th>Date</th>\n      <th>Content</th>\n      <th>Image</th>\n    </tr>\n  </thead>\n  <tbody>\n    <tr>\n      <th>0</th>\n      <td>https://assets.msn.com/labs/mind/AAGH0ET.html</td>\n      <td>AAGH0ET</td>\n      <td>The Brands Queen Elizabeth, Prince Charles, an...</td>\n      <td>2019-09-02T11:02:28Z</td>\n      <td>The royals are free to shop wherever they choo...</td>\n      <td>https://img-s-msn-com.akamaized.net/tenant/amp...</td>\n    </tr>\n    <tr>\n      <th>1</th>\n      <td>https://assets.msn.com/labs/mind/AAB19MK.html</td>\n      <td>AAB19MK</td>\n      <td>50 Worst Habits For Belly Fat</td>\n      <td>2019-05-06T16:12:54Z</td>\n      <td>When you first start dieting and exercising, t...</td>\n      <td>https://img-s-msn-com.akamaized.net/tenant/amp...</td>\n    </tr>\n    <tr>\n      <th>2</th>\n      <td>https://assets.msn.com/labs/mind/AAJgNsz.html</td>\n      <td>AAJgNsz</td>\n      <td>The Cost of Trumpâs Aid Freeze in the Trench...</td>\n      <td>2019-10-24T19:15:00Z</td>\n      <td>ZOLOTE, Ukraine â Lt. Ivan Molchanets peeke...</td>\n      <td>https://img-s-msn-com.akamaized.net/tenant/amp...</td>\n    </tr>\n    <tr>\n      <th>3</th>\n      <td>https://assets.msn.com/labs/mind/AACk2N6.html</td>\n      <td>AACk2N6</td>\n      <td>I Was An NBA Wife. Here's How It Affected My M...</td>\n      <td>2019-06-03T12:30:06Z</td>\n      <td>Walking into the Bradley Center, I could feel ...</td>\n      <td>https://img-s-msn-com.akamaized.net/tenant/amp...</td>\n    </tr>\n    <tr>\n      <th>4</th>\n      <td>https://assets.msn.com/labs/mind/AAAKEkt.html</td>\n      <td>AAAKEkt</td>\n      <td>How to Get Rid of Skin Tags, According to a De...</td>\n      <td>2019-05-01T06:00:00Z</td>\n      <td>[Video by Health.com] As you get older, littl...</td>\n      <td>NaN</td>\n    </tr>\n  </tbody>\n</table>\n</div>"
     },
     "metadata": {},
     "execution_count": 6
    }
   ],
   "source": [
    "tr2 = pd.read_csv('/Users/baeyuna/Documents/SNU_DLab/msn_BS/msn/msn_train1.csv')\n",
    "print(tr2.shape)\n",
    "tr2.head()"
   ]
  },
  {
   "cell_type": "code",
   "execution_count": 7,
   "metadata": {
    "tags": []
   },
   "outputs": [
    {
     "output_type": "stream",
     "name": "stdout",
     "text": "(101521, 6)\n"
    },
    {
     "output_type": "execute_result",
     "data": {
      "text/plain": "                                             url     nids  \\\n0  https://assets.msn.com/labs/mind/AABmf2I.html  AABmf2I   \n1  https://assets.msn.com/labs/mind/AAISxPN.html  AAISxPN   \n2  https://assets.msn.com/labs/mind/AAEKnO1.html  AAEKnO1   \n3  https://assets.msn.com/labs/mind/AADlomf.html  AADlomf   \n4  https://assets.msn.com/labs/mind/AAGBR44.html  AAGBR44   \n\n                                               Title                  Date  \\\n0    Walmart Slashes Prices on Last-Generation iPads  2019-10-28T17:38:04Z   \n1  Dispose of unwanted prescription drugs on Satu...  2019-10-25T17:31:42Z   \n2  Check Houston traffic map for current road con...  2019-11-26T12:55:03Z   \n3  How to record your screen on Windows, macOS, i...  2019-11-06T16:06:25Z   \n4  This Guy Altered His Diet and Training to Drop...  2019-08-31T11:37:11Z   \n\n                                             Content  \\\n0  ['This year, Walmartâ\\x80\\x99s not waiting unt...   \n1  ['CINCINNATI (FOX19) - If you have expired, un...   \n2  [\"Get real-time traffic data from Houston's ro...   \n3  [\"There are lots of reasons to record your scr...   \n4  ['Brandon Reid always felt like â\\x80\\x9cthe f...   \n\n                                               Image  \n0  https://img-s-msn-com.akamaized.net/tenant/amp...  \n1  https://img-s-msn-com.akamaized.net/tenant/amp...  \n2  https://img-s-msn-com.akamaized.net/tenant/amp...  \n3  https://img-s-msn-com.akamaized.net/tenant/amp...  \n4  https://img-s-msn-com.akamaized.net/tenant/amp...  ",
      "text/html": "<div>\n<style scoped>\n    .dataframe tbody tr th:only-of-type {\n        vertical-align: middle;\n    }\n\n    .dataframe tbody tr th {\n        vertical-align: top;\n    }\n\n    .dataframe thead th {\n        text-align: right;\n    }\n</style>\n<table border=\"1\" class=\"dataframe\">\n  <thead>\n    <tr style=\"text-align: right;\">\n      <th></th>\n      <th>url</th>\n      <th>nids</th>\n      <th>Title</th>\n      <th>Date</th>\n      <th>Content</th>\n      <th>Image</th>\n    </tr>\n  </thead>\n  <tbody>\n    <tr>\n      <th>0</th>\n      <td>https://assets.msn.com/labs/mind/AABmf2I.html</td>\n      <td>AABmf2I</td>\n      <td>Walmart Slashes Prices on Last-Generation iPads</td>\n      <td>2019-10-28T17:38:04Z</td>\n      <td>['This year, Walmartâ\\x80\\x99s not waiting unt...</td>\n      <td>https://img-s-msn-com.akamaized.net/tenant/amp...</td>\n    </tr>\n    <tr>\n      <th>1</th>\n      <td>https://assets.msn.com/labs/mind/AAISxPN.html</td>\n      <td>AAISxPN</td>\n      <td>Dispose of unwanted prescription drugs on Satu...</td>\n      <td>2019-10-25T17:31:42Z</td>\n      <td>['CINCINNATI (FOX19) - If you have expired, un...</td>\n      <td>https://img-s-msn-com.akamaized.net/tenant/amp...</td>\n    </tr>\n    <tr>\n      <th>2</th>\n      <td>https://assets.msn.com/labs/mind/AAEKnO1.html</td>\n      <td>AAEKnO1</td>\n      <td>Check Houston traffic map for current road con...</td>\n      <td>2019-11-26T12:55:03Z</td>\n      <td>[\"Get real-time traffic data from Houston's ro...</td>\n      <td>https://img-s-msn-com.akamaized.net/tenant/amp...</td>\n    </tr>\n    <tr>\n      <th>3</th>\n      <td>https://assets.msn.com/labs/mind/AADlomf.html</td>\n      <td>AADlomf</td>\n      <td>How to record your screen on Windows, macOS, i...</td>\n      <td>2019-11-06T16:06:25Z</td>\n      <td>[\"There are lots of reasons to record your scr...</td>\n      <td>https://img-s-msn-com.akamaized.net/tenant/amp...</td>\n    </tr>\n    <tr>\n      <th>4</th>\n      <td>https://assets.msn.com/labs/mind/AAGBR44.html</td>\n      <td>AAGBR44</td>\n      <td>This Guy Altered His Diet and Training to Drop...</td>\n      <td>2019-08-31T11:37:11Z</td>\n      <td>['Brandon Reid always felt like â\\x80\\x9cthe f...</td>\n      <td>https://img-s-msn-com.akamaized.net/tenant/amp...</td>\n    </tr>\n  </tbody>\n</table>\n</div>"
     },
     "metadata": {},
     "execution_count": 7
    }
   ],
   "source": [
    "tr = pd.concat([tr1, tr2])\n",
    "print(tr.shape)\n",
    "tr.head()"
   ]
  },
  {
   "cell_type": "code",
   "execution_count": 8,
   "metadata": {},
   "outputs": [],
   "source": [
    "tr.to_csv('msn_train_all.csv', index=False)"
   ]
  },
  {
   "cell_type": "code",
   "execution_count": 36,
   "metadata": {},
   "outputs": [
    {
     "output_type": "execute_result",
     "data": {
      "text/plain": "101521"
     },
     "metadata": {},
     "execution_count": 36
    }
   ],
   "source": [
    "tr['url'].nunique()"
   ]
  },
  {
   "cell_type": "code",
   "execution_count": 14,
   "metadata": {},
   "outputs": [
    {
     "output_type": "execute_result",
     "data": {
      "text/plain": "101521"
     },
     "metadata": {},
     "execution_count": 14
    }
   ],
   "source": [
    "tr_urls = tr.loc[:,'url'].tolist()\n",
    "len(tr_urls)"
   ]
  },
  {
   "cell_type": "code",
   "execution_count": 12,
   "metadata": {},
   "outputs": [
    {
     "output_type": "execute_result",
     "data": {
      "text/plain": "101527"
     },
     "metadata": {},
     "execution_count": 12
    }
   ],
   "source": [
    "ori_train = pd.read_csv('/Users/baeyuna/Documents/SNU_Dlab/Data/MINDlarge_train/news.tsv', delimiter='\\t', header=None)\n",
    "ori_tr_urls = ori_train.iloc[:,5].tolist()\n",
    "len(ori_tr_urls)"
   ]
  },
  {
   "cell_type": "code",
   "execution_count": 15,
   "metadata": {},
   "outputs": [
    {
     "output_type": "execute_result",
     "data": {
      "text/plain": "6"
     },
     "metadata": {},
     "execution_count": 15
    }
   ],
   "source": [
    "not_url = []\n",
    "for url in ori_tr_urls:\n",
    "    if url not in tr_urls:\n",
    "        not_url.append(url)\n",
    "\n",
    "len(not_url)  "
   ]
  },
  {
   "cell_type": "code",
   "execution_count": 20,
   "metadata": {},
   "outputs": [
    {
     "output_type": "execute_result",
     "data": {
      "text/plain": "'[]'"
     },
     "metadata": {},
     "execution_count": 20
    }
   ],
   "source": [
    "not_url[0]"
   ]
  },
  {
   "cell_type": "markdown",
   "metadata": {},
   "source": [
    "# url이 정상적이지 않은 값"
   ]
  },
  {
   "cell_type": "markdown",
   "metadata": {},
   "source": [
    "## train 링크 이상한값"
   ]
  },
  {
   "cell_type": "code",
   "execution_count": 23,
   "metadata": {},
   "outputs": [
    {
     "output_type": "execute_result",
     "data": {
      "text/plain": "              0          1                                2  \\\n4664    N110434  lifestyle  lifestylefamilyandrelationships   \n38162    N74207    finance                    finance-video   \n46236   N113363     sports                     football_nfl   \n48766   N118418       news                           newsus   \n63749   N102010       news                           newsus   \n100955   N45635      video                             news   \n\n                                                        3  \\\n4664             The 50 Most Common Last Names in America   \n38162   The Price You Pay: The spiraling cost of colle...   \n46236   Baker Mayfield injury update: 'No doubt' Brown...   \n48766   The security has been stepped up': Forest Park...   \n63749   [We] walk dogs and pick up poo for free | Why ...   \n100955  Transcripts highlight Sean Hannity's political...   \n\n                                                        4  \\\n4664    What's in a name?\\thttps://assets.msn.com/labs...   \n38162       https://assets.msn.com/labs/mind/AAIKUGl.html   \n46236   He'll be in better shape physically and he'll ...   \n48766       https://assets.msn.com/labs/mind/AAJncPt.html   \n63749       https://assets.msn.com/labs/mind/AAJUQ4w.html   \n100955  We're seeing really disturbing things coming o...   \n\n                                                        5  \\\n4664                                                   []   \n38162                                                  []   \n46236   [{\"Label\": \"Freddie Kitchens\", \"Type\": \"P\", \"W...   \n48766   [{\"Label\": \"Forest Park\\u2013DeBaliviere stati...   \n63749   [{\"Label\": \"Animal control service\", \"Type\": \"...   \n100955  [{\"Label\": \"Sean Hannity\", \"Type\": \"P\", \"Wikid...   \n\n                                                        6    7  \n4664                                                  NaN  NaN  \n38162                                                  []  NaN  \n46236                                                 NaN  NaN  \n48766   [{\"Label\": \"St. Louis\", \"Type\": \"G\", \"Wikidata...  NaN  \n63749   [{\"Label\": \"Animal control service\", \"Type\": \"...  NaN  \n100955                                                NaN  NaN  ",
      "text/html": "<div>\n<style scoped>\n    .dataframe tbody tr th:only-of-type {\n        vertical-align: middle;\n    }\n\n    .dataframe tbody tr th {\n        vertical-align: top;\n    }\n\n    .dataframe thead th {\n        text-align: right;\n    }\n</style>\n<table border=\"1\" class=\"dataframe\">\n  <thead>\n    <tr style=\"text-align: right;\">\n      <th></th>\n      <th>0</th>\n      <th>1</th>\n      <th>2</th>\n      <th>3</th>\n      <th>4</th>\n      <th>5</th>\n      <th>6</th>\n      <th>7</th>\n    </tr>\n  </thead>\n  <tbody>\n    <tr>\n      <th>4664</th>\n      <td>N110434</td>\n      <td>lifestyle</td>\n      <td>lifestylefamilyandrelationships</td>\n      <td>The 50 Most Common Last Names in America</td>\n      <td>What's in a name?\\thttps://assets.msn.com/labs...</td>\n      <td>[]</td>\n      <td>NaN</td>\n      <td>NaN</td>\n    </tr>\n    <tr>\n      <th>38162</th>\n      <td>N74207</td>\n      <td>finance</td>\n      <td>finance-video</td>\n      <td>The Price You Pay: The spiraling cost of colle...</td>\n      <td>https://assets.msn.com/labs/mind/AAIKUGl.html</td>\n      <td>[]</td>\n      <td>[]</td>\n      <td>NaN</td>\n    </tr>\n    <tr>\n      <th>46236</th>\n      <td>N113363</td>\n      <td>sports</td>\n      <td>football_nfl</td>\n      <td>Baker Mayfield injury update: 'No doubt' Brown...</td>\n      <td>He'll be in better shape physically and he'll ...</td>\n      <td>[{\"Label\": \"Freddie Kitchens\", \"Type\": \"P\", \"W...</td>\n      <td>NaN</td>\n      <td>NaN</td>\n    </tr>\n    <tr>\n      <th>48766</th>\n      <td>N118418</td>\n      <td>news</td>\n      <td>newsus</td>\n      <td>The security has been stepped up': Forest Park...</td>\n      <td>https://assets.msn.com/labs/mind/AAJncPt.html</td>\n      <td>[{\"Label\": \"Forest Park\\u2013DeBaliviere stati...</td>\n      <td>[{\"Label\": \"St. Louis\", \"Type\": \"G\", \"Wikidata...</td>\n      <td>NaN</td>\n    </tr>\n    <tr>\n      <th>63749</th>\n      <td>N102010</td>\n      <td>news</td>\n      <td>newsus</td>\n      <td>[We] walk dogs and pick up poo for free | Why ...</td>\n      <td>https://assets.msn.com/labs/mind/AAJUQ4w.html</td>\n      <td>[{\"Label\": \"Animal control service\", \"Type\": \"...</td>\n      <td>[{\"Label\": \"Animal control service\", \"Type\": \"...</td>\n      <td>NaN</td>\n    </tr>\n    <tr>\n      <th>100955</th>\n      <td>N45635</td>\n      <td>video</td>\n      <td>news</td>\n      <td>Transcripts highlight Sean Hannity's political...</td>\n      <td>We're seeing really disturbing things coming o...</td>\n      <td>[{\"Label\": \"Sean Hannity\", \"Type\": \"P\", \"Wikid...</td>\n      <td>NaN</td>\n      <td>NaN</td>\n    </tr>\n  </tbody>\n</table>\n</div>"
     },
     "metadata": {},
     "execution_count": 23
    }
   ],
   "source": [
    "ori_train.loc[ori_train[5].isin(not_url)]"
   ]
  },
  {
   "cell_type": "code",
   "execution_count": 43,
   "metadata": {},
   "outputs": [
    {
     "output_type": "execute_result",
     "data": {
      "text/plain": "72023"
     },
     "metadata": {},
     "execution_count": 43
    }
   ],
   "source": [
    "dev_urls = dev.loc[:,'url'].tolist()\n",
    "\n",
    "ori_dev = pd.read_csv('/Users/baeyuna/Documents/SNU_Dlab/Data/MINDlarge_dev/news.tsv', delimiter='\\t', header=None)\n",
    "ori_dev_urls = ori_dev.iloc[:,5].tolist()\n",
    "len(ori_dev_urls)"
   ]
  },
  {
   "cell_type": "code",
   "execution_count": 44,
   "metadata": {},
   "outputs": [
    {
     "output_type": "execute_result",
     "data": {
      "text/plain": "5"
     },
     "metadata": {},
     "execution_count": 44
    }
   ],
   "source": [
    "except_url_dev = []\n",
    "for url in ori_dev_urls:\n",
    "    if url not in dev_urls:\n",
    "        except_url_dev.append(url)\n",
    "\n",
    "len(except_url_dev) "
   ]
  },
  {
   "cell_type": "code",
   "execution_count": 45,
   "metadata": {},
   "outputs": [
    {
     "output_type": "execute_result",
     "data": {
      "text/plain": "['[]',\n '[]',\n '[{\"Label\": \"Freddie Kitchens\", \"Type\": \"P\", \"WikidataId\": \"Q5496752\", \"Confidence\": 1.0, \"OccurrenceOffsets\": [90], \"SurfaceForms\": [\"Freddie Kitchens\"]}, {\"Label\": \"Baker Mayfield\", \"Type\": \"P\", \"WikidataId\": \"Q14950655\", \"Confidence\": 1.0, \"OccurrenceOffsets\": [115], \"SurfaceForms\": [\"Mayfield\"]}]',\n '[{\"Label\": \"Forest Park\\\\u2013DeBaliviere station\", \"Type\": \"F\", \"WikidataId\": \"Q5469071\", \"Confidence\": 1.0, \"OccurrenceOffsets\": [36], \"SurfaceForms\": [\"Forest Park Debaliviere\"]}]',\n '[{\"Label\": \"Animal control service\", \"Type\": \"U\", \"WikidataId\": \"Q3289646\", \"Confidence\": 1.0, \"OccurrenceOffsets\": [51], \"SurfaceForms\": [\"animal control\"]}]']"
     },
     "metadata": {},
     "execution_count": 45
    }
   ],
   "source": [
    "except_url_dev"
   ]
  },
  {
   "cell_type": "markdown",
   "metadata": {},
   "source": [
    "## dev 링크 이상한 값"
   ]
  },
  {
   "cell_type": "code",
   "execution_count": 39,
   "metadata": {},
   "outputs": [
    {
     "output_type": "execute_result",
     "data": {
      "text/plain": "             0          1                                2  \\\n3932   N110434  lifestyle  lifestylefamilyandrelationships   \n31636   N74207    finance                    finance-video   \n38358  N113363     sports                     football_nfl   \n40467  N118418       news                           newsus   \n52863  N102010       news                           newsus   \n\n                                                       3  \\\n3932            The 50 Most Common Last Names in America   \n31636  The Price You Pay: The spiraling cost of colle...   \n38358  Baker Mayfield injury update: 'No doubt' Brown...   \n40467  The security has been stepped up': Forest Park...   \n52863  [We] walk dogs and pick up poo for free | Why ...   \n\n                                                       4  \\\n3932   What's in a name?\\thttps://assets.msn.com/labs...   \n31636      https://assets.msn.com/labs/mind/AAIKUGl.html   \n38358  He'll be in better shape physically and he'll ...   \n40467      https://assets.msn.com/labs/mind/AAJncPt.html   \n52863      https://assets.msn.com/labs/mind/AAJUQ4w.html   \n\n                                                       5  \\\n3932                                                  []   \n31636                                                 []   \n38358  [{\"Label\": \"Freddie Kitchens\", \"Type\": \"P\", \"W...   \n40467  [{\"Label\": \"Forest Park\\u2013DeBaliviere stati...   \n52863  [{\"Label\": \"Animal control service\", \"Type\": \"...   \n\n                                                       6    7  \n3932                                                 NaN  NaN  \n31636                                                 []  NaN  \n38358                                                NaN  NaN  \n40467  [{\"Label\": \"St. Louis\", \"Type\": \"G\", \"Wikidata...  NaN  \n52863  [{\"Label\": \"Animal control service\", \"Type\": \"...  NaN  ",
      "text/html": "<div>\n<style scoped>\n    .dataframe tbody tr th:only-of-type {\n        vertical-align: middle;\n    }\n\n    .dataframe tbody tr th {\n        vertical-align: top;\n    }\n\n    .dataframe thead th {\n        text-align: right;\n    }\n</style>\n<table border=\"1\" class=\"dataframe\">\n  <thead>\n    <tr style=\"text-align: right;\">\n      <th></th>\n      <th>0</th>\n      <th>1</th>\n      <th>2</th>\n      <th>3</th>\n      <th>4</th>\n      <th>5</th>\n      <th>6</th>\n      <th>7</th>\n    </tr>\n  </thead>\n  <tbody>\n    <tr>\n      <th>3932</th>\n      <td>N110434</td>\n      <td>lifestyle</td>\n      <td>lifestylefamilyandrelationships</td>\n      <td>The 50 Most Common Last Names in America</td>\n      <td>What's in a name?\\thttps://assets.msn.com/labs...</td>\n      <td>[]</td>\n      <td>NaN</td>\n      <td>NaN</td>\n    </tr>\n    <tr>\n      <th>31636</th>\n      <td>N74207</td>\n      <td>finance</td>\n      <td>finance-video</td>\n      <td>The Price You Pay: The spiraling cost of colle...</td>\n      <td>https://assets.msn.com/labs/mind/AAIKUGl.html</td>\n      <td>[]</td>\n      <td>[]</td>\n      <td>NaN</td>\n    </tr>\n    <tr>\n      <th>38358</th>\n      <td>N113363</td>\n      <td>sports</td>\n      <td>football_nfl</td>\n      <td>Baker Mayfield injury update: 'No doubt' Brown...</td>\n      <td>He'll be in better shape physically and he'll ...</td>\n      <td>[{\"Label\": \"Freddie Kitchens\", \"Type\": \"P\", \"W...</td>\n      <td>NaN</td>\n      <td>NaN</td>\n    </tr>\n    <tr>\n      <th>40467</th>\n      <td>N118418</td>\n      <td>news</td>\n      <td>newsus</td>\n      <td>The security has been stepped up': Forest Park...</td>\n      <td>https://assets.msn.com/labs/mind/AAJncPt.html</td>\n      <td>[{\"Label\": \"Forest Park\\u2013DeBaliviere stati...</td>\n      <td>[{\"Label\": \"St. Louis\", \"Type\": \"G\", \"Wikidata...</td>\n      <td>NaN</td>\n    </tr>\n    <tr>\n      <th>52863</th>\n      <td>N102010</td>\n      <td>news</td>\n      <td>newsus</td>\n      <td>[We] walk dogs and pick up poo for free | Why ...</td>\n      <td>https://assets.msn.com/labs/mind/AAJUQ4w.html</td>\n      <td>[{\"Label\": \"Animal control service\", \"Type\": \"...</td>\n      <td>[{\"Label\": \"Animal control service\", \"Type\": \"...</td>\n      <td>NaN</td>\n    </tr>\n  </tbody>\n</table>\n</div>"
     },
     "metadata": {},
     "execution_count": 39
    }
   ],
   "source": [
    "dev.loc[dev[5].isin(except_url_dev)]"
   ]
  },
  {
   "cell_type": "code",
   "execution_count": null,
   "metadata": {},
   "outputs": [],
   "source": []
  }
 ],
 "metadata": {
  "language_info": {
   "codemirror_mode": {
    "name": "ipython",
    "version": 3
   },
   "file_extension": ".py",
   "mimetype": "text/x-python",
   "name": "python",
   "nbconvert_exporter": "python",
   "pygments_lexer": "ipython3",
   "version": 3
  },
  "orig_nbformat": 2,
  "kernelspec": {
   "name": "python_defaultSpec_1596410943759",
   "display_name": "Python 3.7.6 64-bit ('base': conda)"
  }
 },
 "nbformat": 4,
 "nbformat_minor": 2
}