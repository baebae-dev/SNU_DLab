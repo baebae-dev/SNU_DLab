{
 "cells": [
  {
   "cell_type": "markdown",
   "metadata": {},
   "source": [
    "# 1. 예외처리 된 데이터 추가 수집"
   ]
  },
  {
   "cell_type": "markdown",
   "metadata": {},
   "source": [
    "# Dev"
   ]
  },
  {
   "cell_type": "code",
   "execution_count": 1,
   "metadata": {},
   "outputs": [],
   "source": [
    "import pandas as pd \n",
    "from tqdm import tqdm"
   ]
  },
  {
   "cell_type": "code",
   "execution_count": 2,
   "metadata": {
    "tags": []
   },
   "outputs": [
    {
     "output_type": "stream",
     "name": "stdout",
     "text": "(42414, 6)\n"
    },
    {
     "output_type": "execute_result",
     "data": {
      "text/plain": "                                             url     nids  \\\n0  https://assets.msn.com/labs/mind/AAGH0ET.html  AAGH0ET   \n1  https://assets.msn.com/labs/mind/AAISxPN.html  AAISxPN   \n2  https://assets.msn.com/labs/mind/AAJgNsz.html  AAJgNsz   \n3  https://assets.msn.com/labs/mind/AACk2N6.html  AACk2N6   \n4  https://assets.msn.com/labs/mind/AAAKEkt.html  AAAKEkt   \n\n                                               Title                  Date  \\\n0  The Brands Queen Elizabeth, Prince Charles, an...  2019-09-02T11:02:28Z   \n1  Dispose of unwanted prescription drugs on Satu...  2019-10-25T17:31:42Z   \n2  The Cost of Trumpâs Aid Freeze in the Trench...  2019-10-24T19:15:00Z   \n3  I Was An NBA Wife. Here's How It Affected My M...  2019-06-03T12:30:06Z   \n4  How to Get Rid of Skin Tags, According to a De...  2019-05-01T06:00:00Z   \n\n                                             Content  \\\n0  The royals are free to shop wherever they choo...   \n1  CINCINNATI (FOX19) - If you have expired, unus...   \n2   ZOLOTE, Ukraine â Lt. Ivan Molchanets peeke...   \n3  Walking into the Bradley Center, I could feel ...   \n4   [Video by Health.com] As you get older, littl...   \n\n                                               Image  \n0  https://img-s-msn-com.akamaized.net/tenant/amp...  \n1  https://img-s-msn-com.akamaized.net/tenant/amp...  \n2  https://img-s-msn-com.akamaized.net/tenant/amp...  \n3  https://img-s-msn-com.akamaized.net/tenant/amp...  \n4                                                NaN  ",
      "text/html": "<div>\n<style scoped>\n    .dataframe tbody tr th:only-of-type {\n        vertical-align: middle;\n    }\n\n    .dataframe tbody tr th {\n        vertical-align: top;\n    }\n\n    .dataframe thead th {\n        text-align: right;\n    }\n</style>\n<table border=\"1\" class=\"dataframe\">\n  <thead>\n    <tr style=\"text-align: right;\">\n      <th></th>\n      <th>url</th>\n      <th>nids</th>\n      <th>Title</th>\n      <th>Date</th>\n      <th>Content</th>\n      <th>Image</th>\n    </tr>\n  </thead>\n  <tbody>\n    <tr>\n      <th>0</th>\n      <td>https://assets.msn.com/labs/mind/AAGH0ET.html</td>\n      <td>AAGH0ET</td>\n      <td>The Brands Queen Elizabeth, Prince Charles, an...</td>\n      <td>2019-09-02T11:02:28Z</td>\n      <td>The royals are free to shop wherever they choo...</td>\n      <td>https://img-s-msn-com.akamaized.net/tenant/amp...</td>\n    </tr>\n    <tr>\n      <th>1</th>\n      <td>https://assets.msn.com/labs/mind/AAISxPN.html</td>\n      <td>AAISxPN</td>\n      <td>Dispose of unwanted prescription drugs on Satu...</td>\n      <td>2019-10-25T17:31:42Z</td>\n      <td>CINCINNATI (FOX19) - If you have expired, unus...</td>\n      <td>https://img-s-msn-com.akamaized.net/tenant/amp...</td>\n    </tr>\n    <tr>\n      <th>2</th>\n      <td>https://assets.msn.com/labs/mind/AAJgNsz.html</td>\n      <td>AAJgNsz</td>\n      <td>The Cost of Trumpâs Aid Freeze in the Trench...</td>\n      <td>2019-10-24T19:15:00Z</td>\n      <td>ZOLOTE, Ukraine â Lt. Ivan Molchanets peeke...</td>\n      <td>https://img-s-msn-com.akamaized.net/tenant/amp...</td>\n    </tr>\n    <tr>\n      <th>3</th>\n      <td>https://assets.msn.com/labs/mind/AACk2N6.html</td>\n      <td>AACk2N6</td>\n      <td>I Was An NBA Wife. Here's How It Affected My M...</td>\n      <td>2019-06-03T12:30:06Z</td>\n      <td>Walking into the Bradley Center, I could feel ...</td>\n      <td>https://img-s-msn-com.akamaized.net/tenant/amp...</td>\n    </tr>\n    <tr>\n      <th>4</th>\n      <td>https://assets.msn.com/labs/mind/AAAKEkt.html</td>\n      <td>AAAKEkt</td>\n      <td>How to Get Rid of Skin Tags, According to a De...</td>\n      <td>2019-05-01T06:00:00Z</td>\n      <td>[Video by Health.com] As you get older, littl...</td>\n      <td>NaN</td>\n    </tr>\n  </tbody>\n</table>\n</div>"
     },
     "metadata": {},
     "execution_count": 2
    }
   ],
   "source": [
    "dev1 = pd.read_csv('/Users/baeyuna/Documents/SNU_DLab/msn_BS/msn/msn_dev.csv')\n",
    "print(dev1.shape)\n",
    "dev1.head()"
   ]
  },
  {
   "cell_type": "code",
   "execution_count": 3,
   "metadata": {
    "tags": []
   },
   "outputs": [
    {
     "output_type": "stream",
     "name": "stdout",
     "text": "(29604, 6)\n"
    },
    {
     "output_type": "execute_result",
     "data": {
      "text/plain": "                                             url     nids  \\\n0  https://assets.msn.com/labs/mind/AAB19MK.html  AAB19MK   \n1  https://assets.msn.com/labs/mind/AAEKnO1.html  AAEKnO1   \n2  https://assets.msn.com/labs/mind/AAElNsz.html  AAElNsz   \n3  https://assets.msn.com/labs/mind/AAEvtb9.html  AAEvtb9   \n4  https://assets.msn.com/labs/mind/AADm4XB.html  AADm4XB   \n\n                                               Title                  Date  \\\n0                      50 Worst Habits For Belly Fat  2019-05-06T16:12:54Z   \n1  Check Houston traffic map for current road con...  2019-11-26T12:55:03Z   \n2  How to talk about your sex life with your partner  2019-07-15T12:30:59Z   \n3  My Corvette Moment? When I Took the Mighty ZR1...  2019-07-18T08:00:43Z   \n4  The Biggest Mental and Physical Benefits of Wo...  2018-06-25T19:42:03Z   \n\n                                             Content  \\\n0  ['When you first start dieting and exercising,...   \n1  [\"Get real-time traffic data from Houston's ro...   \n2  ['Trouble in paradise? Going through a dry pat...   \n3  [\"It's fitting the C8 Corvette graces the cove...   \n4  [\"We've got some happy news that will rev up y...   \n\n                                               Image  \n0  https://img-s-msn-com.akamaized.net/tenant/amp...  \n1  https://img-s-msn-com.akamaized.net/tenant/amp...  \n2  https://img-s-msn-com.akamaized.net/tenant/amp...  \n3                                                NaN  \n4  https://img-s-msn-com.akamaized.net/tenant/amp...  ",
      "text/html": "<div>\n<style scoped>\n    .dataframe tbody tr th:only-of-type {\n        vertical-align: middle;\n    }\n\n    .dataframe tbody tr th {\n        vertical-align: top;\n    }\n\n    .dataframe thead th {\n        text-align: right;\n    }\n</style>\n<table border=\"1\" class=\"dataframe\">\n  <thead>\n    <tr style=\"text-align: right;\">\n      <th></th>\n      <th>url</th>\n      <th>nids</th>\n      <th>Title</th>\n      <th>Date</th>\n      <th>Content</th>\n      <th>Image</th>\n    </tr>\n  </thead>\n  <tbody>\n    <tr>\n      <th>0</th>\n      <td>https://assets.msn.com/labs/mind/AAB19MK.html</td>\n      <td>AAB19MK</td>\n      <td>50 Worst Habits For Belly Fat</td>\n      <td>2019-05-06T16:12:54Z</td>\n      <td>['When you first start dieting and exercising,...</td>\n      <td>https://img-s-msn-com.akamaized.net/tenant/amp...</td>\n    </tr>\n    <tr>\n      <th>1</th>\n      <td>https://assets.msn.com/labs/mind/AAEKnO1.html</td>\n      <td>AAEKnO1</td>\n      <td>Check Houston traffic map for current road con...</td>\n      <td>2019-11-26T12:55:03Z</td>\n      <td>[\"Get real-time traffic data from Houston's ro...</td>\n      <td>https://img-s-msn-com.akamaized.net/tenant/amp...</td>\n    </tr>\n    <tr>\n      <th>2</th>\n      <td>https://assets.msn.com/labs/mind/AAElNsz.html</td>\n      <td>AAElNsz</td>\n      <td>How to talk about your sex life with your partner</td>\n      <td>2019-07-15T12:30:59Z</td>\n      <td>['Trouble in paradise? Going through a dry pat...</td>\n      <td>https://img-s-msn-com.akamaized.net/tenant/amp...</td>\n    </tr>\n    <tr>\n      <th>3</th>\n      <td>https://assets.msn.com/labs/mind/AAEvtb9.html</td>\n      <td>AAEvtb9</td>\n      <td>My Corvette Moment? When I Took the Mighty ZR1...</td>\n      <td>2019-07-18T08:00:43Z</td>\n      <td>[\"It's fitting the C8 Corvette graces the cove...</td>\n      <td>NaN</td>\n    </tr>\n    <tr>\n      <th>4</th>\n      <td>https://assets.msn.com/labs/mind/AADm4XB.html</td>\n      <td>AADm4XB</td>\n      <td>The Biggest Mental and Physical Benefits of Wo...</td>\n      <td>2018-06-25T19:42:03Z</td>\n      <td>[\"We've got some happy news that will rev up y...</td>\n      <td>https://img-s-msn-com.akamaized.net/tenant/amp...</td>\n    </tr>\n  </tbody>\n</table>\n</div>"
     },
     "metadata": {},
     "execution_count": 3
    }
   ],
   "source": [
    "dev2 = pd.read_csv('/Users/baeyuna/Documents/SNU_DLab/msn_BS/msn/msn_dev1.csv')\n",
    "print(dev2.shape)\n",
    "dev2.head()"
   ]
  },
  {
   "cell_type": "code",
   "execution_count": 4,
   "metadata": {
    "tags": []
   },
   "outputs": [
    {
     "output_type": "stream",
     "name": "stdout",
     "text": "(72018, 6)\n"
    },
    {
     "output_type": "execute_result",
     "data": {
      "text/plain": "                                             url     nids  \\\n0  https://assets.msn.com/labs/mind/AAGH0ET.html  AAGH0ET   \n1  https://assets.msn.com/labs/mind/AAISxPN.html  AAISxPN   \n2  https://assets.msn.com/labs/mind/AAJgNsz.html  AAJgNsz   \n3  https://assets.msn.com/labs/mind/AACk2N6.html  AACk2N6   \n4  https://assets.msn.com/labs/mind/AAAKEkt.html  AAAKEkt   \n\n                                               Title                  Date  \\\n0  The Brands Queen Elizabeth, Prince Charles, an...  2019-09-02T11:02:28Z   \n1  Dispose of unwanted prescription drugs on Satu...  2019-10-25T17:31:42Z   \n2  The Cost of Trumpâs Aid Freeze in the Trench...  2019-10-24T19:15:00Z   \n3  I Was An NBA Wife. Here's How It Affected My M...  2019-06-03T12:30:06Z   \n4  How to Get Rid of Skin Tags, According to a De...  2019-05-01T06:00:00Z   \n\n                                             Content  \\\n0  The royals are free to shop wherever they choo...   \n1  CINCINNATI (FOX19) - If you have expired, unus...   \n2   ZOLOTE, Ukraine â Lt. Ivan Molchanets peeke...   \n3  Walking into the Bradley Center, I could feel ...   \n4   [Video by Health.com] As you get older, littl...   \n\n                                               Image  \n0  https://img-s-msn-com.akamaized.net/tenant/amp...  \n1  https://img-s-msn-com.akamaized.net/tenant/amp...  \n2  https://img-s-msn-com.akamaized.net/tenant/amp...  \n3  https://img-s-msn-com.akamaized.net/tenant/amp...  \n4                                                NaN  ",
      "text/html": "<div>\n<style scoped>\n    .dataframe tbody tr th:only-of-type {\n        vertical-align: middle;\n    }\n\n    .dataframe tbody tr th {\n        vertical-align: top;\n    }\n\n    .dataframe thead th {\n        text-align: right;\n    }\n</style>\n<table border=\"1\" class=\"dataframe\">\n  <thead>\n    <tr style=\"text-align: right;\">\n      <th></th>\n      <th>url</th>\n      <th>nids</th>\n      <th>Title</th>\n      <th>Date</th>\n      <th>Content</th>\n      <th>Image</th>\n    </tr>\n  </thead>\n  <tbody>\n    <tr>\n      <th>0</th>\n      <td>https://assets.msn.com/labs/mind/AAGH0ET.html</td>\n      <td>AAGH0ET</td>\n      <td>The Brands Queen Elizabeth, Prince Charles, an...</td>\n      <td>2019-09-02T11:02:28Z</td>\n      <td>The royals are free to shop wherever they choo...</td>\n      <td>https://img-s-msn-com.akamaized.net/tenant/amp...</td>\n    </tr>\n    <tr>\n      <th>1</th>\n      <td>https://assets.msn.com/labs/mind/AAISxPN.html</td>\n      <td>AAISxPN</td>\n      <td>Dispose of unwanted prescription drugs on Satu...</td>\n      <td>2019-10-25T17:31:42Z</td>\n      <td>CINCINNATI (FOX19) - If you have expired, unus...</td>\n      <td>https://img-s-msn-com.akamaized.net/tenant/amp...</td>\n    </tr>\n    <tr>\n      <th>2</th>\n      <td>https://assets.msn.com/labs/mind/AAJgNsz.html</td>\n      <td>AAJgNsz</td>\n      <td>The Cost of Trumpâs Aid Freeze in the Trench...</td>\n      <td>2019-10-24T19:15:00Z</td>\n      <td>ZOLOTE, Ukraine â Lt. Ivan Molchanets peeke...</td>\n      <td>https://img-s-msn-com.akamaized.net/tenant/amp...</td>\n    </tr>\n    <tr>\n      <th>3</th>\n      <td>https://assets.msn.com/labs/mind/AACk2N6.html</td>\n      <td>AACk2N6</td>\n      <td>I Was An NBA Wife. Here's How It Affected My M...</td>\n      <td>2019-06-03T12:30:06Z</td>\n      <td>Walking into the Bradley Center, I could feel ...</td>\n      <td>https://img-s-msn-com.akamaized.net/tenant/amp...</td>\n    </tr>\n    <tr>\n      <th>4</th>\n      <td>https://assets.msn.com/labs/mind/AAAKEkt.html</td>\n      <td>AAAKEkt</td>\n      <td>How to Get Rid of Skin Tags, According to a De...</td>\n      <td>2019-05-01T06:00:00Z</td>\n      <td>[Video by Health.com] As you get older, littl...</td>\n      <td>NaN</td>\n    </tr>\n  </tbody>\n</table>\n</div>"
     },
     "metadata": {},
     "execution_count": 4
    }
   ],
   "source": [
    "dev = pd.concat([dev1, dev2])\n",
    "print(dev.shape)\n",
    "dev.head() "
   ]
  },
  {
   "cell_type": "code",
   "execution_count": 5,
   "metadata": {},
   "outputs": [
    {
     "output_type": "execute_result",
     "data": {
      "text/plain": "72018"
     },
     "metadata": {},
     "execution_count": 5
    }
   ],
   "source": [
    "dev['url'].nunique() # 5개 제외 "
   ]
  },
  {
   "cell_type": "code",
   "execution_count": 7,
   "metadata": {},
   "outputs": [],
   "source": [
    "dev.to_csv('msn_dev_all.csv', index=False)"
   ]
  },
  {
   "cell_type": "markdown",
   "metadata": {},
   "source": [
    "# Train"
   ]
  },
  {
   "cell_type": "code",
   "execution_count": 4,
   "metadata": {
    "tags": []
   },
   "outputs": [
    {
     "output_type": "stream",
     "name": "stdout",
     "text": "(50243, 6)\n"
    },
    {
     "output_type": "execute_result",
     "data": {
      "text/plain": "                                             url     nids  \\\n0  https://assets.msn.com/labs/mind/AABmf2I.html  AABmf2I   \n1  https://assets.msn.com/labs/mind/AAISxPN.html  AAISxPN   \n2  https://assets.msn.com/labs/mind/AAEKnO1.html  AAEKnO1   \n3  https://assets.msn.com/labs/mind/AADlomf.html  AADlomf   \n4  https://assets.msn.com/labs/mind/AAGBR44.html  AAGBR44   \n\n                                               Title                  Date  \\\n0    Walmart Slashes Prices on Last-Generation iPads  2019-10-28T17:38:04Z   \n1  Dispose of unwanted prescription drugs on Satu...  2019-10-25T17:31:42Z   \n2  Check Houston traffic map for current road con...  2019-11-26T12:55:03Z   \n3  How to record your screen on Windows, macOS, i...  2019-11-06T16:06:25Z   \n4  This Guy Altered His Diet and Training to Drop...  2019-08-31T11:37:11Z   \n\n                                             Content  \\\n0  ['This year, Walmartâ\\x80\\x99s not waiting unt...   \n1  ['CINCINNATI (FOX19) - If you have expired, un...   \n2  [\"Get real-time traffic data from Houston's ro...   \n3  [\"There are lots of reasons to record your scr...   \n4  ['Brandon Reid always felt like â\\x80\\x9cthe f...   \n\n                                               Image  \n0  https://img-s-msn-com.akamaized.net/tenant/amp...  \n1  https://img-s-msn-com.akamaized.net/tenant/amp...  \n2  https://img-s-msn-com.akamaized.net/tenant/amp...  \n3  https://img-s-msn-com.akamaized.net/tenant/amp...  \n4  https://img-s-msn-com.akamaized.net/tenant/amp...  ",
      "text/html": "<div>\n<style scoped>\n    .dataframe tbody tr th:only-of-type {\n        vertical-align: middle;\n    }\n\n    .dataframe tbody tr th {\n        vertical-align: top;\n    }\n\n    .dataframe thead th {\n        text-align: right;\n    }\n</style>\n<table border=\"1\" class=\"dataframe\">\n  <thead>\n    <tr style=\"text-align: right;\">\n      <th></th>\n      <th>url</th>\n      <th>nids</th>\n      <th>Title</th>\n      <th>Date</th>\n      <th>Content</th>\n      <th>Image</th>\n    </tr>\n  </thead>\n  <tbody>\n    <tr>\n      <th>0</th>\n      <td>https://assets.msn.com/labs/mind/AABmf2I.html</td>\n      <td>AABmf2I</td>\n      <td>Walmart Slashes Prices on Last-Generation iPads</td>\n      <td>2019-10-28T17:38:04Z</td>\n      <td>['This year, Walmartâ\\x80\\x99s not waiting unt...</td>\n      <td>https://img-s-msn-com.akamaized.net/tenant/amp...</td>\n    </tr>\n    <tr>\n      <th>1</th>\n      <td>https://assets.msn.com/labs/mind/AAISxPN.html</td>\n      <td>AAISxPN</td>\n      <td>Dispose of unwanted prescription drugs on Satu...</td>\n      <td>2019-10-25T17:31:42Z</td>\n      <td>['CINCINNATI (FOX19) - If you have expired, un...</td>\n      <td>https://img-s-msn-com.akamaized.net/tenant/amp...</td>\n    </tr>\n    <tr>\n      <th>2</th>\n      <td>https://assets.msn.com/labs/mind/AAEKnO1.html</td>\n      <td>AAEKnO1</td>\n      <td>Check Houston traffic map for current road con...</td>\n      <td>2019-11-26T12:55:03Z</td>\n      <td>[\"Get real-time traffic data from Houston's ro...</td>\n      <td>https://img-s-msn-com.akamaized.net/tenant/amp...</td>\n    </tr>\n    <tr>\n      <th>3</th>\n      <td>https://assets.msn.com/labs/mind/AADlomf.html</td>\n      <td>AADlomf</td>\n      <td>How to record your screen on Windows, macOS, i...</td>\n      <td>2019-11-06T16:06:25Z</td>\n      <td>[\"There are lots of reasons to record your scr...</td>\n      <td>https://img-s-msn-com.akamaized.net/tenant/amp...</td>\n    </tr>\n    <tr>\n      <th>4</th>\n      <td>https://assets.msn.com/labs/mind/AAGBR44.html</td>\n      <td>AAGBR44</td>\n      <td>This Guy Altered His Diet and Training to Drop...</td>\n      <td>2019-08-31T11:37:11Z</td>\n      <td>['Brandon Reid always felt like â\\x80\\x9cthe f...</td>\n      <td>https://img-s-msn-com.akamaized.net/tenant/amp...</td>\n    </tr>\n  </tbody>\n</table>\n</div>"
     },
     "metadata": {},
     "execution_count": 4
    }
   ],
   "source": [
    "tr1 = pd.read_csv('/Users/baeyuna/Documents/SNU_DLab/msn_BS/msn/msn_train.csv')\n",
    "print(tr1.shape)\n",
    "tr1.head()"
   ]
  },
  {
   "cell_type": "code",
   "execution_count": 6,
   "metadata": {
    "tags": []
   },
   "outputs": [
    {
     "output_type": "stream",
     "name": "stdout",
     "text": "(51278, 6)\n"
    },
    {
     "output_type": "execute_result",
     "data": {
      "text/plain": "                                             url     nids  \\\n0  https://assets.msn.com/labs/mind/AAGH0ET.html  AAGH0ET   \n1  https://assets.msn.com/labs/mind/AAB19MK.html  AAB19MK   \n2  https://assets.msn.com/labs/mind/AAJgNsz.html  AAJgNsz   \n3  https://assets.msn.com/labs/mind/AACk2N6.html  AACk2N6   \n4  https://assets.msn.com/labs/mind/AAAKEkt.html  AAAKEkt   \n\n                                               Title                  Date  \\\n0  The Brands Queen Elizabeth, Prince Charles, an...  2019-09-02T11:02:28Z   \n1                      50 Worst Habits For Belly Fat  2019-05-06T16:12:54Z   \n2  The Cost of Trumpâs Aid Freeze in the Trench...  2019-10-24T19:15:00Z   \n3  I Was An NBA Wife. Here's How It Affected My M...  2019-06-03T12:30:06Z   \n4  How to Get Rid of Skin Tags, According to a De...  2019-05-01T06:00:00Z   \n\n                                             Content  \\\n0  The royals are free to shop wherever they choo...   \n1  When you first start dieting and exercising, t...   \n2   ZOLOTE, Ukraine â Lt. Ivan Molchanets peeke...   \n3  Walking into the Bradley Center, I could feel ...   \n4   [Video by Health.com] As you get older, littl...   \n\n                                               Image  \n0  https://img-s-msn-com.akamaized.net/tenant/amp...  \n1  https://img-s-msn-com.akamaized.net/tenant/amp...  \n2  https://img-s-msn-com.akamaized.net/tenant/amp...  \n3  https://img-s-msn-com.akamaized.net/tenant/amp...  \n4                                                NaN  ",
      "text/html": "<div>\n<style scoped>\n    .dataframe tbody tr th:only-of-type {\n        vertical-align: middle;\n    }\n\n    .dataframe tbody tr th {\n        vertical-align: top;\n    }\n\n    .dataframe thead th {\n        text-align: right;\n    }\n</style>\n<table border=\"1\" class=\"dataframe\">\n  <thead>\n    <tr style=\"text-align: right;\">\n      <th></th>\n      <th>url</th>\n      <th>nids</th>\n      <th>Title</th>\n      <th>Date</th>\n      <th>Content</th>\n      <th>Image</th>\n    </tr>\n  </thead>\n  <tbody>\n    <tr>\n      <th>0</th>\n      <td>https://assets.msn.com/labs/mind/AAGH0ET.html</td>\n      <td>AAGH0ET</td>\n      <td>The Brands Queen Elizabeth, Prince Charles, an...</td>\n      <td>2019-09-02T11:02:28Z</td>\n      <td>The royals are free to shop wherever they choo...</td>\n      <td>https://img-s-msn-com.akamaized.net/tenant/amp...</td>\n    </tr>\n    <tr>\n      <th>1</th>\n      <td>https://assets.msn.com/labs/mind/AAB19MK.html</td>\n      <td>AAB19MK</td>\n      <td>50 Worst Habits For Belly Fat</td>\n      <td>2019-05-06T16:12:54Z</td>\n      <td>When you first start dieting and exercising, t...</td>\n      <td>https://img-s-msn-com.akamaized.net/tenant/amp...</td>\n    </tr>\n    <tr>\n      <th>2</th>\n      <td>https://assets.msn.com/labs/mind/AAJgNsz.html</td>\n      <td>AAJgNsz</td>\n      <td>The Cost of Trumpâs Aid Freeze in the Trench...</td>\n      <td>2019-10-24T19:15:00Z</td>\n      <td>ZOLOTE, Ukraine â Lt. Ivan Molchanets peeke...</td>\n      <td>https://img-s-msn-com.akamaized.net/tenant/amp...</td>\n    </tr>\n    <tr>\n      <th>3</th>\n      <td>https://assets.msn.com/labs/mind/AACk2N6.html</td>\n      <td>AACk2N6</td>\n      <td>I Was An NBA Wife. Here's How It Affected My M...</td>\n      <td>2019-06-03T12:30:06Z</td>\n      <td>Walking into the Bradley Center, I could feel ...</td>\n      <td>https://img-s-msn-com.akamaized.net/tenant/amp...</td>\n    </tr>\n    <tr>\n      <th>4</th>\n      <td>https://assets.msn.com/labs/mind/AAAKEkt.html</td>\n      <td>AAAKEkt</td>\n      <td>How to Get Rid of Skin Tags, According to a De...</td>\n      <td>2019-05-01T06:00:00Z</td>\n      <td>[Video by Health.com] As you get older, littl...</td>\n      <td>NaN</td>\n    </tr>\n  </tbody>\n</table>\n</div>"
     },
     "metadata": {},
     "execution_count": 6
    }
   ],
   "source": [
    "tr2 = pd.read_csv('/Users/baeyuna/Documents/SNU_DLab/msn_BS/msn/msn_train1.csv')\n",
    "print(tr2.shape)\n",
    "tr2.head()"
   ]
  },
  {
   "cell_type": "code",
   "execution_count": 7,
   "metadata": {
    "tags": []
   },
   "outputs": [
    {
     "output_type": "stream",
     "name": "stdout",
     "text": "(101521, 6)\n"
    },
    {
     "output_type": "execute_result",
     "data": {
      "text/plain": "                                             url     nids  \\\n0  https://assets.msn.com/labs/mind/AABmf2I.html  AABmf2I   \n1  https://assets.msn.com/labs/mind/AAISxPN.html  AAISxPN   \n2  https://assets.msn.com/labs/mind/AAEKnO1.html  AAEKnO1   \n3  https://assets.msn.com/labs/mind/AADlomf.html  AADlomf   \n4  https://assets.msn.com/labs/mind/AAGBR44.html  AAGBR44   \n\n                                               Title                  Date  \\\n0    Walmart Slashes Prices on Last-Generation iPads  2019-10-28T17:38:04Z   \n1  Dispose of unwanted prescription drugs on Satu...  2019-10-25T17:31:42Z   \n2  Check Houston traffic map for current road con...  2019-11-26T12:55:03Z   \n3  How to record your screen on Windows, macOS, i...  2019-11-06T16:06:25Z   \n4  This Guy Altered His Diet and Training to Drop...  2019-08-31T11:37:11Z   \n\n                                             Content  \\\n0  ['This year, Walmartâ\\x80\\x99s not waiting unt...   \n1  ['CINCINNATI (FOX19) - If you have expired, un...   \n2  [\"Get real-time traffic data from Houston's ro...   \n3  [\"There are lots of reasons to record your scr...   \n4  ['Brandon Reid always felt like â\\x80\\x9cthe f...   \n\n                                               Image  \n0  https://img-s-msn-com.akamaized.net/tenant/amp...  \n1  https://img-s-msn-com.akamaized.net/tenant/amp...  \n2  https://img-s-msn-com.akamaized.net/tenant/amp...  \n3  https://img-s-msn-com.akamaized.net/tenant/amp...  \n4  https://img-s-msn-com.akamaized.net/tenant/amp...  ",
      "text/html": "<div>\n<style scoped>\n    .dataframe tbody tr th:only-of-type {\n        vertical-align: middle;\n    }\n\n    .dataframe tbody tr th {\n        vertical-align: top;\n    }\n\n    .dataframe thead th {\n        text-align: right;\n    }\n</style>\n<table border=\"1\" class=\"dataframe\">\n  <thead>\n    <tr style=\"text-align: right;\">\n      <th></th>\n      <th>url</th>\n      <th>nids</th>\n      <th>Title</th>\n      <th>Date</th>\n      <th>Content</th>\n      <th>Image</th>\n    </tr>\n  </thead>\n  <tbody>\n    <tr>\n      <th>0</th>\n      <td>https://assets.msn.com/labs/mind/AABmf2I.html</td>\n      <td>AABmf2I</td>\n      <td>Walmart Slashes Prices on Last-Generation iPads</td>\n      <td>2019-10-28T17:38:04Z</td>\n      <td>['This year, Walmartâ\\x80\\x99s not waiting unt...</td>\n      <td>https://img-s-msn-com.akamaized.net/tenant/amp...</td>\n    </tr>\n    <tr>\n      <th>1</th>\n      <td>https://assets.msn.com/labs/mind/AAISxPN.html</td>\n      <td>AAISxPN</td>\n      <td>Dispose of unwanted prescription drugs on Satu...</td>\n      <td>2019-10-25T17:31:42Z</td>\n      <td>['CINCINNATI (FOX19) - If you have expired, un...</td>\n      <td>https://img-s-msn-com.akamaized.net/tenant/amp...</td>\n    </tr>\n    <tr>\n      <th>2</th>\n      <td>https://assets.msn.com/labs/mind/AAEKnO1.html</td>\n      <td>AAEKnO1</td>\n      <td>Check Houston traffic map for current road con...</td>\n      <td>2019-11-26T12:55:03Z</td>\n      <td>[\"Get real-time traffic data from Houston's ro...</td>\n      <td>https://img-s-msn-com.akamaized.net/tenant/amp...</td>\n    </tr>\n    <tr>\n      <th>3</th>\n      <td>https://assets.msn.com/labs/mind/AADlomf.html</td>\n      <td>AADlomf</td>\n      <td>How to record your screen on Windows, macOS, i...</td>\n      <td>2019-11-06T16:06:25Z</td>\n      <td>[\"There are lots of reasons to record your scr...</td>\n      <td>https://img-s-msn-com.akamaized.net/tenant/amp...</td>\n    </tr>\n    <tr>\n      <th>4</th>\n      <td>https://assets.msn.com/labs/mind/AAGBR44.html</td>\n      <td>AAGBR44</td>\n      <td>This Guy Altered His Diet and Training to Drop...</td>\n      <td>2019-08-31T11:37:11Z</td>\n      <td>['Brandon Reid always felt like â\\x80\\x9cthe f...</td>\n      <td>https://img-s-msn-com.akamaized.net/tenant/amp...</td>\n    </tr>\n  </tbody>\n</table>\n</div>"
     },
     "metadata": {},
     "execution_count": 7
    }
   ],
   "source": [
    "tr = pd.concat([tr1, tr2])\n",
    "print(tr.shape)\n",
    "tr.head()"
   ]
  },
  {
   "cell_type": "code",
   "execution_count": 8,
   "metadata": {},
   "outputs": [],
   "source": [
    "tr.to_csv('msn_train_all.csv', index=False)"
   ]
  },
  {
   "cell_type": "code",
   "execution_count": 36,
   "metadata": {},
   "outputs": [
    {
     "output_type": "execute_result",
     "data": {
      "text/plain": "101521"
     },
     "metadata": {},
     "execution_count": 36
    }
   ],
   "source": [
    "tr['url'].nunique()"
   ]
  },
  {
   "cell_type": "code",
   "execution_count": 14,
   "metadata": {},
   "outputs": [
    {
     "output_type": "execute_result",
     "data": {
      "text/plain": "101521"
     },
     "metadata": {},
     "execution_count": 14
    }
   ],
   "source": [
    "tr_urls = tr.loc[:,'url'].tolist()\n",
    "len(tr_urls)"
   ]
  },
  {
   "cell_type": "code",
   "execution_count": 12,
   "metadata": {},
   "outputs": [
    {
     "output_type": "execute_result",
     "data": {
      "text/plain": "101527"
     },
     "metadata": {},
     "execution_count": 12
    }
   ],
   "source": [
    "ori_train = pd.read_csv('/Users/baeyuna/Documents/SNU_Dlab/Data/MINDlarge_train/news.tsv', delimiter='\\t', header=None)\n",
    "ori_tr_urls = ori_train.iloc[:,5].tolist()\n",
    "len(ori_tr_urls)"
   ]
  },
  {
   "cell_type": "code",
   "execution_count": 15,
   "metadata": {},
   "outputs": [
    {
     "output_type": "execute_result",
     "data": {
      "text/plain": "6"
     },
     "metadata": {},
     "execution_count": 15
    }
   ],
   "source": [
    "not_url = []\n",
    "for url in ori_tr_urls:\n",
    "    if url not in tr_urls:\n",
    "        not_url.append(url)\n",
    "\n",
    "len(not_url)  "
   ]
  },
  {
   "cell_type": "code",
   "execution_count": 20,
   "metadata": {},
   "outputs": [
    {
     "output_type": "execute_result",
     "data": {
      "text/plain": "'[]'"
     },
     "metadata": {},
     "execution_count": 20
    }
   ],
   "source": [
    "not_url[0]"
   ]
  },
  {
   "cell_type": "markdown",
   "metadata": {},
   "source": [
    "# url이 정상적이지 않은 값"
   ]
  },
  {
   "cell_type": "markdown",
   "metadata": {},
   "source": [
    "## train 링크 이상한값"
   ]
  },
  {
   "cell_type": "code",
   "execution_count": 23,
   "metadata": {},
   "outputs": [
    {
     "output_type": "execute_result",
     "data": {
      "text/plain": "              0          1                                2  \\\n4664    N110434  lifestyle  lifestylefamilyandrelationships   \n38162    N74207    finance                    finance-video   \n46236   N113363     sports                     football_nfl   \n48766   N118418       news                           newsus   \n63749   N102010       news                           newsus   \n100955   N45635      video                             news   \n\n                                                        3  \\\n4664             The 50 Most Common Last Names in America   \n38162   The Price You Pay: The spiraling cost of colle...   \n46236   Baker Mayfield injury update: 'No doubt' Brown...   \n48766   The security has been stepped up': Forest Park...   \n63749   [We] walk dogs and pick up poo for free | Why ...   \n100955  Transcripts highlight Sean Hannity's political...   \n\n                                                        4  \\\n4664    What's in a name?\\thttps://assets.msn.com/labs...   \n38162       https://assets.msn.com/labs/mind/AAIKUGl.html   \n46236   He'll be in better shape physically and he'll ...   \n48766       https://assets.msn.com/labs/mind/AAJncPt.html   \n63749       https://assets.msn.com/labs/mind/AAJUQ4w.html   \n100955  We're seeing really disturbing things coming o...   \n\n                                                        5  \\\n4664                                                   []   \n38162                                                  []   \n46236   [{\"Label\": \"Freddie Kitchens\", \"Type\": \"P\", \"W...   \n48766   [{\"Label\": \"Forest Park\\u2013DeBaliviere stati...   \n63749   [{\"Label\": \"Animal control service\", \"Type\": \"...   \n100955  [{\"Label\": \"Sean Hannity\", \"Type\": \"P\", \"Wikid...   \n\n                                                        6    7  \n4664                                                  NaN  NaN  \n38162                                                  []  NaN  \n46236                                                 NaN  NaN  \n48766   [{\"Label\": \"St. Louis\", \"Type\": \"G\", \"Wikidata...  NaN  \n63749   [{\"Label\": \"Animal control service\", \"Type\": \"...  NaN  \n100955                                                NaN  NaN  ",
      "text/html": "<div>\n<style scoped>\n    .dataframe tbody tr th:only-of-type {\n        vertical-align: middle;\n    }\n\n    .dataframe tbody tr th {\n        vertical-align: top;\n    }\n\n    .dataframe thead th {\n        text-align: right;\n    }\n</style>\n<table border=\"1\" class=\"dataframe\">\n  <thead>\n    <tr style=\"text-align: right;\">\n      <th></th>\n      <th>0</th>\n      <th>1</th>\n      <th>2</th>\n      <th>3</th>\n      <th>4</th>\n      <th>5</th>\n      <th>6</th>\n      <th>7</th>\n    </tr>\n  </thead>\n  <tbody>\n    <tr>\n      <th>4664</th>\n      <td>N110434</td>\n      <td>lifestyle</td>\n      <td>lifestylefamilyandrelationships</td>\n      <td>The 50 Most Common Last Names in America</td>\n      <td>What's in a name?\\thttps://assets.msn.com/labs...</td>\n      <td>[]</td>\n      <td>NaN</td>\n      <td>NaN</td>\n    </tr>\n    <tr>\n      <th>38162</th>\n      <td>N74207</td>\n      <td>finance</td>\n      <td>finance-video</td>\n      <td>The Price You Pay: The spiraling cost of colle...</td>\n      <td>https://assets.msn.com/labs/mind/AAIKUGl.html</td>\n      <td>[]</td>\n      <td>[]</td>\n      <td>NaN</td>\n    </tr>\n    <tr>\n      <th>46236</th>\n      <td>N113363</td>\n      <td>sports</td>\n      <td>football_nfl</td>\n      <td>Baker Mayfield injury update: 'No doubt' Brown...</td>\n      <td>He'll be in better shape physically and he'll ...</td>\n      <td>[{\"Label\": \"Freddie Kitchens\", \"Type\": \"P\", \"W...</td>\n      <td>NaN</td>\n      <td>NaN</td>\n    </tr>\n    <tr>\n      <th>48766</th>\n      <td>N118418</td>\n      <td>news</td>\n      <td>newsus</td>\n      <td>The security has been stepped up': Forest Park...</td>\n      <td>https://assets.msn.com/labs/mind/AAJncPt.html</td>\n      <td>[{\"Label\": \"Forest Park\\u2013DeBaliviere stati...</td>\n      <td>[{\"Label\": \"St. Louis\", \"Type\": \"G\", \"Wikidata...</td>\n      <td>NaN</td>\n    </tr>\n    <tr>\n      <th>63749</th>\n      <td>N102010</td>\n      <td>news</td>\n      <td>newsus</td>\n      <td>[We] walk dogs and pick up poo for free | Why ...</td>\n      <td>https://assets.msn.com/labs/mind/AAJUQ4w.html</td>\n      <td>[{\"Label\": \"Animal control service\", \"Type\": \"...</td>\n      <td>[{\"Label\": \"Animal control service\", \"Type\": \"...</td>\n      <td>NaN</td>\n    </tr>\n    <tr>\n      <th>100955</th>\n      <td>N45635</td>\n      <td>video</td>\n      <td>news</td>\n      <td>Transcripts highlight Sean Hannity's political...</td>\n      <td>We're seeing really disturbing things coming o...</td>\n      <td>[{\"Label\": \"Sean Hannity\", \"Type\": \"P\", \"Wikid...</td>\n      <td>NaN</td>\n      <td>NaN</td>\n    </tr>\n  </tbody>\n</table>\n</div>"
     },
     "metadata": {},
     "execution_count": 23
    }
   ],
   "source": [
    "ori_train.loc[ori_train[5].isin(not_url)]"
   ]
  },
  {
   "cell_type": "code",
   "execution_count": 6,
   "metadata": {},
   "outputs": [
    {
     "output_type": "execute_result",
     "data": {
      "text/plain": "72023"
     },
     "metadata": {},
     "execution_count": 6
    }
   ],
   "source": [
    "dev_urls = dev.loc[:,'url'].tolist()\n",
    "\n",
    "ori_dev = pd.read_csv('/Users/baeyuna/Documents/SNU_Dlab/Data/MINDlarge_dev/news.tsv', delimiter='\\t', header=None)\n",
    "ori_dev_urls = ori_dev.iloc[:,5].tolist()\n",
    "len(ori_dev_urls)"
   ]
  },
  {
   "cell_type": "code",
   "execution_count": 44,
   "metadata": {},
   "outputs": [
    {
     "output_type": "execute_result",
     "data": {
      "text/plain": "5"
     },
     "metadata": {},
     "execution_count": 44
    }
   ],
   "source": [
    "except_url_dev = []\n",
    "for url in ori_dev_urls:\n",
    "    if url not in dev_urls:\n",
    "        except_url_dev.append(url)\n",
    "\n",
    "len(except_url_dev) "
   ]
  },
  {
   "cell_type": "code",
   "execution_count": 45,
   "metadata": {},
   "outputs": [
    {
     "output_type": "execute_result",
     "data": {
      "text/plain": "['[]',\n '[]',\n '[{\"Label\": \"Freddie Kitchens\", \"Type\": \"P\", \"WikidataId\": \"Q5496752\", \"Confidence\": 1.0, \"OccurrenceOffsets\": [90], \"SurfaceForms\": [\"Freddie Kitchens\"]}, {\"Label\": \"Baker Mayfield\", \"Type\": \"P\", \"WikidataId\": \"Q14950655\", \"Confidence\": 1.0, \"OccurrenceOffsets\": [115], \"SurfaceForms\": [\"Mayfield\"]}]',\n '[{\"Label\": \"Forest Park\\\\u2013DeBaliviere station\", \"Type\": \"F\", \"WikidataId\": \"Q5469071\", \"Confidence\": 1.0, \"OccurrenceOffsets\": [36], \"SurfaceForms\": [\"Forest Park Debaliviere\"]}]',\n '[{\"Label\": \"Animal control service\", \"Type\": \"U\", \"WikidataId\": \"Q3289646\", \"Confidence\": 1.0, \"OccurrenceOffsets\": [51], \"SurfaceForms\": [\"animal control\"]}]']"
     },
     "metadata": {},
     "execution_count": 45
    }
   ],
   "source": [
    "except_url_dev"
   ]
  },
  {
   "cell_type": "markdown",
   "metadata": {},
   "source": [
    "## dev 링크 이상한 값"
   ]
  },
  {
   "cell_type": "code",
   "execution_count": 39,
   "metadata": {},
   "outputs": [
    {
     "output_type": "execute_result",
     "data": {
      "text/plain": "             0          1                                2  \\\n3932   N110434  lifestyle  lifestylefamilyandrelationships   \n31636   N74207    finance                    finance-video   \n38358  N113363     sports                     football_nfl   \n40467  N118418       news                           newsus   \n52863  N102010       news                           newsus   \n\n                                                       3  \\\n3932            The 50 Most Common Last Names in America   \n31636  The Price You Pay: The spiraling cost of colle...   \n38358  Baker Mayfield injury update: 'No doubt' Brown...   \n40467  The security has been stepped up': Forest Park...   \n52863  [We] walk dogs and pick up poo for free | Why ...   \n\n                                                       4  \\\n3932   What's in a name?\\thttps://assets.msn.com/labs...   \n31636      https://assets.msn.com/labs/mind/AAIKUGl.html   \n38358  He'll be in better shape physically and he'll ...   \n40467      https://assets.msn.com/labs/mind/AAJncPt.html   \n52863      https://assets.msn.com/labs/mind/AAJUQ4w.html   \n\n                                                       5  \\\n3932                                                  []   \n31636                                                 []   \n38358  [{\"Label\": \"Freddie Kitchens\", \"Type\": \"P\", \"W...   \n40467  [{\"Label\": \"Forest Park\\u2013DeBaliviere stati...   \n52863  [{\"Label\": \"Animal control service\", \"Type\": \"...   \n\n                                                       6    7  \n3932                                                 NaN  NaN  \n31636                                                 []  NaN  \n38358                                                NaN  NaN  \n40467  [{\"Label\": \"St. Louis\", \"Type\": \"G\", \"Wikidata...  NaN  \n52863  [{\"Label\": \"Animal control service\", \"Type\": \"...  NaN  ",
      "text/html": "<div>\n<style scoped>\n    .dataframe tbody tr th:only-of-type {\n        vertical-align: middle;\n    }\n\n    .dataframe tbody tr th {\n        vertical-align: top;\n    }\n\n    .dataframe thead th {\n        text-align: right;\n    }\n</style>\n<table border=\"1\" class=\"dataframe\">\n  <thead>\n    <tr style=\"text-align: right;\">\n      <th></th>\n      <th>0</th>\n      <th>1</th>\n      <th>2</th>\n      <th>3</th>\n      <th>4</th>\n      <th>5</th>\n      <th>6</th>\n      <th>7</th>\n    </tr>\n  </thead>\n  <tbody>\n    <tr>\n      <th>3932</th>\n      <td>N110434</td>\n      <td>lifestyle</td>\n      <td>lifestylefamilyandrelationships</td>\n      <td>The 50 Most Common Last Names in America</td>\n      <td>What's in a name?\\thttps://assets.msn.com/labs...</td>\n      <td>[]</td>\n      <td>NaN</td>\n      <td>NaN</td>\n    </tr>\n    <tr>\n      <th>31636</th>\n      <td>N74207</td>\n      <td>finance</td>\n      <td>finance-video</td>\n      <td>The Price You Pay: The spiraling cost of colle...</td>\n      <td>https://assets.msn.com/labs/mind/AAIKUGl.html</td>\n      <td>[]</td>\n      <td>[]</td>\n      <td>NaN</td>\n    </tr>\n    <tr>\n      <th>38358</th>\n      <td>N113363</td>\n      <td>sports</td>\n      <td>football_nfl</td>\n      <td>Baker Mayfield injury update: 'No doubt' Brown...</td>\n      <td>He'll be in better shape physically and he'll ...</td>\n      <td>[{\"Label\": \"Freddie Kitchens\", \"Type\": \"P\", \"W...</td>\n      <td>NaN</td>\n      <td>NaN</td>\n    </tr>\n    <tr>\n      <th>40467</th>\n      <td>N118418</td>\n      <td>news</td>\n      <td>newsus</td>\n      <td>The security has been stepped up': Forest Park...</td>\n      <td>https://assets.msn.com/labs/mind/AAJncPt.html</td>\n      <td>[{\"Label\": \"Forest Park\\u2013DeBaliviere stati...</td>\n      <td>[{\"Label\": \"St. Louis\", \"Type\": \"G\", \"Wikidata...</td>\n      <td>NaN</td>\n    </tr>\n    <tr>\n      <th>52863</th>\n      <td>N102010</td>\n      <td>news</td>\n      <td>newsus</td>\n      <td>[We] walk dogs and pick up poo for free | Why ...</td>\n      <td>https://assets.msn.com/labs/mind/AAJUQ4w.html</td>\n      <td>[{\"Label\": \"Animal control service\", \"Type\": \"...</td>\n      <td>[{\"Label\": \"Animal control service\", \"Type\": \"...</td>\n      <td>NaN</td>\n    </tr>\n  </tbody>\n</table>\n</div>"
     },
     "metadata": {},
     "execution_count": 39
    }
   ],
   "source": [
    "dev.loc[dev[5].isin(except_url_dev)]"
   ]
  },
  {
   "cell_type": "markdown",
   "metadata": {},
   "source": [
    "# 2. 데이터셋 합치기"
   ]
  },
  {
   "cell_type": "code",
   "execution_count": 38,
   "metadata": {},
   "outputs": [],
   "source": [
    "import ast"
   ]
  },
  {
   "cell_type": "code",
   "execution_count": 19,
   "metadata": {
    "tags": []
   },
   "outputs": [
    {
     "output_type": "stream",
     "name": "stdout",
     "text": "(72018, 6)\n"
    },
    {
     "output_type": "execute_result",
     "data": {
      "text/plain": "                                               5     nids  \\\n0  https://assets.msn.com/labs/mind/AAGH0ET.html  AAGH0ET   \n1  https://assets.msn.com/labs/mind/AAISxPN.html  AAISxPN   \n2  https://assets.msn.com/labs/mind/AAJgNsz.html  AAJgNsz   \n3  https://assets.msn.com/labs/mind/AACk2N6.html  AACk2N6   \n4  https://assets.msn.com/labs/mind/AAAKEkt.html  AAAKEkt   \n\n                                               Title                  Date  \\\n0  The Brands Queen Elizabeth, Prince Charles, an...  2019-09-02T11:02:28Z   \n1  Dispose of unwanted prescription drugs on Satu...  2019-10-25T17:31:42Z   \n2  The Cost of Trumpâs Aid Freeze in the Trench...  2019-10-24T19:15:00Z   \n3  I Was An NBA Wife. Here's How It Affected My M...  2019-06-03T12:30:06Z   \n4  How to Get Rid of Skin Tags, According to a De...  2019-05-01T06:00:00Z   \n\n                                             Content  \\\n0  The royals are free to shop wherever they choo...   \n1  CINCINNATI (FOX19) - If you have expired, unus...   \n2   ZOLOTE, Ukraine â Lt. Ivan Molchanets peeke...   \n3  Walking into the Bradley Center, I could feel ...   \n4   [Video by Health.com] As you get older, littl...   \n\n                                               Image  \n0  https://img-s-msn-com.akamaized.net/tenant/amp...  \n1  https://img-s-msn-com.akamaized.net/tenant/amp...  \n2  https://img-s-msn-com.akamaized.net/tenant/amp...  \n3  https://img-s-msn-com.akamaized.net/tenant/amp...  \n4                                                NaN  ",
      "text/html": "<div>\n<style scoped>\n    .dataframe tbody tr th:only-of-type {\n        vertical-align: middle;\n    }\n\n    .dataframe tbody tr th {\n        vertical-align: top;\n    }\n\n    .dataframe thead th {\n        text-align: right;\n    }\n</style>\n<table border=\"1\" class=\"dataframe\">\n  <thead>\n    <tr style=\"text-align: right;\">\n      <th></th>\n      <th>5</th>\n      <th>nids</th>\n      <th>Title</th>\n      <th>Date</th>\n      <th>Content</th>\n      <th>Image</th>\n    </tr>\n  </thead>\n  <tbody>\n    <tr>\n      <th>0</th>\n      <td>https://assets.msn.com/labs/mind/AAGH0ET.html</td>\n      <td>AAGH0ET</td>\n      <td>The Brands Queen Elizabeth, Prince Charles, an...</td>\n      <td>2019-09-02T11:02:28Z</td>\n      <td>The royals are free to shop wherever they choo...</td>\n      <td>https://img-s-msn-com.akamaized.net/tenant/amp...</td>\n    </tr>\n    <tr>\n      <th>1</th>\n      <td>https://assets.msn.com/labs/mind/AAISxPN.html</td>\n      <td>AAISxPN</td>\n      <td>Dispose of unwanted prescription drugs on Satu...</td>\n      <td>2019-10-25T17:31:42Z</td>\n      <td>CINCINNATI (FOX19) - If you have expired, unus...</td>\n      <td>https://img-s-msn-com.akamaized.net/tenant/amp...</td>\n    </tr>\n    <tr>\n      <th>2</th>\n      <td>https://assets.msn.com/labs/mind/AAJgNsz.html</td>\n      <td>AAJgNsz</td>\n      <td>The Cost of Trumpâs Aid Freeze in the Trench...</td>\n      <td>2019-10-24T19:15:00Z</td>\n      <td>ZOLOTE, Ukraine â Lt. Ivan Molchanets peeke...</td>\n      <td>https://img-s-msn-com.akamaized.net/tenant/amp...</td>\n    </tr>\n    <tr>\n      <th>3</th>\n      <td>https://assets.msn.com/labs/mind/AACk2N6.html</td>\n      <td>AACk2N6</td>\n      <td>I Was An NBA Wife. Here's How It Affected My M...</td>\n      <td>2019-06-03T12:30:06Z</td>\n      <td>Walking into the Bradley Center, I could feel ...</td>\n      <td>https://img-s-msn-com.akamaized.net/tenant/amp...</td>\n    </tr>\n    <tr>\n      <th>4</th>\n      <td>https://assets.msn.com/labs/mind/AAAKEkt.html</td>\n      <td>AAAKEkt</td>\n      <td>How to Get Rid of Skin Tags, According to a De...</td>\n      <td>2019-05-01T06:00:00Z</td>\n      <td>[Video by Health.com] As you get older, littl...</td>\n      <td>NaN</td>\n    </tr>\n  </tbody>\n</table>\n</div>"
     },
     "metadata": {},
     "execution_count": 19
    }
   ],
   "source": [
    "msn_dev_crawled = pd.read_csv('/Users/baeyuna/Documents/SNU_DLab/Data/msn_dev_all.csv')\n",
    "print(msn_dev_crawled.shape)\n",
    "msn_dev_crawled.rename(columns = {'url' : 5}, inplace = True)\n",
    "msn_dev_crawled.head()"
   ]
  },
  {
   "cell_type": "code",
   "execution_count": 58,
   "metadata": {},
   "outputs": [],
   "source": [
    "def string_to_list(data):\n",
    "    try:\n",
    "        return ' '.join(ast.literal_eval(data))\n",
    "    except: \n",
    "        return data"
   ]
  },
  {
   "cell_type": "code",
   "execution_count": 67,
   "metadata": {
    "tags": []
   },
   "outputs": [
    {
     "output_type": "stream",
     "name": "stdout",
     "text": "(72018, 6)\n"
    },
    {
     "output_type": "execute_result",
     "data": {
      "text/plain": "                                               5     nids  \\\n0  https://assets.msn.com/labs/mind/AAGH0ET.html  AAGH0ET   \n1  https://assets.msn.com/labs/mind/AAISxPN.html  AAISxPN   \n2  https://assets.msn.com/labs/mind/AAJgNsz.html  AAJgNsz   \n3  https://assets.msn.com/labs/mind/AACk2N6.html  AACk2N6   \n4  https://assets.msn.com/labs/mind/AAAKEkt.html  AAAKEkt   \n\n                                               Title                  Date  \\\n0  The Brands Queen Elizabeth, Prince Charles, an...  2019-09-02T11:02:28Z   \n1  Dispose of unwanted prescription drugs on Satu...  2019-10-25T17:31:42Z   \n2  The Cost of Trumpâs Aid Freeze in the Trench...  2019-10-24T19:15:00Z   \n3  I Was An NBA Wife. Here's How It Affected My M...  2019-06-03T12:30:06Z   \n4  How to Get Rid of Skin Tags, According to a De...  2019-05-01T06:00:00Z   \n\n                                               Image  \\\n0  https://img-s-msn-com.akamaized.net/tenant/amp...   \n1  https://img-s-msn-com.akamaized.net/tenant/amp...   \n2  https://img-s-msn-com.akamaized.net/tenant/amp...   \n3  https://img-s-msn-com.akamaized.net/tenant/amp...   \n4                                                NaN   \n\n                                             Content  \n0  The royals are free to shop wherever they choo...  \n1  CINCINNATI (FOX19) - If you have expired, unus...  \n2   ZOLOTE, Ukraine â Lt. Ivan Molchanets peeke...  \n3  Walking into the Bradley Center, I could feel ...  \n4   [Video by Health.com] As you get older, littl...  ",
      "text/html": "<div>\n<style scoped>\n    .dataframe tbody tr th:only-of-type {\n        vertical-align: middle;\n    }\n\n    .dataframe tbody tr th {\n        vertical-align: top;\n    }\n\n    .dataframe thead th {\n        text-align: right;\n    }\n</style>\n<table border=\"1\" class=\"dataframe\">\n  <thead>\n    <tr style=\"text-align: right;\">\n      <th></th>\n      <th>5</th>\n      <th>nids</th>\n      <th>Title</th>\n      <th>Date</th>\n      <th>Image</th>\n      <th>Content</th>\n    </tr>\n  </thead>\n  <tbody>\n    <tr>\n      <th>0</th>\n      <td>https://assets.msn.com/labs/mind/AAGH0ET.html</td>\n      <td>AAGH0ET</td>\n      <td>The Brands Queen Elizabeth, Prince Charles, an...</td>\n      <td>2019-09-02T11:02:28Z</td>\n      <td>https://img-s-msn-com.akamaized.net/tenant/amp...</td>\n      <td>The royals are free to shop wherever they choo...</td>\n    </tr>\n    <tr>\n      <th>1</th>\n      <td>https://assets.msn.com/labs/mind/AAISxPN.html</td>\n      <td>AAISxPN</td>\n      <td>Dispose of unwanted prescription drugs on Satu...</td>\n      <td>2019-10-25T17:31:42Z</td>\n      <td>https://img-s-msn-com.akamaized.net/tenant/amp...</td>\n      <td>CINCINNATI (FOX19) - If you have expired, unus...</td>\n    </tr>\n    <tr>\n      <th>2</th>\n      <td>https://assets.msn.com/labs/mind/AAJgNsz.html</td>\n      <td>AAJgNsz</td>\n      <td>The Cost of Trumpâs Aid Freeze in the Trench...</td>\n      <td>2019-10-24T19:15:00Z</td>\n      <td>https://img-s-msn-com.akamaized.net/tenant/amp...</td>\n      <td>ZOLOTE, Ukraine â Lt. Ivan Molchanets peeke...</td>\n    </tr>\n    <tr>\n      <th>3</th>\n      <td>https://assets.msn.com/labs/mind/AACk2N6.html</td>\n      <td>AACk2N6</td>\n      <td>I Was An NBA Wife. Here's How It Affected My M...</td>\n      <td>2019-06-03T12:30:06Z</td>\n      <td>https://img-s-msn-com.akamaized.net/tenant/amp...</td>\n      <td>Walking into the Bradley Center, I could feel ...</td>\n    </tr>\n    <tr>\n      <th>4</th>\n      <td>https://assets.msn.com/labs/mind/AAAKEkt.html</td>\n      <td>AAAKEkt</td>\n      <td>How to Get Rid of Skin Tags, According to a De...</td>\n      <td>2019-05-01T06:00:00Z</td>\n      <td>NaN</td>\n      <td>[Video by Health.com] As you get older, littl...</td>\n    </tr>\n  </tbody>\n</table>\n</div>"
     },
     "metadata": {},
     "execution_count": 67
    }
   ],
   "source": [
    "msn_dev_crawled['Content_str'] = msn_dev_crawled['Content'].apply(lambda x: string_to_list(x)) \n",
    "msn_dev_crawled.drop(['Content'], axis='columns', inplace=True)\n",
    "msn_dev_crawled.rename(columns = {'Content_str' : 'Content'}, inplace = True)\n",
    "print(msn_dev_crawled.shape)\n",
    "msn_dev_crawled.head()"
   ]
  },
  {
   "cell_type": "code",
   "execution_count": 68,
   "metadata": {
    "tags": []
   },
   "outputs": [
    {
     "output_type": "stream",
     "name": "stdout",
     "text": "(72023, 8)\n"
    },
    {
     "output_type": "execute_result",
     "data": {
      "text/plain": "        0          1                2  \\\n0  N88753  lifestyle  lifestyleroyals   \n1  N23144     health       weightloss   \n2  N86255     health          medical   \n3  N93187       news        newsworld   \n4  N75236     health           voices   \n\n                                                   3  \\\n0  The Brands Queen Elizabeth, Prince Charles, an...   \n1                      50 Worst Habits For Belly Fat   \n2  Dispose of unwanted prescription drugs during ...   \n3  The Cost of Trump's Aid Freeze in the Trenches...   \n4  I Was An NBA Wife. Here's How It Affected My M...   \n\n                                                   4  \\\n0  Shop the notebooks, jackets, and more that the...   \n1  These seemingly harmless habits are holding yo...   \n2                                                NaN   \n3  Lt. Ivan Molchanets peeked over a parapet of s...   \n4  I felt like I was a fraud, and being an NBA wi...   \n\n                                               5  \\\n0  https://assets.msn.com/labs/mind/AAGH0ET.html   \n1  https://assets.msn.com/labs/mind/AAB19MK.html   \n2  https://assets.msn.com/labs/mind/AAISxPN.html   \n3  https://assets.msn.com/labs/mind/AAJgNsz.html   \n4  https://assets.msn.com/labs/mind/AACk2N6.html   \n\n                                                   6  \\\n0  [{\"Label\": \"Prince Philip, Duke of Edinburgh\",...   \n1  [{\"Label\": \"Adipose tissue\", \"Type\": \"C\", \"Wik...   \n2  [{\"Label\": \"Drug Enforcement Administration\", ...   \n3                                                 []   \n4                                                 []   \n\n                                                   7  \n0                                                 []  \n1  [{\"Label\": \"Adipose tissue\", \"Type\": \"C\", \"Wik...  \n2                                                 []  \n3  [{\"Label\": \"Ukraine\", \"Type\": \"G\", \"WikidataId...  \n4  [{\"Label\": \"National Basketball Association\", ...  ",
      "text/html": "<div>\n<style scoped>\n    .dataframe tbody tr th:only-of-type {\n        vertical-align: middle;\n    }\n\n    .dataframe tbody tr th {\n        vertical-align: top;\n    }\n\n    .dataframe thead th {\n        text-align: right;\n    }\n</style>\n<table border=\"1\" class=\"dataframe\">\n  <thead>\n    <tr style=\"text-align: right;\">\n      <th></th>\n      <th>0</th>\n      <th>1</th>\n      <th>2</th>\n      <th>3</th>\n      <th>4</th>\n      <th>5</th>\n      <th>6</th>\n      <th>7</th>\n    </tr>\n  </thead>\n  <tbody>\n    <tr>\n      <th>0</th>\n      <td>N88753</td>\n      <td>lifestyle</td>\n      <td>lifestyleroyals</td>\n      <td>The Brands Queen Elizabeth, Prince Charles, an...</td>\n      <td>Shop the notebooks, jackets, and more that the...</td>\n      <td>https://assets.msn.com/labs/mind/AAGH0ET.html</td>\n      <td>[{\"Label\": \"Prince Philip, Duke of Edinburgh\",...</td>\n      <td>[]</td>\n    </tr>\n    <tr>\n      <th>1</th>\n      <td>N23144</td>\n      <td>health</td>\n      <td>weightloss</td>\n      <td>50 Worst Habits For Belly Fat</td>\n      <td>These seemingly harmless habits are holding yo...</td>\n      <td>https://assets.msn.com/labs/mind/AAB19MK.html</td>\n      <td>[{\"Label\": \"Adipose tissue\", \"Type\": \"C\", \"Wik...</td>\n      <td>[{\"Label\": \"Adipose tissue\", \"Type\": \"C\", \"Wik...</td>\n    </tr>\n    <tr>\n      <th>2</th>\n      <td>N86255</td>\n      <td>health</td>\n      <td>medical</td>\n      <td>Dispose of unwanted prescription drugs during ...</td>\n      <td>NaN</td>\n      <td>https://assets.msn.com/labs/mind/AAISxPN.html</td>\n      <td>[{\"Label\": \"Drug Enforcement Administration\", ...</td>\n      <td>[]</td>\n    </tr>\n    <tr>\n      <th>3</th>\n      <td>N93187</td>\n      <td>news</td>\n      <td>newsworld</td>\n      <td>The Cost of Trump's Aid Freeze in the Trenches...</td>\n      <td>Lt. Ivan Molchanets peeked over a parapet of s...</td>\n      <td>https://assets.msn.com/labs/mind/AAJgNsz.html</td>\n      <td>[]</td>\n      <td>[{\"Label\": \"Ukraine\", \"Type\": \"G\", \"WikidataId...</td>\n    </tr>\n    <tr>\n      <th>4</th>\n      <td>N75236</td>\n      <td>health</td>\n      <td>voices</td>\n      <td>I Was An NBA Wife. Here's How It Affected My M...</td>\n      <td>I felt like I was a fraud, and being an NBA wi...</td>\n      <td>https://assets.msn.com/labs/mind/AACk2N6.html</td>\n      <td>[]</td>\n      <td>[{\"Label\": \"National Basketball Association\", ...</td>\n    </tr>\n  </tbody>\n</table>\n</div>"
     },
     "metadata": {},
     "execution_count": 68
    }
   ],
   "source": [
    "msn_dev_news = pd.read_csv('/Users/baeyuna/Documents/SNU_Dlab/Data/MINDlarge_dev/news.tsv', delimiter='\\t', header=None)\n",
    "print(msn_dev_news.shape) \n",
    "msn_dev_news.head()"
   ]
  },
  {
   "cell_type": "code",
   "execution_count": 69,
   "metadata": {
    "tags": []
   },
   "outputs": [
    {
     "output_type": "stream",
     "name": "stdout",
     "text": "msn_dev_crawled shape: (72018, 6)\nmsn_dev_news shape: (72023, 8)\nmsn_dev shape: (72018, 13)\n"
    },
    {
     "output_type": "execute_result",
     "data": {
      "text/plain": "                                               5     nids  \\\n0  https://assets.msn.com/labs/mind/AAGH0ET.html  AAGH0ET   \n1  https://assets.msn.com/labs/mind/AAISxPN.html  AAISxPN   \n2  https://assets.msn.com/labs/mind/AAJgNsz.html  AAJgNsz   \n3  https://assets.msn.com/labs/mind/AACk2N6.html  AACk2N6   \n4  https://assets.msn.com/labs/mind/AAAKEkt.html  AAAKEkt   \n\n                                               Title                  Date  \\\n0  The Brands Queen Elizabeth, Prince Charles, an...  2019-09-02T11:02:28Z   \n1  Dispose of unwanted prescription drugs on Satu...  2019-10-25T17:31:42Z   \n2  The Cost of Trumpâs Aid Freeze in the Trench...  2019-10-24T19:15:00Z   \n3  I Was An NBA Wife. Here's How It Affected My M...  2019-06-03T12:30:06Z   \n4  How to Get Rid of Skin Tags, According to a De...  2019-05-01T06:00:00Z   \n\n                                               Image  \\\n0  https://img-s-msn-com.akamaized.net/tenant/amp...   \n1  https://img-s-msn-com.akamaized.net/tenant/amp...   \n2  https://img-s-msn-com.akamaized.net/tenant/amp...   \n3  https://img-s-msn-com.akamaized.net/tenant/amp...   \n4                                                NaN   \n\n                                             Content       0          1  \\\n0  The royals are free to shop wherever they choo...  N88753  lifestyle   \n1  CINCINNATI (FOX19) - If you have expired, unus...  N86255     health   \n2   ZOLOTE, Ukraine â Lt. Ivan Molchanets peeke...  N93187       news   \n3  Walking into the Bradley Center, I could feel ...  N75236     health   \n4   [Video by Health.com] As you get older, littl...  N99744     health   \n\n                 2                                                  3  \\\n0  lifestyleroyals  The Brands Queen Elizabeth, Prince Charles, an...   \n1          medical  Dispose of unwanted prescription drugs during ...   \n2        newsworld  The Cost of Trump's Aid Freeze in the Trenches...   \n3           voices  I Was An NBA Wife. Here's How It Affected My M...   \n4          medical  How to Get Rid of Skin Tags, According to a De...   \n\n                                                   4  \\\n0  Shop the notebooks, jackets, and more that the...   \n1                                                NaN   \n2  Lt. Ivan Molchanets peeked over a parapet of s...   \n3  I felt like I was a fraud, and being an NBA wi...   \n4  They seem harmless, but there's a very good re...   \n\n                                                   6  \\\n0  [{\"Label\": \"Prince Philip, Duke of Edinburgh\",...   \n1  [{\"Label\": \"Drug Enforcement Administration\", ...   \n2                                                 []   \n3                                                 []   \n4  [{\"Label\": \"Skin tag\", \"Type\": \"C\", \"WikidataI...   \n\n                                                   7  \n0                                                 []  \n1                                                 []  \n2  [{\"Label\": \"Ukraine\", \"Type\": \"G\", \"WikidataId...  \n3  [{\"Label\": \"National Basketball Association\", ...  \n4  [{\"Label\": \"Skin tag\", \"Type\": \"C\", \"WikidataI...  ",
      "text/html": "<div>\n<style scoped>\n    .dataframe tbody tr th:only-of-type {\n        vertical-align: middle;\n    }\n\n    .dataframe tbody tr th {\n        vertical-align: top;\n    }\n\n    .dataframe thead th {\n        text-align: right;\n    }\n</style>\n<table border=\"1\" class=\"dataframe\">\n  <thead>\n    <tr style=\"text-align: right;\">\n      <th></th>\n      <th>5</th>\n      <th>nids</th>\n      <th>Title</th>\n      <th>Date</th>\n      <th>Image</th>\n      <th>Content</th>\n      <th>0</th>\n      <th>1</th>\n      <th>2</th>\n      <th>3</th>\n      <th>4</th>\n      <th>6</th>\n      <th>7</th>\n    </tr>\n  </thead>\n  <tbody>\n    <tr>\n      <th>0</th>\n      <td>https://assets.msn.com/labs/mind/AAGH0ET.html</td>\n      <td>AAGH0ET</td>\n      <td>The Brands Queen Elizabeth, Prince Charles, an...</td>\n      <td>2019-09-02T11:02:28Z</td>\n      <td>https://img-s-msn-com.akamaized.net/tenant/amp...</td>\n      <td>The royals are free to shop wherever they choo...</td>\n      <td>N88753</td>\n      <td>lifestyle</td>\n      <td>lifestyleroyals</td>\n      <td>The Brands Queen Elizabeth, Prince Charles, an...</td>\n      <td>Shop the notebooks, jackets, and more that the...</td>\n      <td>[{\"Label\": \"Prince Philip, Duke of Edinburgh\",...</td>\n      <td>[]</td>\n    </tr>\n    <tr>\n      <th>1</th>\n      <td>https://assets.msn.com/labs/mind/AAISxPN.html</td>\n      <td>AAISxPN</td>\n      <td>Dispose of unwanted prescription drugs on Satu...</td>\n      <td>2019-10-25T17:31:42Z</td>\n      <td>https://img-s-msn-com.akamaized.net/tenant/amp...</td>\n      <td>CINCINNATI (FOX19) - If you have expired, unus...</td>\n      <td>N86255</td>\n      <td>health</td>\n      <td>medical</td>\n      <td>Dispose of unwanted prescription drugs during ...</td>\n      <td>NaN</td>\n      <td>[{\"Label\": \"Drug Enforcement Administration\", ...</td>\n      <td>[]</td>\n    </tr>\n    <tr>\n      <th>2</th>\n      <td>https://assets.msn.com/labs/mind/AAJgNsz.html</td>\n      <td>AAJgNsz</td>\n      <td>The Cost of Trumpâs Aid Freeze in the Trench...</td>\n      <td>2019-10-24T19:15:00Z</td>\n      <td>https://img-s-msn-com.akamaized.net/tenant/amp...</td>\n      <td>ZOLOTE, Ukraine â Lt. Ivan Molchanets peeke...</td>\n      <td>N93187</td>\n      <td>news</td>\n      <td>newsworld</td>\n      <td>The Cost of Trump's Aid Freeze in the Trenches...</td>\n      <td>Lt. Ivan Molchanets peeked over a parapet of s...</td>\n      <td>[]</td>\n      <td>[{\"Label\": \"Ukraine\", \"Type\": \"G\", \"WikidataId...</td>\n    </tr>\n    <tr>\n      <th>3</th>\n      <td>https://assets.msn.com/labs/mind/AACk2N6.html</td>\n      <td>AACk2N6</td>\n      <td>I Was An NBA Wife. Here's How It Affected My M...</td>\n      <td>2019-06-03T12:30:06Z</td>\n      <td>https://img-s-msn-com.akamaized.net/tenant/amp...</td>\n      <td>Walking into the Bradley Center, I could feel ...</td>\n      <td>N75236</td>\n      <td>health</td>\n      <td>voices</td>\n      <td>I Was An NBA Wife. Here's How It Affected My M...</td>\n      <td>I felt like I was a fraud, and being an NBA wi...</td>\n      <td>[]</td>\n      <td>[{\"Label\": \"National Basketball Association\", ...</td>\n    </tr>\n    <tr>\n      <th>4</th>\n      <td>https://assets.msn.com/labs/mind/AAAKEkt.html</td>\n      <td>AAAKEkt</td>\n      <td>How to Get Rid of Skin Tags, According to a De...</td>\n      <td>2019-05-01T06:00:00Z</td>\n      <td>NaN</td>\n      <td>[Video by Health.com] As you get older, littl...</td>\n      <td>N99744</td>\n      <td>health</td>\n      <td>medical</td>\n      <td>How to Get Rid of Skin Tags, According to a De...</td>\n      <td>They seem harmless, but there's a very good re...</td>\n      <td>[{\"Label\": \"Skin tag\", \"Type\": \"C\", \"WikidataI...</td>\n      <td>[{\"Label\": \"Skin tag\", \"Type\": \"C\", \"WikidataI...</td>\n    </tr>\n  </tbody>\n</table>\n</div>"
     },
     "metadata": {},
     "execution_count": 69
    }
   ],
   "source": [
    "msn_dev = pd.merge(msn_dev_crawled, msn_dev_news, how='inner',on= 5)\n",
    "print('msn_dev_crawled shape:', msn_dev_crawled.shape)\n",
    "print('msn_dev_news shape:', msn_dev_news.shape)\n",
    "print('msn_dev shape:', msn_dev.shape)\n",
    "msn_dev.head()"
   ]
  },
  {
   "cell_type": "code",
   "execution_count": 70,
   "metadata": {
    "tags": []
   },
   "outputs": [
    {
     "output_type": "stream",
     "name": "stdout",
     "text": "(101521, 6)\n"
    },
    {
     "output_type": "execute_result",
     "data": {
      "text/plain": "                                               5     nids  \\\n0  https://assets.msn.com/labs/mind/AABmf2I.html  AABmf2I   \n1  https://assets.msn.com/labs/mind/AAISxPN.html  AAISxPN   \n2  https://assets.msn.com/labs/mind/AAEKnO1.html  AAEKnO1   \n3  https://assets.msn.com/labs/mind/AADlomf.html  AADlomf   \n4  https://assets.msn.com/labs/mind/AAGBR44.html  AAGBR44   \n\n                                               Title                  Date  \\\n0    Walmart Slashes Prices on Last-Generation iPads  2019-10-28T17:38:04Z   \n1  Dispose of unwanted prescription drugs on Satu...  2019-10-25T17:31:42Z   \n2  Check Houston traffic map for current road con...  2019-11-26T12:55:03Z   \n3  How to record your screen on Windows, macOS, i...  2019-11-06T16:06:25Z   \n4  This Guy Altered His Diet and Training to Drop...  2019-08-31T11:37:11Z   \n\n                                             Content  \\\n0  ['This year, Walmartâ\\x80\\x99s not waiting unt...   \n1  ['CINCINNATI (FOX19) - If you have expired, un...   \n2  [\"Get real-time traffic data from Houston's ro...   \n3  [\"There are lots of reasons to record your scr...   \n4  ['Brandon Reid always felt like â\\x80\\x9cthe f...   \n\n                                               Image  \n0  https://img-s-msn-com.akamaized.net/tenant/amp...  \n1  https://img-s-msn-com.akamaized.net/tenant/amp...  \n2  https://img-s-msn-com.akamaized.net/tenant/amp...  \n3  https://img-s-msn-com.akamaized.net/tenant/amp...  \n4  https://img-s-msn-com.akamaized.net/tenant/amp...  ",
      "text/html": "<div>\n<style scoped>\n    .dataframe tbody tr th:only-of-type {\n        vertical-align: middle;\n    }\n\n    .dataframe tbody tr th {\n        vertical-align: top;\n    }\n\n    .dataframe thead th {\n        text-align: right;\n    }\n</style>\n<table border=\"1\" class=\"dataframe\">\n  <thead>\n    <tr style=\"text-align: right;\">\n      <th></th>\n      <th>5</th>\n      <th>nids</th>\n      <th>Title</th>\n      <th>Date</th>\n      <th>Content</th>\n      <th>Image</th>\n    </tr>\n  </thead>\n  <tbody>\n    <tr>\n      <th>0</th>\n      <td>https://assets.msn.com/labs/mind/AABmf2I.html</td>\n      <td>AABmf2I</td>\n      <td>Walmart Slashes Prices on Last-Generation iPads</td>\n      <td>2019-10-28T17:38:04Z</td>\n      <td>['This year, Walmartâ\\x80\\x99s not waiting unt...</td>\n      <td>https://img-s-msn-com.akamaized.net/tenant/amp...</td>\n    </tr>\n    <tr>\n      <th>1</th>\n      <td>https://assets.msn.com/labs/mind/AAISxPN.html</td>\n      <td>AAISxPN</td>\n      <td>Dispose of unwanted prescription drugs on Satu...</td>\n      <td>2019-10-25T17:31:42Z</td>\n      <td>['CINCINNATI (FOX19) - If you have expired, un...</td>\n      <td>https://img-s-msn-com.akamaized.net/tenant/amp...</td>\n    </tr>\n    <tr>\n      <th>2</th>\n      <td>https://assets.msn.com/labs/mind/AAEKnO1.html</td>\n      <td>AAEKnO1</td>\n      <td>Check Houston traffic map for current road con...</td>\n      <td>2019-11-26T12:55:03Z</td>\n      <td>[\"Get real-time traffic data from Houston's ro...</td>\n      <td>https://img-s-msn-com.akamaized.net/tenant/amp...</td>\n    </tr>\n    <tr>\n      <th>3</th>\n      <td>https://assets.msn.com/labs/mind/AADlomf.html</td>\n      <td>AADlomf</td>\n      <td>How to record your screen on Windows, macOS, i...</td>\n      <td>2019-11-06T16:06:25Z</td>\n      <td>[\"There are lots of reasons to record your scr...</td>\n      <td>https://img-s-msn-com.akamaized.net/tenant/amp...</td>\n    </tr>\n    <tr>\n      <th>4</th>\n      <td>https://assets.msn.com/labs/mind/AAGBR44.html</td>\n      <td>AAGBR44</td>\n      <td>This Guy Altered His Diet and Training to Drop...</td>\n      <td>2019-08-31T11:37:11Z</td>\n      <td>['Brandon Reid always felt like â\\x80\\x9cthe f...</td>\n      <td>https://img-s-msn-com.akamaized.net/tenant/amp...</td>\n    </tr>\n  </tbody>\n</table>\n</div>"
     },
     "metadata": {},
     "execution_count": 70
    }
   ],
   "source": [
    "msn_train_crawled = pd.read_csv('/Users/baeyuna/Documents/SNU_DLab/Data/msn_train_all.csv')\n",
    "print(msn_train_crawled.shape)\n",
    "msn_train_crawled.rename(columns = {'url' : 5}, inplace = True)\n",
    "msn_train_crawled.head()"
   ]
  },
  {
   "cell_type": "code",
   "execution_count": 71,
   "metadata": {
    "tags": []
   },
   "outputs": [
    {
     "output_type": "stream",
     "name": "stdout",
     "text": "(101521, 6)\n"
    },
    {
     "output_type": "execute_result",
     "data": {
      "text/plain": "                                               5     nids  \\\n0  https://assets.msn.com/labs/mind/AABmf2I.html  AABmf2I   \n1  https://assets.msn.com/labs/mind/AAISxPN.html  AAISxPN   \n2  https://assets.msn.com/labs/mind/AAEKnO1.html  AAEKnO1   \n3  https://assets.msn.com/labs/mind/AADlomf.html  AADlomf   \n4  https://assets.msn.com/labs/mind/AAGBR44.html  AAGBR44   \n\n                                               Title                  Date  \\\n0    Walmart Slashes Prices on Last-Generation iPads  2019-10-28T17:38:04Z   \n1  Dispose of unwanted prescription drugs on Satu...  2019-10-25T17:31:42Z   \n2  Check Houston traffic map for current road con...  2019-11-26T12:55:03Z   \n3  How to record your screen on Windows, macOS, i...  2019-11-06T16:06:25Z   \n4  This Guy Altered His Diet and Training to Drop...  2019-08-31T11:37:11Z   \n\n                                               Image  \\\n0  https://img-s-msn-com.akamaized.net/tenant/amp...   \n1  https://img-s-msn-com.akamaized.net/tenant/amp...   \n2  https://img-s-msn-com.akamaized.net/tenant/amp...   \n3  https://img-s-msn-com.akamaized.net/tenant/amp...   \n4  https://img-s-msn-com.akamaized.net/tenant/amp...   \n\n                                             Content  \n0  This year, Walmartâs not waiting until Black...  \n1  CINCINNATI (FOX19) - If you have expired, unus...  \n2  Get real-time traffic data from Houston's road...  \n3  There are lots of reasons to record your scree...  \n4  Brandon Reid always felt like âthe fat kid.â...  ",
      "text/html": "<div>\n<style scoped>\n    .dataframe tbody tr th:only-of-type {\n        vertical-align: middle;\n    }\n\n    .dataframe tbody tr th {\n        vertical-align: top;\n    }\n\n    .dataframe thead th {\n        text-align: right;\n    }\n</style>\n<table border=\"1\" class=\"dataframe\">\n  <thead>\n    <tr style=\"text-align: right;\">\n      <th></th>\n      <th>5</th>\n      <th>nids</th>\n      <th>Title</th>\n      <th>Date</th>\n      <th>Image</th>\n      <th>Content</th>\n    </tr>\n  </thead>\n  <tbody>\n    <tr>\n      <th>0</th>\n      <td>https://assets.msn.com/labs/mind/AABmf2I.html</td>\n      <td>AABmf2I</td>\n      <td>Walmart Slashes Prices on Last-Generation iPads</td>\n      <td>2019-10-28T17:38:04Z</td>\n      <td>https://img-s-msn-com.akamaized.net/tenant/amp...</td>\n      <td>This year, Walmartâs not waiting until Black...</td>\n    </tr>\n    <tr>\n      <th>1</th>\n      <td>https://assets.msn.com/labs/mind/AAISxPN.html</td>\n      <td>AAISxPN</td>\n      <td>Dispose of unwanted prescription drugs on Satu...</td>\n      <td>2019-10-25T17:31:42Z</td>\n      <td>https://img-s-msn-com.akamaized.net/tenant/amp...</td>\n      <td>CINCINNATI (FOX19) - If you have expired, unus...</td>\n    </tr>\n    <tr>\n      <th>2</th>\n      <td>https://assets.msn.com/labs/mind/AAEKnO1.html</td>\n      <td>AAEKnO1</td>\n      <td>Check Houston traffic map for current road con...</td>\n      <td>2019-11-26T12:55:03Z</td>\n      <td>https://img-s-msn-com.akamaized.net/tenant/amp...</td>\n      <td>Get real-time traffic data from Houston's road...</td>\n    </tr>\n    <tr>\n      <th>3</th>\n      <td>https://assets.msn.com/labs/mind/AADlomf.html</td>\n      <td>AADlomf</td>\n      <td>How to record your screen on Windows, macOS, i...</td>\n      <td>2019-11-06T16:06:25Z</td>\n      <td>https://img-s-msn-com.akamaized.net/tenant/amp...</td>\n      <td>There are lots of reasons to record your scree...</td>\n    </tr>\n    <tr>\n      <th>4</th>\n      <td>https://assets.msn.com/labs/mind/AAGBR44.html</td>\n      <td>AAGBR44</td>\n      <td>This Guy Altered His Diet and Training to Drop...</td>\n      <td>2019-08-31T11:37:11Z</td>\n      <td>https://img-s-msn-com.akamaized.net/tenant/amp...</td>\n      <td>Brandon Reid always felt like âthe fat kid.â...</td>\n    </tr>\n  </tbody>\n</table>\n</div>"
     },
     "metadata": {},
     "execution_count": 71
    }
   ],
   "source": [
    "msn_train_crawled['Content_str'] = msn_train_crawled['Content'].apply(lambda x: string_to_list(x)) \n",
    "msn_train_crawled.drop(['Content'], axis='columns', inplace=True)\n",
    "msn_train_crawled.rename(columns = {'Content_str' : 'Content'}, inplace = True)\n",
    "print(msn_train_crawled.shape)\n",
    "msn_train_crawled.head()"
   ]
  },
  {
   "cell_type": "code",
   "execution_count": 72,
   "metadata": {
    "tags": []
   },
   "outputs": [
    {
     "output_type": "stream",
     "name": "stdout",
     "text": "(101527, 8)\n"
    },
    {
     "output_type": "execute_result",
     "data": {
      "text/plain": "        0          1                         2  \\\n0  N88753  lifestyle           lifestyleroyals   \n1  N45436       news  newsscienceandtechnology   \n2  N23144     health                weightloss   \n3  N86255     health                   medical   \n4  N93187       news                 newsworld   \n\n                                                   3  \\\n0  The Brands Queen Elizabeth, Prince Charles, an...   \n1    Walmart Slashes Prices on Last-Generation iPads   \n2                      50 Worst Habits For Belly Fat   \n3  Dispose of unwanted prescription drugs during ...   \n4  The Cost of Trump's Aid Freeze in the Trenches...   \n\n                                                   4  \\\n0  Shop the notebooks, jackets, and more that the...   \n1  Apple's new iPad releases bring big deals on l...   \n2  These seemingly harmless habits are holding yo...   \n3                                                NaN   \n4  Lt. Ivan Molchanets peeked over a parapet of s...   \n\n                                               5  \\\n0  https://assets.msn.com/labs/mind/AAGH0ET.html   \n1  https://assets.msn.com/labs/mind/AABmf2I.html   \n2  https://assets.msn.com/labs/mind/AAB19MK.html   \n3  https://assets.msn.com/labs/mind/AAISxPN.html   \n4  https://assets.msn.com/labs/mind/AAJgNsz.html   \n\n                                                   6  \\\n0  [{\"Label\": \"Prince Philip, Duke of Edinburgh\",...   \n1  [{\"Label\": \"IPad\", \"Type\": \"J\", \"WikidataId\": ...   \n2  [{\"Label\": \"Adipose tissue\", \"Type\": \"C\", \"Wik...   \n3  [{\"Label\": \"Drug Enforcement Administration\", ...   \n4                                                 []   \n\n                                                   7  \n0                                                 []  \n1  [{\"Label\": \"IPad\", \"Type\": \"J\", \"WikidataId\": ...  \n2  [{\"Label\": \"Adipose tissue\", \"Type\": \"C\", \"Wik...  \n3                                                 []  \n4  [{\"Label\": \"Ukraine\", \"Type\": \"G\", \"WikidataId...  ",
      "text/html": "<div>\n<style scoped>\n    .dataframe tbody tr th:only-of-type {\n        vertical-align: middle;\n    }\n\n    .dataframe tbody tr th {\n        vertical-align: top;\n    }\n\n    .dataframe thead th {\n        text-align: right;\n    }\n</style>\n<table border=\"1\" class=\"dataframe\">\n  <thead>\n    <tr style=\"text-align: right;\">\n      <th></th>\n      <th>0</th>\n      <th>1</th>\n      <th>2</th>\n      <th>3</th>\n      <th>4</th>\n      <th>5</th>\n      <th>6</th>\n      <th>7</th>\n    </tr>\n  </thead>\n  <tbody>\n    <tr>\n      <th>0</th>\n      <td>N88753</td>\n      <td>lifestyle</td>\n      <td>lifestyleroyals</td>\n      <td>The Brands Queen Elizabeth, Prince Charles, an...</td>\n      <td>Shop the notebooks, jackets, and more that the...</td>\n      <td>https://assets.msn.com/labs/mind/AAGH0ET.html</td>\n      <td>[{\"Label\": \"Prince Philip, Duke of Edinburgh\",...</td>\n      <td>[]</td>\n    </tr>\n    <tr>\n      <th>1</th>\n      <td>N45436</td>\n      <td>news</td>\n      <td>newsscienceandtechnology</td>\n      <td>Walmart Slashes Prices on Last-Generation iPads</td>\n      <td>Apple's new iPad releases bring big deals on l...</td>\n      <td>https://assets.msn.com/labs/mind/AABmf2I.html</td>\n      <td>[{\"Label\": \"IPad\", \"Type\": \"J\", \"WikidataId\": ...</td>\n      <td>[{\"Label\": \"IPad\", \"Type\": \"J\", \"WikidataId\": ...</td>\n    </tr>\n    <tr>\n      <th>2</th>\n      <td>N23144</td>\n      <td>health</td>\n      <td>weightloss</td>\n      <td>50 Worst Habits For Belly Fat</td>\n      <td>These seemingly harmless habits are holding yo...</td>\n      <td>https://assets.msn.com/labs/mind/AAB19MK.html</td>\n      <td>[{\"Label\": \"Adipose tissue\", \"Type\": \"C\", \"Wik...</td>\n      <td>[{\"Label\": \"Adipose tissue\", \"Type\": \"C\", \"Wik...</td>\n    </tr>\n    <tr>\n      <th>3</th>\n      <td>N86255</td>\n      <td>health</td>\n      <td>medical</td>\n      <td>Dispose of unwanted prescription drugs during ...</td>\n      <td>NaN</td>\n      <td>https://assets.msn.com/labs/mind/AAISxPN.html</td>\n      <td>[{\"Label\": \"Drug Enforcement Administration\", ...</td>\n      <td>[]</td>\n    </tr>\n    <tr>\n      <th>4</th>\n      <td>N93187</td>\n      <td>news</td>\n      <td>newsworld</td>\n      <td>The Cost of Trump's Aid Freeze in the Trenches...</td>\n      <td>Lt. Ivan Molchanets peeked over a parapet of s...</td>\n      <td>https://assets.msn.com/labs/mind/AAJgNsz.html</td>\n      <td>[]</td>\n      <td>[{\"Label\": \"Ukraine\", \"Type\": \"G\", \"WikidataId...</td>\n    </tr>\n  </tbody>\n</table>\n</div>"
     },
     "metadata": {},
     "execution_count": 72
    }
   ],
   "source": [
    "msn_train_news = pd.read_csv('/Users/baeyuna/Documents/SNU_Dlab/Data/MINDlarge_train/news.tsv', delimiter='\\t', header=None)\n",
    "print(msn_train_news.shape)\n",
    "msn_train_news.head()"
   ]
  },
  {
   "cell_type": "code",
   "execution_count": 73,
   "metadata": {
    "tags": []
   },
   "outputs": [
    {
     "output_type": "stream",
     "name": "stdout",
     "text": "msn_train_crawled shape: (101521, 6)\nmsn_train_news shape: (101527, 8)\nmsn_train shape: (101521, 13)\n"
    },
    {
     "output_type": "execute_result",
     "data": {
      "text/plain": "                                               5     nids  \\\n0  https://assets.msn.com/labs/mind/AABmf2I.html  AABmf2I   \n1  https://assets.msn.com/labs/mind/AAISxPN.html  AAISxPN   \n2  https://assets.msn.com/labs/mind/AAEKnO1.html  AAEKnO1   \n3  https://assets.msn.com/labs/mind/AADlomf.html  AADlomf   \n4  https://assets.msn.com/labs/mind/AAGBR44.html  AAGBR44   \n\n                                               Title                  Date  \\\n0    Walmart Slashes Prices on Last-Generation iPads  2019-10-28T17:38:04Z   \n1  Dispose of unwanted prescription drugs on Satu...  2019-10-25T17:31:42Z   \n2  Check Houston traffic map for current road con...  2019-11-26T12:55:03Z   \n3  How to record your screen on Windows, macOS, i...  2019-11-06T16:06:25Z   \n4  This Guy Altered His Diet and Training to Drop...  2019-08-31T11:37:11Z   \n\n                                               Image  \\\n0  https://img-s-msn-com.akamaized.net/tenant/amp...   \n1  https://img-s-msn-com.akamaized.net/tenant/amp...   \n2  https://img-s-msn-com.akamaized.net/tenant/amp...   \n3  https://img-s-msn-com.akamaized.net/tenant/amp...   \n4  https://img-s-msn-com.akamaized.net/tenant/amp...   \n\n                                             Content       0       1  \\\n0  This year, Walmartâs not waiting until Black...  N45436    news   \n1  CINCINNATI (FOX19) - If you have expired, unus...  N86255  health   \n2  Get real-time traffic data from Houston's road...   N5771  health   \n3  There are lots of reasons to record your scree...  N51947    news   \n4  Brandon Reid always felt like âthe fat kid.â...  N17957  health   \n\n                          2  \\\n0  newsscienceandtechnology   \n1                   medical   \n2                    cardio   \n3  newsscienceandtechnology   \n4                weightloss   \n\n                                                   3  \\\n0    Walmart Slashes Prices on Last-Generation iPads   \n1  Dispose of unwanted prescription drugs during ...   \n2  Check Houston traffic map for current road con...   \n3  How to record your screen on Windows, macOS, i...   \n4  This Guy Altered His Diet and Training to Drop...   \n\n                                                   4  \\\n0  Apple's new iPad releases bring big deals on l...   \n1                                                NaN   \n2                                                NaN   \n3  The easiest way to record what's happening on ...   \n4  Take Brandon Reid's advice: \"Don't worry what ...   \n\n                                                   6  \\\n0  [{\"Label\": \"IPad\", \"Type\": \"J\", \"WikidataId\": ...   \n1  [{\"Label\": \"Drug Enforcement Administration\", ...   \n2  [{\"Label\": \"Houston\", \"Type\": \"G\", \"WikidataId...   \n3  [{\"Label\": \"Microsoft Windows\", \"Type\": \"J\", \"...   \n4                                                 []   \n\n                                                   7  \n0  [{\"Label\": \"IPad\", \"Type\": \"J\", \"WikidataId\": ...  \n1                                                 []  \n2                                                 []  \n3                                                 []  \n4                                                 []  ",
      "text/html": "<div>\n<style scoped>\n    .dataframe tbody tr th:only-of-type {\n        vertical-align: middle;\n    }\n\n    .dataframe tbody tr th {\n        vertical-align: top;\n    }\n\n    .dataframe thead th {\n        text-align: right;\n    }\n</style>\n<table border=\"1\" class=\"dataframe\">\n  <thead>\n    <tr style=\"text-align: right;\">\n      <th></th>\n      <th>5</th>\n      <th>nids</th>\n      <th>Title</th>\n      <th>Date</th>\n      <th>Image</th>\n      <th>Content</th>\n      <th>0</th>\n      <th>1</th>\n      <th>2</th>\n      <th>3</th>\n      <th>4</th>\n      <th>6</th>\n      <th>7</th>\n    </tr>\n  </thead>\n  <tbody>\n    <tr>\n      <th>0</th>\n      <td>https://assets.msn.com/labs/mind/AABmf2I.html</td>\n      <td>AABmf2I</td>\n      <td>Walmart Slashes Prices on Last-Generation iPads</td>\n      <td>2019-10-28T17:38:04Z</td>\n      <td>https://img-s-msn-com.akamaized.net/tenant/amp...</td>\n      <td>This year, Walmartâs not waiting until Black...</td>\n      <td>N45436</td>\n      <td>news</td>\n      <td>newsscienceandtechnology</td>\n      <td>Walmart Slashes Prices on Last-Generation iPads</td>\n      <td>Apple's new iPad releases bring big deals on l...</td>\n      <td>[{\"Label\": \"IPad\", \"Type\": \"J\", \"WikidataId\": ...</td>\n      <td>[{\"Label\": \"IPad\", \"Type\": \"J\", \"WikidataId\": ...</td>\n    </tr>\n    <tr>\n      <th>1</th>\n      <td>https://assets.msn.com/labs/mind/AAISxPN.html</td>\n      <td>AAISxPN</td>\n      <td>Dispose of unwanted prescription drugs on Satu...</td>\n      <td>2019-10-25T17:31:42Z</td>\n      <td>https://img-s-msn-com.akamaized.net/tenant/amp...</td>\n      <td>CINCINNATI (FOX19) - If you have expired, unus...</td>\n      <td>N86255</td>\n      <td>health</td>\n      <td>medical</td>\n      <td>Dispose of unwanted prescription drugs during ...</td>\n      <td>NaN</td>\n      <td>[{\"Label\": \"Drug Enforcement Administration\", ...</td>\n      <td>[]</td>\n    </tr>\n    <tr>\n      <th>2</th>\n      <td>https://assets.msn.com/labs/mind/AAEKnO1.html</td>\n      <td>AAEKnO1</td>\n      <td>Check Houston traffic map for current road con...</td>\n      <td>2019-11-26T12:55:03Z</td>\n      <td>https://img-s-msn-com.akamaized.net/tenant/amp...</td>\n      <td>Get real-time traffic data from Houston's road...</td>\n      <td>N5771</td>\n      <td>health</td>\n      <td>cardio</td>\n      <td>Check Houston traffic map for current road con...</td>\n      <td>NaN</td>\n      <td>[{\"Label\": \"Houston\", \"Type\": \"G\", \"WikidataId...</td>\n      <td>[]</td>\n    </tr>\n    <tr>\n      <th>3</th>\n      <td>https://assets.msn.com/labs/mind/AADlomf.html</td>\n      <td>AADlomf</td>\n      <td>How to record your screen on Windows, macOS, i...</td>\n      <td>2019-11-06T16:06:25Z</td>\n      <td>https://img-s-msn-com.akamaized.net/tenant/amp...</td>\n      <td>There are lots of reasons to record your scree...</td>\n      <td>N51947</td>\n      <td>news</td>\n      <td>newsscienceandtechnology</td>\n      <td>How to record your screen on Windows, macOS, i...</td>\n      <td>The easiest way to record what's happening on ...</td>\n      <td>[{\"Label\": \"Microsoft Windows\", \"Type\": \"J\", \"...</td>\n      <td>[]</td>\n    </tr>\n    <tr>\n      <th>4</th>\n      <td>https://assets.msn.com/labs/mind/AAGBR44.html</td>\n      <td>AAGBR44</td>\n      <td>This Guy Altered His Diet and Training to Drop...</td>\n      <td>2019-08-31T11:37:11Z</td>\n      <td>https://img-s-msn-com.akamaized.net/tenant/amp...</td>\n      <td>Brandon Reid always felt like âthe fat kid.â...</td>\n      <td>N17957</td>\n      <td>health</td>\n      <td>weightloss</td>\n      <td>This Guy Altered His Diet and Training to Drop...</td>\n      <td>Take Brandon Reid's advice: \"Don't worry what ...</td>\n      <td>[]</td>\n      <td>[]</td>\n    </tr>\n  </tbody>\n</table>\n</div>"
     },
     "metadata": {},
     "execution_count": 73
    }
   ],
   "source": [
    "msn_train = pd.merge(msn_train_crawled, msn_train_news, how='inner',on= 5)\n",
    "print('msn_train_crawled shape:', msn_train_crawled.shape)\n",
    "print('msn_train_news shape:', msn_train_news.shape)\n",
    "print('msn_train shape:', msn_train.shape)\n",
    "msn_train.head()"
   ]
  },
  {
   "cell_type": "code",
   "execution_count": 74,
   "metadata": {
    "tags": []
   },
   "outputs": [
    {
     "output_type": "stream",
     "name": "stdout",
     "text": "<class 'pandas.core.frame.DataFrame'>\nInt64Index: 101521 entries, 0 to 101520\nData columns (total 13 columns):\n #   Column   Non-Null Count   Dtype \n---  ------   --------------   ----- \n 0   5        101521 non-null  object\n 1   nids     101521 non-null  object\n 2   Title    101521 non-null  object\n 3   Date     101423 non-null  object\n 4   Image    81214 non-null   object\n 5   Content  96540 non-null   object\n 6   0        101521 non-null  object\n 7   1        101521 non-null  object\n 8   2        101521 non-null  object\n 9   3        101521 non-null  object\n 10  4        96106 non-null   object\n 11  6        101521 non-null  object\n 12  7        101521 non-null  object\ndtypes: object(13)\nmemory usage: 15.8+ MB\n"
    }
   ],
   "source": [
    "msn_train.info()"
   ]
  },
  {
   "cell_type": "code",
   "execution_count": 75,
   "metadata": {
    "tags": []
   },
   "outputs": [
    {
     "output_type": "stream",
     "name": "stdout",
     "text": "<class 'pandas.core.frame.DataFrame'>\nInt64Index: 72018 entries, 0 to 72017\nData columns (total 13 columns):\n #   Column   Non-Null Count  Dtype \n---  ------   --------------  ----- \n 0   5        72018 non-null  object\n 1   nids     72018 non-null  object\n 2   Title    72018 non-null  object\n 3   Date     71540 non-null  object\n 4   Image    58370 non-null  object\n 5   Content  68043 non-null  object\n 6   0        72018 non-null  object\n 7   1        72018 non-null  object\n 8   2        72018 non-null  object\n 9   3        72018 non-null  object\n 10  4        68395 non-null  object\n 11  6        72018 non-null  object\n 12  7        72018 non-null  object\ndtypes: object(13)\nmemory usage: 7.7+ MB\n"
    }
   ],
   "source": [
    "msn_dev.info()"
   ]
  },
  {
   "cell_type": "code",
   "execution_count": 76,
   "metadata": {},
   "outputs": [],
   "source": [
    "msn_train.to_csv('/Users/baeyuna/Documents/SNU_DLab/Data/msn_train.csv', index=False)\n",
    "msn_dev.to_csv('/Users/baeyuna/Documents/SNU_DLab/Data/msn_dev.csv', index=False)"
   ]
  },
  {
   "cell_type": "code",
   "execution_count": null,
   "metadata": {},
   "outputs": [],
   "source": []
  }
 ],
 "metadata": {
  "language_info": {
   "codemirror_mode": {
    "name": "ipython",
    "version": 3
   },
   "file_extension": ".py",
   "mimetype": "text/x-python",
   "name": "python",
   "nbconvert_exporter": "python",
   "pygments_lexer": "ipython3",
   "version": 3
  },
  "orig_nbformat": 2,
  "kernelspec": {
   "name": "python_defaultSpec_1596608197408",
   "display_name": "Python 3.7.6 64-bit ('base': conda)"
  }
 },
 "nbformat": 4,
 "nbformat_minor": 2
}