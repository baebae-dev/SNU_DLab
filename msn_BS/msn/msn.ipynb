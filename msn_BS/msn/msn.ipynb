{
 "cells": [
  {
   "cell_type": "markdown",
   "metadata": {},
   "source": [
    "# train"
   ]
  },
  {
   "cell_type": "code",
   "execution_count": 1,
   "metadata": {},
   "outputs": [],
   "source": [
    "import pandas as pd"
   ]
  },
  {
   "cell_type": "code",
   "execution_count": 2,
   "metadata": {},
   "outputs": [
    {
     "output_type": "execute_result",
     "data": {
      "text/plain": "                                             url     nids  \\\n0  https://assets.msn.com/labs/mind/AAGH0ET.html  AAGH0ET   \n1  https://assets.msn.com/labs/mind/AAB19MK.html  AAB19MK   \n2  https://assets.msn.com/labs/mind/AAJgNsz.html  AAJgNsz   \n3  https://assets.msn.com/labs/mind/AACk2N6.html  AACk2N6   \n4  https://assets.msn.com/labs/mind/AAAKEkt.html  AAAKEkt   \n\n                                               Title                  Date  \\\n0  The Brands Queen Elizabeth, Prince Charles, an...  2019-09-02T11:02:28Z   \n1                      50 Worst Habits For Belly Fat  2019-05-06T16:12:54Z   \n2  The Cost of Trumpâs Aid Freeze in the Trench...  2019-10-24T19:15:00Z   \n3  I Was An NBA Wife. Here's How It Affected My M...  2019-06-03T12:30:06Z   \n4  How to Get Rid of Skin Tags, According to a De...  2019-05-01T06:00:00Z   \n\n                                             Content  \\\n0  The royals are free to shop wherever they choo...   \n1  When you first start dieting and exercising, t...   \n2   ZOLOTE, Ukraine â Lt. Ivan Molchanets peeke...   \n3  Walking into the Bradley Center, I could feel ...   \n4   [Video by Health.com] As you get older, littl...   \n\n                                               Image  \n0  https://img-s-msn-com.akamaized.net/tenant/amp...  \n1  https://img-s-msn-com.akamaized.net/tenant/amp...  \n2  https://img-s-msn-com.akamaized.net/tenant/amp...  \n3  https://img-s-msn-com.akamaized.net/tenant/amp...  \n4                                                NaN  ",
      "text/html": "<div>\n<style scoped>\n    .dataframe tbody tr th:only-of-type {\n        vertical-align: middle;\n    }\n\n    .dataframe tbody tr th {\n        vertical-align: top;\n    }\n\n    .dataframe thead th {\n        text-align: right;\n    }\n</style>\n<table border=\"1\" class=\"dataframe\">\n  <thead>\n    <tr style=\"text-align: right;\">\n      <th></th>\n      <th>url</th>\n      <th>nids</th>\n      <th>Title</th>\n      <th>Date</th>\n      <th>Content</th>\n      <th>Image</th>\n    </tr>\n  </thead>\n  <tbody>\n    <tr>\n      <th>0</th>\n      <td>https://assets.msn.com/labs/mind/AAGH0ET.html</td>\n      <td>AAGH0ET</td>\n      <td>The Brands Queen Elizabeth, Prince Charles, an...</td>\n      <td>2019-09-02T11:02:28Z</td>\n      <td>The royals are free to shop wherever they choo...</td>\n      <td>https://img-s-msn-com.akamaized.net/tenant/amp...</td>\n    </tr>\n    <tr>\n      <th>1</th>\n      <td>https://assets.msn.com/labs/mind/AAB19MK.html</td>\n      <td>AAB19MK</td>\n      <td>50 Worst Habits For Belly Fat</td>\n      <td>2019-05-06T16:12:54Z</td>\n      <td>When you first start dieting and exercising, t...</td>\n      <td>https://img-s-msn-com.akamaized.net/tenant/amp...</td>\n    </tr>\n    <tr>\n      <th>2</th>\n      <td>https://assets.msn.com/labs/mind/AAJgNsz.html</td>\n      <td>AAJgNsz</td>\n      <td>The Cost of Trumpâs Aid Freeze in the Trench...</td>\n      <td>2019-10-24T19:15:00Z</td>\n      <td>ZOLOTE, Ukraine â Lt. Ivan Molchanets peeke...</td>\n      <td>https://img-s-msn-com.akamaized.net/tenant/amp...</td>\n    </tr>\n    <tr>\n      <th>3</th>\n      <td>https://assets.msn.com/labs/mind/AACk2N6.html</td>\n      <td>AACk2N6</td>\n      <td>I Was An NBA Wife. Here's How It Affected My M...</td>\n      <td>2019-06-03T12:30:06Z</td>\n      <td>Walking into the Bradley Center, I could feel ...</td>\n      <td>https://img-s-msn-com.akamaized.net/tenant/amp...</td>\n    </tr>\n    <tr>\n      <th>4</th>\n      <td>https://assets.msn.com/labs/mind/AAAKEkt.html</td>\n      <td>AAAKEkt</td>\n      <td>How to Get Rid of Skin Tags, According to a De...</td>\n      <td>2019-05-01T06:00:00Z</td>\n      <td>[Video by Health.com] As you get older, littl...</td>\n      <td>NaN</td>\n    </tr>\n  </tbody>\n</table>\n</div>"
     },
     "metadata": {},
     "execution_count": 2
    }
   ],
   "source": [
    "train = pd.read_csv('/Users/baeyuna/Documents/SNU_DLab/msn_BS/msn/msn_train.csv')\n",
    "train.head()"
   ]
  },
  {
   "cell_type": "code",
   "execution_count": 3,
   "metadata": {},
   "outputs": [
    {
     "output_type": "execute_result",
     "data": {
      "text/plain": "101527"
     },
     "metadata": {},
     "execution_count": 3
    }
   ],
   "source": [
    "tr = pd.read_csv('/Users/baeyuna/Documents/SNU_Dlab/Data/MINDlarge_train/news.tsv', delimiter='\\t', header=None)\n",
    "tr_urls = tr.iloc[:,5].tolist()\n",
    "len(tr_urls)"
   ]
  },
  {
   "cell_type": "code",
   "execution_count": 5,
   "metadata": {},
   "outputs": [],
   "source": [
    "train_url = train.loc[:,'url'].tolist()"
   ]
  },
  {
   "cell_type": "code",
   "execution_count": 6,
   "metadata": {},
   "outputs": [
    {
     "output_type": "execute_result",
     "data": {
      "text/plain": "50249"
     },
     "metadata": {},
     "execution_count": 6
    }
   ],
   "source": [
    "except_url = []\n",
    "for url in tr_urls:\n",
    "    if url not in train_url:\n",
    "        except_url.append(url)\n",
    "\n",
    "len(except_url)"
   ]
  },
  {
   "cell_type": "code",
   "execution_count": 7,
   "metadata": {},
   "outputs": [
    {
     "output_type": "execute_result",
     "data": {
      "text/plain": "'https://assets.msn.com/labs/mind/AABmf2I.html'"
     },
     "metadata": {},
     "execution_count": 7
    }
   ],
   "source": [
    "except_url[0] "
   ]
  },
  {
   "cell_type": "markdown",
   "metadata": {},
   "source": [
    "# dev"
   ]
  },
  {
   "cell_type": "code",
   "execution_count": 2,
   "metadata": {},
   "outputs": [
    {
     "output_type": "execute_result",
     "data": {
      "text/plain": "                                             url     nids  \\\n0  https://assets.msn.com/labs/mind/AAGH0ET.html  AAGH0ET   \n1  https://assets.msn.com/labs/mind/AAISxPN.html  AAISxPN   \n2  https://assets.msn.com/labs/mind/AAJgNsz.html  AAJgNsz   \n3  https://assets.msn.com/labs/mind/AACk2N6.html  AACk2N6   \n4  https://assets.msn.com/labs/mind/AAAKEkt.html  AAAKEkt   \n\n                                               Title                  Date  \\\n0  The Brands Queen Elizabeth, Prince Charles, an...  2019-09-02T11:02:28Z   \n1  Dispose of unwanted prescription drugs on Satu...  2019-10-25T17:31:42Z   \n2  The Cost of Trumpâs Aid Freeze in the Trench...  2019-10-24T19:15:00Z   \n3  I Was An NBA Wife. Here's How It Affected My M...  2019-06-03T12:30:06Z   \n4  How to Get Rid of Skin Tags, According to a De...  2019-05-01T06:00:00Z   \n\n                                             Content  \\\n0  The royals are free to shop wherever they choo...   \n1  CINCINNATI (FOX19) - If you have expired, unus...   \n2   ZOLOTE, Ukraine â Lt. Ivan Molchanets peeke...   \n3  Walking into the Bradley Center, I could feel ...   \n4   [Video by Health.com] As you get older, littl...   \n\n                                               Image  \n0  https://img-s-msn-com.akamaized.net/tenant/amp...  \n1  https://img-s-msn-com.akamaized.net/tenant/amp...  \n2  https://img-s-msn-com.akamaized.net/tenant/amp...  \n3  https://img-s-msn-com.akamaized.net/tenant/amp...  \n4                                                NaN  ",
      "text/html": "<div>\n<style scoped>\n    .dataframe tbody tr th:only-of-type {\n        vertical-align: middle;\n    }\n\n    .dataframe tbody tr th {\n        vertical-align: top;\n    }\n\n    .dataframe thead th {\n        text-align: right;\n    }\n</style>\n<table border=\"1\" class=\"dataframe\">\n  <thead>\n    <tr style=\"text-align: right;\">\n      <th></th>\n      <th>url</th>\n      <th>nids</th>\n      <th>Title</th>\n      <th>Date</th>\n      <th>Content</th>\n      <th>Image</th>\n    </tr>\n  </thead>\n  <tbody>\n    <tr>\n      <th>0</th>\n      <td>https://assets.msn.com/labs/mind/AAGH0ET.html</td>\n      <td>AAGH0ET</td>\n      <td>The Brands Queen Elizabeth, Prince Charles, an...</td>\n      <td>2019-09-02T11:02:28Z</td>\n      <td>The royals are free to shop wherever they choo...</td>\n      <td>https://img-s-msn-com.akamaized.net/tenant/amp...</td>\n    </tr>\n    <tr>\n      <th>1</th>\n      <td>https://assets.msn.com/labs/mind/AAISxPN.html</td>\n      <td>AAISxPN</td>\n      <td>Dispose of unwanted prescription drugs on Satu...</td>\n      <td>2019-10-25T17:31:42Z</td>\n      <td>CINCINNATI (FOX19) - If you have expired, unus...</td>\n      <td>https://img-s-msn-com.akamaized.net/tenant/amp...</td>\n    </tr>\n    <tr>\n      <th>2</th>\n      <td>https://assets.msn.com/labs/mind/AAJgNsz.html</td>\n      <td>AAJgNsz</td>\n      <td>The Cost of Trumpâs Aid Freeze in the Trench...</td>\n      <td>2019-10-24T19:15:00Z</td>\n      <td>ZOLOTE, Ukraine â Lt. Ivan Molchanets peeke...</td>\n      <td>https://img-s-msn-com.akamaized.net/tenant/amp...</td>\n    </tr>\n    <tr>\n      <th>3</th>\n      <td>https://assets.msn.com/labs/mind/AACk2N6.html</td>\n      <td>AACk2N6</td>\n      <td>I Was An NBA Wife. Here's How It Affected My M...</td>\n      <td>2019-06-03T12:30:06Z</td>\n      <td>Walking into the Bradley Center, I could feel ...</td>\n      <td>https://img-s-msn-com.akamaized.net/tenant/amp...</td>\n    </tr>\n    <tr>\n      <th>4</th>\n      <td>https://assets.msn.com/labs/mind/AAAKEkt.html</td>\n      <td>AAAKEkt</td>\n      <td>How to Get Rid of Skin Tags, According to a De...</td>\n      <td>2019-05-01T06:00:00Z</td>\n      <td>[Video by Health.com] As you get older, littl...</td>\n      <td>NaN</td>\n    </tr>\n  </tbody>\n</table>\n</div>"
     },
     "metadata": {},
     "execution_count": 2
    }
   ],
   "source": [
    "dev = pd.read_csv('/Users/baeyuna/Documents/SNU_DLab/msn_BS/msn/msn_dev.csv')\n",
    "dev.head()"
   ]
  },
  {
   "cell_type": "code",
   "execution_count": 3,
   "metadata": {
    "tags": []
   },
   "outputs": [
    {
     "output_type": "stream",
     "name": "stdout",
     "text": "42414\n"
    },
    {
     "output_type": "execute_result",
     "data": {
      "text/plain": "'https://assets.msn.com/labs/mind/AAGH0ET.html'"
     },
     "metadata": {},
     "execution_count": 3
    }
   ],
   "source": [
    "dev_url = dev['url'].tolist()\n",
    "print(len(dev_url))\n",
    "dev_url[0]"
   ]
  },
  {
   "cell_type": "code",
   "execution_count": 4,
   "metadata": {
    "tags": []
   },
   "outputs": [
    {
     "output_type": "stream",
     "name": "stdout",
     "text": "72023\n"
    },
    {
     "output_type": "execute_result",
     "data": {
      "text/plain": "'https://assets.msn.com/labs/mind/AAGH0ET.html'"
     },
     "metadata": {},
     "execution_count": 4
    }
   ],
   "source": [
    "ori_dev = pd.read_csv('/Users/baeyuna/Documents/SNU_Dlab/Data/MINDlarge_dev/news.tsv', delimiter='\\t', header=None)\n",
    "ori_dev_urls = ori_dev.iloc[:,5].tolist()\n",
    "print(len(ori_dev_urls))\n",
    "ori_dev_urls[0]"
   ]
  },
  {
   "cell_type": "code",
   "execution_count": 5,
   "metadata": {},
   "outputs": [
    {
     "output_type": "execute_result",
     "data": {
      "text/plain": "29609"
     },
     "metadata": {},
     "execution_count": 5
    }
   ],
   "source": [
    "except_url_dev = []\n",
    "for url in ori_dev_urls:\n",
    "    if url not in dev_url:\n",
    "        except_url_dev.append(url)\n",
    "\n",
    "len(except_url_dev) "
   ]
  },
  {
   "cell_type": "code",
   "execution_count": 6,
   "metadata": {},
   "outputs": [
    {
     "output_type": "execute_result",
     "data": {
      "text/plain": "'https://assets.msn.com/labs/mind/AAB19MK.html'"
     },
     "metadata": {},
     "execution_count": 6
    }
   ],
   "source": [
    "except_url_dev[0]"
   ]
  },
  {
   "cell_type": "code",
   "execution_count": 20,
   "metadata": {
    "tags": []
   },
   "outputs": [
    {
     "output_type": "stream",
     "name": "stdout",
     "text": "(72018, 6)\n"
    },
    {
     "output_type": "execute_result",
     "data": {
      "text/plain": "                                             url     nids  \\\n0  https://assets.msn.com/labs/mind/AAGH0ET.html  AAGH0ET   \n1  https://assets.msn.com/labs/mind/AAB19MK.html  AAB19MK   \n2  https://assets.msn.com/labs/mind/AAISxPN.html  AAISxPN   \n3  https://assets.msn.com/labs/mind/AAJgNsz.html  AAJgNsz   \n4  https://assets.msn.com/labs/mind/AACk2N6.html  AACk2N6   \n\n                                               Title Date  \\\n0  The Brands Queen Elizabeth, Prince Charles, an...  NaN   \n1                      50 Worst Habits For Belly Fat  NaN   \n2  Dispose of unwanted prescription drugs on Satu...  NaN   \n3  The Cost of Trumpâs Aid Freeze in the Trench...  NaN   \n4  I Was An NBA Wife. Here's How It Affected My M...  NaN   \n\n                                             Content  \\\n0  ['The royals are free to shop wherever they ch...   \n1  ['When you first start dieting and exercising,...   \n2  ['CINCINNATI (FOX19) - If you have expired, un...   \n3  ['', 'ZOLOTE, Ukraine â\\x80\\x94 Lt. Ivan Molch...   \n4  [\"Walking into the Bradley Center, I could fee...   \n\n                                               Image  \n0  https://img-s-msn-com.akamaized.net/tenant/amp...  \n1  https://img-s-msn-com.akamaized.net/tenant/amp...  \n2  https://img-s-msn-com.akamaized.net/tenant/amp...  \n3  https://img-s-msn-com.akamaized.net/tenant/amp...  \n4  https://img-s-msn-com.akamaized.net/tenant/amp...  ",
      "text/html": "<div>\n<style scoped>\n    .dataframe tbody tr th:only-of-type {\n        vertical-align: middle;\n    }\n\n    .dataframe tbody tr th {\n        vertical-align: top;\n    }\n\n    .dataframe thead th {\n        text-align: right;\n    }\n</style>\n<table border=\"1\" class=\"dataframe\">\n  <thead>\n    <tr style=\"text-align: right;\">\n      <th></th>\n      <th>url</th>\n      <th>nids</th>\n      <th>Title</th>\n      <th>Date</th>\n      <th>Content</th>\n      <th>Image</th>\n    </tr>\n  </thead>\n  <tbody>\n    <tr>\n      <th>0</th>\n      <td>https://assets.msn.com/labs/mind/AAGH0ET.html</td>\n      <td>AAGH0ET</td>\n      <td>The Brands Queen Elizabeth, Prince Charles, an...</td>\n      <td>NaN</td>\n      <td>['The royals are free to shop wherever they ch...</td>\n      <td>https://img-s-msn-com.akamaized.net/tenant/amp...</td>\n    </tr>\n    <tr>\n      <th>1</th>\n      <td>https://assets.msn.com/labs/mind/AAB19MK.html</td>\n      <td>AAB19MK</td>\n      <td>50 Worst Habits For Belly Fat</td>\n      <td>NaN</td>\n      <td>['When you first start dieting and exercising,...</td>\n      <td>https://img-s-msn-com.akamaized.net/tenant/amp...</td>\n    </tr>\n    <tr>\n      <th>2</th>\n      <td>https://assets.msn.com/labs/mind/AAISxPN.html</td>\n      <td>AAISxPN</td>\n      <td>Dispose of unwanted prescription drugs on Satu...</td>\n      <td>NaN</td>\n      <td>['CINCINNATI (FOX19) - If you have expired, un...</td>\n      <td>https://img-s-msn-com.akamaized.net/tenant/amp...</td>\n    </tr>\n    <tr>\n      <th>3</th>\n      <td>https://assets.msn.com/labs/mind/AAJgNsz.html</td>\n      <td>AAJgNsz</td>\n      <td>The Cost of Trumpâs Aid Freeze in the Trench...</td>\n      <td>NaN</td>\n      <td>['', 'ZOLOTE, Ukraine â\\x80\\x94 Lt. Ivan Molch...</td>\n      <td>https://img-s-msn-com.akamaized.net/tenant/amp...</td>\n    </tr>\n    <tr>\n      <th>4</th>\n      <td>https://assets.msn.com/labs/mind/AACk2N6.html</td>\n      <td>AACk2N6</td>\n      <td>I Was An NBA Wife. Here's How It Affected My M...</td>\n      <td>NaN</td>\n      <td>[\"Walking into the Bradley Center, I could fee...</td>\n      <td>https://img-s-msn-com.akamaized.net/tenant/amp...</td>\n    </tr>\n  </tbody>\n</table>\n</div>"
     },
     "metadata": {},
     "execution_count": 20
    }
   ],
   "source": [
    "# dev2 = pd.read_csv('/Users/baeyuna/Documents/SNU_DLab/msn_BS/msn/process_dev.csv')\n",
    "# print(dev2.shape)\n",
    "# dev2.head()"
   ]
  },
  {
   "cell_type": "code",
   "execution_count": 21,
   "metadata": {},
   "outputs": [],
   "source": [
    "# dev2_url = dev2['url'].tolist() "
   ]
  },
  {
   "cell_type": "markdown",
   "metadata": {},
   "source": [
    "# crawling"
   ]
  },
  {
   "cell_type": "code",
   "execution_count": 7,
   "metadata": {},
   "outputs": [],
   "source": [
    "import os\n",
    "import pandas as pd\n",
    "import requests\n",
    "from bs4 import BeautifulSoup\n",
    "import argparse\n",
    "import json\n",
    "import re\n",
    "import sys\n",
    "import time"
   ]
  },
  {
   "cell_type": "code",
   "execution_count": 14,
   "metadata": {},
   "outputs": [],
   "source": [
    "def crawling(urls):\n",
    "    url_lst = []\n",
    "    nids = []\n",
    "    titles = []    \n",
    "    dates = []\n",
    "    contents = []\n",
    "    images = []\n",
    "\n",
    "    url_except =[]\n",
    "    count = 0\n",
    "    start_time = int(time.time())\n",
    "    for url in urls:\n",
    "        count += 1\n",
    "        if count % 10000 == 0:\n",
    "            print(count, 'is crawled and',  len(urls)-count,'are remained')\n",
    "        try:\n",
    "            req = requests.get(url)\n",
    "            html = req.text\n",
    "            soup = BeautifulSoup(html, 'html.parser')\n",
    "\n",
    "            # url\n",
    "            url_lst.append(url)\n",
    "\n",
    "            # title\n",
    "            try:\n",
    "                title = soup.find('h1').text.strip()\n",
    "                titles.append(title)\n",
    "            except:\n",
    "                titles.append(None)\n",
    "\n",
    "            # date\n",
    "            try:\n",
    "                date = soup.find('time').get('datetime')\n",
    "                dates.append(date)\n",
    "            except:\n",
    "                dates.append(None)\n",
    "\n",
    "            # content\n",
    "            try:\n",
    "                content = []\n",
    "                for el in soup.find_all('p'):\n",
    "                    content.append(el.text)\n",
    "                contents.append(content)\n",
    "            except:\n",
    "                contents.append(None)\n",
    "\n",
    "            # image\n",
    "            try:\n",
    "                image = soup.find('img').get('src')\n",
    "                images.append(image)\n",
    "            except:\n",
    "                images.append(None)\n",
    "\n",
    "            # nid\n",
    "            nid = url.split('/')[-1].split('.')[0]\n",
    "            nids.append(nid)\n",
    "        \n",
    "        except:\n",
    "            url_except.append(url)\n",
    "\n",
    "    # save\n",
    "    df = pd.DataFrame({'url' : url_lst,\n",
    "                   'nids': nids,\n",
    "                   'Title':titles,\n",
    "                   'Date': dates, \n",
    "                   'Content': contents,\n",
    "                   'Image': images})\n",
    "    \n",
    "\n",
    "    print('-------Seconds: %s--------' % (time.time() - start_time))\n",
    "    return df"
   ]
  },
  {
   "cell_type": "code",
   "execution_count": 9,
   "metadata": {
    "tags": []
   },
   "outputs": [
    {
     "output_type": "stream",
     "name": "stdout",
     "text": "10000 is crawled and 19609 are remained\n20000 is crawled and 9609 are remained\n-------Seconds: 4619.880561828613--------\n(29604, 1)\n"
    }
   ],
   "source": [
    "# df_dev, exc = crawling(except_url_dev)\n",
    "# dev2_url = dev2['url'].tolist()\n",
    "df_dev = crawling(except_url_dev) \n",
    "\n",
    "print(df_dev.shape) \n",
    "df_dev.to_csv('msn_dev1.csv', index=False) "
   ]
  },
  {
   "cell_type": "code",
   "execution_count": 11,
   "metadata": {},
   "outputs": [
    {
     "output_type": "execute_result",
     "data": {
      "text/plain": "                       Date\n0      2019-05-06T16:12:54Z\n1      2019-11-26T12:55:03Z\n2      2019-07-15T12:30:59Z\n3      2019-07-18T08:00:43Z\n4      2018-06-25T19:42:03Z\n...                     ...\n29599  2019-11-08T08:05:00Z\n29600  2019-11-09T13:04:56Z\n29601  2019-11-08T05:18:04Z\n29602  2019-11-10T18:43:00Z\n29603  2019-11-10T20:45:00Z\n\n[29604 rows x 1 columns]",
      "text/html": "<div>\n<style scoped>\n    .dataframe tbody tr th:only-of-type {\n        vertical-align: middle;\n    }\n\n    .dataframe tbody tr th {\n        vertical-align: top;\n    }\n\n    .dataframe thead th {\n        text-align: right;\n    }\n</style>\n<table border=\"1\" class=\"dataframe\">\n  <thead>\n    <tr style=\"text-align: right;\">\n      <th></th>\n      <th>Date</th>\n    </tr>\n  </thead>\n  <tbody>\n    <tr>\n      <th>0</th>\n      <td>2019-05-06T16:12:54Z</td>\n    </tr>\n    <tr>\n      <th>1</th>\n      <td>2019-11-26T12:55:03Z</td>\n    </tr>\n    <tr>\n      <th>2</th>\n      <td>2019-07-15T12:30:59Z</td>\n    </tr>\n    <tr>\n      <th>3</th>\n      <td>2019-07-18T08:00:43Z</td>\n    </tr>\n    <tr>\n      <th>4</th>\n      <td>2018-06-25T19:42:03Z</td>\n    </tr>\n    <tr>\n      <th>...</th>\n      <td>...</td>\n    </tr>\n    <tr>\n      <th>29599</th>\n      <td>2019-11-08T08:05:00Z</td>\n    </tr>\n    <tr>\n      <th>29600</th>\n      <td>2019-11-09T13:04:56Z</td>\n    </tr>\n    <tr>\n      <th>29601</th>\n      <td>2019-11-08T05:18:04Z</td>\n    </tr>\n    <tr>\n      <th>29602</th>\n      <td>2019-11-10T18:43:00Z</td>\n    </tr>\n    <tr>\n      <th>29603</th>\n      <td>2019-11-10T20:45:00Z</td>\n    </tr>\n  </tbody>\n</table>\n<p>29604 rows × 1 columns</p>\n</div>"
     },
     "metadata": {},
     "execution_count": 11
    }
   ],
   "source": [
    "df_dev "
   ]
  },
  {
   "cell_type": "code",
   "execution_count": 15,
   "metadata": {
    "tags": []
   },
   "outputs": [
    {
     "output_type": "stream",
     "name": "stdout",
     "text": "10000 is crawled and 19609 are remained\n20000 is crawled and 9609 are remained\n-------Seconds: 2890.068466901779--------\n(29604, 6)\n"
    }
   ],
   "source": [
    "df_dev = crawling(except_url_dev) \n",
    "\n",
    "print(df_dev.shape) \n",
    "df_dev.to_csv('msn_dev1.csv', index=False) "
   ]
  },
  {
   "cell_type": "code",
   "execution_count": 16,
   "metadata": {},
   "outputs": [
    {
     "output_type": "execute_result",
     "data": {
      "text/plain": "                                                 url     nids  \\\n0      https://assets.msn.com/labs/mind/AAB19MK.html  AAB19MK   \n1      https://assets.msn.com/labs/mind/AAEKnO1.html  AAEKnO1   \n2      https://assets.msn.com/labs/mind/AAElNsz.html  AAElNsz   \n3      https://assets.msn.com/labs/mind/AAEvtb9.html  AAEvtb9   \n4      https://assets.msn.com/labs/mind/AADm4XB.html  AADm4XB   \n...                                              ...      ...   \n29599  https://assets.msn.com/labs/mind/BBWsemx.html  BBWsemx   \n29600  https://assets.msn.com/labs/mind/BBWses2.html  BBWses2   \n29601  https://assets.msn.com/labs/mind/BBWsnjX.html  BBWsnjX   \n29602  https://assets.msn.com/labs/mind/BBWynQ4.html  BBWynQ4   \n29603  https://assets.msn.com/labs/mind/BBWypTC.html  BBWypTC   \n\n                                                   Title  \\\n0                          50 Worst Habits For Belly Fat   \n1      Check Houston traffic map for current road con...   \n2      How to talk about your sex life with your partner   \n3      My Corvette Moment? When I Took the Mighty ZR1...   \n4      The Biggest Mental and Physical Benefits of Wo...   \n...                                                  ...   \n29599  Cleveland takes on Washington, seeks to halt 3...   \n29600  Quiet weather this weekend; snow accumulations...   \n29601  DC high schools awarded for bold new approach ...   \n29602  Pregnant 'Little People, Big World' star Tori ...   \n29603  Behind the scenes: What goes on in the flight ...   \n\n                       Date  \\\n0      2019-05-06T16:12:54Z   \n1      2019-11-26T12:55:03Z   \n2      2019-07-15T12:30:59Z   \n3      2019-07-18T08:00:43Z   \n4      2018-06-25T19:42:03Z   \n...                     ...   \n29599  2019-11-08T08:05:00Z   \n29600  2019-11-09T13:04:56Z   \n29601  2019-11-08T05:18:04Z   \n29602  2019-11-10T18:43:00Z   \n29603  2019-11-10T20:45:00Z   \n\n                                                 Content  \\\n0      [When you first start dieting and exercising, ...   \n1      [Get real-time traffic data from Houston's roa...   \n2      [Trouble in paradise? Going through a dry patc...   \n3      [It's fitting the C8 Corvette graces the cover...   \n4      [We've got some happy news that will rev up yo...   \n...                                                  ...   \n29599  [Cleveland Cavaliers (2-5, 13th in the Eastern...   \n29600  [ QUICK-LOOK FORECAST ,  >>Â TRACK THE CONDITI...   \n29601  [Thurgood Marshall Academy was forever changed...   \n29602  [Tori Roloff is clapping back at hateful troll...   \n29603  [MSN has partnered with The Points Guy for our...   \n\n                                                   Image  \n0      https://img-s-msn-com.akamaized.net/tenant/amp...  \n1      https://img-s-msn-com.akamaized.net/tenant/amp...  \n2      https://img-s-msn-com.akamaized.net/tenant/amp...  \n3                                                   None  \n4      https://img-s-msn-com.akamaized.net/tenant/amp...  \n...                                                  ...  \n29599                                               None  \n29600  https://img-s-msn-com.akamaized.net/tenant/amp...  \n29601                                               None  \n29602  https://img-s-msn-com.akamaized.net/tenant/amp...  \n29603  https://img-s-msn-com.akamaized.net/tenant/amp...  \n\n[29604 rows x 6 columns]",
      "text/html": "<div>\n<style scoped>\n    .dataframe tbody tr th:only-of-type {\n        vertical-align: middle;\n    }\n\n    .dataframe tbody tr th {\n        vertical-align: top;\n    }\n\n    .dataframe thead th {\n        text-align: right;\n    }\n</style>\n<table border=\"1\" class=\"dataframe\">\n  <thead>\n    <tr style=\"text-align: right;\">\n      <th></th>\n      <th>url</th>\n      <th>nids</th>\n      <th>Title</th>\n      <th>Date</th>\n      <th>Content</th>\n      <th>Image</th>\n    </tr>\n  </thead>\n  <tbody>\n    <tr>\n      <th>0</th>\n      <td>https://assets.msn.com/labs/mind/AAB19MK.html</td>\n      <td>AAB19MK</td>\n      <td>50 Worst Habits For Belly Fat</td>\n      <td>2019-05-06T16:12:54Z</td>\n      <td>[When you first start dieting and exercising, ...</td>\n      <td>https://img-s-msn-com.akamaized.net/tenant/amp...</td>\n    </tr>\n    <tr>\n      <th>1</th>\n      <td>https://assets.msn.com/labs/mind/AAEKnO1.html</td>\n      <td>AAEKnO1</td>\n      <td>Check Houston traffic map for current road con...</td>\n      <td>2019-11-26T12:55:03Z</td>\n      <td>[Get real-time traffic data from Houston's roa...</td>\n      <td>https://img-s-msn-com.akamaized.net/tenant/amp...</td>\n    </tr>\n    <tr>\n      <th>2</th>\n      <td>https://assets.msn.com/labs/mind/AAElNsz.html</td>\n      <td>AAElNsz</td>\n      <td>How to talk about your sex life with your partner</td>\n      <td>2019-07-15T12:30:59Z</td>\n      <td>[Trouble in paradise? Going through a dry patc...</td>\n      <td>https://img-s-msn-com.akamaized.net/tenant/amp...</td>\n    </tr>\n    <tr>\n      <th>3</th>\n      <td>https://assets.msn.com/labs/mind/AAEvtb9.html</td>\n      <td>AAEvtb9</td>\n      <td>My Corvette Moment? When I Took the Mighty ZR1...</td>\n      <td>2019-07-18T08:00:43Z</td>\n      <td>[It's fitting the C8 Corvette graces the cover...</td>\n      <td>None</td>\n    </tr>\n    <tr>\n      <th>4</th>\n      <td>https://assets.msn.com/labs/mind/AADm4XB.html</td>\n      <td>AADm4XB</td>\n      <td>The Biggest Mental and Physical Benefits of Wo...</td>\n      <td>2018-06-25T19:42:03Z</td>\n      <td>[We've got some happy news that will rev up yo...</td>\n      <td>https://img-s-msn-com.akamaized.net/tenant/amp...</td>\n    </tr>\n    <tr>\n      <th>...</th>\n      <td>...</td>\n      <td>...</td>\n      <td>...</td>\n      <td>...</td>\n      <td>...</td>\n      <td>...</td>\n    </tr>\n    <tr>\n      <th>29599</th>\n      <td>https://assets.msn.com/labs/mind/BBWsemx.html</td>\n      <td>BBWsemx</td>\n      <td>Cleveland takes on Washington, seeks to halt 3...</td>\n      <td>2019-11-08T08:05:00Z</td>\n      <td>[Cleveland Cavaliers (2-5, 13th in the Eastern...</td>\n      <td>None</td>\n    </tr>\n    <tr>\n      <th>29600</th>\n      <td>https://assets.msn.com/labs/mind/BBWses2.html</td>\n      <td>BBWses2</td>\n      <td>Quiet weather this weekend; snow accumulations...</td>\n      <td>2019-11-09T13:04:56Z</td>\n      <td>[ QUICK-LOOK FORECAST ,  &gt;&gt;Â TRACK THE CONDITI...</td>\n      <td>https://img-s-msn-com.akamaized.net/tenant/amp...</td>\n    </tr>\n    <tr>\n      <th>29601</th>\n      <td>https://assets.msn.com/labs/mind/BBWsnjX.html</td>\n      <td>BBWsnjX</td>\n      <td>DC high schools awarded for bold new approach ...</td>\n      <td>2019-11-08T05:18:04Z</td>\n      <td>[Thurgood Marshall Academy was forever changed...</td>\n      <td>None</td>\n    </tr>\n    <tr>\n      <th>29602</th>\n      <td>https://assets.msn.com/labs/mind/BBWynQ4.html</td>\n      <td>BBWynQ4</td>\n      <td>Pregnant 'Little People, Big World' star Tori ...</td>\n      <td>2019-11-10T18:43:00Z</td>\n      <td>[Tori Roloff is clapping back at hateful troll...</td>\n      <td>https://img-s-msn-com.akamaized.net/tenant/amp...</td>\n    </tr>\n    <tr>\n      <th>29603</th>\n      <td>https://assets.msn.com/labs/mind/BBWypTC.html</td>\n      <td>BBWypTC</td>\n      <td>Behind the scenes: What goes on in the flight ...</td>\n      <td>2019-11-10T20:45:00Z</td>\n      <td>[MSN has partnered with The Points Guy for our...</td>\n      <td>https://img-s-msn-com.akamaized.net/tenant/amp...</td>\n    </tr>\n  </tbody>\n</table>\n<p>29604 rows × 6 columns</p>\n</div>"
     },
     "metadata": {},
     "execution_count": 16
    }
   ],
   "source": [
    "df_dev"
   ]
  },
  {
   "cell_type": "code",
   "execution_count": null,
   "metadata": {},
   "outputs": [],
   "source": []
  },
  {
   "cell_type": "code",
   "execution_count": 10,
   "metadata": {
    "tags": []
   },
   "outputs": [
    {
     "output_type": "stream",
     "name": "stdout",
     "text": "10000 is crawled and 40249 are remained\n20000 is crawled and 30249 are remained\n30000 is crawled and 20249 are remained\n40000 is crawled and 10249 are remained\n50000 is crawled and 249 are remained\n-------Seconds: 3459.581685066223--------\n(50243, 6)\n"
    }
   ],
   "source": [
    "df_train, exc_t = crawling(except_url)\n",
    "\n",
    "print(df_train.shape)\n",
    "df_train.to_csv('msn_train.csv', index=False)"
   ]
  },
  {
   "cell_type": "code",
   "execution_count": 16,
   "metadata": {},
   "outputs": [
    {
     "output_type": "execute_result",
     "data": {
      "text/plain": "                                             url     nids  \\\n0  https://assets.msn.com/labs/mind/AABmf2I.html  AABmf2I   \n1  https://assets.msn.com/labs/mind/AAISxPN.html  AAISxPN   \n2  https://assets.msn.com/labs/mind/AAEKnO1.html  AAEKnO1   \n3  https://assets.msn.com/labs/mind/AADlomf.html  AADlomf   \n4  https://assets.msn.com/labs/mind/AAGBR44.html  AAGBR44   \n\n                                               Title                  Date  \\\n0    Walmart Slashes Prices on Last-Generation iPads  2019-10-28T17:38:04Z   \n1  Dispose of unwanted prescription drugs on Satu...  2019-10-25T17:31:42Z   \n2  Check Houston traffic map for current road con...  2019-11-26T12:55:03Z   \n3  How to record your screen on Windows, macOS, i...  2019-11-06T16:06:25Z   \n4  This Guy Altered His Diet and Training to Drop...  2019-08-31T11:37:11Z   \n\n                                             Content  \\\n0  [This year, Walmartâs not waiting until Blac...   \n1  [CINCINNATI (FOX19) - If you have expired, unu...   \n2  [Get real-time traffic data from Houston's roa...   \n3  [There are lots of reasons to record your scre...   \n4  [Brandon Reid always felt like âthe fat kid....   \n\n                                               Image  \n0  https://img-s-msn-com.akamaized.net/tenant/amp...  \n1  https://img-s-msn-com.akamaized.net/tenant/amp...  \n2  https://img-s-msn-com.akamaized.net/tenant/amp...  \n3  https://img-s-msn-com.akamaized.net/tenant/amp...  \n4  https://img-s-msn-com.akamaized.net/tenant/amp...  ",
      "text/html": "<div>\n<style scoped>\n    .dataframe tbody tr th:only-of-type {\n        vertical-align: middle;\n    }\n\n    .dataframe tbody tr th {\n        vertical-align: top;\n    }\n\n    .dataframe thead th {\n        text-align: right;\n    }\n</style>\n<table border=\"1\" class=\"dataframe\">\n  <thead>\n    <tr style=\"text-align: right;\">\n      <th></th>\n      <th>url</th>\n      <th>nids</th>\n      <th>Title</th>\n      <th>Date</th>\n      <th>Content</th>\n      <th>Image</th>\n    </tr>\n  </thead>\n  <tbody>\n    <tr>\n      <th>0</th>\n      <td>https://assets.msn.com/labs/mind/AABmf2I.html</td>\n      <td>AABmf2I</td>\n      <td>Walmart Slashes Prices on Last-Generation iPads</td>\n      <td>2019-10-28T17:38:04Z</td>\n      <td>[This year, Walmartâs not waiting until Blac...</td>\n      <td>https://img-s-msn-com.akamaized.net/tenant/amp...</td>\n    </tr>\n    <tr>\n      <th>1</th>\n      <td>https://assets.msn.com/labs/mind/AAISxPN.html</td>\n      <td>AAISxPN</td>\n      <td>Dispose of unwanted prescription drugs on Satu...</td>\n      <td>2019-10-25T17:31:42Z</td>\n      <td>[CINCINNATI (FOX19) - If you have expired, unu...</td>\n      <td>https://img-s-msn-com.akamaized.net/tenant/amp...</td>\n    </tr>\n    <tr>\n      <th>2</th>\n      <td>https://assets.msn.com/labs/mind/AAEKnO1.html</td>\n      <td>AAEKnO1</td>\n      <td>Check Houston traffic map for current road con...</td>\n      <td>2019-11-26T12:55:03Z</td>\n      <td>[Get real-time traffic data from Houston's roa...</td>\n      <td>https://img-s-msn-com.akamaized.net/tenant/amp...</td>\n    </tr>\n    <tr>\n      <th>3</th>\n      <td>https://assets.msn.com/labs/mind/AADlomf.html</td>\n      <td>AADlomf</td>\n      <td>How to record your screen on Windows, macOS, i...</td>\n      <td>2019-11-06T16:06:25Z</td>\n      <td>[There are lots of reasons to record your scre...</td>\n      <td>https://img-s-msn-com.akamaized.net/tenant/amp...</td>\n    </tr>\n    <tr>\n      <th>4</th>\n      <td>https://assets.msn.com/labs/mind/AAGBR44.html</td>\n      <td>AAGBR44</td>\n      <td>This Guy Altered His Diet and Training to Drop...</td>\n      <td>2019-08-31T11:37:11Z</td>\n      <td>[Brandon Reid always felt like âthe fat kid....</td>\n      <td>https://img-s-msn-com.akamaized.net/tenant/amp...</td>\n    </tr>\n  </tbody>\n</table>\n</div>"
     },
     "metadata": {},
     "execution_count": 16
    }
   ],
   "source": [
    "df_train.head()"
   ]
  },
  {
   "cell_type": "code",
   "execution_count": null,
   "metadata": {},
   "outputs": [],
   "source": []
  }
 ],
 "metadata": {
  "language_info": {
   "codemirror_mode": {
    "name": "ipython",
    "version": 3
   },
   "file_extension": ".py",
   "mimetype": "text/x-python",
   "name": "python",
   "nbconvert_exporter": "python",
   "pygments_lexer": "ipython3",
   "version": 3
  },
  "orig_nbformat": 2,
  "kernelspec": {
   "name": "python_defaultSpec_1596434941954",
   "display_name": "Python 3.7.6 64-bit ('anaconda3': virtualenv)"
  }
 },
 "nbformat": 4,
 "nbformat_minor": 2
}